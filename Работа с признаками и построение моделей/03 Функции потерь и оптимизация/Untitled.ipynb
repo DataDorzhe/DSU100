{
 "cells": [
  {
   "cell_type": "markdown",
   "id": "3152b5a5-9dfa-435c-aa84-3a54b4a658d7",
   "metadata": {},
   "source": [
    "# "
   ]
  },
  {
   "cell_type": "code",
   "execution_count": 1,
   "id": "ef185304-8f9d-48d4-8e86-cb0ad1b21dd5",
   "metadata": {
    "execution": {
     "iopub.execute_input": "2023-09-07T14:56:54.359944Z",
     "iopub.status.busy": "2023-09-07T14:56:54.359944Z",
     "iopub.status.idle": "2023-09-07T14:56:55.897214Z",
     "shell.execute_reply": "2023-09-07T14:56:55.897214Z",
     "shell.execute_reply.started": "2023-09-07T14:56:54.359944Z"
    },
    "tags": []
   },
   "outputs": [],
   "source": [
    "from sklearn.datasets import load_iris\n",
    "import pandas as pd\n",
    "import numpy as np\n",
    "import matplotlib.pyplot as plt\n",
    "from matplotlib import colors"
   ]
  },
  {
   "cell_type": "code",
   "execution_count": null,
   "id": "a05cdde7-7c76-41b3-ab51-56cc59ce62c7",
   "metadata": {},
   "outputs": [],
   "source": []
  }
 ],
 "metadata": {
  "kernelspec": {
   "display_name": "Python 3 (ipykernel)",
   "language": "python",
   "name": "python3"
  },
  "language_info": {
   "codemirror_mode": {
    "name": "ipython",
    "version": 3
   },
   "file_extension": ".py",
   "mimetype": "text/x-python",
   "name": "python",
   "nbconvert_exporter": "python",
   "pygments_lexer": "ipython3",
   "version": "3.11.4"
  }
 },
 "nbformat": 4,
 "nbformat_minor": 5
}
