{
 "cells": [
  {
   "cell_type": "markdown",
   "metadata": {
    "id": "TyKdBTUtHU-5"
   },
   "source": [
    "# Логистическая регрессия"
   ]
  },
  {
   "cell_type": "code",
   "execution_count": 2,
   "metadata": {
    "execution": {
     "iopub.execute_input": "2023-09-11T16:50:54.658571Z",
     "iopub.status.busy": "2023-09-11T16:50:54.658571Z",
     "iopub.status.idle": "2023-09-11T16:50:56.439468Z",
     "shell.execute_reply": "2023-09-11T16:50:56.439468Z",
     "shell.execute_reply.started": "2023-09-11T16:50:54.658571Z"
    },
    "id": "4usbCSwIouyp",
    "tags": []
   },
   "outputs": [],
   "source": [
    "# помимо стандартных библиотек мы также импортируем библиотеку warnings\n",
    "# она позволит скрыть предупреждения об ошибках\n",
    "import numpy as np\n",
    "import pandas as pd\n",
    "import matplotlib.pyplot as plt\n",
    "import seaborn as sns\n",
    "import warnings\n",
    "\n",
    "# кроме того, импортируем датасеты библиотеки sklearn\n",
    "from sklearn import datasets\n",
    "# а также функции для расчета метрики accuracy и построения матрицы ошибок\n",
    "from sklearn.metrics import accuracy_score, confusion_matrix\n",
    "\n",
    "# построенные нами модели мы будем сравнивать с результатом\n",
    "# класса LogisticRegression библиотеки sklearn\n",
    "from sklearn.linear_model import LogisticRegression\n",
    "\n",
    "# среди прочего, мы построим модели полиномиальной логистической регрессии\n",
    "from sklearn.preprocessing import PolynomialFeatures"
   ]
  },
  {
   "cell_type": "markdown",
   "metadata": {
    "id": "cg7VkxuUjF2g",
    "tags": []
   },
   "source": [
    "## Бинарная логистическая регрессия"
   ]
  },
  {
   "cell_type": "markdown",
   "metadata": {
    "id": "Sd_hQfsSHgHr",
    "tags": []
   },
   "source": [
    "### Функция логистической регрессии"
   ]
  },
  {
   "cell_type": "markdown",
   "metadata": {
    "id": "QQxv5sdsuvmm"
   },
   "source": [
    "#### Сигмоида"
   ]
  },
  {
   "cell_type": "code",
   "execution_count": 1,
   "metadata": {
    "execution": {
     "iopub.execute_input": "2023-09-11T16:50:24.876249Z",
     "iopub.status.busy": "2023-09-11T16:50:24.875251Z",
     "iopub.status.idle": "2023-09-11T16:50:24.879725Z",
     "shell.execute_reply": "2023-09-11T16:50:24.879725Z",
     "shell.execute_reply.started": "2023-09-11T16:50:24.876249Z"
    },
    "id": "2OugUXQsWDW0",
    "tags": []
   },
   "outputs": [],
   "source": [
    "def h(x, thetas):\n",
    "  z = np.dot(x, thetas)\n",
    "  return 1.0 / (1 + np.exp(-z))"
   ]
  },
  {
   "cell_type": "markdown",
   "metadata": {
    "id": "UU_Mqkl6uzsi"
   },
   "source": [
    "#### Вычислительная устойчивость сигмоиды"
   ]
  },
  {
   "cell_type": "code",
   "execution_count": null,
   "metadata": {
    "colab": {
     "base_uri": "https://localhost:8080/"
    },
    "id": "_m08Gtx68PhD",
    "outputId": "66dab8aa-4857-43e3-b647-4ffa8070208c"
   },
   "outputs": [
    {
     "name": "stderr",
     "output_type": "stream",
     "text": [
      "<ipython-input-3-62a8f796f3e8>:4: RuntimeWarning: overflow encountered in exp\n",
      "  1 / (1 + np.exp(-z))\n"
     ]
    },
    {
     "data": {
      "text/plain": [
       "0.0"
      ]
     },
     "execution_count": 3,
     "metadata": {},
     "output_type": "execute_result"
    }
   ],
   "source": [
    "# при очень больших отрицательных или положительных значениях z может возникнуть переполнение памяти (overflow)\n",
    "# возьмем большое отрицательное значение\n",
    "z = -999\n",
    "1 / (1 + np.exp(-z))"
   ]
  },
  {
   "cell_type": "code",
   "execution_count": null,
   "metadata": {
    "colab": {
     "base_uri": "https://localhost:8080/"
    },
    "id": "xwv2EaVe94n1",
    "outputId": "8b6b6830-ace5-4e5e-d66b-cb6fbeb35365"
   },
   "outputs": [
    {
     "data": {
      "text/plain": [
       "1.0"
      ]
     },
     "execution_count": 4,
     "metadata": {},
     "output_type": "execute_result"
    }
   ],
   "source": [
    "z = 999\n",
    "1 / (1 + np.exp(-z))"
   ]
  },
  {
   "cell_type": "code",
   "execution_count": null,
   "metadata": {
    "colab": {
     "base_uri": "https://localhost:8080/"
    },
    "id": "Qflor6hB8l12",
    "outputId": "224aa287-0128-40f4-9807-4f7e478765a2"
   },
   "outputs": [
    {
     "data": {
      "text/plain": [
       "0.0"
      ]
     },
     "execution_count": 5,
     "metadata": {},
     "output_type": "execute_result"
    }
   ],
   "source": [
    "z = -999\n",
    "np.exp(z) / (np.exp(z) + 1)"
   ]
  },
  {
   "cell_type": "code",
   "execution_count": null,
   "metadata": {
    "id": "26AsYj6qe9-c"
   },
   "outputs": [],
   "source": [
    "def stable_sigmoid(z):\n",
    "  if z >= 0:\n",
    "      return 1 / (1 + np.exp(-z))\n",
    "  else:\n",
    "      return np.exp(z) / (np.exp(z) + 1)"
   ]
  },
  {
   "cell_type": "code",
   "execution_count": null,
   "metadata": {
    "colab": {
     "base_uri": "https://localhost:8080/"
    },
    "id": "bf6Wi3QJX1T8",
    "outputId": "f2080524-13fe-4297-90ad-be3501f0c38d"
   },
   "outputs": [
    {
     "data": {
      "text/plain": [
       "(1.0, 0.0)"
      ]
     },
     "execution_count": 7,
     "metadata": {},
     "output_type": "execute_result"
    }
   ],
   "source": [
    "from scipy.special import expit\n",
    "expit(999), expit(-999)"
   ]
  },
  {
   "cell_type": "code",
   "execution_count": null,
   "metadata": {
    "id": "QU_BdVjOV0S5"
   },
   "outputs": [],
   "source": [
    "def h(x, thetas):\n",
    "  z = np.dot(x, thetas)\n",
    "\n",
    "  return np.array([stable_sigmoid(value) for value in z])"
   ]
  },
  {
   "cell_type": "code",
   "execution_count": null,
   "metadata": {
    "colab": {
     "base_uri": "https://localhost:8080/"
    },
    "id": "8Ba5w8j6GN-t",
    "outputId": "1c9f13f0-a894-4542-a77a-0a95c6c6aeb8"
   },
   "outputs": [
    {
     "data": {
      "text/plain": [
       "array([0.88079708, 0.26894142, 0.01798621, 0.00091105])"
      ]
     },
     "execution_count": 9,
     "metadata": {},
     "output_type": "execute_result"
    }
   ],
   "source": [
    "# возьмем массив наблюдений 4 х 3 с числами от 1 до 12\n",
    "x = np.arange(1, 13).reshape(4, 3)\n",
    "\n",
    "# и вектор из трех коэффициентов\n",
    "thetas = np.array([-3, 1, 1])\n",
    "\n",
    "# подадим их в модель\n",
    "h(x, thetas)"
   ]
  },
  {
   "cell_type": "markdown",
   "metadata": {
    "id": "dSUFluLpTEbX",
    "jp-MarkdownHeadingCollapsed": true,
    "tags": []
   },
   "source": [
    "### Функция логистической ошибки"
   ]
  },
  {
   "cell_type": "markdown",
   "metadata": {
    "id": "oLAkI0seFhnV"
   },
   "source": [
    "#### График"
   ]
  },
  {
   "cell_type": "code",
   "execution_count": null,
   "metadata": {
    "colab": {
     "base_uri": "https://localhost:8080/",
     "height": 631
    },
    "id": "mtOPMe9x4TuS",
    "outputId": "d89c2a1f-0596-4d65-dcf3-29b6a566a8a1"
   },
   "outputs": [
    {
     "data": {
      "image/png": "[encoded data removed]",
      "text/plain": [
       "<Figure size 864x720 with 1 Axes>"
      ]
     },
     "metadata": {
      "needs_background": "light"
     },
     "output_type": "display_data"
    }
   ],
   "source": [
    "# уберем предупреждения о делении на ноль (нам это нужно для качественного графика)\n",
    "with warnings.catch_warnings():\n",
    "  warnings.simplefilter('ignore')\n",
    "\n",
    "  plt.figure(figsize = (12, 10))\n",
    "\n",
    "  x_vals = np.linspace(0, 1)\n",
    "\n",
    "  plt.plot(x_vals, -np.log(x_vals), label = '-log(h(x)) | y = 1')\n",
    "  plt.plot(x_vals, -np.log(1 - x_vals), label = '-log(1 - h(x)) | y = 0')\n",
    "  plt.xlabel('h(x)', fontsize = 16)\n",
    "  plt.ylabel('loss', fontsize = 16)\n",
    "  plt.title('Функция логистической ошибки', fontsize = 18)\n",
    "\n",
    "  plt.legend(loc = 'upper center', prop = {'size': 15})\n",
    "  plt.grid()\n",
    "  plt.show()"
   ]
  },
  {
   "cell_type": "markdown",
   "metadata": {
    "id": "A5EUwkagFkpU"
   },
   "source": [
    "#### Простой пример"
   ]
  },
  {
   "cell_type": "code",
   "execution_count": null,
   "metadata": {
    "colab": {
     "base_uri": "https://localhost:8080/",
     "height": 300
    },
    "id": "VtnEKT_4FqPl",
    "outputId": "e7851e9b-d70b-4c6d-a95c-2d8ba66caed3"
   },
   "outputs": [
    {
     "data": {
      "text/html": [
       "\n",
       "  <div id=\"df-9dc09304-1751-4269-9799-907d42cb7723\">\n",
       "    <div class=\"colab-df-container\">\n",
       "      <div>\n",
       "<style scoped>\n",
       "    .dataframe tbody tr th:only-of-type {\n",
       "        vertical-align: middle;\n",
       "    }\n",
       "\n",
       "    .dataframe tbody tr th {\n",
       "        vertical-align: top;\n",
       "    }\n",
       "\n",
       "    .dataframe thead th {\n",
       "        text-align: right;\n",
       "    }\n",
       "</style>\n",
       "<table border=\"1\" class=\"dataframe\">\n",
       "  <thead>\n",
       "    <tr style=\"text-align: right;\">\n",
       "      <th></th>\n",
       "      <th>y</th>\n",
       "      <th>y_pred</th>\n",
       "    </tr>\n",
       "  </thead>\n",
       "  <tbody>\n",
       "    <tr>\n",
       "      <th>0</th>\n",
       "      <td>1</td>\n",
       "      <td>0.93</td>\n",
       "    </tr>\n",
       "    <tr>\n",
       "      <th>1</th>\n",
       "      <td>1</td>\n",
       "      <td>0.81</td>\n",
       "    </tr>\n",
       "    <tr>\n",
       "      <th>2</th>\n",
       "      <td>1</td>\n",
       "      <td>0.78</td>\n",
       "    </tr>\n",
       "    <tr>\n",
       "      <th>3</th>\n",
       "      <td>0</td>\n",
       "      <td>0.43</td>\n",
       "    </tr>\n",
       "    <tr>\n",
       "      <th>4</th>\n",
       "      <td>0</td>\n",
       "      <td>0.54</td>\n",
       "    </tr>\n",
       "    <tr>\n",
       "      <th>5</th>\n",
       "      <td>1</td>\n",
       "      <td>0.49</td>\n",
       "    </tr>\n",
       "    <tr>\n",
       "      <th>6</th>\n",
       "      <td>1</td>\n",
       "      <td>0.22</td>\n",
       "    </tr>\n",
       "    <tr>\n",
       "      <th>7</th>\n",
       "      <td>0</td>\n",
       "      <td>0.10</td>\n",
       "    </tr>\n",
       "  </tbody>\n",
       "</table>\n",
       "</div>\n",
       "      <button class=\"colab-df-convert\" onclick=\"convertToInteractive('df-9dc09304-1751-4269-9799-907d42cb7723')\"\n",
       "              title=\"Convert this dataframe to an interactive table.\"\n",
       "              style=\"display:none;\">\n",
       "        \n",
       "  <svg xmlns=\"http://www.w3.org/2000/svg\" height=\"24px\"viewBox=\"0 0 24 24\"\n",
       "       width=\"24px\">\n",
       "    <path d=\"M0 0h24v24H0V0z\" fill=\"none\"/>\n",
       "    <path d=\"M18.56 5.44l.94 2.06.94-2.06 2.06-.94-2.06-.94-.94-2.06-.94 2.06-2.06.94zm-11 1L8.5 8.5l.94-2.06 2.06-.94-2.06-.94L8.5 2.5l-.94 2.06-2.06.94zm10 10l.94 2.06.94-2.06 2.06-.94-2.06-.94-.94-2.06-.94 2.06-2.06.94z\"/><path d=\"M17.41 7.96l-1.37-1.37c-.4-.4-.92-.59-1.43-.59-.52 0-1.04.2-1.43.59L10.3 9.45l-7.72 7.72c-.78.78-.78 2.05 0 2.83L4 21.41c.39.39.9.59 1.41.59.51 0 1.02-.2 1.41-.59l7.78-7.78 2.81-2.81c.8-.78.8-2.07 0-2.86zM5.41 20L4 18.59l7.72-7.72 1.47 1.35L5.41 20z\"/>\n",
       "  </svg>\n",
       "      </button>\n",
       "      \n",
       "  <style>\n",
       "    .colab-df-container {\n",
       "      display:flex;\n",
       "      flex-wrap:wrap;\n",
       "      gap: 12px;\n",
       "    }\n",
       "\n",
       "    .colab-df-convert {\n",
       "      background-color: #E8F0FE;\n",
       "      border: none;\n",
       "      border-radius: 50%;\n",
       "      cursor: pointer;\n",
       "      display: none;\n",
       "      fill: #1967D2;\n",
       "      height: 32px;\n",
       "      padding: 0 0 0 0;\n",
       "      width: 32px;\n",
       "    }\n",
       "\n",
       "    .colab-df-convert:hover {\n",
       "      background-color: #E2EBFA;\n",
       "      box-shadow: 0px 1px 2px rgba(60, 64, 67, 0.3), 0px 1px 3px 1px rgba(60, 64, 67, 0.15);\n",
       "      fill: #174EA6;\n",
       "    }\n",
       "\n",
       "    [theme=dark] .colab-df-convert {\n",
       "      background-color: #3B4455;\n",
       "      fill: #D2E3FC;\n",
       "    }\n",
       "\n",
       "    [theme=dark] .colab-df-convert:hover {\n",
       "      background-color: #434B5C;\n",
       "      box-shadow: 0px 1px 3px 1px rgba(0, 0, 0, 0.15);\n",
       "      filter: drop-shadow(0px 1px 2px rgba(0, 0, 0, 0.3));\n",
       "      fill: #FFFFFF;\n",
       "    }\n",
       "  </style>\n",
       "\n",
       "      <script>\n",
       "        const buttonEl =\n",
       "          document.querySelector('#df-9dc09304-1751-4269-9799-907d42cb7723 button.colab-df-convert');\n",
       "        buttonEl.style.display =\n",
       "          google.colab.kernel.accessAllowed ? 'block' : 'none';\n",
       "\n",
       "        async function convertToInteractive(key) {\n",
       "          const element = document.querySelector('#df-9dc09304-1751-4269-9799-907d42cb7723');\n",
       "          const dataTable =\n",
       "            await google.colab.kernel.invokeFunction('convertToInteractive',\n",
       "                                                     [key], {});\n",
       "          if (!dataTable) return;\n",
       "\n",
       "          const docLinkHtml = 'Like what you see? Visit the ' +\n",
       "            '<a target=\"_blank\" href=https://colab.research.google.com/notebooks/data_table.ipynb>data table notebook</a>'\n",
       "            + ' to learn more about interactive tables.';\n",
       "          element.innerHTML = '';\n",
       "          dataTable['output_type'] = 'display_data';\n",
       "          await google.colab.output.renderOutput(dataTable, element);\n",
       "          const docLink = document.createElement('div');\n",
       "          docLink.innerHTML = docLinkHtml;\n",
       "          element.appendChild(docLink);\n",
       "        }\n",
       "      </script>\n",
       "    </div>\n",
       "  </div>\n",
       "  "
      ],
      "text/plain": [
       "   y  y_pred\n",
       "0  1    0.93\n",
       "1  1    0.81\n",
       "2  1    0.78\n",
       "3  0    0.43\n",
       "4  0    0.54\n",
       "5  1    0.49\n",
       "6  1    0.22\n",
       "7  0    0.10"
      ]
     },
     "execution_count": 146,
     "metadata": {},
     "output_type": "execute_result"
    }
   ],
   "source": [
    "# предположим, мы построили модель\n",
    "# выведем результат работы модели (вероятности) y_pred и целевую переменную y\n",
    "output = pd.DataFrame({\n",
    "    'y'        :[1, 1, 1, 0, 0, 1, 1, 0],\n",
    "    'y_pred'   :[0.93, 0.81, 0.78, 0.43, 0.54, 0.49, 0.22, 0.1]\n",
    "})\n",
    "\n",
    "output"
   ]
  },
  {
   "cell_type": "code",
   "execution_count": null,
   "metadata": {
    "colab": {
     "base_uri": "https://localhost:8080/",
     "height": 300
    },
    "id": "TwbUBCpXGXyc",
    "outputId": "cb20a45b-e13c-4794-cfa5-c6ccebd0b660"
   },
   "outputs": [
    {
     "data": {
      "text/html": [
       "\n",
       "  <div id=\"df-22166a07-8ff2-463d-b215-ec78fde45a6c\">\n",
       "    <div class=\"colab-df-container\">\n",
       "      <div>\n",
       "<style scoped>\n",
       "    .dataframe tbody tr th:only-of-type {\n",
       "        vertical-align: middle;\n",
       "    }\n",
       "\n",
       "    .dataframe tbody tr th {\n",
       "        vertical-align: top;\n",
       "    }\n",
       "\n",
       "    .dataframe thead th {\n",
       "        text-align: right;\n",
       "    }\n",
       "</style>\n",
       "<table border=\"1\" class=\"dataframe\">\n",
       "  <thead>\n",
       "    <tr style=\"text-align: right;\">\n",
       "      <th></th>\n",
       "      <th>y</th>\n",
       "      <th>y_pred</th>\n",
       "      <th>y=1 prob</th>\n",
       "    </tr>\n",
       "  </thead>\n",
       "  <tbody>\n",
       "    <tr>\n",
       "      <th>0</th>\n",
       "      <td>1</td>\n",
       "      <td>0.93</td>\n",
       "      <td>0.93</td>\n",
       "    </tr>\n",
       "    <tr>\n",
       "      <th>1</th>\n",
       "      <td>1</td>\n",
       "      <td>0.81</td>\n",
       "      <td>0.81</td>\n",
       "    </tr>\n",
       "    <tr>\n",
       "      <th>2</th>\n",
       "      <td>1</td>\n",
       "      <td>0.78</td>\n",
       "      <td>0.78</td>\n",
       "    </tr>\n",
       "    <tr>\n",
       "      <th>3</th>\n",
       "      <td>0</td>\n",
       "      <td>0.43</td>\n",
       "      <td>0.57</td>\n",
       "    </tr>\n",
       "    <tr>\n",
       "      <th>4</th>\n",
       "      <td>0</td>\n",
       "      <td>0.54</td>\n",
       "      <td>0.46</td>\n",
       "    </tr>\n",
       "    <tr>\n",
       "      <th>5</th>\n",
       "      <td>1</td>\n",
       "      <td>0.49</td>\n",
       "      <td>0.49</td>\n",
       "    </tr>\n",
       "    <tr>\n",
       "      <th>6</th>\n",
       "      <td>1</td>\n",
       "      <td>0.22</td>\n",
       "      <td>0.22</td>\n",
       "    </tr>\n",
       "    <tr>\n",
       "      <th>7</th>\n",
       "      <td>0</td>\n",
       "      <td>0.10</td>\n",
       "      <td>0.90</td>\n",
       "    </tr>\n",
       "  </tbody>\n",
       "</table>\n",
       "</div>\n",
       "      <button class=\"colab-df-convert\" onclick=\"convertToInteractive('df-22166a07-8ff2-463d-b215-ec78fde45a6c')\"\n",
       "              title=\"Convert this dataframe to an interactive table.\"\n",
       "              style=\"display:none;\">\n",
       "        \n",
       "  <svg xmlns=\"http://www.w3.org/2000/svg\" height=\"24px\"viewBox=\"0 0 24 24\"\n",
       "       width=\"24px\">\n",
       "    <path d=\"M0 0h24v24H0V0z\" fill=\"none\"/>\n",
       "    <path d=\"M18.56 5.44l.94 2.06.94-2.06 2.06-.94-2.06-.94-.94-2.06-.94 2.06-2.06.94zm-11 1L8.5 8.5l.94-2.06 2.06-.94-2.06-.94L8.5 2.5l-.94 2.06-2.06.94zm10 10l.94 2.06.94-2.06 2.06-.94-2.06-.94-.94-2.06-.94 2.06-2.06.94z\"/><path d=\"M17.41 7.96l-1.37-1.37c-.4-.4-.92-.59-1.43-.59-.52 0-1.04.2-1.43.59L10.3 9.45l-7.72 7.72c-.78.78-.78 2.05 0 2.83L4 21.41c.39.39.9.59 1.41.59.51 0 1.02-.2 1.41-.59l7.78-7.78 2.81-2.81c.8-.78.8-2.07 0-2.86zM5.41 20L4 18.59l7.72-7.72 1.47 1.35L5.41 20z\"/>\n",
       "  </svg>\n",
       "      </button>\n",
       "      \n",
       "  <style>\n",
       "    .colab-df-container {\n",
       "      display:flex;\n",
       "      flex-wrap:wrap;\n",
       "      gap: 12px;\n",
       "    }\n",
       "\n",
       "    .colab-df-convert {\n",
       "      background-color: #E8F0FE;\n",
       "      border: none;\n",
       "      border-radius: 50%;\n",
       "      cursor: pointer;\n",
       "      display: none;\n",
       "      fill: #1967D2;\n",
       "      height: 32px;\n",
       "      padding: 0 0 0 0;\n",
       "      width: 32px;\n",
       "    }\n",
       "\n",
       "    .colab-df-convert:hover {\n",
       "      background-color: #E2EBFA;\n",
       "      box-shadow: 0px 1px 2px rgba(60, 64, 67, 0.3), 0px 1px 3px 1px rgba(60, 64, 67, 0.15);\n",
       "      fill: #174EA6;\n",
       "    }\n",
       "\n",
       "    [theme=dark] .colab-df-convert {\n",
       "      background-color: #3B4455;\n",
       "      fill: #D2E3FC;\n",
       "    }\n",
       "\n",
       "    [theme=dark] .colab-df-convert:hover {\n",
       "      background-color: #434B5C;\n",
       "      box-shadow: 0px 1px 3px 1px rgba(0, 0, 0, 0.15);\n",
       "      filter: drop-shadow(0px 1px 2px rgba(0, 0, 0, 0.3));\n",
       "      fill: #FFFFFF;\n",
       "    }\n",
       "  </style>\n",
       "\n",
       "      <script>\n",
       "        const buttonEl =\n",
       "          document.querySelector('#df-22166a07-8ff2-463d-b215-ec78fde45a6c button.colab-df-convert');\n",
       "        buttonEl.style.display =\n",
       "          google.colab.kernel.accessAllowed ? 'block' : 'none';\n",
       "\n",
       "        async function convertToInteractive(key) {\n",
       "          const element = document.querySelector('#df-22166a07-8ff2-463d-b215-ec78fde45a6c');\n",
       "          const dataTable =\n",
       "            await google.colab.kernel.invokeFunction('convertToInteractive',\n",
       "                                                     [key], {});\n",
       "          if (!dataTable) return;\n",
       "\n",
       "          const docLinkHtml = 'Like what you see? Visit the ' +\n",
       "            '<a target=\"_blank\" href=https://colab.research.google.com/notebooks/data_table.ipynb>data table notebook</a>'\n",
       "            + ' to learn more about interactive tables.';\n",
       "          element.innerHTML = '';\n",
       "          dataTable['output_type'] = 'display_data';\n",
       "          await google.colab.output.renderOutput(dataTable, element);\n",
       "          const docLink = document.createElement('div');\n",
       "          docLink.innerHTML = docLinkHtml;\n",
       "          element.appendChild(docLink);\n",
       "        }\n",
       "      </script>\n",
       "    </div>\n",
       "  </div>\n",
       "  "
      ],
      "text/plain": [
       "   y  y_pred  y=1 prob\n",
       "0  1    0.93      0.93\n",
       "1  1    0.81      0.81\n",
       "2  1    0.78      0.78\n",
       "3  0    0.43      0.57\n",
       "4  0    0.54      0.46\n",
       "5  1    0.49      0.49\n",
       "6  1    0.22      0.22\n",
       "7  0    0.10      0.90"
      ]
     },
     "execution_count": 147,
     "metadata": {},
     "output_type": "execute_result"
    }
   ],
   "source": [
    "# найдем вероятность принадлежности к классу 1\n",
    "# оставим вероятность, если y = 1, и вычтем вероятность из единицы, если y = 0\n",
    "output['y=1 prob'] = np.where(output['y'] == 0, 1 - output['y_pred'], output['y_pred'])\n",
    "output"
   ]
  },
  {
   "cell_type": "code",
   "execution_count": null,
   "metadata": {
    "colab": {
     "base_uri": "https://localhost:8080/",
     "height": 300
    },
    "id": "cr98fL7YG5zN",
    "outputId": "78c70631-dd3b-4bf1-d237-76135c4ffc33"
   },
   "outputs": [
    {
     "data": {
      "text/html": [
       "\n",
       "  <div id=\"df-e8b5077a-b5c9-4af3-82ee-28fcaf3b5840\">\n",
       "    <div class=\"colab-df-container\">\n",
       "      <div>\n",
       "<style scoped>\n",
       "    .dataframe tbody tr th:only-of-type {\n",
       "        vertical-align: middle;\n",
       "    }\n",
       "\n",
       "    .dataframe tbody tr th {\n",
       "        vertical-align: top;\n",
       "    }\n",
       "\n",
       "    .dataframe thead th {\n",
       "        text-align: right;\n",
       "    }\n",
       "</style>\n",
       "<table border=\"1\" class=\"dataframe\">\n",
       "  <thead>\n",
       "    <tr style=\"text-align: right;\">\n",
       "      <th></th>\n",
       "      <th>y</th>\n",
       "      <th>y_pred</th>\n",
       "      <th>y=1 prob</th>\n",
       "      <th>-log</th>\n",
       "    </tr>\n",
       "  </thead>\n",
       "  <tbody>\n",
       "    <tr>\n",
       "      <th>0</th>\n",
       "      <td>1</td>\n",
       "      <td>0.93</td>\n",
       "      <td>0.93</td>\n",
       "      <td>0.072571</td>\n",
       "    </tr>\n",
       "    <tr>\n",
       "      <th>1</th>\n",
       "      <td>1</td>\n",
       "      <td>0.81</td>\n",
       "      <td>0.81</td>\n",
       "      <td>0.210721</td>\n",
       "    </tr>\n",
       "    <tr>\n",
       "      <th>2</th>\n",
       "      <td>1</td>\n",
       "      <td>0.78</td>\n",
       "      <td>0.78</td>\n",
       "      <td>0.248461</td>\n",
       "    </tr>\n",
       "    <tr>\n",
       "      <th>3</th>\n",
       "      <td>0</td>\n",
       "      <td>0.43</td>\n",
       "      <td>0.57</td>\n",
       "      <td>0.562119</td>\n",
       "    </tr>\n",
       "    <tr>\n",
       "      <th>4</th>\n",
       "      <td>0</td>\n",
       "      <td>0.54</td>\n",
       "      <td>0.46</td>\n",
       "      <td>0.776529</td>\n",
       "    </tr>\n",
       "    <tr>\n",
       "      <th>5</th>\n",
       "      <td>1</td>\n",
       "      <td>0.49</td>\n",
       "      <td>0.49</td>\n",
       "      <td>0.713350</td>\n",
       "    </tr>\n",
       "    <tr>\n",
       "      <th>6</th>\n",
       "      <td>1</td>\n",
       "      <td>0.22</td>\n",
       "      <td>0.22</td>\n",
       "      <td>1.514128</td>\n",
       "    </tr>\n",
       "    <tr>\n",
       "      <th>7</th>\n",
       "      <td>0</td>\n",
       "      <td>0.10</td>\n",
       "      <td>0.90</td>\n",
       "      <td>0.105361</td>\n",
       "    </tr>\n",
       "  </tbody>\n",
       "</table>\n",
       "</div>\n",
       "      <button class=\"colab-df-convert\" onclick=\"convertToInteractive('df-e8b5077a-b5c9-4af3-82ee-28fcaf3b5840')\"\n",
       "              title=\"Convert this dataframe to an interactive table.\"\n",
       "              style=\"display:none;\">\n",
       "        \n",
       "  <svg xmlns=\"http://www.w3.org/2000/svg\" height=\"24px\"viewBox=\"0 0 24 24\"\n",
       "       width=\"24px\">\n",
       "    <path d=\"M0 0h24v24H0V0z\" fill=\"none\"/>\n",
       "    <path d=\"M18.56 5.44l.94 2.06.94-2.06 2.06-.94-2.06-.94-.94-2.06-.94 2.06-2.06.94zm-11 1L8.5 8.5l.94-2.06 2.06-.94-2.06-.94L8.5 2.5l-.94 2.06-2.06.94zm10 10l.94 2.06.94-2.06 2.06-.94-2.06-.94-.94-2.06-.94 2.06-2.06.94z\"/><path d=\"M17.41 7.96l-1.37-1.37c-.4-.4-.92-.59-1.43-.59-.52 0-1.04.2-1.43.59L10.3 9.45l-7.72 7.72c-.78.78-.78 2.05 0 2.83L4 21.41c.39.39.9.59 1.41.59.51 0 1.02-.2 1.41-.59l7.78-7.78 2.81-2.81c.8-.78.8-2.07 0-2.86zM5.41 20L4 18.59l7.72-7.72 1.47 1.35L5.41 20z\"/>\n",
       "  </svg>\n",
       "      </button>\n",
       "      \n",
       "  <style>\n",
       "    .colab-df-container {\n",
       "      display:flex;\n",
       "      flex-wrap:wrap;\n",
       "      gap: 12px;\n",
       "    }\n",
       "\n",
       "    .colab-df-convert {\n",
       "      background-color: #E8F0FE;\n",
       "      border: none;\n",
       "      border-radius: 50%;\n",
       "      cursor: pointer;\n",
       "      display: none;\n",
       "      fill: #1967D2;\n",
       "      height: 32px;\n",
       "      padding: 0 0 0 0;\n",
       "      width: 32px;\n",
       "    }\n",
       "\n",
       "    .colab-df-convert:hover {\n",
       "      background-color: #E2EBFA;\n",
       "      box-shadow: 0px 1px 2px rgba(60, 64, 67, 0.3), 0px 1px 3px 1px rgba(60, 64, 67, 0.15);\n",
       "      fill: #174EA6;\n",
       "    }\n",
       "\n",
       "    [theme=dark] .colab-df-convert {\n",
       "      background-color: #3B4455;\n",
       "      fill: #D2E3FC;\n",
       "    }\n",
       "\n",
       "    [theme=dark] .colab-df-convert:hover {\n",
       "      background-color: #434B5C;\n",
       "      box-shadow: 0px 1px 3px 1px rgba(0, 0, 0, 0.15);\n",
       "      filter: drop-shadow(0px 1px 2px rgba(0, 0, 0, 0.3));\n",
       "      fill: #FFFFFF;\n",
       "    }\n",
       "  </style>\n",
       "\n",
       "      <script>\n",
       "        const buttonEl =\n",
       "          document.querySelector('#df-e8b5077a-b5c9-4af3-82ee-28fcaf3b5840 button.colab-df-convert');\n",
       "        buttonEl.style.display =\n",
       "          google.colab.kernel.accessAllowed ? 'block' : 'none';\n",
       "\n",
       "        async function convertToInteractive(key) {\n",
       "          const element = document.querySelector('#df-e8b5077a-b5c9-4af3-82ee-28fcaf3b5840');\n",
       "          const dataTable =\n",
       "            await google.colab.kernel.invokeFunction('convertToInteractive',\n",
       "                                                     [key], {});\n",
       "          if (!dataTable) return;\n",
       "\n",
       "          const docLinkHtml = 'Like what you see? Visit the ' +\n",
       "            '<a target=\"_blank\" href=https://colab.research.google.com/notebooks/data_table.ipynb>data table notebook</a>'\n",
       "            + ' to learn more about interactive tables.';\n",
       "          element.innerHTML = '';\n",
       "          dataTable['output_type'] = 'display_data';\n",
       "          await google.colab.output.renderOutput(dataTable, element);\n",
       "          const docLink = document.createElement('div');\n",
       "          docLink.innerHTML = docLinkHtml;\n",
       "          element.appendChild(docLink);\n",
       "        }\n",
       "      </script>\n",
       "    </div>\n",
       "  </div>\n",
       "  "
      ],
      "text/plain": [
       "   y  y_pred  y=1 prob      -log\n",
       "0  1    0.93      0.93  0.072571\n",
       "1  1    0.81      0.81  0.210721\n",
       "2  1    0.78      0.78  0.248461\n",
       "3  0    0.43      0.57  0.562119\n",
       "4  0    0.54      0.46  0.776529\n",
       "5  1    0.49      0.49  0.713350\n",
       "6  1    0.22      0.22  1.514128\n",
       "7  0    0.10      0.90  0.105361"
      ]
     },
     "execution_count": 148,
     "metadata": {},
     "output_type": "execute_result"
    }
   ],
   "source": [
    "# возьмем отрицательный логарифм из каждой вероятности\n",
    "output['-log'] = -np.log(output['y=1 prob'])\n",
    "output"
   ]
  },
  {
   "cell_type": "code",
   "execution_count": null,
   "metadata": {
    "colab": {
     "base_uri": "https://localhost:8080/",
     "height": 522
    },
    "id": "nbHKI4-FHzc-",
    "outputId": "16894b30-542a-4e1d-e459-de162f29419f"
   },
   "outputs": [
    {
     "data": {
      "image/png": "[encoded data removed]",
      "text/plain": [
       "<Figure size 720x576 with 1 Axes>"
      ]
     },
     "metadata": {
      "needs_background": "light"
     },
     "output_type": "display_data"
    }
   ],
   "source": [
    "with warnings.catch_warnings():\n",
    "  warnings.simplefilter('ignore')\n",
    "\n",
    "  plt.figure(figsize = (10, 8))\n",
    "\n",
    "  # создадим точки по оси x в промежутке от 0 до 1\n",
    "  x_vals = np.linspace(0, 1)\n",
    "\n",
    "  # выведем кривую функции логистической ошибки\n",
    "  plt.plot(x_vals, -np.log(x_vals), label = '-log(h(x)) | y = 1')\n",
    "\n",
    "  # выведем каждое из значений отрицательного логарифма\n",
    "  plt.scatter(output['y=1 prob'], output['-log'], color = 'r')\n",
    "\n",
    "  # зададим заголовок, подписи к осям, легенду и сетку\n",
    "  plt.xlabel('h(x)', fontsize = 16)\n",
    "  plt.ylabel('loss', fontsize = 16)\n",
    "  plt.title('Функция логистической ошибки', fontsize = 18)\n",
    "  plt.legend(loc = 'upper right', prop = {'size': 15})\n",
    "  plt.grid()\n",
    "\n",
    "  plt.show()"
   ]
  },
  {
   "cell_type": "code",
   "execution_count": null,
   "metadata": {
    "colab": {
     "base_uri": "https://localhost:8080/"
    },
    "id": "zMBtKkQoeUSb",
    "outputId": "978a2d05-eab2-4588-dee9-c0385cc3b1fe"
   },
   "outputs": [
    {
     "data": {
      "text/plain": [
       "0.525404865908324"
      ]
     },
     "execution_count": 150,
     "metadata": {},
     "output_type": "execute_result"
    }
   ],
   "source": [
    "# сложим значения и разделим на количество наблюдений\n",
    "output['-log'].mean()"
   ]
  },
  {
   "cell_type": "markdown",
   "metadata": {
    "id": "F6Fgww4hFqe9"
   },
   "source": [
    "#### Окончательный вариант"
   ]
  },
  {
   "cell_type": "code",
   "execution_count": null,
   "metadata": {
    "id": "-7oFzbnTTG2A"
   },
   "outputs": [],
   "source": [
    "# напишем функцию логистической ошибки для нашего алгоритма\n",
    "def objective(y, y_pred):\n",
    "\n",
    "  # рассчитаем функцию потерь для y = 1, добавив 1e-9, чтобы избежать ошибки при log(0)\n",
    "  y_one_loss = y * np.log(y_pred + 1e-9)\n",
    "\n",
    "  # также рассчитаем функцию потерь для y = 0\n",
    "  y_zero_loss = (1 - y) * np.log(1 - y_pred + 1e-9)\n",
    "\n",
    "  # сложим и разделим на количество наблюдений\n",
    "  return -np.mean(y_zero_loss + y_one_loss)"
   ]
  },
  {
   "cell_type": "code",
   "execution_count": null,
   "metadata": {
    "colab": {
     "base_uri": "https://localhost:8080/"
    },
    "id": "jK5zY08Fjmeu",
    "outputId": "1cdca235-0a78-414f-e130-cb9de4b6b983"
   },
   "outputs": [
    {
     "data": {
      "text/plain": [
       "0.5254048640061278"
      ]
     },
     "execution_count": 152,
     "metadata": {},
     "output_type": "execute_result"
    }
   ],
   "source": [
    "# проверим ее работу на учебных данных\n",
    "objective(output['y'], output['y_pred'])"
   ]
  },
  {
   "cell_type": "markdown",
   "metadata": {
    "id": "PL8sNskFVwZb"
   },
   "source": [
    "### Градиент"
   ]
  },
  {
   "cell_type": "code",
   "execution_count": null,
   "metadata": {
    "id": "CjhlSvDTz2eb"
   },
   "outputs": [],
   "source": [
    "# объявим градиент функции логистической ошибки\n",
    "def gradient(x, y, y_pred, n):\n",
    "  return np.dot(x.T, (y_pred - y)) / n"
   ]
  },
  {
   "cell_type": "markdown",
   "metadata": {
    "id": "WDywwZp3HUXQ"
   },
   "source": [
    "### Подготовка данных"
   ]
  },
  {
   "cell_type": "code",
   "execution_count": null,
   "metadata": {
    "colab": {
     "base_uri": "https://localhost:8080/",
     "height": 207
    },
    "id": "S65XyjtAsScF",
    "outputId": "0d445d20-e8f5-44ae-c4a1-8f5d8bba3cac"
   },
   "outputs": [
    {
     "data": {
      "text/html": [
       "\n",
       "  <div id=\"df-6923c1ea-d99c-44e2-8366-d553f0f2239f\">\n",
       "    <div class=\"colab-df-container\">\n",
       "      <div>\n",
       "<style scoped>\n",
       "    .dataframe tbody tr th:only-of-type {\n",
       "        vertical-align: middle;\n",
       "    }\n",
       "\n",
       "    .dataframe tbody tr th {\n",
       "        vertical-align: top;\n",
       "    }\n",
       "\n",
       "    .dataframe thead th {\n",
       "        text-align: right;\n",
       "    }\n",
       "</style>\n",
       "<table border=\"1\" class=\"dataframe\">\n",
       "  <thead>\n",
       "    <tr style=\"text-align: right;\">\n",
       "      <th></th>\n",
       "      <th>alcohol</th>\n",
       "      <th>malic_acid</th>\n",
       "      <th>ash</th>\n",
       "      <th>alcalinity_of_ash</th>\n",
       "      <th>magnesium</th>\n",
       "      <th>total_phenols</th>\n",
       "      <th>flavanoids</th>\n",
       "      <th>nonflavanoid_phenols</th>\n",
       "      <th>proanthocyanins</th>\n",
       "      <th>color_intensity</th>\n",
       "      <th>hue</th>\n",
       "      <th>od280/od315_of_diluted_wines</th>\n",
       "      <th>proline</th>\n",
       "      <th>target</th>\n",
       "    </tr>\n",
       "  </thead>\n",
       "  <tbody>\n",
       "    <tr>\n",
       "      <th>0</th>\n",
       "      <td>14.23</td>\n",
       "      <td>1.71</td>\n",
       "      <td>2.43</td>\n",
       "      <td>15.6</td>\n",
       "      <td>127.0</td>\n",
       "      <td>2.80</td>\n",
       "      <td>3.06</td>\n",
       "      <td>0.28</td>\n",
       "      <td>2.29</td>\n",
       "      <td>5.64</td>\n",
       "      <td>1.04</td>\n",
       "      <td>3.92</td>\n",
       "      <td>1065.0</td>\n",
       "      <td>0</td>\n",
       "    </tr>\n",
       "    <tr>\n",
       "      <th>1</th>\n",
       "      <td>13.20</td>\n",
       "      <td>1.78</td>\n",
       "      <td>2.14</td>\n",
       "      <td>11.2</td>\n",
       "      <td>100.0</td>\n",
       "      <td>2.65</td>\n",
       "      <td>2.76</td>\n",
       "      <td>0.26</td>\n",
       "      <td>1.28</td>\n",
       "      <td>4.38</td>\n",
       "      <td>1.05</td>\n",
       "      <td>3.40</td>\n",
       "      <td>1050.0</td>\n",
       "      <td>0</td>\n",
       "    </tr>\n",
       "    <tr>\n",
       "      <th>2</th>\n",
       "      <td>13.16</td>\n",
       "      <td>2.36</td>\n",
       "      <td>2.67</td>\n",
       "      <td>18.6</td>\n",
       "      <td>101.0</td>\n",
       "      <td>2.80</td>\n",
       "      <td>3.24</td>\n",
       "      <td>0.30</td>\n",
       "      <td>2.81</td>\n",
       "      <td>5.68</td>\n",
       "      <td>1.03</td>\n",
       "      <td>3.17</td>\n",
       "      <td>1185.0</td>\n",
       "      <td>0</td>\n",
       "    </tr>\n",
       "  </tbody>\n",
       "</table>\n",
       "</div>\n",
       "      <button class=\"colab-df-convert\" onclick=\"convertToInteractive('df-6923c1ea-d99c-44e2-8366-d553f0f2239f')\"\n",
       "              title=\"Convert this dataframe to an interactive table.\"\n",
       "              style=\"display:none;\">\n",
       "        \n",
       "  <svg xmlns=\"http://www.w3.org/2000/svg\" height=\"24px\"viewBox=\"0 0 24 24\"\n",
       "       width=\"24px\">\n",
       "    <path d=\"M0 0h24v24H0V0z\" fill=\"none\"/>\n",
       "    <path d=\"M18.56 5.44l.94 2.06.94-2.06 2.06-.94-2.06-.94-.94-2.06-.94 2.06-2.06.94zm-11 1L8.5 8.5l.94-2.06 2.06-.94-2.06-.94L8.5 2.5l-.94 2.06-2.06.94zm10 10l.94 2.06.94-2.06 2.06-.94-2.06-.94-.94-2.06-.94 2.06-2.06.94z\"/><path d=\"M17.41 7.96l-1.37-1.37c-.4-.4-.92-.59-1.43-.59-.52 0-1.04.2-1.43.59L10.3 9.45l-7.72 7.72c-.78.78-.78 2.05 0 2.83L4 21.41c.39.39.9.59 1.41.59.51 0 1.02-.2 1.41-.59l7.78-7.78 2.81-2.81c.8-.78.8-2.07 0-2.86zM5.41 20L4 18.59l7.72-7.72 1.47 1.35L5.41 20z\"/>\n",
       "  </svg>\n",
       "      </button>\n",
       "      \n",
       "  <style>\n",
       "    .colab-df-container {\n",
       "      display:flex;\n",
       "      flex-wrap:wrap;\n",
       "      gap: 12px;\n",
       "    }\n",
       "\n",
       "    .colab-df-convert {\n",
       "      background-color: #E8F0FE;\n",
       "      border: none;\n",
       "      border-radius: 50%;\n",
       "      cursor: pointer;\n",
       "      display: none;\n",
       "      fill: #1967D2;\n",
       "      height: 32px;\n",
       "      padding: 0 0 0 0;\n",
       "      width: 32px;\n",
       "    }\n",
       "\n",
       "    .colab-df-convert:hover {\n",
       "      background-color: #E2EBFA;\n",
       "      box-shadow: 0px 1px 2px rgba(60, 64, 67, 0.3), 0px 1px 3px 1px rgba(60, 64, 67, 0.15);\n",
       "      fill: #174EA6;\n",
       "    }\n",
       "\n",
       "    [theme=dark] .colab-df-convert {\n",
       "      background-color: #3B4455;\n",
       "      fill: #D2E3FC;\n",
       "    }\n",
       "\n",
       "    [theme=dark] .colab-df-convert:hover {\n",
       "      background-color: #434B5C;\n",
       "      box-shadow: 0px 1px 3px 1px rgba(0, 0, 0, 0.15);\n",
       "      filter: drop-shadow(0px 1px 2px rgba(0, 0, 0, 0.3));\n",
       "      fill: #FFFFFF;\n",
       "    }\n",
       "  </style>\n",
       "\n",
       "      <script>\n",
       "        const buttonEl =\n",
       "          document.querySelector('#df-6923c1ea-d99c-44e2-8366-d553f0f2239f button.colab-df-convert');\n",
       "        buttonEl.style.display =\n",
       "          google.colab.kernel.accessAllowed ? 'block' : 'none';\n",
       "\n",
       "        async function convertToInteractive(key) {\n",
       "          const element = document.querySelector('#df-6923c1ea-d99c-44e2-8366-d553f0f2239f');\n",
       "          const dataTable =\n",
       "            await google.colab.kernel.invokeFunction('convertToInteractive',\n",
       "                                                     [key], {});\n",
       "          if (!dataTable) return;\n",
       "\n",
       "          const docLinkHtml = 'Like what you see? Visit the ' +\n",
       "            '<a target=\"_blank\" href=https://colab.research.google.com/notebooks/data_table.ipynb>data table notebook</a>'\n",
       "            + ' to learn more about interactive tables.';\n",
       "          element.innerHTML = '';\n",
       "          dataTable['output_type'] = 'display_data';\n",
       "          await google.colab.output.renderOutput(dataTable, element);\n",
       "          const docLink = document.createElement('div');\n",
       "          docLink.innerHTML = docLinkHtml;\n",
       "          element.appendChild(docLink);\n",
       "        }\n",
       "      </script>\n",
       "    </div>\n",
       "  </div>\n",
       "  "
      ],
      "text/plain": [
       "   alcohol  malic_acid   ash  alcalinity_of_ash  magnesium  total_phenols  \\\n",
       "0    14.23        1.71  2.43               15.6      127.0           2.80   \n",
       "1    13.20        1.78  2.14               11.2      100.0           2.65   \n",
       "2    13.16        2.36  2.67               18.6      101.0           2.80   \n",
       "\n",
       "   flavanoids  nonflavanoid_phenols  proanthocyanins  color_intensity   hue  \\\n",
       "0        3.06                  0.28             2.29             5.64  1.04   \n",
       "1        2.76                  0.26             1.28             4.38  1.05   \n",
       "2        3.24                  0.30             2.81             5.68  1.03   \n",
       "\n",
       "   od280/od315_of_diluted_wines  proline  target  \n",
       "0                          3.92   1065.0       0  \n",
       "1                          3.40   1050.0       0  \n",
       "2                          3.17   1185.0       0  "
      ]
     },
     "execution_count": 154,
     "metadata": {},
     "output_type": "execute_result"
    }
   ],
   "source": [
    "# импортируем датасет о вине из модуля datasets\n",
    "data = datasets.load_wine()\n",
    "\n",
    "# превратим его в датафрейм\n",
    "df = pd.DataFrame(data.data, columns = data.feature_names)\n",
    "\n",
    "# добавим целевую переменную\n",
    "df['target'] = data.target\n",
    "\n",
    "# посмотрим на первые три строки\n",
    "df.head(3)"
   ]
  },
  {
   "cell_type": "markdown",
   "metadata": {
    "id": "eZRZTFlbegBj"
   },
   "source": [
    "#### Целевая переменная"
   ]
  },
  {
   "cell_type": "code",
   "execution_count": null,
   "metadata": {
    "colab": {
     "base_uri": "https://localhost:8080/"
    },
    "id": "RqC0IamSuAav",
    "outputId": "8151b1ab-0f2d-4223-bf4e-fdb3bb1d3616"
   },
   "outputs": [
    {
     "data": {
      "text/plain": [
       "((178, 14), array([0, 1, 2]))"
      ]
     },
     "execution_count": 155,
     "metadata": {},
     "output_type": "execute_result"
    }
   ],
   "source": [
    "# выведем размерность матрицы и уникальные значения в целевой переменной\n",
    "df.shape, np.unique(df.target)"
   ]
  },
  {
   "cell_type": "code",
   "execution_count": null,
   "metadata": {
    "colab": {
     "base_uri": "https://localhost:8080/"
    },
    "id": "hKCLv28nuDfv",
    "outputId": "9daa4e06-43fe-4a54-bd6e-064874745ef5"
   },
   "outputs": [
    {
     "data": {
      "text/plain": [
       "((130, 14), array([0, 1]))"
      ]
     },
     "execution_count": 156,
     "metadata": {},
     "output_type": "execute_result"
    }
   ],
   "source": [
    "# применим маску датафрейма и удалим класс 2\n",
    "df = df[df.target != 2]\n",
    "\n",
    "# посмотрим на результат\n",
    "df.shape, df.target.unique()"
   ]
  },
  {
   "cell_type": "markdown",
   "metadata": {
    "id": "7fh6YbKZeq9c"
   },
   "source": [
    "#### Отбор признаков"
   ]
  },
  {
   "cell_type": "markdown",
   "metadata": {
    "id": "TWLoWJL0fY7d"
   },
   "source": [
    "Точечно-бисериальная корреляция"
   ]
  },
  {
   "cell_type": "code",
   "execution_count": null,
   "metadata": {
    "colab": {
     "base_uri": "https://localhost:8080/",
     "height": 457
    },
    "id": "BErVJeBEoXX1",
    "outputId": "3e80910f-9b2f-4ba1-c889-9d00353def03"
   },
   "outputs": [
    {
     "data": {
      "text/html": [
       "<style type=\"text/css\">\n",
       "#T_667af_row0_col1 {\n",
       "  background-color: #fdf5fa;\n",
       "  color: #000000;\n",
       "}\n",
       "#T_667af_row1_col1 {\n",
       "  background-color: #3f93c2;\n",
       "  color: #f1f1f1;\n",
       "}\n",
       "#T_667af_row2_col1 {\n",
       "  background-color: #a7bddb;\n",
       "  color: #000000;\n",
       "}\n",
       "#T_667af_row3_col1 {\n",
       "  background-color: #023858;\n",
       "  color: #f1f1f1;\n",
       "}\n",
       "#T_667af_row4_col1 {\n",
       "  background-color: #afc1dd;\n",
       "  color: #000000;\n",
       "}\n",
       "#T_667af_row5_col1 {\n",
       "  background-color: #d3d4e7;\n",
       "  color: #000000;\n",
       "}\n",
       "#T_667af_row6_col1 {\n",
       "  background-color: #e0deed;\n",
       "  color: #000000;\n",
       "}\n",
       "#T_667af_row7_col1 {\n",
       "  background-color: #045382;\n",
       "  color: #f1f1f1;\n",
       "}\n",
       "#T_667af_row8_col1 {\n",
       "  background-color: #88b1d4;\n",
       "  color: #000000;\n",
       "}\n",
       "#T_667af_row9_col1 {\n",
       "  background-color: #f4eef6;\n",
       "  color: #000000;\n",
       "}\n",
       "#T_667af_row10_col1 {\n",
       "  background-color: #348ebf;\n",
       "  color: #f1f1f1;\n",
       "}\n",
       "#T_667af_row11_col1 {\n",
       "  background-color: #b0c2de;\n",
       "  color: #000000;\n",
       "}\n",
       "#T_667af_row12_col1 {\n",
       "  background-color: #fff7fb;\n",
       "  color: #000000;\n",
       "}\n",
       "</style>\n",
       "<table id=\"T_667af_\" class=\"dataframe\">\n",
       "  <thead>\n",
       "    <tr>\n",
       "      <th class=\"blank level0\" >&nbsp;</th>\n",
       "      <th class=\"col_heading level0 col0\" >column</th>\n",
       "      <th class=\"col_heading level0 col1\" >correlation</th>\n",
       "    </tr>\n",
       "  </thead>\n",
       "  <tbody>\n",
       "    <tr>\n",
       "      <th id=\"T_667af_level0_row0\" class=\"row_heading level0 row0\" >0</th>\n",
       "      <td id=\"T_667af_row0_col0\" class=\"data row0 col0\" >alcohol</td>\n",
       "      <td id=\"T_667af_row0_col1\" class=\"data row0 col1\" >-0.824399</td>\n",
       "    </tr>\n",
       "    <tr>\n",
       "      <th id=\"T_667af_level0_row1\" class=\"row_heading level0 row1\" >1</th>\n",
       "      <td id=\"T_667af_row1_col0\" class=\"data row1 col0\" >malic_acid</td>\n",
       "      <td id=\"T_667af_row1_col1\" class=\"data row1 col1\" >-0.044302</td>\n",
       "    </tr>\n",
       "    <tr>\n",
       "      <th id=\"T_667af_level0_row2\" class=\"row_heading level0 row2\" >2</th>\n",
       "      <td id=\"T_667af_row2_col0\" class=\"data row2 col0\" >ash</td>\n",
       "      <td id=\"T_667af_row2_col1\" class=\"data row2 col1\" >-0.354548</td>\n",
       "    </tr>\n",
       "    <tr>\n",
       "      <th id=\"T_667af_level0_row3\" class=\"row_heading level0 row3\" >3</th>\n",
       "      <td id=\"T_667af_row3_col0\" class=\"data row3 col0\" >alcalinity_of_ash</td>\n",
       "      <td id=\"T_667af_row3_col1\" class=\"data row3 col1\" >0.470437</td>\n",
       "    </tr>\n",
       "    <tr>\n",
       "      <th id=\"T_667af_level0_row4\" class=\"row_heading level0 row4\" >4</th>\n",
       "      <td id=\"T_667af_row4_col0\" class=\"data row4 col0\" >magnesium</td>\n",
       "      <td id=\"T_667af_row4_col1\" class=\"data row4 col1\" >-0.383085</td>\n",
       "    </tr>\n",
       "    <tr>\n",
       "      <th id=\"T_667af_level0_row5\" class=\"row_heading level0 row5\" >5</th>\n",
       "      <td id=\"T_667af_row5_col0\" class=\"data row5 col0\" >total_phenols</td>\n",
       "      <td id=\"T_667af_row5_col1\" class=\"data row5 col1\" >-0.532692</td>\n",
       "    </tr>\n",
       "    <tr>\n",
       "      <th id=\"T_667af_level0_row6\" class=\"row_heading level0 row6\" >6</th>\n",
       "      <td id=\"T_667af_row6_col0\" class=\"data row6 col0\" >flavanoids</td>\n",
       "      <td id=\"T_667af_row6_col1\" class=\"data row6 col1\" >-0.610730</td>\n",
       "    </tr>\n",
       "    <tr>\n",
       "      <th id=\"T_667af_level0_row7\" class=\"row_heading level0 row7\" >7</th>\n",
       "      <td id=\"T_667af_row7_col0\" class=\"data row7 col0\" >nonflavanoid_phenols</td>\n",
       "      <td id=\"T_667af_row7_col1\" class=\"data row7 col1\" >0.337489</td>\n",
       "    </tr>\n",
       "    <tr>\n",
       "      <th id=\"T_667af_level0_row8\" class=\"row_heading level0 row8\" >8</th>\n",
       "      <td id=\"T_667af_row8_col0\" class=\"data row8 col0\" >proanthocyanins</td>\n",
       "      <td id=\"T_667af_row8_col1\" class=\"data row8 col1\" >-0.249205</td>\n",
       "    </tr>\n",
       "    <tr>\n",
       "      <th id=\"T_667af_level0_row9\" class=\"row_heading level0 row9\" >9</th>\n",
       "      <td id=\"T_667af_row9_col0\" class=\"data row9 col0\" >color_intensity</td>\n",
       "      <td id=\"T_667af_row9_col1\" class=\"data row9 col1\" >-0.750613</td>\n",
       "    </tr>\n",
       "    <tr>\n",
       "      <th id=\"T_667af_level0_row10\" class=\"row_heading level0 row10\" >10</th>\n",
       "      <td id=\"T_667af_row10_col0\" class=\"data row10 col0\" >hue</td>\n",
       "      <td id=\"T_667af_row10_col1\" class=\"data row10 col1\" >-0.017043</td>\n",
       "    </tr>\n",
       "    <tr>\n",
       "      <th id=\"T_667af_level0_row11\" class=\"row_heading level0 row11\" >11</th>\n",
       "      <td id=\"T_667af_row11_col0\" class=\"data row11 col0\" >od280/od315_of_diluted_wines</td>\n",
       "      <td id=\"T_667af_row11_col1\" class=\"data row11 col1\" >-0.391746</td>\n",
       "    </tr>\n",
       "    <tr>\n",
       "      <th id=\"T_667af_level0_row12\" class=\"row_heading level0 row12\" >12</th>\n",
       "      <td id=\"T_667af_row12_col0\" class=\"data row12 col0\" >proline</td>\n",
       "      <td id=\"T_667af_row12_col1\" class=\"data row12 col1\" >-0.845296</td>\n",
       "    </tr>\n",
       "  </tbody>\n",
       "</table>\n"
      ],
      "text/plain": [
       "<pandas.io.formats.style.Styler at 0x7f01acf24b50>"
      ]
     },
     "execution_count": 157,
     "metadata": {},
     "output_type": "execute_result"
    }
   ],
   "source": [
    "# импортируем модуль stats из библиотеки scipy\n",
    "from scipy import stats\n",
    "\n",
    "# создадим два списка, один для названий признаков, второй для корреляций\n",
    "columns, correlations = [], []\n",
    "\n",
    "# пройдемся по всем столбцам датафрейма кроме целевой переменной\n",
    "for col in df.drop('target', axis = 1).columns:\n",
    "  # поместим название признака в список columns\n",
    "  columns.append(col)\n",
    "  # рассчитаем корреляцию этого признака с целевой переменной\n",
    "  # и поместим результат в список корреляций\n",
    "  correlations.append(stats.pointbiserialr(df[col], df['target'])[0])\n",
    "\n",
    "# создадим датафрейм на основе заполненных списков\n",
    "# и применим градиентную цветовую схему\n",
    "pd.DataFrame({'column': columns, 'correlation': correlations}).style.background_gradient()"
   ]
  },
  {
   "cell_type": "code",
   "execution_count": null,
   "metadata": {
    "colab": {
     "base_uri": "https://localhost:8080/",
     "height": 497
    },
    "id": "nKSXawL2sugA",
    "outputId": "b2bb24b9-1793-45c3-d29e-6f790e35ce64"
   },
   "outputs": [
    {
     "data": {
      "image/png": "[encoded data removed]",
      "text/plain": [
       "<Figure size 720x576 with 1 Axes>"
      ]
     },
     "metadata": {
      "needs_background": "light"
     },
     "output_type": "display_data"
    }
   ],
   "source": [
    "# зададим размер графика\n",
    "plt.figure(figsize = (10, 8))\n",
    "# на точечной диаграмме выведем пролин по оси x, а класс вина по оси y\n",
    "sns.scatterplot(x = df.proline, y = df.target, s = 80);"
   ]
  },
  {
   "cell_type": "code",
   "execution_count": null,
   "metadata": {
    "colab": {
     "base_uri": "https://localhost:8080/",
     "height": 497
    },
    "id": "GDs7A5WFtOOU",
    "outputId": "38ba3536-17c1-43c6-f628-a85ce4ee057f"
   },
   "outputs": [
    {
     "data": {
      "image/png": "[encoded data removed]",
      "text/plain": [
       "<Figure size 720x576 with 1 Axes>"
      ]
     },
     "metadata": {
      "needs_background": "light"
     },
     "output_type": "display_data"
    }
   ],
   "source": [
    "# зададим размер графика\n",
    "plt.figure(figsize = (10, 8))\n",
    "# на точечной диаграмме по осям x и y выведем признаки,\n",
    "# с помощью параметра hue разделим соответствующие классы целевой переменной\n",
    "sns.scatterplot(x = df.alcohol, y = df.proline, hue = df.target, s = 80)\n",
    "# добавим легенду, зададим ее расположение и размер\n",
    "plt.legend(loc = 'upper left', prop = {'size': 15})\n",
    "# выведем результат\n",
    "plt.show()"
   ]
  },
  {
   "cell_type": "code",
   "execution_count": null,
   "metadata": {
    "id": "OCzzFi-dXffF"
   },
   "outputs": [],
   "source": [
    "# поместим признаки в переменную X, а целевую переменную - в y\n",
    "X = df[['alcohol', 'proline']]\n",
    "y = df['target']"
   ]
  },
  {
   "cell_type": "code",
   "execution_count": null,
   "metadata": {
    "colab": {
     "base_uri": "https://localhost:8080/"
    },
    "id": "3ksLUq_E1BTh",
    "outputId": "0d729abd-ee9f-43a1-9ed1-d9d9371cf458"
   },
   "outputs": [
    {
     "data": {
      "text/plain": [
       "1    71\n",
       "0    59\n",
       "Name: target, dtype: int64"
      ]
     },
     "execution_count": 161,
     "metadata": {},
     "output_type": "execute_result"
    }
   ],
   "source": [
    "# посмотрим на количество наблюдений в каждом из классов\n",
    "df.target.value_counts()"
   ]
  },
  {
   "cell_type": "markdown",
   "metadata": {
    "id": "S3MslTl1eyKJ"
   },
   "source": [
    "#### Масштабирование признаков"
   ]
  },
  {
   "cell_type": "code",
   "execution_count": null,
   "metadata": {
    "colab": {
     "base_uri": "https://localhost:8080/",
     "height": 206
    },
    "id": "RPzrOZJIXomL",
    "outputId": "71dd07c1-f32a-4260-c3a6-640908dd4ab7"
   },
   "outputs": [
    {
     "data": {
      "text/html": [
       "\n",
       "  <div id=\"df-52f50933-48d8-43c1-97db-84dae5150212\">\n",
       "    <div class=\"colab-df-container\">\n",
       "      <div>\n",
       "<style scoped>\n",
       "    .dataframe tbody tr th:only-of-type {\n",
       "        vertical-align: middle;\n",
       "    }\n",
       "\n",
       "    .dataframe tbody tr th {\n",
       "        vertical-align: top;\n",
       "    }\n",
       "\n",
       "    .dataframe thead th {\n",
       "        text-align: right;\n",
       "    }\n",
       "</style>\n",
       "<table border=\"1\" class=\"dataframe\">\n",
       "  <thead>\n",
       "    <tr style=\"text-align: right;\">\n",
       "      <th></th>\n",
       "      <th>alcohol</th>\n",
       "      <th>proline</th>\n",
       "    </tr>\n",
       "  </thead>\n",
       "  <tbody>\n",
       "    <tr>\n",
       "      <th>0</th>\n",
       "      <td>1.446858</td>\n",
       "      <td>0.779851</td>\n",
       "    </tr>\n",
       "    <tr>\n",
       "      <th>1</th>\n",
       "      <td>0.287952</td>\n",
       "      <td>0.737300</td>\n",
       "    </tr>\n",
       "    <tr>\n",
       "      <th>2</th>\n",
       "      <td>0.242946</td>\n",
       "      <td>1.120264</td>\n",
       "    </tr>\n",
       "    <tr>\n",
       "      <th>3</th>\n",
       "      <td>1.604379</td>\n",
       "      <td>1.957113</td>\n",
       "    </tr>\n",
       "    <tr>\n",
       "      <th>4</th>\n",
       "      <td>0.332958</td>\n",
       "      <td>-0.156284</td>\n",
       "    </tr>\n",
       "  </tbody>\n",
       "</table>\n",
       "</div>\n",
       "      <button class=\"colab-df-convert\" onclick=\"convertToInteractive('df-52f50933-48d8-43c1-97db-84dae5150212')\"\n",
       "              title=\"Convert this dataframe to an interactive table.\"\n",
       "              style=\"display:none;\">\n",
       "        \n",
       "  <svg xmlns=\"http://www.w3.org/2000/svg\" height=\"24px\"viewBox=\"0 0 24 24\"\n",
       "       width=\"24px\">\n",
       "    <path d=\"M0 0h24v24H0V0z\" fill=\"none\"/>\n",
       "    <path d=\"M18.56 5.44l.94 2.06.94-2.06 2.06-.94-2.06-.94-.94-2.06-.94 2.06-2.06.94zm-11 1L8.5 8.5l.94-2.06 2.06-.94-2.06-.94L8.5 2.5l-.94 2.06-2.06.94zm10 10l.94 2.06.94-2.06 2.06-.94-2.06-.94-.94-2.06-.94 2.06-2.06.94z\"/><path d=\"M17.41 7.96l-1.37-1.37c-.4-.4-.92-.59-1.43-.59-.52 0-1.04.2-1.43.59L10.3 9.45l-7.72 7.72c-.78.78-.78 2.05 0 2.83L4 21.41c.39.39.9.59 1.41.59.51 0 1.02-.2 1.41-.59l7.78-7.78 2.81-2.81c.8-.78.8-2.07 0-2.86zM5.41 20L4 18.59l7.72-7.72 1.47 1.35L5.41 20z\"/>\n",
       "  </svg>\n",
       "      </button>\n",
       "      \n",
       "  <style>\n",
       "    .colab-df-container {\n",
       "      display:flex;\n",
       "      flex-wrap:wrap;\n",
       "      gap: 12px;\n",
       "    }\n",
       "\n",
       "    .colab-df-convert {\n",
       "      background-color: #E8F0FE;\n",
       "      border: none;\n",
       "      border-radius: 50%;\n",
       "      cursor: pointer;\n",
       "      display: none;\n",
       "      fill: #1967D2;\n",
       "      height: 32px;\n",
       "      padding: 0 0 0 0;\n",
       "      width: 32px;\n",
       "    }\n",
       "\n",
       "    .colab-df-convert:hover {\n",
       "      background-color: #E2EBFA;\n",
       "      box-shadow: 0px 1px 2px rgba(60, 64, 67, 0.3), 0px 1px 3px 1px rgba(60, 64, 67, 0.15);\n",
       "      fill: #174EA6;\n",
       "    }\n",
       "\n",
       "    [theme=dark] .colab-df-convert {\n",
       "      background-color: #3B4455;\n",
       "      fill: #D2E3FC;\n",
       "    }\n",
       "\n",
       "    [theme=dark] .colab-df-convert:hover {\n",
       "      background-color: #434B5C;\n",
       "      box-shadow: 0px 1px 3px 1px rgba(0, 0, 0, 0.15);\n",
       "      filter: drop-shadow(0px 1px 2px rgba(0, 0, 0, 0.3));\n",
       "      fill: #FFFFFF;\n",
       "    }\n",
       "  </style>\n",
       "\n",
       "      <script>\n",
       "        const buttonEl =\n",
       "          document.querySelector('#df-52f50933-48d8-43c1-97db-84dae5150212 button.colab-df-convert');\n",
       "        buttonEl.style.display =\n",
       "          google.colab.kernel.accessAllowed ? 'block' : 'none';\n",
       "\n",
       "        async function convertToInteractive(key) {\n",
       "          const element = document.querySelector('#df-52f50933-48d8-43c1-97db-84dae5150212');\n",
       "          const dataTable =\n",
       "            await google.colab.kernel.invokeFunction('convertToInteractive',\n",
       "                                                     [key], {});\n",
       "          if (!dataTable) return;\n",
       "\n",
       "          const docLinkHtml = 'Like what you see? Visit the ' +\n",
       "            '<a target=\"_blank\" href=https://colab.research.google.com/notebooks/data_table.ipynb>data table notebook</a>'\n",
       "            + ' to learn more about interactive tables.';\n",
       "          element.innerHTML = '';\n",
       "          dataTable['output_type'] = 'display_data';\n",
       "          await google.colab.output.renderOutput(dataTable, element);\n",
       "          const docLink = document.createElement('div');\n",
       "          docLink.innerHTML = docLinkHtml;\n",
       "          element.appendChild(docLink);\n",
       "        }\n",
       "      </script>\n",
       "    </div>\n",
       "  </div>\n",
       "  "
      ],
      "text/plain": [
       "    alcohol   proline\n",
       "0  1.446858  0.779851\n",
       "1  0.287952  0.737300\n",
       "2  0.242946  1.120264\n",
       "3  1.604379  1.957113\n",
       "4  0.332958 -0.156284"
      ]
     },
     "execution_count": 162,
     "metadata": {},
     "output_type": "execute_result"
    }
   ],
   "source": [
    "# выполним стандартизацию\n",
    "# т.е. приведем данные к нулевому среднему и единичному СКО\n",
    "X = (X - X.mean()) / X.std()\n",
    "X.head()"
   ]
  },
  {
   "cell_type": "code",
   "execution_count": null,
   "metadata": {
    "colab": {
     "base_uri": "https://localhost:8080/"
    },
    "id": "zfm6EurqfPpv",
    "outputId": "c0bfe704-075e-478d-9213-798d0f2bf1ab"
   },
   "outputs": [
    {
     "data": {
      "text/plain": [
       "(6.8321416900009635e-15, 1.0, -5.465713352000771e-17, 1.0)"
      ]
     },
     "execution_count": 163,
     "metadata": {},
     "output_type": "execute_result"
    }
   ],
   "source": [
    "# проверим результат\n",
    "X.alcohol.mean(), X.alcohol.std(), X.proline.mean(), X.proline.std()"
   ]
  },
  {
   "cell_type": "markdown",
   "metadata": {
    "id": "j0Gg5w09YL34"
   },
   "source": [
    "### Обучение модели"
   ]
  },
  {
   "cell_type": "code",
   "execution_count": null,
   "metadata": {
    "id": "7jFH8UZPYftQ"
   },
   "outputs": [],
   "source": [
    "# объявим функцию, которая будет добавлять столбец под названием x0, заполненный единицами\n",
    "def add_ones(x):\n",
    "  # важно! метод .insert() изменяет исходный датафрейм\n",
    "  return x.insert(0,'x0', np.ones(x.shape[0]))"
   ]
  },
  {
   "cell_type": "code",
   "execution_count": null,
   "metadata": {
    "colab": {
     "base_uri": "https://localhost:8080/",
     "height": 206
    },
    "id": "L1d2q5QAYqCC",
    "outputId": "10ab9cf1-6b05-43d8-bcac-382cfc4804cc"
   },
   "outputs": [
    {
     "data": {
      "text/html": [
       "\n",
       "  <div id=\"df-cabf3d76-e5ab-4678-bb20-771021e0a9b0\">\n",
       "    <div class=\"colab-df-container\">\n",
       "      <div>\n",
       "<style scoped>\n",
       "    .dataframe tbody tr th:only-of-type {\n",
       "        vertical-align: middle;\n",
       "    }\n",
       "\n",
       "    .dataframe tbody tr th {\n",
       "        vertical-align: top;\n",
       "    }\n",
       "\n",
       "    .dataframe thead th {\n",
       "        text-align: right;\n",
       "    }\n",
       "</style>\n",
       "<table border=\"1\" class=\"dataframe\">\n",
       "  <thead>\n",
       "    <tr style=\"text-align: right;\">\n",
       "      <th></th>\n",
       "      <th>x0</th>\n",
       "      <th>alcohol</th>\n",
       "      <th>proline</th>\n",
       "    </tr>\n",
       "  </thead>\n",
       "  <tbody>\n",
       "    <tr>\n",
       "      <th>0</th>\n",
       "      <td>1.0</td>\n",
       "      <td>1.446858</td>\n",
       "      <td>0.779851</td>\n",
       "    </tr>\n",
       "    <tr>\n",
       "      <th>1</th>\n",
       "      <td>1.0</td>\n",
       "      <td>0.287952</td>\n",
       "      <td>0.737300</td>\n",
       "    </tr>\n",
       "    <tr>\n",
       "      <th>2</th>\n",
       "      <td>1.0</td>\n",
       "      <td>0.242946</td>\n",
       "      <td>1.120264</td>\n",
       "    </tr>\n",
       "    <tr>\n",
       "      <th>3</th>\n",
       "      <td>1.0</td>\n",
       "      <td>1.604379</td>\n",
       "      <td>1.957113</td>\n",
       "    </tr>\n",
       "    <tr>\n",
       "      <th>4</th>\n",
       "      <td>1.0</td>\n",
       "      <td>0.332958</td>\n",
       "      <td>-0.156284</td>\n",
       "    </tr>\n",
       "  </tbody>\n",
       "</table>\n",
       "</div>\n",
       "      <button class=\"colab-df-convert\" onclick=\"convertToInteractive('df-cabf3d76-e5ab-4678-bb20-771021e0a9b0')\"\n",
       "              title=\"Convert this dataframe to an interactive table.\"\n",
       "              style=\"display:none;\">\n",
       "        \n",
       "  <svg xmlns=\"http://www.w3.org/2000/svg\" height=\"24px\"viewBox=\"0 0 24 24\"\n",
       "       width=\"24px\">\n",
       "    <path d=\"M0 0h24v24H0V0z\" fill=\"none\"/>\n",
       "    <path d=\"M18.56 5.44l.94 2.06.94-2.06 2.06-.94-2.06-.94-.94-2.06-.94 2.06-2.06.94zm-11 1L8.5 8.5l.94-2.06 2.06-.94-2.06-.94L8.5 2.5l-.94 2.06-2.06.94zm10 10l.94 2.06.94-2.06 2.06-.94-2.06-.94-.94-2.06-.94 2.06-2.06.94z\"/><path d=\"M17.41 7.96l-1.37-1.37c-.4-.4-.92-.59-1.43-.59-.52 0-1.04.2-1.43.59L10.3 9.45l-7.72 7.72c-.78.78-.78 2.05 0 2.83L4 21.41c.39.39.9.59 1.41.59.51 0 1.02-.2 1.41-.59l7.78-7.78 2.81-2.81c.8-.78.8-2.07 0-2.86zM5.41 20L4 18.59l7.72-7.72 1.47 1.35L5.41 20z\"/>\n",
       "  </svg>\n",
       "      </button>\n",
       "      \n",
       "  <style>\n",
       "    .colab-df-container {\n",
       "      display:flex;\n",
       "      flex-wrap:wrap;\n",
       "      gap: 12px;\n",
       "    }\n",
       "\n",
       "    .colab-df-convert {\n",
       "      background-color: #E8F0FE;\n",
       "      border: none;\n",
       "      border-radius: 50%;\n",
       "      cursor: pointer;\n",
       "      display: none;\n",
       "      fill: #1967D2;\n",
       "      height: 32px;\n",
       "      padding: 0 0 0 0;\n",
       "      width: 32px;\n",
       "    }\n",
       "\n",
       "    .colab-df-convert:hover {\n",
       "      background-color: #E2EBFA;\n",
       "      box-shadow: 0px 1px 2px rgba(60, 64, 67, 0.3), 0px 1px 3px 1px rgba(60, 64, 67, 0.15);\n",
       "      fill: #174EA6;\n",
       "    }\n",
       "\n",
       "    [theme=dark] .colab-df-convert {\n",
       "      background-color: #3B4455;\n",
       "      fill: #D2E3FC;\n",
       "    }\n",
       "\n",
       "    [theme=dark] .colab-df-convert:hover {\n",
       "      background-color: #434B5C;\n",
       "      box-shadow: 0px 1px 3px 1px rgba(0, 0, 0, 0.15);\n",
       "      filter: drop-shadow(0px 1px 2px rgba(0, 0, 0, 0.3));\n",
       "      fill: #FFFFFF;\n",
       "    }\n",
       "  </style>\n",
       "\n",
       "      <script>\n",
       "        const buttonEl =\n",
       "          document.querySelector('#df-cabf3d76-e5ab-4678-bb20-771021e0a9b0 button.colab-df-convert');\n",
       "        buttonEl.style.display =\n",
       "          google.colab.kernel.accessAllowed ? 'block' : 'none';\n",
       "\n",
       "        async function convertToInteractive(key) {\n",
       "          const element = document.querySelector('#df-cabf3d76-e5ab-4678-bb20-771021e0a9b0');\n",
       "          const dataTable =\n",
       "            await google.colab.kernel.invokeFunction('convertToInteractive',\n",
       "                                                     [key], {});\n",
       "          if (!dataTable) return;\n",
       "\n",
       "          const docLinkHtml = 'Like what you see? Visit the ' +\n",
       "            '<a target=\"_blank\" href=https://colab.research.google.com/notebooks/data_table.ipynb>data table notebook</a>'\n",
       "            + ' to learn more about interactive tables.';\n",
       "          element.innerHTML = '';\n",
       "          dataTable['output_type'] = 'display_data';\n",
       "          await google.colab.output.renderOutput(dataTable, element);\n",
       "          const docLink = document.createElement('div');\n",
       "          docLink.innerHTML = docLinkHtml;\n",
       "          element.appendChild(docLink);\n",
       "        }\n",
       "      </script>\n",
       "    </div>\n",
       "  </div>\n",
       "  "
      ],
      "text/plain": [
       "    x0   alcohol   proline\n",
       "0  1.0  1.446858  0.779851\n",
       "1  1.0  0.287952  0.737300\n",
       "2  1.0  0.242946  1.120264\n",
       "3  1.0  1.604379  1.957113\n",
       "4  1.0  0.332958 -0.156284"
      ]
     },
     "execution_count": 165,
     "metadata": {},
     "output_type": "execute_result"
    }
   ],
   "source": [
    "# добавим столбец с единицами\n",
    "add_ones(X)\n",
    "\n",
    "# и посмотрим на результат\n",
    "X.head()"
   ]
  },
  {
   "cell_type": "code",
   "execution_count": null,
   "metadata": {
    "colab": {
     "base_uri": "https://localhost:8080/"
    },
    "id": "zgOevhKnVCuM",
    "outputId": "7bdad57e-615d-4cfe-c674-08788b681937"
   },
   "outputs": [
    {
     "data": {
      "text/plain": [
       "(array([0., 0., 0.]), 130)"
      ]
     },
     "execution_count": 166,
     "metadata": {},
     "output_type": "execute_result"
    }
   ],
   "source": [
    "# создадим вектор начальных весов (он будет состоять из нулей),\n",
    "# а также переменную n, в которой будет храниться количество наблюдений\n",
    "thetas, n = np.zeros(X.shape[1]), X.shape[0]\n",
    "thetas, n"
   ]
  },
  {
   "cell_type": "code",
   "execution_count": null,
   "metadata": {
    "id": "AKKjlCJPjyQy"
   },
   "outputs": [],
   "source": [
    "# создадим список, в который будем записывать размер ошибки функции потерь\n",
    "loss_history = []"
   ]
  },
  {
   "cell_type": "code",
   "execution_count": null,
   "metadata": {
    "id": "psTwQtI0Ytl7"
   },
   "outputs": [],
   "source": [
    "# в цикле из 20000 итераций\n",
    "for i in range(20000):\n",
    "  # рассчитаем прогнозное значение с текущими весами\n",
    "  y_pred = h(X, thetas)\n",
    "  # посчитаем уровень ошибки при текущем прогнозе\n",
    "  loss_history.append(objective(y, y_pred))\n",
    "  # рассчитаем градиент\n",
    "  grad = gradient(X, y, y_pred, n)\n",
    "  # используем градиент для улучшения весов модели\n",
    "  # коэффициент скорости обучения будет равен 0,001\n",
    "  thetas = thetas - 0.001 * grad"
   ]
  },
  {
   "cell_type": "code",
   "execution_count": null,
   "metadata": {
    "colab": {
     "base_uri": "https://localhost:8080/"
    },
    "id": "UC7X1oHfZiXr",
    "outputId": "74c3d3c7-e12a-4878-d2dc-9819ba54f306"
   },
   "outputs": [
    {
     "data": {
      "text/plain": [
       "(array([ 0.23234188, -1.73394252, -1.89350543]), 0.12282503517421262)"
      ]
     },
     "execution_count": 169,
     "metadata": {},
     "output_type": "execute_result"
    }
   ],
   "source": [
    "# посмотрим на получившиеся веса и финальный уровень ошибки\n",
    "thetas, loss_history[-1]"
   ]
  },
  {
   "cell_type": "markdown",
   "metadata": {
    "id": "89BVUDTGYlzY"
   },
   "source": [
    "### Прогноз и оценка качества"
   ]
  },
  {
   "cell_type": "markdown",
   "metadata": {
    "id": "cqd6h57Pqe5q"
   },
   "source": [
    "#### Прогноз модели"
   ]
  },
  {
   "cell_type": "code",
   "execution_count": null,
   "metadata": {
    "id": "KpXOHJHEsoxs"
   },
   "outputs": [],
   "source": [
    "# объявим функцию для предсказания класса\n",
    "def predict(x, thetas):\n",
    "  # найдем значение линейной функции\n",
    "  z = np.dot(x, thetas)\n",
    "  # проведем его через устойчивую сигмоиду\n",
    "  probs = np.array([stable_sigmoid(value) for value in z])\n",
    "  # если вероятность больше или равна 0,5 - отнесем наблюдение к классу 1,\n",
    "  # в противном случае к классу 0\n",
    "  # дополнительно выведем значение вероятности\n",
    "  return np.where(probs >= 0.5, 1, 0), probs"
   ]
  },
  {
   "cell_type": "code",
   "execution_count": null,
   "metadata": {
    "colab": {
     "base_uri": "https://localhost:8080/"
    },
    "id": "BpT6wWodSpYO",
    "outputId": "82eec509-df29-487b-f267-5a629cea4e5a"
   },
   "outputs": [
    {
     "data": {
      "text/plain": [
       "(0, 0.022908352078195617)"
      ]
     },
     "execution_count": 171,
     "metadata": {},
     "output_type": "execute_result"
    }
   ],
   "source": [
    "# запишем прогноз класса и вероятность этого прогноза в переменные y_pred и probs\n",
    "y_pred, probs = predict(X, thetas)\n",
    "\n",
    "# посмотрим на прогноз и вероятность для первого наблюдения\n",
    "y_pred[0], probs[0]"
   ]
  },
  {
   "cell_type": "markdown",
   "metadata": {
    "id": "bF8y0F6TqmNE"
   },
   "source": [
    "#### Метрика accuracy и матрица ошибок"
   ]
  },
  {
   "cell_type": "code",
   "execution_count": null,
   "metadata": {
    "colab": {
     "base_uri": "https://localhost:8080/"
    },
    "id": "0-3MfFQZTDlH",
    "outputId": "c4f0c77d-d9f2-40c5-e83a-02c3fd29fda5"
   },
   "outputs": [
    {
     "data": {
      "text/plain": [
       "0.9615384615384616"
      ]
     },
     "execution_count": 172,
     "metadata": {},
     "output_type": "execute_result"
    }
   ],
   "source": [
    "# оценим результат с помощью метрики accuracy\n",
    "accuracy_score(y, y_pred)"
   ]
  },
  {
   "cell_type": "code",
   "execution_count": null,
   "metadata": {
    "colab": {
     "base_uri": "https://localhost:8080/",
     "height": 112
    },
    "id": "j2026Z6AZjON",
    "outputId": "3f0ebe66-ff0e-4fb3-8686-5e3efd3dc474"
   },
   "outputs": [
    {
     "data": {
      "text/html": [
       "\n",
       "  <div id=\"df-e7673785-89f6-4936-a527-206079f2c3e5\">\n",
       "    <div class=\"colab-df-container\">\n",
       "      <div>\n",
       "<style scoped>\n",
       "    .dataframe tbody tr th:only-of-type {\n",
       "        vertical-align: middle;\n",
       "    }\n",
       "\n",
       "    .dataframe tbody tr th {\n",
       "        vertical-align: top;\n",
       "    }\n",
       "\n",
       "    .dataframe thead th {\n",
       "        text-align: right;\n",
       "    }\n",
       "</style>\n",
       "<table border=\"1\" class=\"dataframe\">\n",
       "  <thead>\n",
       "    <tr style=\"text-align: right;\">\n",
       "      <th></th>\n",
       "      <th>Forecast 0</th>\n",
       "      <th>Forecast 1</th>\n",
       "    </tr>\n",
       "  </thead>\n",
       "  <tbody>\n",
       "    <tr>\n",
       "      <th>Actual 0</th>\n",
       "      <td>57</td>\n",
       "      <td>2</td>\n",
       "    </tr>\n",
       "    <tr>\n",
       "      <th>Actual 1</th>\n",
       "      <td>3</td>\n",
       "      <td>68</td>\n",
       "    </tr>\n",
       "  </tbody>\n",
       "</table>\n",
       "</div>\n",
       "      <button class=\"colab-df-convert\" onclick=\"convertToInteractive('df-e7673785-89f6-4936-a527-206079f2c3e5')\"\n",
       "              title=\"Convert this dataframe to an interactive table.\"\n",
       "              style=\"display:none;\">\n",
       "        \n",
       "  <svg xmlns=\"http://www.w3.org/2000/svg\" height=\"24px\"viewBox=\"0 0 24 24\"\n",
       "       width=\"24px\">\n",
       "    <path d=\"M0 0h24v24H0V0z\" fill=\"none\"/>\n",
       "    <path d=\"M18.56 5.44l.94 2.06.94-2.06 2.06-.94-2.06-.94-.94-2.06-.94 2.06-2.06.94zm-11 1L8.5 8.5l.94-2.06 2.06-.94-2.06-.94L8.5 2.5l-.94 2.06-2.06.94zm10 10l.94 2.06.94-2.06 2.06-.94-2.06-.94-.94-2.06-.94 2.06-2.06.94z\"/><path d=\"M17.41 7.96l-1.37-1.37c-.4-.4-.92-.59-1.43-.59-.52 0-1.04.2-1.43.59L10.3 9.45l-7.72 7.72c-.78.78-.78 2.05 0 2.83L4 21.41c.39.39.9.59 1.41.59.51 0 1.02-.2 1.41-.59l7.78-7.78 2.81-2.81c.8-.78.8-2.07 0-2.86zM5.41 20L4 18.59l7.72-7.72 1.47 1.35L5.41 20z\"/>\n",
       "  </svg>\n",
       "      </button>\n",
       "      \n",
       "  <style>\n",
       "    .colab-df-container {\n",
       "      display:flex;\n",
       "      flex-wrap:wrap;\n",
       "      gap: 12px;\n",
       "    }\n",
       "\n",
       "    .colab-df-convert {\n",
       "      background-color: #E8F0FE;\n",
       "      border: none;\n",
       "      border-radius: 50%;\n",
       "      cursor: pointer;\n",
       "      display: none;\n",
       "      fill: #1967D2;\n",
       "      height: 32px;\n",
       "      padding: 0 0 0 0;\n",
       "      width: 32px;\n",
       "    }\n",
       "\n",
       "    .colab-df-convert:hover {\n",
       "      background-color: #E2EBFA;\n",
       "      box-shadow: 0px 1px 2px rgba(60, 64, 67, 0.3), 0px 1px 3px 1px rgba(60, 64, 67, 0.15);\n",
       "      fill: #174EA6;\n",
       "    }\n",
       "\n",
       "    [theme=dark] .colab-df-convert {\n",
       "      background-color: #3B4455;\n",
       "      fill: #D2E3FC;\n",
       "    }\n",
       "\n",
       "    [theme=dark] .colab-df-convert:hover {\n",
       "      background-color: #434B5C;\n",
       "      box-shadow: 0px 1px 3px 1px rgba(0, 0, 0, 0.15);\n",
       "      filter: drop-shadow(0px 1px 2px rgba(0, 0, 0, 0.3));\n",
       "      fill: #FFFFFF;\n",
       "    }\n",
       "  </style>\n",
       "\n",
       "      <script>\n",
       "        const buttonEl =\n",
       "          document.querySelector('#df-e7673785-89f6-4936-a527-206079f2c3e5 button.colab-df-convert');\n",
       "        buttonEl.style.display =\n",
       "          google.colab.kernel.accessAllowed ? 'block' : 'none';\n",
       "\n",
       "        async function convertToInteractive(key) {\n",
       "          const element = document.querySelector('#df-e7673785-89f6-4936-a527-206079f2c3e5');\n",
       "          const dataTable =\n",
       "            await google.colab.kernel.invokeFunction('convertToInteractive',\n",
       "                                                     [key], {});\n",
       "          if (!dataTable) return;\n",
       "\n",
       "          const docLinkHtml = 'Like what you see? Visit the ' +\n",
       "            '<a target=\"_blank\" href=https://colab.research.google.com/notebooks/data_table.ipynb>data table notebook</a>'\n",
       "            + ' to learn more about interactive tables.';\n",
       "          element.innerHTML = '';\n",
       "          dataTable['output_type'] = 'display_data';\n",
       "          await google.colab.output.renderOutput(dataTable, element);\n",
       "          const docLink = document.createElement('div');\n",
       "          docLink.innerHTML = docLinkHtml;\n",
       "          element.appendChild(docLink);\n",
       "        }\n",
       "      </script>\n",
       "    </div>\n",
       "  </div>\n",
       "  "
      ],
      "text/plain": [
       "          Forecast 0  Forecast 1\n",
       "Actual 0          57           2\n",
       "Actual 1           3          68"
      ]
     },
     "execution_count": 173,
     "metadata": {},
     "output_type": "execute_result"
    }
   ],
   "source": [
    "# а также построим матрицу ошибок\n",
    "# столбцами будут прогнозные значения (Forecast),\n",
    "# строками - фактические (Actual)\n",
    "pd.DataFrame(confusion_matrix(y, y_pred),\n",
    "             columns = ['Forecast 0', 'Forecast 1'],\n",
    "             index = ['Actual 0', 'Actual 1'])"
   ]
  },
  {
   "cell_type": "markdown",
   "metadata": {
    "id": "AKMcO5Imq53F"
   },
   "source": [
    "#### Решающая граница"
   ]
  },
  {
   "cell_type": "code",
   "execution_count": null,
   "metadata": {
    "colab": {
     "base_uri": "https://localhost:8080/"
    },
    "id": "Zp4Ip_CliF72",
    "outputId": "0db0a985-b1fc-4b7b-b878-6dd4ff69758a"
   },
   "outputs": [
    {
     "data": {
      "text/plain": [
       "(0.1227046263531282, -0.915731474695505)"
      ]
     },
     "execution_count": 174,
     "metadata": {},
     "output_type": "execute_result"
    }
   ],
   "source": [
    "# рассчитаем сдвиг (c) и наклон (m) линии границы\n",
    "c, m = -thetas[0]/thetas[2], -thetas[1]/thetas[2]\n",
    "c, m"
   ]
  },
  {
   "cell_type": "code",
   "execution_count": null,
   "metadata": {
    "colab": {
     "base_uri": "https://localhost:8080/"
    },
    "id": "Kv8Ai0xxtXKz",
    "outputId": "f8508765-c22b-46ad-9ae2-a644497f59b5"
   },
   "outputs": [
    {
     "data": {
      "text/plain": [
       "array([-2.15362589,  2.12194856])"
      ]
     },
     "execution_count": 175,
     "metadata": {},
     "output_type": "execute_result"
    }
   ],
   "source": [
    "# найдем минимальное и максимальное значения для спирта (ось x)\n",
    "xmin, xmax = min(X['alcohol']), max(X['alcohol'])\n",
    "# найдем минимальное и максимальное значения для пролина (ось y)\n",
    "ymin, ymax = min(X['proline']), max(X['proline'])\n",
    "\n",
    "# запишем значения оси x в переменную xd\n",
    "xd = np.array([xmin, xmax])\n",
    "xd"
   ]
  },
  {
   "cell_type": "code",
   "execution_count": null,
   "metadata": {
    "colab": {
     "base_uri": "https://localhost:8080/"
    },
    "id": "u9sF-KQxth0G",
    "outputId": "64a68005-78f4-49b3-b44a-32ca48104ef9"
   },
   "outputs": [
    {
     "data": {
      "text/plain": [
       "((-2.1536258890738247, 2.0948476376971197),\n",
       " (2.1219485561396647, -1.8204304541886445))"
      ]
     },
     "execution_count": 176,
     "metadata": {},
     "output_type": "execute_result"
    }
   ],
   "source": [
    "# подставим эти значения, а также значения сдвига и наклона в уравнение линии\n",
    "yd = m * xd + c\n",
    "\n",
    "# в результате мы получим координаты двух точек, через которые проходит линия границы\n",
    "(xd[0], yd[0]), (xd[1], yd[1])"
   ]
  },
  {
   "cell_type": "code",
   "execution_count": null,
   "metadata": {
    "colab": {
     "base_uri": "https://localhost:8080/",
     "height": 552
    },
    "id": "vqXJA_nujs7e",
    "outputId": "b5cba3a9-af99-43e8-f41d-e4584f61cae4"
   },
   "outputs": [
    {
     "data": {
      "image/png": "[encoded data removed]",
      "text/plain": [
       "<Figure size 792x648 with 1 Axes>"
      ]
     },
     "metadata": {
      "needs_background": "light"
     },
     "output_type": "display_data"
    }
   ],
   "source": [
    "# зададим размер графика\n",
    "plt.figure(figsize = (11, 9))\n",
    "\n",
    "# построим пунктирную линию по двум точкам, найденным выше\n",
    "plt.plot(xd, yd, 'k', lw = 1, ls = '--')\n",
    "\n",
    "# дополнительно отобразим наши данные,\n",
    "sns.scatterplot(x = X['alcohol'], y = X['proline'], hue = y, s = 70)\n",
    "\n",
    "# которые снова снабдим легендой\n",
    "plt.legend(loc = 'upper left', prop = {'size': 15})\n",
    "\n",
    "# минимальные и максимальные значения по обеим осям будут границами графика\n",
    "plt.xlim(xmin, xmax)\n",
    "plt.ylim(ymin, ymax)\n",
    "\n",
    "# по желанию, разделенные границей половинки можно закрасить\n",
    "# tab: означает, что цвета берутся из палитры Tableau\n",
    "# plt.fill_between(xd, yd, ymin, color='tab:blue', alpha = 0.2)\n",
    "# plt.fill_between(xd, yd, ymax, color='tab:orange', alpha = 0.2)\n",
    "\n",
    "# а также добавить обозначения переменных в качестве подписей к осям\n",
    "# plt.xlabel('x_1')\n",
    "# plt.ylabel('x_2')\n",
    "\n",
    "plt.show()"
   ]
  },
  {
   "cell_type": "markdown",
   "metadata": {
    "id": "hC5g-foQVDtF"
   },
   "source": [
    "### Написание класса"
   ]
  },
  {
   "cell_type": "code",
   "execution_count": null,
   "metadata": {
    "id": "ZtOVbvLUN3u1"
   },
   "outputs": [],
   "source": [
    "class LogReg():\n",
    "\n",
    "  # в методе .__init__() объявим переменные для весов и уровня ошибки\n",
    "  def __init__(self):\n",
    "    self.thetas = None\n",
    "    self.loss_history = []\n",
    "\n",
    "  # метод .fit() необходим для обучения модели\n",
    "  # этому методу мы передадим признаки и целевую переменную\n",
    "  # кроме того, мы зададим значения по умолчанию\n",
    "  # для количества итераций и скорости обучения\n",
    "  def fit(self, x, y, iter = 20000, learning_rate = 0.001):\n",
    "\n",
    "    # метод создаст \"правильные\" копии датафрейма\n",
    "    x, y = x.copy(), y.copy()\n",
    "\n",
    "    # добавит столбец из единиц\n",
    "    self.add_ones(x)\n",
    "\n",
    "    # инициализирует веса и запишет в переменную n количество наблюдений\n",
    "    thetas, n = np.zeros(x.shape[1]), x.shape[0]\n",
    "\n",
    "    # создадим список для записи уровня ошибки\n",
    "    loss_history = []\n",
    "\n",
    "    # в цикле равном количеству итераций\n",
    "    for i in range(iter):\n",
    "      # метод сделает прогноз с текущими весами\n",
    "      y_pred = self.h(x, thetas)\n",
    "      # найдет и запишет уровень ошибки\n",
    "      loss_history.append(self.objective(y, y_pred))\n",
    "      # рассчитает градиент\n",
    "      grad = self.gradient(x, y, y_pred, n)\n",
    "      # и обновит веса\n",
    "      thetas -= learning_rate * grad\n",
    "\n",
    "      # метод выдаст веса и список с историей ошибок\n",
    "      self.thetas = thetas\n",
    "      self.loss_history = loss_history\n",
    "\n",
    "  # метод .predict() делает прогноз с помощью обученной модели\n",
    "  def predict(self, x):\n",
    "\n",
    "    # метод создаст \"правильную\" копию модели\n",
    "    x = x.copy()\n",
    "    # добавит столбец из единиц\n",
    "    self.add_ones(x)\n",
    "    # рассчитает значения линейной функции\n",
    "    z = np.dot(x, self.thetas)\n",
    "    # передаст эти значения в сигмоиду\n",
    "    probs = np.array([self.stable_sigmoid(value) for value in z])\n",
    "    # выдаст принадлежность к определенному классу и соответствующую вероятность\n",
    "    return np.where(probs >= 0.5, 1, 0), probs\n",
    "\n",
    "  # ниже приводятся служебные методы, смысл которых был разобран ранее\n",
    "  def add_ones(self, x):\n",
    "    return x.insert(0,'x0', np.ones(x.shape[0]))\n",
    "\n",
    "  def h(self, x, thetas):\n",
    "    z = np.dot(x, thetas)\n",
    "    return np.array([self.stable_sigmoid(value) for value in z])\n",
    "\n",
    "  def objective(self, y, y_pred):\n",
    "    y_one_loss = y * np.log(y_pred + 1e-9)\n",
    "    y_zero_loss = (1 - y) * np.log(1 - y_pred + 1e-9)\n",
    "    return -np.mean(y_zero_loss + y_one_loss)\n",
    "\n",
    "  def gradient(self, x, y, y_pred, n):\n",
    "    return np.dot(x.T, (y_pred - y)) / n\n",
    "\n",
    "  def stable_sigmoid(self, z):\n",
    "    if z >= 0:\n",
    "        return 1 / (1 + np.exp(-z))\n",
    "    else:\n",
    "        return np.exp(z) / (np.exp(z) + 1)"
   ]
  },
  {
   "cell_type": "code",
   "execution_count": null,
   "metadata": {
    "colab": {
     "base_uri": "https://localhost:8080/"
    },
    "id": "keWhD_SXRR2F",
    "outputId": "ea248277-49a7-4589-bd4b-3d9c5ffb59bb"
   },
   "outputs": [
    {
     "data": {
      "text/plain": [
       "(array([ 0.23234188, -1.73394252, -1.89350543]), 0.12282503517421262)"
      ]
     },
     "execution_count": 179,
     "metadata": {},
     "output_type": "execute_result"
    }
   ],
   "source": [
    "# проверим работу написанного нами класса\n",
    "# поместим признаки и целевую переменную в X и y\n",
    "X = df[['alcohol', 'proline']]\n",
    "y = df['target']\n",
    "\n",
    "# приведем признаки к одному масштабу\n",
    "X = (X - X.mean())/X.std()\n",
    "\n",
    "# создадим объект класса LogReg\n",
    "model = LogReg()\n",
    "\n",
    "# и обучим модель\n",
    "model.fit(X, y)\n",
    "\n",
    "# посмотрим на атрибуты весов и финального уровня ошибки\n",
    "model.thetas, model.loss_history[-1]"
   ]
  },
  {
   "cell_type": "code",
   "execution_count": null,
   "metadata": {
    "colab": {
     "base_uri": "https://localhost:8080/"
    },
    "id": "v4Y75bzWUUbI",
    "outputId": "c347cb93-0a16-466e-b6de-b4ed222bc6a7"
   },
   "outputs": [
    {
     "data": {
      "text/plain": [
       "(0, 0.022908352078195617)"
      ]
     },
     "execution_count": 180,
     "metadata": {},
     "output_type": "execute_result"
    }
   ],
   "source": [
    "# сделаем прогноз\n",
    "y_pred, probs = model.predict(X)\n",
    "\n",
    "# и посмотрим на класс первого наблюдения и вероятность\n",
    "y_pred[0], probs[0]"
   ]
  },
  {
   "cell_type": "code",
   "execution_count": null,
   "metadata": {
    "colab": {
     "base_uri": "https://localhost:8080/"
    },
    "id": "u2TSesi7WLn_",
    "outputId": "8bfa1ec4-b42b-4c03-f54b-c2112f23fd07"
   },
   "outputs": [
    {
     "data": {
      "text/plain": [
       "0.9615384615384616"
      ]
     },
     "execution_count": 181,
     "metadata": {},
     "output_type": "execute_result"
    }
   ],
   "source": [
    "# рассчитаем accuracy\n",
    "accuracy_score(y, y_pred)"
   ]
  },
  {
   "cell_type": "code",
   "execution_count": null,
   "metadata": {
    "colab": {
     "base_uri": "https://localhost:8080/",
     "height": 112
    },
    "id": "yqyKr4UCWdYM",
    "outputId": "9695cc67-f541-41ad-b51f-b86619fbd526"
   },
   "outputs": [
    {
     "data": {
      "text/html": [
       "\n",
       "  <div id=\"df-98a0ee44-fa2c-461c-b030-77b353f1e0a7\">\n",
       "    <div class=\"colab-df-container\">\n",
       "      <div>\n",
       "<style scoped>\n",
       "    .dataframe tbody tr th:only-of-type {\n",
       "        vertical-align: middle;\n",
       "    }\n",
       "\n",
       "    .dataframe tbody tr th {\n",
       "        vertical-align: top;\n",
       "    }\n",
       "\n",
       "    .dataframe thead th {\n",
       "        text-align: right;\n",
       "    }\n",
       "</style>\n",
       "<table border=\"1\" class=\"dataframe\">\n",
       "  <thead>\n",
       "    <tr style=\"text-align: right;\">\n",
       "      <th></th>\n",
       "      <th>Forecast 0</th>\n",
       "      <th>Forecast 1</th>\n",
       "    </tr>\n",
       "  </thead>\n",
       "  <tbody>\n",
       "    <tr>\n",
       "      <th>Actual 0</th>\n",
       "      <td>57</td>\n",
       "      <td>2</td>\n",
       "    </tr>\n",
       "    <tr>\n",
       "      <th>Actual 1</th>\n",
       "      <td>3</td>\n",
       "      <td>68</td>\n",
       "    </tr>\n",
       "  </tbody>\n",
       "</table>\n",
       "</div>\n",
       "      <button class=\"colab-df-convert\" onclick=\"convertToInteractive('df-98a0ee44-fa2c-461c-b030-77b353f1e0a7')\"\n",
       "              title=\"Convert this dataframe to an interactive table.\"\n",
       "              style=\"display:none;\">\n",
       "        \n",
       "  <svg xmlns=\"http://www.w3.org/2000/svg\" height=\"24px\"viewBox=\"0 0 24 24\"\n",
       "       width=\"24px\">\n",
       "    <path d=\"M0 0h24v24H0V0z\" fill=\"none\"/>\n",
       "    <path d=\"M18.56 5.44l.94 2.06.94-2.06 2.06-.94-2.06-.94-.94-2.06-.94 2.06-2.06.94zm-11 1L8.5 8.5l.94-2.06 2.06-.94-2.06-.94L8.5 2.5l-.94 2.06-2.06.94zm10 10l.94 2.06.94-2.06 2.06-.94-2.06-.94-.94-2.06-.94 2.06-2.06.94z\"/><path d=\"M17.41 7.96l-1.37-1.37c-.4-.4-.92-.59-1.43-.59-.52 0-1.04.2-1.43.59L10.3 9.45l-7.72 7.72c-.78.78-.78 2.05 0 2.83L4 21.41c.39.39.9.59 1.41.59.51 0 1.02-.2 1.41-.59l7.78-7.78 2.81-2.81c.8-.78.8-2.07 0-2.86zM5.41 20L4 18.59l7.72-7.72 1.47 1.35L5.41 20z\"/>\n",
       "  </svg>\n",
       "      </button>\n",
       "      \n",
       "  <style>\n",
       "    .colab-df-container {\n",
       "      display:flex;\n",
       "      flex-wrap:wrap;\n",
       "      gap: 12px;\n",
       "    }\n",
       "\n",
       "    .colab-df-convert {\n",
       "      background-color: #E8F0FE;\n",
       "      border: none;\n",
       "      border-radius: 50%;\n",
       "      cursor: pointer;\n",
       "      display: none;\n",
       "      fill: #1967D2;\n",
       "      height: 32px;\n",
       "      padding: 0 0 0 0;\n",
       "      width: 32px;\n",
       "    }\n",
       "\n",
       "    .colab-df-convert:hover {\n",
       "      background-color: #E2EBFA;\n",
       "      box-shadow: 0px 1px 2px rgba(60, 64, 67, 0.3), 0px 1px 3px 1px rgba(60, 64, 67, 0.15);\n",
       "      fill: #174EA6;\n",
       "    }\n",
       "\n",
       "    [theme=dark] .colab-df-convert {\n",
       "      background-color: #3B4455;\n",
       "      fill: #D2E3FC;\n",
       "    }\n",
       "\n",
       "    [theme=dark] .colab-df-convert:hover {\n",
       "      background-color: #434B5C;\n",
       "      box-shadow: 0px 1px 3px 1px rgba(0, 0, 0, 0.15);\n",
       "      filter: drop-shadow(0px 1px 2px rgba(0, 0, 0, 0.3));\n",
       "      fill: #FFFFFF;\n",
       "    }\n",
       "  </style>\n",
       "\n",
       "      <script>\n",
       "        const buttonEl =\n",
       "          document.querySelector('#df-98a0ee44-fa2c-461c-b030-77b353f1e0a7 button.colab-df-convert');\n",
       "        buttonEl.style.display =\n",
       "          google.colab.kernel.accessAllowed ? 'block' : 'none';\n",
       "\n",
       "        async function convertToInteractive(key) {\n",
       "          const element = document.querySelector('#df-98a0ee44-fa2c-461c-b030-77b353f1e0a7');\n",
       "          const dataTable =\n",
       "            await google.colab.kernel.invokeFunction('convertToInteractive',\n",
       "                                                     [key], {});\n",
       "          if (!dataTable) return;\n",
       "\n",
       "          const docLinkHtml = 'Like what you see? Visit the ' +\n",
       "            '<a target=\"_blank\" href=https://colab.research.google.com/notebooks/data_table.ipynb>data table notebook</a>'\n",
       "            + ' to learn more about interactive tables.';\n",
       "          element.innerHTML = '';\n",
       "          dataTable['output_type'] = 'display_data';\n",
       "          await google.colab.output.renderOutput(dataTable, element);\n",
       "          const docLink = document.createElement('div');\n",
       "          docLink.innerHTML = docLinkHtml;\n",
       "          element.appendChild(docLink);\n",
       "        }\n",
       "      </script>\n",
       "    </div>\n",
       "  </div>\n",
       "  "
      ],
      "text/plain": [
       "          Forecast 0  Forecast 1\n",
       "Actual 0          57           2\n",
       "Actual 1           3          68"
      ]
     },
     "execution_count": 182,
     "metadata": {},
     "output_type": "execute_result"
    }
   ],
   "source": [
    "# создадим матрицу ошибок\n",
    "pd.DataFrame(confusion_matrix(y, y_pred),\n",
    "             columns = ['Forecast 0', 'Forecast 1'],\n",
    "             index = ['Actual 0', 'Actual 1'])"
   ]
  },
  {
   "cell_type": "markdown",
   "metadata": {
    "id": "x69DeTfCQnDq"
   },
   "source": [
    "### Сравнение с Sklearn"
   ]
  },
  {
   "cell_type": "markdown",
   "metadata": {
    "id": "hLLklBYY8N7o"
   },
   "source": [
    "Обучение модели"
   ]
  },
  {
   "cell_type": "code",
   "execution_count": null,
   "metadata": {
    "colab": {
     "base_uri": "https://localhost:8080/"
    },
    "id": "HOKMhJjCQ6me",
    "outputId": "8421870d-8522-4140-a396-724eeda30613"
   },
   "outputs": [
    {
     "data": {
      "text/plain": [
       "(array([0.30838852]), array([[-2.09622008, -2.45991159]]))"
      ]
     },
     "execution_count": 183,
     "metadata": {},
     "output_type": "execute_result"
    }
   ],
   "source": [
    "# подготовим данные\n",
    "X = df[['alcohol', 'proline']]\n",
    "y = df['target']\n",
    "\n",
    "X = (X - X.mean())/X.std()\n",
    "\n",
    "# создадим объект класса LogisticRegression и запишем его в переменную model\n",
    "model = LogisticRegression()\n",
    "\n",
    "# обучим модель\n",
    "model.fit(X, y)\n",
    "\n",
    "# посмотрим на получившиеся веса модели\n",
    "model.intercept_, model.coef_"
   ]
  },
  {
   "cell_type": "markdown",
   "metadata": {
    "id": "aMAJffz88QNa"
   },
   "source": [
    "Прогноз"
   ]
  },
  {
   "cell_type": "code",
   "execution_count": null,
   "metadata": {
    "colab": {
     "base_uri": "https://localhost:8080/"
    },
    "id": "8lGRylYrZidL",
    "outputId": "8c8cbe34-f3c7-4f48-ad5a-5aade1f62c24"
   },
   "outputs": [
    {
     "data": {
      "text/plain": [
       "(0, array([0.9904622, 0.0095378]))"
      ]
     },
     "execution_count": 184,
     "metadata": {},
     "output_type": "execute_result"
    }
   ],
   "source": [
    "# выполним предсказание класса\n",
    "y_pred = model.predict(X)\n",
    "\n",
    "# и найдем вероятности\n",
    "probs = model.predict_proba(X)\n",
    "\n",
    "# посмотрим на класс и вероятность первого наблюдения\n",
    "y_pred[0], probs[0]"
   ]
  },
  {
   "cell_type": "markdown",
   "metadata": {
    "id": "CZf-RA3m8Ro8"
   },
   "source": [
    "Оценка качества"
   ]
  },
  {
   "cell_type": "code",
   "execution_count": null,
   "metadata": {
    "colab": {
     "base_uri": "https://localhost:8080/"
    },
    "id": "j7waaZv1UW2J",
    "outputId": "01859b17-1346-4571-e359-a844001e0391"
   },
   "outputs": [
    {
     "data": {
      "text/plain": [
       "0.9615384615384616"
      ]
     },
     "execution_count": 185,
     "metadata": {},
     "output_type": "execute_result"
    }
   ],
   "source": [
    "# найдем accuracy\n",
    "accuracy_score(y, y_pred)"
   ]
  },
  {
   "cell_type": "code",
   "execution_count": null,
   "metadata": {
    "colab": {
     "base_uri": "https://localhost:8080/",
     "height": 112
    },
    "id": "kLoyFKuXbahj",
    "outputId": "c46da583-67dd-4ce9-e6be-2942cdd769ee"
   },
   "outputs": [
    {
     "data": {
      "text/html": [
       "\n",
       "  <div id=\"df-df85a77d-88c8-496e-9d0c-e8434a016a32\">\n",
       "    <div class=\"colab-df-container\">\n",
       "      <div>\n",
       "<style scoped>\n",
       "    .dataframe tbody tr th:only-of-type {\n",
       "        vertical-align: middle;\n",
       "    }\n",
       "\n",
       "    .dataframe tbody tr th {\n",
       "        vertical-align: top;\n",
       "    }\n",
       "\n",
       "    .dataframe thead th {\n",
       "        text-align: right;\n",
       "    }\n",
       "</style>\n",
       "<table border=\"1\" class=\"dataframe\">\n",
       "  <thead>\n",
       "    <tr style=\"text-align: right;\">\n",
       "      <th></th>\n",
       "      <th>Forecast 0</th>\n",
       "      <th>Forecast 1</th>\n",
       "    </tr>\n",
       "  </thead>\n",
       "  <tbody>\n",
       "    <tr>\n",
       "      <th>Actual 0</th>\n",
       "      <td>57</td>\n",
       "      <td>2</td>\n",
       "    </tr>\n",
       "    <tr>\n",
       "      <th>Actual 1</th>\n",
       "      <td>3</td>\n",
       "      <td>68</td>\n",
       "    </tr>\n",
       "  </tbody>\n",
       "</table>\n",
       "</div>\n",
       "      <button class=\"colab-df-convert\" onclick=\"convertToInteractive('df-df85a77d-88c8-496e-9d0c-e8434a016a32')\"\n",
       "              title=\"Convert this dataframe to an interactive table.\"\n",
       "              style=\"display:none;\">\n",
       "        \n",
       "  <svg xmlns=\"http://www.w3.org/2000/svg\" height=\"24px\"viewBox=\"0 0 24 24\"\n",
       "       width=\"24px\">\n",
       "    <path d=\"M0 0h24v24H0V0z\" fill=\"none\"/>\n",
       "    <path d=\"M18.56 5.44l.94 2.06.94-2.06 2.06-.94-2.06-.94-.94-2.06-.94 2.06-2.06.94zm-11 1L8.5 8.5l.94-2.06 2.06-.94-2.06-.94L8.5 2.5l-.94 2.06-2.06.94zm10 10l.94 2.06.94-2.06 2.06-.94-2.06-.94-.94-2.06-.94 2.06-2.06.94z\"/><path d=\"M17.41 7.96l-1.37-1.37c-.4-.4-.92-.59-1.43-.59-.52 0-1.04.2-1.43.59L10.3 9.45l-7.72 7.72c-.78.78-.78 2.05 0 2.83L4 21.41c.39.39.9.59 1.41.59.51 0 1.02-.2 1.41-.59l7.78-7.78 2.81-2.81c.8-.78.8-2.07 0-2.86zM5.41 20L4 18.59l7.72-7.72 1.47 1.35L5.41 20z\"/>\n",
       "  </svg>\n",
       "      </button>\n",
       "      \n",
       "  <style>\n",
       "    .colab-df-container {\n",
       "      display:flex;\n",
       "      flex-wrap:wrap;\n",
       "      gap: 12px;\n",
       "    }\n",
       "\n",
       "    .colab-df-convert {\n",
       "      background-color: #E8F0FE;\n",
       "      border: none;\n",
       "      border-radius: 50%;\n",
       "      cursor: pointer;\n",
       "      display: none;\n",
       "      fill: #1967D2;\n",
       "      height: 32px;\n",
       "      padding: 0 0 0 0;\n",
       "      width: 32px;\n",
       "    }\n",
       "\n",
       "    .colab-df-convert:hover {\n",
       "      background-color: #E2EBFA;\n",
       "      box-shadow: 0px 1px 2px rgba(60, 64, 67, 0.3), 0px 1px 3px 1px rgba(60, 64, 67, 0.15);\n",
       "      fill: #174EA6;\n",
       "    }\n",
       "\n",
       "    [theme=dark] .colab-df-convert {\n",
       "      background-color: #3B4455;\n",
       "      fill: #D2E3FC;\n",
       "    }\n",
       "\n",
       "    [theme=dark] .colab-df-convert:hover {\n",
       "      background-color: #434B5C;\n",
       "      box-shadow: 0px 1px 3px 1px rgba(0, 0, 0, 0.15);\n",
       "      filter: drop-shadow(0px 1px 2px rgba(0, 0, 0, 0.3));\n",
       "      fill: #FFFFFF;\n",
       "    }\n",
       "  </style>\n",
       "\n",
       "      <script>\n",
       "        const buttonEl =\n",
       "          document.querySelector('#df-df85a77d-88c8-496e-9d0c-e8434a016a32 button.colab-df-convert');\n",
       "        buttonEl.style.display =\n",
       "          google.colab.kernel.accessAllowed ? 'block' : 'none';\n",
       "\n",
       "        async function convertToInteractive(key) {\n",
       "          const element = document.querySelector('#df-df85a77d-88c8-496e-9d0c-e8434a016a32');\n",
       "          const dataTable =\n",
       "            await google.colab.kernel.invokeFunction('convertToInteractive',\n",
       "                                                     [key], {});\n",
       "          if (!dataTable) return;\n",
       "\n",
       "          const docLinkHtml = 'Like what you see? Visit the ' +\n",
       "            '<a target=\"_blank\" href=https://colab.research.google.com/notebooks/data_table.ipynb>data table notebook</a>'\n",
       "            + ' to learn more about interactive tables.';\n",
       "          element.innerHTML = '';\n",
       "          dataTable['output_type'] = 'display_data';\n",
       "          await google.colab.output.renderOutput(dataTable, element);\n",
       "          const docLink = document.createElement('div');\n",
       "          docLink.innerHTML = docLinkHtml;\n",
       "          element.appendChild(docLink);\n",
       "        }\n",
       "      </script>\n",
       "    </div>\n",
       "  </div>\n",
       "  "
      ],
      "text/plain": [
       "          Forecast 0  Forecast 1\n",
       "Actual 0          57           2\n",
       "Actual 1           3          68"
      ]
     },
     "execution_count": 186,
     "metadata": {},
     "output_type": "execute_result"
    }
   ],
   "source": [
    "# и построим матрицу ошибок\n",
    "pd.DataFrame(confusion_matrix(y, y_pred),\n",
    "             columns = ['Forecast 0', 'Forecast 1'],\n",
    "             index = ['Actual 0', 'Actual 1'])"
   ]
  },
  {
   "cell_type": "markdown",
   "metadata": {
    "id": "69WzB_Mc8Twd"
   },
   "source": [
    "Решающая граница"
   ]
  },
  {
   "cell_type": "code",
   "execution_count": null,
   "metadata": {
    "colab": {
     "base_uri": "https://localhost:8080/"
    },
    "id": "msdaVT4_XWzG",
    "outputId": "46c3aed4-a696-4c28-d0cb-12b7bb5cc847"
   },
   "outputs": [
    {
     "data": {
      "text/plain": [
       "(array([0.12536569]), -0.8521526076691505)"
      ]
     },
     "execution_count": 187,
     "metadata": {},
     "output_type": "execute_result"
    }
   ],
   "source": [
    "# найдем сдвиг и наклон для уравнения решающей границы\n",
    "c, m = -model.intercept_ / model.coef_[0][1], -model.coef_[0][0] / model.coef_[0][1]\n",
    "c, m"
   ]
  },
  {
   "cell_type": "code",
   "execution_count": null,
   "metadata": {
    "colab": {
     "base_uri": "https://localhost:8080/",
     "height": 552
    },
    "id": "2_SleZTgX9E6",
    "outputId": "8ff2c5ba-7ed4-4813-b50a-bcba38578390"
   },
   "outputs": [
    {
     "data": {
      "image/png": "[encoded data removed]",
      "text/plain": [
       "<Figure size 792x648 with 1 Axes>"
      ]
     },
     "metadata": {
      "needs_background": "light"
     },
     "output_type": "display_data"
    }
   ],
   "source": [
    "# посмотрим на линию решающей границы\n",
    "plt.figure(figsize = (11, 9))\n",
    "\n",
    "xmin, xmax = min(X['alcohol']), max(X['alcohol'])\n",
    "ymin, ymax = min(X['proline']), max(X['proline'])\n",
    "xd = np.array([xmin, xmax])\n",
    "yd = m*xd + c\n",
    "plt.plot(xd, yd, 'k', lw=1, ls='--')\n",
    "sns.scatterplot(x = X['alcohol'], y = X['proline'], hue = y, s = 70)\n",
    "plt.legend(loc = 'upper left', prop = {'size': 15})\n",
    "\n",
    "plt.xlim(xmin, xmax)\n",
    "plt.ylim(ymin, ymax)\n",
    "\n",
    "plt.show()"
   ]
  },
  {
   "cell_type": "markdown",
   "metadata": {
    "id": "91-P_gpEXxZ-"
   },
   "source": [
    "### Бинарная полиномиальная регрессия"
   ]
  },
  {
   "cell_type": "markdown",
   "metadata": {
    "id": "bHaXXjXPg8Y0"
   },
   "source": [
    "#### Полиномиальные признаки"
   ]
  },
  {
   "cell_type": "code",
   "execution_count": null,
   "metadata": {
    "id": "AiW0bA65X4Ut"
   },
   "outputs": [],
   "source": [
    "# подготовим и\n",
    "X = df[['alcohol', 'proline']]\n",
    "y = df['target']\n",
    "\n",
    "# масштабируем данные\n",
    "X = (X - X.mean())/X.std()"
   ]
  },
  {
   "cell_type": "code",
   "execution_count": null,
   "metadata": {
    "id": "nAL1N3cmYLdu"
   },
   "outputs": [],
   "source": [
    "# создадим объект класса PolynomialFeatures\n",
    "# укажем, что мы хотим создать полином второй степени\n",
    "polynomial_features = PolynomialFeatures(degree = 2)\n",
    "\n",
    "# преобразуем данные с помощью метода .fit_transform()\n",
    "X_poly = polynomial_features.fit_transform(X)"
   ]
  },
  {
   "cell_type": "code",
   "execution_count": null,
   "metadata": {
    "colab": {
     "base_uri": "https://localhost:8080/",
     "height": 81
    },
    "id": "ErOBQUL0eqsC",
    "outputId": "8758e557-f16f-49ce-bcf2-127a8aa3fbcf"
   },
   "outputs": [
    {
     "data": {
      "text/html": [
       "\n",
       "  <div id=\"df-f70323dc-4af1-4e38-824f-9e0077ab18d2\">\n",
       "    <div class=\"colab-df-container\">\n",
       "      <div>\n",
       "<style scoped>\n",
       "    .dataframe tbody tr th:only-of-type {\n",
       "        vertical-align: middle;\n",
       "    }\n",
       "\n",
       "    .dataframe tbody tr th {\n",
       "        vertical-align: top;\n",
       "    }\n",
       "\n",
       "    .dataframe thead th {\n",
       "        text-align: right;\n",
       "    }\n",
       "</style>\n",
       "<table border=\"1\" class=\"dataframe\">\n",
       "  <thead>\n",
       "    <tr style=\"text-align: right;\">\n",
       "      <th></th>\n",
       "      <th>alcohol</th>\n",
       "      <th>proline</th>\n",
       "    </tr>\n",
       "  </thead>\n",
       "  <tbody>\n",
       "    <tr>\n",
       "      <th>0</th>\n",
       "      <td>1.446858</td>\n",
       "      <td>0.779851</td>\n",
       "    </tr>\n",
       "  </tbody>\n",
       "</table>\n",
       "</div>\n",
       "      <button class=\"colab-df-convert\" onclick=\"convertToInteractive('df-f70323dc-4af1-4e38-824f-9e0077ab18d2')\"\n",
       "              title=\"Convert this dataframe to an interactive table.\"\n",
       "              style=\"display:none;\">\n",
       "        \n",
       "  <svg xmlns=\"http://www.w3.org/2000/svg\" height=\"24px\"viewBox=\"0 0 24 24\"\n",
       "       width=\"24px\">\n",
       "    <path d=\"M0 0h24v24H0V0z\" fill=\"none\"/>\n",
       "    <path d=\"M18.56 5.44l.94 2.06.94-2.06 2.06-.94-2.06-.94-.94-2.06-.94 2.06-2.06.94zm-11 1L8.5 8.5l.94-2.06 2.06-.94-2.06-.94L8.5 2.5l-.94 2.06-2.06.94zm10 10l.94 2.06.94-2.06 2.06-.94-2.06-.94-.94-2.06-.94 2.06-2.06.94z\"/><path d=\"M17.41 7.96l-1.37-1.37c-.4-.4-.92-.59-1.43-.59-.52 0-1.04.2-1.43.59L10.3 9.45l-7.72 7.72c-.78.78-.78 2.05 0 2.83L4 21.41c.39.39.9.59 1.41.59.51 0 1.02-.2 1.41-.59l7.78-7.78 2.81-2.81c.8-.78.8-2.07 0-2.86zM5.41 20L4 18.59l7.72-7.72 1.47 1.35L5.41 20z\"/>\n",
       "  </svg>\n",
       "      </button>\n",
       "      \n",
       "  <style>\n",
       "    .colab-df-container {\n",
       "      display:flex;\n",
       "      flex-wrap:wrap;\n",
       "      gap: 12px;\n",
       "    }\n",
       "\n",
       "    .colab-df-convert {\n",
       "      background-color: #E8F0FE;\n",
       "      border: none;\n",
       "      border-radius: 50%;\n",
       "      cursor: pointer;\n",
       "      display: none;\n",
       "      fill: #1967D2;\n",
       "      height: 32px;\n",
       "      padding: 0 0 0 0;\n",
       "      width: 32px;\n",
       "    }\n",
       "\n",
       "    .colab-df-convert:hover {\n",
       "      background-color: #E2EBFA;\n",
       "      box-shadow: 0px 1px 2px rgba(60, 64, 67, 0.3), 0px 1px 3px 1px rgba(60, 64, 67, 0.15);\n",
       "      fill: #174EA6;\n",
       "    }\n",
       "\n",
       "    [theme=dark] .colab-df-convert {\n",
       "      background-color: #3B4455;\n",
       "      fill: #D2E3FC;\n",
       "    }\n",
       "\n",
       "    [theme=dark] .colab-df-convert:hover {\n",
       "      background-color: #434B5C;\n",
       "      box-shadow: 0px 1px 3px 1px rgba(0, 0, 0, 0.15);\n",
       "      filter: drop-shadow(0px 1px 2px rgba(0, 0, 0, 0.3));\n",
       "      fill: #FFFFFF;\n",
       "    }\n",
       "  </style>\n",
       "\n",
       "      <script>\n",
       "        const buttonEl =\n",
       "          document.querySelector('#df-f70323dc-4af1-4e38-824f-9e0077ab18d2 button.colab-df-convert');\n",
       "        buttonEl.style.display =\n",
       "          google.colab.kernel.accessAllowed ? 'block' : 'none';\n",
       "\n",
       "        async function convertToInteractive(key) {\n",
       "          const element = document.querySelector('#df-f70323dc-4af1-4e38-824f-9e0077ab18d2');\n",
       "          const dataTable =\n",
       "            await google.colab.kernel.invokeFunction('convertToInteractive',\n",
       "                                                     [key], {});\n",
       "          if (!dataTable) return;\n",
       "\n",
       "          const docLinkHtml = 'Like what you see? Visit the ' +\n",
       "            '<a target=\"_blank\" href=https://colab.research.google.com/notebooks/data_table.ipynb>data table notebook</a>'\n",
       "            + ' to learn more about interactive tables.';\n",
       "          element.innerHTML = '';\n",
       "          dataTable['output_type'] = 'display_data';\n",
       "          await google.colab.output.renderOutput(dataTable, element);\n",
       "          const docLink = document.createElement('div');\n",
       "          docLink.innerHTML = docLinkHtml;\n",
       "          element.appendChild(docLink);\n",
       "        }\n",
       "      </script>\n",
       "    </div>\n",
       "  </div>\n",
       "  "
      ],
      "text/plain": [
       "    alcohol   proline\n",
       "0  1.446858  0.779851"
      ]
     },
     "execution_count": 191,
     "metadata": {},
     "output_type": "execute_result"
    }
   ],
   "source": [
    "# сравним исходные признаки\n",
    "X.head(1)"
   ]
  },
  {
   "cell_type": "code",
   "execution_count": null,
   "metadata": {
    "colab": {
     "base_uri": "https://localhost:8080/"
    },
    "id": "GpckQZ1mYi_q",
    "outputId": "a195e319-a078-4b31-e188-8d8afa528618"
   },
   "outputs": [
    {
     "data": {
      "text/plain": [
       "array([[1.        , 1.44685785, 0.77985116, 2.09339765, 1.12833378,\n",
       "        0.60816783]])"
      ]
     },
     "execution_count": 192,
     "metadata": {},
     "output_type": "execute_result"
    }
   ],
   "source": [
    "# с полиномиальными\n",
    "# у нас должно получиться шесть признаков (включая x0)\n",
    "X_poly[:1]"
   ]
  },
  {
   "cell_type": "markdown",
   "metadata": {
    "id": "H59IOdjVhB_e"
   },
   "source": [
    "#### Моделирование и оценка качества"
   ]
  },
  {
   "cell_type": "code",
   "execution_count": null,
   "metadata": {
    "colab": {
     "base_uri": "https://localhost:8080/"
    },
    "id": "D7pNeafTYtil",
    "outputId": "10fdaacc-cf43-477f-a848-c31262a6b237"
   },
   "outputs": [
    {
     "data": {
      "text/plain": [
       "0.9615384615384616"
      ]
     },
     "execution_count": 193,
     "metadata": {},
     "output_type": "execute_result"
    }
   ],
   "source": [
    "# создадим объект класса LogisticRegression\n",
    "poly_model = LogisticRegression()\n",
    "\n",
    "# обучим модель на полиномиальных признаках\n",
    "poly_model = poly_model.fit(X_poly, y)\n",
    "\n",
    "# сделаем прогноз\n",
    "y_pred = poly_model.predict(X_poly)\n",
    "\n",
    "# рассчитаем accuracy\n",
    "accuracy_score(y_pred, y)"
   ]
  },
  {
   "cell_type": "code",
   "execution_count": null,
   "metadata": {
    "colab": {
     "base_uri": "https://localhost:8080/",
     "height": 112
    },
    "id": "JNu81ZssYx9r",
    "outputId": "da78810d-376a-4cdf-b41f-3726b35dda80"
   },
   "outputs": [
    {
     "data": {
      "text/html": [
       "\n",
       "  <div id=\"df-57817747-d300-49d3-817c-4f9db2c12361\">\n",
       "    <div class=\"colab-df-container\">\n",
       "      <div>\n",
       "<style scoped>\n",
       "    .dataframe tbody tr th:only-of-type {\n",
       "        vertical-align: middle;\n",
       "    }\n",
       "\n",
       "    .dataframe tbody tr th {\n",
       "        vertical-align: top;\n",
       "    }\n",
       "\n",
       "    .dataframe thead th {\n",
       "        text-align: right;\n",
       "    }\n",
       "</style>\n",
       "<table border=\"1\" class=\"dataframe\">\n",
       "  <thead>\n",
       "    <tr style=\"text-align: right;\">\n",
       "      <th></th>\n",
       "      <th>Forecast 0</th>\n",
       "      <th>Forecast 1</th>\n",
       "    </tr>\n",
       "  </thead>\n",
       "  <tbody>\n",
       "    <tr>\n",
       "      <th>Actual 0</th>\n",
       "      <td>57</td>\n",
       "      <td>2</td>\n",
       "    </tr>\n",
       "    <tr>\n",
       "      <th>Actual 1</th>\n",
       "      <td>3</td>\n",
       "      <td>68</td>\n",
       "    </tr>\n",
       "  </tbody>\n",
       "</table>\n",
       "</div>\n",
       "      <button class=\"colab-df-convert\" onclick=\"convertToInteractive('df-57817747-d300-49d3-817c-4f9db2c12361')\"\n",
       "              title=\"Convert this dataframe to an interactive table.\"\n",
       "              style=\"display:none;\">\n",
       "        \n",
       "  <svg xmlns=\"http://www.w3.org/2000/svg\" height=\"24px\"viewBox=\"0 0 24 24\"\n",
       "       width=\"24px\">\n",
       "    <path d=\"M0 0h24v24H0V0z\" fill=\"none\"/>\n",
       "    <path d=\"M18.56 5.44l.94 2.06.94-2.06 2.06-.94-2.06-.94-.94-2.06-.94 2.06-2.06.94zm-11 1L8.5 8.5l.94-2.06 2.06-.94-2.06-.94L8.5 2.5l-.94 2.06-2.06.94zm10 10l.94 2.06.94-2.06 2.06-.94-2.06-.94-.94-2.06-.94 2.06-2.06.94z\"/><path d=\"M17.41 7.96l-1.37-1.37c-.4-.4-.92-.59-1.43-.59-.52 0-1.04.2-1.43.59L10.3 9.45l-7.72 7.72c-.78.78-.78 2.05 0 2.83L4 21.41c.39.39.9.59 1.41.59.51 0 1.02-.2 1.41-.59l7.78-7.78 2.81-2.81c.8-.78.8-2.07 0-2.86zM5.41 20L4 18.59l7.72-7.72 1.47 1.35L5.41 20z\"/>\n",
       "  </svg>\n",
       "      </button>\n",
       "      \n",
       "  <style>\n",
       "    .colab-df-container {\n",
       "      display:flex;\n",
       "      flex-wrap:wrap;\n",
       "      gap: 12px;\n",
       "    }\n",
       "\n",
       "    .colab-df-convert {\n",
       "      background-color: #E8F0FE;\n",
       "      border: none;\n",
       "      border-radius: 50%;\n",
       "      cursor: pointer;\n",
       "      display: none;\n",
       "      fill: #1967D2;\n",
       "      height: 32px;\n",
       "      padding: 0 0 0 0;\n",
       "      width: 32px;\n",
       "    }\n",
       "\n",
       "    .colab-df-convert:hover {\n",
       "      background-color: #E2EBFA;\n",
       "      box-shadow: 0px 1px 2px rgba(60, 64, 67, 0.3), 0px 1px 3px 1px rgba(60, 64, 67, 0.15);\n",
       "      fill: #174EA6;\n",
       "    }\n",
       "\n",
       "    [theme=dark] .colab-df-convert {\n",
       "      background-color: #3B4455;\n",
       "      fill: #D2E3FC;\n",
       "    }\n",
       "\n",
       "    [theme=dark] .colab-df-convert:hover {\n",
       "      background-color: #434B5C;\n",
       "      box-shadow: 0px 1px 3px 1px rgba(0, 0, 0, 0.15);\n",
       "      filter: drop-shadow(0px 1px 2px rgba(0, 0, 0, 0.3));\n",
       "      fill: #FFFFFF;\n",
       "    }\n",
       "  </style>\n",
       "\n",
       "      <script>\n",
       "        const buttonEl =\n",
       "          document.querySelector('#df-57817747-d300-49d3-817c-4f9db2c12361 button.colab-df-convert');\n",
       "        buttonEl.style.display =\n",
       "          google.colab.kernel.accessAllowed ? 'block' : 'none';\n",
       "\n",
       "        async function convertToInteractive(key) {\n",
       "          const element = document.querySelector('#df-57817747-d300-49d3-817c-4f9db2c12361');\n",
       "          const dataTable =\n",
       "            await google.colab.kernel.invokeFunction('convertToInteractive',\n",
       "                                                     [key], {});\n",
       "          if (!dataTable) return;\n",
       "\n",
       "          const docLinkHtml = 'Like what you see? Visit the ' +\n",
       "            '<a target=\"_blank\" href=https://colab.research.google.com/notebooks/data_table.ipynb>data table notebook</a>'\n",
       "            + ' to learn more about interactive tables.';\n",
       "          element.innerHTML = '';\n",
       "          dataTable['output_type'] = 'display_data';\n",
       "          await google.colab.output.renderOutput(dataTable, element);\n",
       "          const docLink = document.createElement('div');\n",
       "          docLink.innerHTML = docLinkHtml;\n",
       "          element.appendChild(docLink);\n",
       "        }\n",
       "      </script>\n",
       "    </div>\n",
       "  </div>\n",
       "  "
      ],
      "text/plain": [
       "          Forecast 0  Forecast 1\n",
       "Actual 0          57           2\n",
       "Actual 1           3          68"
      ]
     },
     "execution_count": 194,
     "metadata": {},
     "output_type": "execute_result"
    }
   ],
   "source": [
    "# построим матрицу ошибок\n",
    "pd.DataFrame(confusion_matrix(y, y_pred),\n",
    "             columns = ['Forecast 0', 'Forecast 1'],\n",
    "             index = ['Actual 0', 'Actual 1'])"
   ]
  },
  {
   "cell_type": "code",
   "execution_count": null,
   "metadata": {
    "colab": {
     "base_uri": "https://localhost:8080/",
     "height": 143
    },
    "id": "r7d4eErjYyAx",
    "outputId": "96b00ef1-9613-42cf-8cff-aee15ffceaf0"
   },
   "outputs": [
    {
     "data": {
      "text/html": [
       "\n",
       "  <div id=\"df-9ea5ab66-204c-4b4e-82aa-7f8e0d9bee6f\">\n",
       "    <div class=\"colab-df-container\">\n",
       "      <div>\n",
       "<style scoped>\n",
       "    .dataframe tbody tr th:only-of-type {\n",
       "        vertical-align: middle;\n",
       "    }\n",
       "\n",
       "    .dataframe tbody tr th {\n",
       "        vertical-align: top;\n",
       "    }\n",
       "\n",
       "    .dataframe thead th {\n",
       "        text-align: right;\n",
       "    }\n",
       "</style>\n",
       "<table border=\"1\" class=\"dataframe\">\n",
       "  <thead>\n",
       "    <tr style=\"text-align: right;\">\n",
       "      <th></th>\n",
       "      <th>alcohol</th>\n",
       "      <th>proline</th>\n",
       "      <th>y_pred</th>\n",
       "    </tr>\n",
       "  </thead>\n",
       "  <tbody>\n",
       "    <tr>\n",
       "      <th>0</th>\n",
       "      <td>14.23</td>\n",
       "      <td>1065.0</td>\n",
       "      <td>0</td>\n",
       "    </tr>\n",
       "    <tr>\n",
       "      <th>1</th>\n",
       "      <td>13.20</td>\n",
       "      <td>1050.0</td>\n",
       "      <td>0</td>\n",
       "    </tr>\n",
       "    <tr>\n",
       "      <th>2</th>\n",
       "      <td>13.16</td>\n",
       "      <td>1185.0</td>\n",
       "      <td>0</td>\n",
       "    </tr>\n",
       "  </tbody>\n",
       "</table>\n",
       "</div>\n",
       "      <button class=\"colab-df-convert\" onclick=\"convertToInteractive('df-9ea5ab66-204c-4b4e-82aa-7f8e0d9bee6f')\"\n",
       "              title=\"Convert this dataframe to an interactive table.\"\n",
       "              style=\"display:none;\">\n",
       "        \n",
       "  <svg xmlns=\"http://www.w3.org/2000/svg\" height=\"24px\"viewBox=\"0 0 24 24\"\n",
       "       width=\"24px\">\n",
       "    <path d=\"M0 0h24v24H0V0z\" fill=\"none\"/>\n",
       "    <path d=\"M18.56 5.44l.94 2.06.94-2.06 2.06-.94-2.06-.94-.94-2.06-.94 2.06-2.06.94zm-11 1L8.5 8.5l.94-2.06 2.06-.94-2.06-.94L8.5 2.5l-.94 2.06-2.06.94zm10 10l.94 2.06.94-2.06 2.06-.94-2.06-.94-.94-2.06-.94 2.06-2.06.94z\"/><path d=\"M17.41 7.96l-1.37-1.37c-.4-.4-.92-.59-1.43-.59-.52 0-1.04.2-1.43.59L10.3 9.45l-7.72 7.72c-.78.78-.78 2.05 0 2.83L4 21.41c.39.39.9.59 1.41.59.51 0 1.02-.2 1.41-.59l7.78-7.78 2.81-2.81c.8-.78.8-2.07 0-2.86zM5.41 20L4 18.59l7.72-7.72 1.47 1.35L5.41 20z\"/>\n",
       "  </svg>\n",
       "      </button>\n",
       "      \n",
       "  <style>\n",
       "    .colab-df-container {\n",
       "      display:flex;\n",
       "      flex-wrap:wrap;\n",
       "      gap: 12px;\n",
       "    }\n",
       "\n",
       "    .colab-df-convert {\n",
       "      background-color: #E8F0FE;\n",
       "      border: none;\n",
       "      border-radius: 50%;\n",
       "      cursor: pointer;\n",
       "      display: none;\n",
       "      fill: #1967D2;\n",
       "      height: 32px;\n",
       "      padding: 0 0 0 0;\n",
       "      width: 32px;\n",
       "    }\n",
       "\n",
       "    .colab-df-convert:hover {\n",
       "      background-color: #E2EBFA;\n",
       "      box-shadow: 0px 1px 2px rgba(60, 64, 67, 0.3), 0px 1px 3px 1px rgba(60, 64, 67, 0.15);\n",
       "      fill: #174EA6;\n",
       "    }\n",
       "\n",
       "    [theme=dark] .colab-df-convert {\n",
       "      background-color: #3B4455;\n",
       "      fill: #D2E3FC;\n",
       "    }\n",
       "\n",
       "    [theme=dark] .colab-df-convert:hover {\n",
       "      background-color: #434B5C;\n",
       "      box-shadow: 0px 1px 3px 1px rgba(0, 0, 0, 0.15);\n",
       "      filter: drop-shadow(0px 1px 2px rgba(0, 0, 0, 0.3));\n",
       "      fill: #FFFFFF;\n",
       "    }\n",
       "  </style>\n",
       "\n",
       "      <script>\n",
       "        const buttonEl =\n",
       "          document.querySelector('#df-9ea5ab66-204c-4b4e-82aa-7f8e0d9bee6f button.colab-df-convert');\n",
       "        buttonEl.style.display =\n",
       "          google.colab.kernel.accessAllowed ? 'block' : 'none';\n",
       "\n",
       "        async function convertToInteractive(key) {\n",
       "          const element = document.querySelector('#df-9ea5ab66-204c-4b4e-82aa-7f8e0d9bee6f');\n",
       "          const dataTable =\n",
       "            await google.colab.kernel.invokeFunction('convertToInteractive',\n",
       "                                                     [key], {});\n",
       "          if (!dataTable) return;\n",
       "\n",
       "          const docLinkHtml = 'Like what you see? Visit the ' +\n",
       "            '<a target=\"_blank\" href=https://colab.research.google.com/notebooks/data_table.ipynb>data table notebook</a>'\n",
       "            + ' to learn more about interactive tables.';\n",
       "          element.innerHTML = '';\n",
       "          dataTable['output_type'] = 'display_data';\n",
       "          await google.colab.output.renderOutput(dataTable, element);\n",
       "          const docLink = document.createElement('div');\n",
       "          docLink.innerHTML = docLinkHtml;\n",
       "          element.appendChild(docLink);\n",
       "        }\n",
       "      </script>\n",
       "    </div>\n",
       "  </div>\n",
       "  "
      ],
      "text/plain": [
       "   alcohol  proline  y_pred\n",
       "0    14.23   1065.0       0\n",
       "1    13.20   1050.0       0\n",
       "2    13.16   1185.0       0"
      ]
     },
     "execution_count": 195,
     "metadata": {},
     "output_type": "execute_result"
    }
   ],
   "source": [
    "# сделаем копию исходного датафрейма с нужными признаками\n",
    "predictions = df[['alcohol', 'proline']].copy()\n",
    "\n",
    "# и добавим новый столбец с прогнозными значениями\n",
    "predictions['y_pred'] = y_pred\n",
    "\n",
    "# посмотрим на результат\n",
    "predictions.head(3)"
   ]
  },
  {
   "cell_type": "code",
   "execution_count": null,
   "metadata": {
    "colab": {
     "base_uri": "https://localhost:8080/",
     "height": 378
    },
    "id": "mtB_y-nuZqW6",
    "outputId": "20713d43-5c3f-45a1-ad49-03a901c23681"
   },
   "outputs": [
    {
     "data": {
      "image/png": "[encoded data removed]",
      "text/plain": [
       "<Figure size 1008x432 with 2 Axes>"
      ]
     },
     "metadata": {
      "needs_background": "light"
     },
     "output_type": "display_data"
    }
   ],
   "source": [
    "# создадим два подграфика с помощью функции plt.subplots()\n",
    "# расположим подграфики на одной строке\n",
    "fig, (ax1, ax2) = plt.subplots(1, 2,\n",
    "                               # пропишем размер,\n",
    "                               figsize = (14, 6),\n",
    "                               # а также расстояние между подграфиками по горизонтали\n",
    "                               gridspec_kw = {'wspace' : 0.2})\n",
    "\n",
    "# на левом подграфике выведем фактические классы\n",
    "sns.scatterplot(data = df, x = 'alcohol', y = 'proline', hue = 'target', palette = 'bright', s = 50, ax = ax1)\n",
    "ax1.set_title('Фактические классы', fontsize = 14)\n",
    "\n",
    "# на правом - прогнозные\n",
    "sns.scatterplot(data = predictions, x = 'alcohol', y = 'proline', hue = 'y_pred', palette = 'bright', s = 50, ax = ax2)\n",
    "ax2.set_title('Прогноз', fontsize = 14)\n",
    "\n",
    "# зададим общий заголовок\n",
    "fig.suptitle('Бинарная полиномиальная регрессия', fontsize = 16)\n",
    "\n",
    "plt.show()"
   ]
  },
  {
   "cell_type": "markdown",
   "metadata": {
    "id": "Z9Vc9O6SogU1"
   },
   "source": [
    "## Мультиклассовая логистическая регрессия"
   ]
  },
  {
   "cell_type": "markdown",
   "metadata": {
    "id": "55CH3ILVwINl"
   },
   "source": [
    "### Подготовка данных"
   ]
  },
  {
   "cell_type": "markdown",
   "metadata": {
    "id": "ZHLz34HNSTc7"
   },
   "source": [
    "#### Датасет с тремя классами"
   ]
  },
  {
   "cell_type": "code",
   "execution_count": null,
   "metadata": {
    "colab": {
     "base_uri": "https://localhost:8080/"
    },
    "id": "UDdCxgnVooda",
    "outputId": "c8a41975-d05c-431e-cacb-8af2a8a9fbc0"
   },
   "outputs": [
    {
     "data": {
      "text/plain": [
       "1    71\n",
       "0    59\n",
       "2    48\n",
       "Name: target, dtype: int64"
      ]
     },
     "execution_count": 197,
     "metadata": {},
     "output_type": "execute_result"
    }
   ],
   "source": [
    "# вновь импортируем датасет о вине\n",
    "data = datasets.load_wine()\n",
    "\n",
    "# превратим его в датафрейм\n",
    "df = pd.DataFrame(data.data, columns = data.feature_names)\n",
    "\n",
    "# приведем признаки к одному масштабу\n",
    "df = (df - df.mean())/df.std()\n",
    "\n",
    "# добавим целевую переменную\n",
    "df['target'] = data.target\n",
    "\n",
    "# убедимся, что у нас присутствуют все три класса\n",
    "df.target.value_counts()"
   ]
  },
  {
   "cell_type": "markdown",
   "metadata": {
    "id": "54SffsVGSXxT"
   },
   "source": [
    "#### Отбор признаков"
   ]
  },
  {
   "cell_type": "code",
   "execution_count": null,
   "metadata": {
    "id": "Ay9wx7fOQ1dC"
   },
   "outputs": [],
   "source": [
    "# код ниже был подробно разобран на предыдущем занятии\n",
    "def correlation_ratio(numerical, categorical):\n",
    "\n",
    "  values = np.array(numerical)\n",
    "  ss_total = np.sum((values.mean() - values) ** 2)\n",
    "\n",
    "  cats = np.unique(categorical, return_inverse = True)[1]\n",
    "\n",
    "  ss_betweengroups = 0\n",
    "\n",
    "  for c in np.unique(cats):\n",
    "\n",
    "    group = values[np.argwhere(cats == c).flatten()]\n",
    "    ss_betweengroups += len(group) * (group.mean() - values.mean()) ** 2\n",
    "\n",
    "  return np.sqrt(ss_betweengroups/ss_total)"
   ]
  },
  {
   "cell_type": "code",
   "execution_count": null,
   "metadata": {
    "colab": {
     "base_uri": "https://localhost:8080/",
     "height": 457
    },
    "id": "kqu_gOWiqIg4",
    "outputId": "c65324b0-51b6-42a6-ebc7-7d17afd58c6b"
   },
   "outputs": [
    {
     "data": {
      "text/html": [
       "<style type=\"text/css\">\n",
       "#T_3c648_row0_col1 {\n",
       "  background-color: #045e93;\n",
       "  color: #f1f1f1;\n",
       "}\n",
       "#T_3c648_row1_col1 {\n",
       "  background-color: #a2bcda;\n",
       "  color: #000000;\n",
       "}\n",
       "#T_3c648_row2_col1 {\n",
       "  background-color: #fcf4fa;\n",
       "  color: #000000;\n",
       "}\n",
       "#T_3c648_row3_col1 {\n",
       "  background-color: #a7bddb;\n",
       "  color: #000000;\n",
       "}\n",
       "#T_3c648_row4_col1 {\n",
       "  background-color: #fff7fb;\n",
       "  color: #000000;\n",
       "}\n",
       "#T_3c648_row5_col1 {\n",
       "  background-color: #0c74b2;\n",
       "  color: #f1f1f1;\n",
       "}\n",
       "#T_3c648_row6_col1 {\n",
       "  background-color: #023858;\n",
       "  color: #f1f1f1;\n",
       "}\n",
       "#T_3c648_row7_col1 {\n",
       "  background-color: #c8cde4;\n",
       "  color: #000000;\n",
       "}\n",
       "#T_3c648_row8_col1 {\n",
       "  background-color: #bdc8e1;\n",
       "  color: #000000;\n",
       "}\n",
       "#T_3c648_row9_col1 {\n",
       "  background-color: #04649d;\n",
       "  color: #f1f1f1;\n",
       "}\n",
       "#T_3c648_row10_col1 {\n",
       "  background-color: #056ead;\n",
       "  color: #f1f1f1;\n",
       "}\n",
       "#T_3c648_row11_col1 {\n",
       "  background-color: #03466e;\n",
       "  color: #f1f1f1;\n",
       "}\n",
       "#T_3c648_row12_col1 {\n",
       "  background-color: #023f64;\n",
       "  color: #f1f1f1;\n",
       "}\n",
       "</style>\n",
       "<table id=\"T_3c648_\" class=\"dataframe\">\n",
       "  <thead>\n",
       "    <tr>\n",
       "      <th class=\"blank level0\" >&nbsp;</th>\n",
       "      <th class=\"col_heading level0 col0\" >column</th>\n",
       "      <th class=\"col_heading level0 col1\" >correlation</th>\n",
       "    </tr>\n",
       "  </thead>\n",
       "  <tbody>\n",
       "    <tr>\n",
       "      <th id=\"T_3c648_level0_row0\" class=\"row_heading level0 row0\" >0</th>\n",
       "      <td id=\"T_3c648_row0_col0\" class=\"data row0 col0\" >alcohol</td>\n",
       "      <td id=\"T_3c648_row0_col1\" class=\"data row0 col1\" >0.779024</td>\n",
       "    </tr>\n",
       "    <tr>\n",
       "      <th id=\"T_3c648_level0_row1\" class=\"row_heading level0 row1\" >1</th>\n",
       "      <td id=\"T_3c648_row1_col0\" class=\"data row1 col0\" >malic_acid</td>\n",
       "      <td id=\"T_3c648_row1_col1\" class=\"data row1 col1\" >0.544857</td>\n",
       "    </tr>\n",
       "    <tr>\n",
       "      <th id=\"T_3c648_level0_row2\" class=\"row_heading level0 row2\" >2</th>\n",
       "      <td id=\"T_3c648_row2_col0\" class=\"data row2 col0\" >ash</td>\n",
       "      <td id=\"T_3c648_row2_col1\" class=\"data row2 col1\" >0.363394</td>\n",
       "    </tr>\n",
       "    <tr>\n",
       "      <th id=\"T_3c648_level0_row3\" class=\"row_heading level0 row3\" >3</th>\n",
       "      <td id=\"T_3c648_row3_col0\" class=\"data row3 col0\" >alcalinity_of_ash</td>\n",
       "      <td id=\"T_3c648_row3_col1\" class=\"data row3 col1\" >0.538689</td>\n",
       "    </tr>\n",
       "    <tr>\n",
       "      <th id=\"T_3c648_level0_row4\" class=\"row_heading level0 row4\" >4</th>\n",
       "      <td id=\"T_3c648_row4_col0\" class=\"data row4 col0\" >magnesium</td>\n",
       "      <td id=\"T_3c648_row4_col1\" class=\"data row4 col1\" >0.352680</td>\n",
       "    </tr>\n",
       "    <tr>\n",
       "      <th id=\"T_3c648_level0_row5\" class=\"row_heading level0 row5\" >5</th>\n",
       "      <td id=\"T_3c648_row5_col0\" class=\"data row5 col0\" >total_phenols</td>\n",
       "      <td id=\"T_3c648_row5_col1\" class=\"data row5 col1\" >0.719163</td>\n",
       "    </tr>\n",
       "    <tr>\n",
       "      <th id=\"T_3c648_level0_row6\" class=\"row_heading level0 row6\" >6</th>\n",
       "      <td id=\"T_3c648_row6_col0\" class=\"data row6 col0\" >flavanoids</td>\n",
       "      <td id=\"T_3c648_row6_col1\" class=\"data row6 col1\" >0.853098</td>\n",
       "    </tr>\n",
       "    <tr>\n",
       "      <th id=\"T_3c648_level0_row7\" class=\"row_heading level0 row7\" >7</th>\n",
       "      <td id=\"T_3c648_row7_col0\" class=\"data row7 col0\" >nonflavanoid_phenols</td>\n",
       "      <td id=\"T_3c648_row7_col1\" class=\"data row7 col1\" >0.489519</td>\n",
       "    </tr>\n",
       "    <tr>\n",
       "      <th id=\"T_3c648_level0_row8\" class=\"row_heading level0 row8\" >8</th>\n",
       "      <td id=\"T_3c648_row8_col0\" class=\"data row8 col0\" >proanthocyanins</td>\n",
       "      <td id=\"T_3c648_row8_col1\" class=\"data row8 col1\" >0.506986</td>\n",
       "    </tr>\n",
       "    <tr>\n",
       "      <th id=\"T_3c648_level0_row9\" class=\"row_heading level0 row9\" >9</th>\n",
       "      <td id=\"T_3c648_row9_col0\" class=\"data row9 col0\" >color_intensity</td>\n",
       "      <td id=\"T_3c648_row9_col1\" class=\"data row9 col1\" >0.761353</td>\n",
       "    </tr>\n",
       "    <tr>\n",
       "      <th id=\"T_3c648_level0_row10\" class=\"row_heading level0 row10\" >10</th>\n",
       "      <td id=\"T_3c648_row10_col0\" class=\"data row10 col0\" >hue</td>\n",
       "      <td id=\"T_3c648_row10_col1\" class=\"data row10 col1\" >0.732522</td>\n",
       "    </tr>\n",
       "    <tr>\n",
       "      <th id=\"T_3c648_level0_row11\" class=\"row_heading level0 row11\" >11</th>\n",
       "      <td id=\"T_3c648_row11_col0\" class=\"data row11 col0\" >od280/od315_of_diluted_wines</td>\n",
       "      <td id=\"T_3c648_row11_col1\" class=\"data row11 col1\" >0.827438</td>\n",
       "    </tr>\n",
       "    <tr>\n",
       "      <th id=\"T_3c648_level0_row12\" class=\"row_heading level0 row12\" >12</th>\n",
       "      <td id=\"T_3c648_row12_col0\" class=\"data row12 col0\" >proline</td>\n",
       "      <td id=\"T_3c648_row12_col1\" class=\"data row12 col1\" >0.838935</td>\n",
       "    </tr>\n",
       "  </tbody>\n",
       "</table>\n"
      ],
      "text/plain": [
       "<pandas.io.formats.style.Styler at 0x7f01abe384f0>"
      ]
     },
     "execution_count": 199,
     "metadata": {},
     "output_type": "execute_result"
    }
   ],
   "source": [
    "# создадим два списка, один для названий признаков, второй для значений корреляционного отношения\n",
    "columns, correlations = [], []\n",
    "\n",
    "# пройдемся по всем столбцам датафрейма кроме целевой переменной\n",
    "for col in df.drop('target', axis = 1).columns:\n",
    "  # поместим название признака в список columns\n",
    "  columns.append(col)\n",
    "  # рассчитаем взаимосвязь этого признака с целевой переменной\n",
    "  # и поместим результат в список значений корреляционного отношения\n",
    "  correlations.append(correlation_ratio(df[col], df['target']))\n",
    "\n",
    "# создадим датафрейм на основе заполненных списков\n",
    "# и применим градиентную цветовую схему\n",
    "pd.DataFrame({'column': columns, 'correlation': correlations}).style.background_gradient()"
   ]
  },
  {
   "cell_type": "code",
   "execution_count": null,
   "metadata": {
    "colab": {
     "base_uri": "https://localhost:8080/",
     "height": 143
    },
    "id": "WgVpEnUmD8Ny",
    "outputId": "bebb2fb7-068c-4cd8-9046-1af950528d5c"
   },
   "outputs": [
    {
     "data": {
      "text/html": [
       "\n",
       "  <div id=\"df-a36c6691-ca33-4d3c-9ed7-c6acae7ad28b\">\n",
       "    <div class=\"colab-df-container\">\n",
       "      <div>\n",
       "<style scoped>\n",
       "    .dataframe tbody tr th:only-of-type {\n",
       "        vertical-align: middle;\n",
       "    }\n",
       "\n",
       "    .dataframe tbody tr th {\n",
       "        vertical-align: top;\n",
       "    }\n",
       "\n",
       "    .dataframe thead th {\n",
       "        text-align: right;\n",
       "    }\n",
       "</style>\n",
       "<table border=\"1\" class=\"dataframe\">\n",
       "  <thead>\n",
       "    <tr style=\"text-align: right;\">\n",
       "      <th></th>\n",
       "      <th>flavanoids</th>\n",
       "      <th>proline</th>\n",
       "      <th>target</th>\n",
       "    </tr>\n",
       "  </thead>\n",
       "  <tbody>\n",
       "    <tr>\n",
       "      <th>0</th>\n",
       "      <td>1.031908</td>\n",
       "      <td>1.010159</td>\n",
       "      <td>0</td>\n",
       "    </tr>\n",
       "    <tr>\n",
       "      <th>1</th>\n",
       "      <td>0.731565</td>\n",
       "      <td>0.962526</td>\n",
       "      <td>0</td>\n",
       "    </tr>\n",
       "    <tr>\n",
       "      <th>2</th>\n",
       "      <td>1.212114</td>\n",
       "      <td>1.391224</td>\n",
       "      <td>0</td>\n",
       "    </tr>\n",
       "  </tbody>\n",
       "</table>\n",
       "</div>\n",
       "      <button class=\"colab-df-convert\" onclick=\"convertToInteractive('df-a36c6691-ca33-4d3c-9ed7-c6acae7ad28b')\"\n",
       "              title=\"Convert this dataframe to an interactive table.\"\n",
       "              style=\"display:none;\">\n",
       "        \n",
       "  <svg xmlns=\"http://www.w3.org/2000/svg\" height=\"24px\"viewBox=\"0 0 24 24\"\n",
       "       width=\"24px\">\n",
       "    <path d=\"M0 0h24v24H0V0z\" fill=\"none\"/>\n",
       "    <path d=\"M18.56 5.44l.94 2.06.94-2.06 2.06-.94-2.06-.94-.94-2.06-.94 2.06-2.06.94zm-11 1L8.5 8.5l.94-2.06 2.06-.94-2.06-.94L8.5 2.5l-.94 2.06-2.06.94zm10 10l.94 2.06.94-2.06 2.06-.94-2.06-.94-.94-2.06-.94 2.06-2.06.94z\"/><path d=\"M17.41 7.96l-1.37-1.37c-.4-.4-.92-.59-1.43-.59-.52 0-1.04.2-1.43.59L10.3 9.45l-7.72 7.72c-.78.78-.78 2.05 0 2.83L4 21.41c.39.39.9.59 1.41.59.51 0 1.02-.2 1.41-.59l7.78-7.78 2.81-2.81c.8-.78.8-2.07 0-2.86zM5.41 20L4 18.59l7.72-7.72 1.47 1.35L5.41 20z\"/>\n",
       "  </svg>\n",
       "      </button>\n",
       "      \n",
       "  <style>\n",
       "    .colab-df-container {\n",
       "      display:flex;\n",
       "      flex-wrap:wrap;\n",
       "      gap: 12px;\n",
       "    }\n",
       "\n",
       "    .colab-df-convert {\n",
       "      background-color: #E8F0FE;\n",
       "      border: none;\n",
       "      border-radius: 50%;\n",
       "      cursor: pointer;\n",
       "      display: none;\n",
       "      fill: #1967D2;\n",
       "      height: 32px;\n",
       "      padding: 0 0 0 0;\n",
       "      width: 32px;\n",
       "    }\n",
       "\n",
       "    .colab-df-convert:hover {\n",
       "      background-color: #E2EBFA;\n",
       "      box-shadow: 0px 1px 2px rgba(60, 64, 67, 0.3), 0px 1px 3px 1px rgba(60, 64, 67, 0.15);\n",
       "      fill: #174EA6;\n",
       "    }\n",
       "\n",
       "    [theme=dark] .colab-df-convert {\n",
       "      background-color: #3B4455;\n",
       "      fill: #D2E3FC;\n",
       "    }\n",
       "\n",
       "    [theme=dark] .colab-df-convert:hover {\n",
       "      background-color: #434B5C;\n",
       "      box-shadow: 0px 1px 3px 1px rgba(0, 0, 0, 0.15);\n",
       "      filter: drop-shadow(0px 1px 2px rgba(0, 0, 0, 0.3));\n",
       "      fill: #FFFFFF;\n",
       "    }\n",
       "  </style>\n",
       "\n",
       "      <script>\n",
       "        const buttonEl =\n",
       "          document.querySelector('#df-a36c6691-ca33-4d3c-9ed7-c6acae7ad28b button.colab-df-convert');\n",
       "        buttonEl.style.display =\n",
       "          google.colab.kernel.accessAllowed ? 'block' : 'none';\n",
       "\n",
       "        async function convertToInteractive(key) {\n",
       "          const element = document.querySelector('#df-a36c6691-ca33-4d3c-9ed7-c6acae7ad28b');\n",
       "          const dataTable =\n",
       "            await google.colab.kernel.invokeFunction('convertToInteractive',\n",
       "                                                     [key], {});\n",
       "          if (!dataTable) return;\n",
       "\n",
       "          const docLinkHtml = 'Like what you see? Visit the ' +\n",
       "            '<a target=\"_blank\" href=https://colab.research.google.com/notebooks/data_table.ipynb>data table notebook</a>'\n",
       "            + ' to learn more about interactive tables.';\n",
       "          element.innerHTML = '';\n",
       "          dataTable['output_type'] = 'display_data';\n",
       "          await google.colab.output.renderOutput(dataTable, element);\n",
       "          const docLink = document.createElement('div');\n",
       "          docLink.innerHTML = docLinkHtml;\n",
       "          element.appendChild(docLink);\n",
       "        }\n",
       "      </script>\n",
       "    </div>\n",
       "  </div>\n",
       "  "
      ],
      "text/plain": [
       "   flavanoids   proline  target\n",
       "0    1.031908  1.010159       0\n",
       "1    0.731565  0.962526       0\n",
       "2    1.212114  1.391224       0"
      ]
     },
     "execution_count": 200,
     "metadata": {},
     "output_type": "execute_result"
    }
   ],
   "source": [
    "# оставим два признака с наибольшей корреляцией с целевой переменной\n",
    "df = df[['flavanoids', 'proline', 'target']].copy()\n",
    "df.head(3)"
   ]
  },
  {
   "cell_type": "code",
   "execution_count": null,
   "metadata": {
    "colab": {
     "base_uri": "https://localhost:8080/",
     "height": 497
    },
    "id": "VlHy6_LToyYx",
    "outputId": "26e5242d-dc58-4d7a-f818-9f0741384db8"
   },
   "outputs": [
    {
     "data": {
      "image/png": "[encoded data removed]",
      "text/plain": [
       "<Figure size 720x576 with 1 Axes>"
      ]
     },
     "metadata": {
      "needs_background": "light"
     },
     "output_type": "display_data"
    }
   ],
   "source": [
    "# зададим размер графика\n",
    "plt.figure(figsize = (10, 8))\n",
    "# построим точечную диаграмму с двумя признаками, разделяющей категориальной переменной будет класс вина\n",
    "sns.scatterplot(x = df.flavanoids, y = df.proline, hue = df.target, palette = 'bright', s = 100)\n",
    "# добавим легенду\n",
    "plt.legend(loc = 'upper left', prop = {'size': 15})\n",
    "plt.show()"
   ]
  },
  {
   "cell_type": "markdown",
   "metadata": {
    "id": "4rfhl9IGoj1o"
   },
   "source": [
    "### Подход one-vs-rest"
   ]
  },
  {
   "cell_type": "markdown",
   "metadata": {
    "id": "G0SBINmnwLXk"
   },
   "source": [
    "#### Подготовка датасетов"
   ]
  },
  {
   "cell_type": "code",
   "execution_count": null,
   "metadata": {
    "colab": {
     "base_uri": "https://localhost:8080/"
    },
    "id": "OIUBQkBTwxzA",
    "outputId": "d0ae7687-5cee-42dc-ac41-e4a7822b021c"
   },
   "outputs": [
    {
     "data": {
      "text/plain": [
       "array([0, 1, 2])"
      ]
     },
     "execution_count": 202,
     "metadata": {},
     "output_type": "execute_result"
    }
   ],
   "source": [
    "# поместим признаки и данные в соответствующие переменные\n",
    "x1, x2 = df.columns[0], df.columns[1]\n",
    "\n",
    "target = df.target.unique()\n",
    "target"
   ]
  },
  {
   "cell_type": "code",
   "execution_count": null,
   "metadata": {
    "colab": {
     "base_uri": "https://localhost:8080/",
     "height": 237
    },
    "id": "im8Gv4nl07Ce",
    "outputId": "3510bad2-bf6f-4270-f093-b0f0cedd0fd2"
   },
   "outputs": [
    {
     "data": {
      "image/png": "[encoded data removed]",
      "text/plain": [
       "<Figure size 1152x288 with 3 Axes>"
      ]
     },
     "metadata": {
      "needs_background": "light"
     },
     "output_type": "display_data"
    }
   ],
   "source": [
    "# сделаем копии датафреймов\n",
    "ovr_0, ovr_1, ovr_2 = df.copy(), df.copy(), df.copy()\n",
    "\n",
    "# в каждом из них сделаем целевым классом 0-й, 1-й или 2-й классы\n",
    "# например, в ovr_0 первым классом будет класс 0, а классы 1 и 2 - нулевым\n",
    "ovr_0['target'] = np.where(df['target'] == target[0], 1, 0)\n",
    "ovr_1['target'] = np.where(df['target'] == target[1], 1, 0)\n",
    "ovr_2['target'] = np.where(df['target'] == target[2], 1, 0)\n",
    "\n",
    "# выведем разделение на классы на графике\n",
    "fig, (ax1, ax2, ax3) = plt.subplots(1, 3,\n",
    "                                    figsize = (16, 4),\n",
    "                                    gridspec_kw = {'wspace': 0.2, 'hspace': 0.08})\n",
    "\n",
    "sns.scatterplot(data = ovr_0, x = x1, y = x2, hue = 'target', s = 50, ax = ax1)\n",
    "ax1.set_title('Прогнозирование класса 0', fontsize = 14)\n",
    "\n",
    "sns.scatterplot(data = ovr_1, x = x1, y = x2, hue = 'target', s = 50, ax = ax2)\n",
    "ax2.set_title('Прогнозирование класса 1', fontsize = 14)\n",
    "\n",
    "sns.scatterplot(data = ovr_2, x = x1, y = x2, hue = 'target', s = 50, ax = ax3)\n",
    "ax3.set_title('Прогнозирование класса 2', fontsize = 14)\n",
    "\n",
    "plt.show()"
   ]
  },
  {
   "cell_type": "code",
   "execution_count": null,
   "metadata": {
    "colab": {
     "base_uri": "https://localhost:8080/",
     "height": 143
    },
    "id": "NSAeLwISEJSe",
    "outputId": "dbbdc4e9-e9a4-4acd-de17-5c47d0c8eb5b"
   },
   "outputs": [
    {
     "data": {
      "text/html": [
       "\n",
       "  <div id=\"df-c6fc7f09-a44a-4e61-8afd-76419bb15d55\">\n",
       "    <div class=\"colab-df-container\">\n",
       "      <div>\n",
       "<style scoped>\n",
       "    .dataframe tbody tr th:only-of-type {\n",
       "        vertical-align: middle;\n",
       "    }\n",
       "\n",
       "    .dataframe tbody tr th {\n",
       "        vertical-align: top;\n",
       "    }\n",
       "\n",
       "    .dataframe thead th {\n",
       "        text-align: right;\n",
       "    }\n",
       "</style>\n",
       "<table border=\"1\" class=\"dataframe\">\n",
       "  <thead>\n",
       "    <tr style=\"text-align: right;\">\n",
       "      <th></th>\n",
       "      <th>flavanoids</th>\n",
       "      <th>proline</th>\n",
       "      <th>target</th>\n",
       "    </tr>\n",
       "  </thead>\n",
       "  <tbody>\n",
       "    <tr>\n",
       "      <th>0</th>\n",
       "      <td>1.031908</td>\n",
       "      <td>1.010159</td>\n",
       "      <td>1</td>\n",
       "    </tr>\n",
       "    <tr>\n",
       "      <th>1</th>\n",
       "      <td>0.731565</td>\n",
       "      <td>0.962526</td>\n",
       "      <td>1</td>\n",
       "    </tr>\n",
       "    <tr>\n",
       "      <th>2</th>\n",
       "      <td>1.212114</td>\n",
       "      <td>1.391224</td>\n",
       "      <td>1</td>\n",
       "    </tr>\n",
       "  </tbody>\n",
       "</table>\n",
       "</div>\n",
       "      <button class=\"colab-df-convert\" onclick=\"convertToInteractive('df-c6fc7f09-a44a-4e61-8afd-76419bb15d55')\"\n",
       "              title=\"Convert this dataframe to an interactive table.\"\n",
       "              style=\"display:none;\">\n",
       "        \n",
       "  <svg xmlns=\"http://www.w3.org/2000/svg\" height=\"24px\"viewBox=\"0 0 24 24\"\n",
       "       width=\"24px\">\n",
       "    <path d=\"M0 0h24v24H0V0z\" fill=\"none\"/>\n",
       "    <path d=\"M18.56 5.44l.94 2.06.94-2.06 2.06-.94-2.06-.94-.94-2.06-.94 2.06-2.06.94zm-11 1L8.5 8.5l.94-2.06 2.06-.94-2.06-.94L8.5 2.5l-.94 2.06-2.06.94zm10 10l.94 2.06.94-2.06 2.06-.94-2.06-.94-.94-2.06-.94 2.06-2.06.94z\"/><path d=\"M17.41 7.96l-1.37-1.37c-.4-.4-.92-.59-1.43-.59-.52 0-1.04.2-1.43.59L10.3 9.45l-7.72 7.72c-.78.78-.78 2.05 0 2.83L4 21.41c.39.39.9.59 1.41.59.51 0 1.02-.2 1.41-.59l7.78-7.78 2.81-2.81c.8-.78.8-2.07 0-2.86zM5.41 20L4 18.59l7.72-7.72 1.47 1.35L5.41 20z\"/>\n",
       "  </svg>\n",
       "      </button>\n",
       "      \n",
       "  <style>\n",
       "    .colab-df-container {\n",
       "      display:flex;\n",
       "      flex-wrap:wrap;\n",
       "      gap: 12px;\n",
       "    }\n",
       "\n",
       "    .colab-df-convert {\n",
       "      background-color: #E8F0FE;\n",
       "      border: none;\n",
       "      border-radius: 50%;\n",
       "      cursor: pointer;\n",
       "      display: none;\n",
       "      fill: #1967D2;\n",
       "      height: 32px;\n",
       "      padding: 0 0 0 0;\n",
       "      width: 32px;\n",
       "    }\n",
       "\n",
       "    .colab-df-convert:hover {\n",
       "      background-color: #E2EBFA;\n",
       "      box-shadow: 0px 1px 2px rgba(60, 64, 67, 0.3), 0px 1px 3px 1px rgba(60, 64, 67, 0.15);\n",
       "      fill: #174EA6;\n",
       "    }\n",
       "\n",
       "    [theme=dark] .colab-df-convert {\n",
       "      background-color: #3B4455;\n",
       "      fill: #D2E3FC;\n",
       "    }\n",
       "\n",
       "    [theme=dark] .colab-df-convert:hover {\n",
       "      background-color: #434B5C;\n",
       "      box-shadow: 0px 1px 3px 1px rgba(0, 0, 0, 0.15);\n",
       "      filter: drop-shadow(0px 1px 2px rgba(0, 0, 0, 0.3));\n",
       "      fill: #FFFFFF;\n",
       "    }\n",
       "  </style>\n",
       "\n",
       "      <script>\n",
       "        const buttonEl =\n",
       "          document.querySelector('#df-c6fc7f09-a44a-4e61-8afd-76419bb15d55 button.colab-df-convert');\n",
       "        buttonEl.style.display =\n",
       "          google.colab.kernel.accessAllowed ? 'block' : 'none';\n",
       "\n",
       "        async function convertToInteractive(key) {\n",
       "          const element = document.querySelector('#df-c6fc7f09-a44a-4e61-8afd-76419bb15d55');\n",
       "          const dataTable =\n",
       "            await google.colab.kernel.invokeFunction('convertToInteractive',\n",
       "                                                     [key], {});\n",
       "          if (!dataTable) return;\n",
       "\n",
       "          const docLinkHtml = 'Like what you see? Visit the ' +\n",
       "            '<a target=\"_blank\" href=https://colab.research.google.com/notebooks/data_table.ipynb>data table notebook</a>'\n",
       "            + ' to learn more about interactive tables.';\n",
       "          element.innerHTML = '';\n",
       "          dataTable['output_type'] = 'display_data';\n",
       "          await google.colab.output.renderOutput(dataTable, element);\n",
       "          const docLink = document.createElement('div');\n",
       "          docLink.innerHTML = docLinkHtml;\n",
       "          element.appendChild(docLink);\n",
       "        }\n",
       "      </script>\n",
       "    </div>\n",
       "  </div>\n",
       "  "
      ],
      "text/plain": [
       "   flavanoids   proline  target\n",
       "0    1.031908  1.010159       1\n",
       "1    0.731565  0.962526       1\n",
       "2    1.212114  1.391224       1"
      ]
     },
     "execution_count": 204,
     "metadata": {},
     "output_type": "execute_result"
    }
   ],
   "source": [
    "ovr_0.head(3)"
   ]
  },
  {
   "cell_type": "markdown",
   "metadata": {
    "id": "XJIhpAx04saE"
   },
   "source": [
    "#### Обучение моделей"
   ]
  },
  {
   "cell_type": "code",
   "execution_count": null,
   "metadata": {
    "id": "5P4BoHJwHbQN"
   },
   "outputs": [],
   "source": [
    "models = []\n",
    "\n",
    "# поочередно обучим каждую из моделей\n",
    "for ova_n in [ovr_0, ovr_1, ovr_2]:\n",
    "  X = ova_n[['flavanoids', 'proline']]\n",
    "  y = ova_n['target']\n",
    "\n",
    "  model = LogReg()\n",
    "  model.fit(X, y)\n",
    "\n",
    "  # каждую обученную модель поместим в список\n",
    "  models.append(model)"
   ]
  },
  {
   "cell_type": "code",
   "execution_count": null,
   "metadata": {
    "colab": {
     "base_uri": "https://localhost:8080/"
    },
    "id": "dalvSexfPRtg",
    "outputId": "8dbdfb06-1eb8-448a-ec72-51a6274f5f7e"
   },
   "outputs": [
    {
     "data": {
      "text/plain": [
       "array([-0.99971466,  1.280398  ,  2.04834457])"
      ]
     },
     "execution_count": 206,
     "metadata": {},
     "output_type": "execute_result"
    }
   ],
   "source": [
    "# убедимся, что все работает\n",
    "# например, выведем коэффициенты модели 1\n",
    "models[0].thetas"
   ]
  },
  {
   "cell_type": "markdown",
   "metadata": {
    "id": "6sz9KlGq4xrD"
   },
   "source": [
    "#### Прогноз и оценка качества"
   ]
  },
  {
   "cell_type": "code",
   "execution_count": null,
   "metadata": {
    "id": "lGhqOE99IYH7"
   },
   "outputs": [],
   "source": [
    "# вновь перенесем данные из исходного датафрейма\n",
    "X = df[['flavanoids', 'proline']]\n",
    "y = df['target']\n",
    "\n",
    "# в список probs будем записывать результат каждой модели\n",
    "# т.е. три массива Numpy по 178 вероятностей\n",
    "probs = []\n",
    "\n",
    "for model in models:\n",
    "  _, prob = model.predict(X)\n",
    "  probs.append(prob)"
   ]
  },
  {
   "cell_type": "code",
   "execution_count": null,
   "metadata": {
    "colab": {
     "base_uri": "https://localhost:8080/"
    },
    "id": "DEUJVSoWKbcw",
    "outputId": "631ba301-162c-4057-8c8f-d3f9e828ca91"
   },
   "outputs": [
    {
     "data": {
      "text/plain": [
       "(0.9161148288779738, 0.1540913395345091, 0.026621132600103174)"
      ]
     },
     "execution_count": 208,
     "metadata": {},
     "output_type": "execute_result"
    }
   ],
   "source": [
    "# очевидно, для каждого наблюдения у нас будет три вероятности\n",
    "# принадлежности к целевому классу\n",
    "probs[0][0], probs[1][0], probs[2][0]"
   ]
  },
  {
   "cell_type": "code",
   "execution_count": null,
   "metadata": {
    "colab": {
     "base_uri": "https://localhost:8080/"
    },
    "id": "QycB1HcsFomV",
    "outputId": "61c065d1-200a-43c2-f293-bb2b6fc0b339"
   },
   "outputs": [
    {
     "data": {
      "text/plain": [
       "(178, 3)"
      ]
     },
     "execution_count": 209,
     "metadata": {},
     "output_type": "execute_result"
    }
   ],
   "source": [
    "# склеим внутренние и изменим размерность массива таким образом, чтобы\n",
    "# строки были наблюдениями, а столбцы вероятностями\n",
    "all_probs = np.concatenate(probs, axis = 0).reshape(len(probs), -1).T\n",
    "all_probs.shape"
   ]
  },
  {
   "cell_type": "code",
   "execution_count": null,
   "metadata": {
    "colab": {
     "base_uri": "https://localhost:8080/"
    },
    "id": "2efHz8dVNabM",
    "outputId": "642c6447-c309-43b6-fd83-65917e7c043b"
   },
   "outputs": [
    {
     "data": {
      "text/plain": [
       "array([0.91611483, 0.15409134, 0.02662113])"
      ]
     },
     "execution_count": 210,
     "metadata": {},
     "output_type": "execute_result"
    }
   ],
   "source": [
    "# каждая из 178 строк - это вероятность одного наблюдения принадлежать к классу 0, 1, 2\n",
    "all_probs[0]"
   ]
  },
  {
   "cell_type": "code",
   "execution_count": null,
   "metadata": {
    "colab": {
     "base_uri": "https://localhost:8080/"
    },
    "id": "4_pSyc8eOj1U",
    "outputId": "a16417f2-281a-472e-9eb4-1741059a656a"
   },
   "outputs": [
    {
     "data": {
      "text/plain": [
       "0"
      ]
     },
     "execution_count": 211,
     "metadata": {},
     "output_type": "execute_result"
    }
   ],
   "source": [
    "# например, первое наблюдение вероятнее всего принадлежит к классу 0\n",
    "np.argmax(all_probs[0])"
   ]
  },
  {
   "cell_type": "code",
   "execution_count": null,
   "metadata": {
    "colab": {
     "base_uri": "https://localhost:8080/"
    },
    "id": "DZ5DuJfMN6QM",
    "outputId": "8c8b015e-1020-430f-bbb6-7046a9625a1a"
   },
   "outputs": [
    {
     "data": {
      "text/plain": [
       "0.9157303370786517"
      ]
     },
     "execution_count": 212,
     "metadata": {},
     "output_type": "execute_result"
    }
   ],
   "source": [
    "# найдем максимальную вероятность в каждой строке,\n",
    "# индекс вероятности [0, 1, 2] и будет прогнозом\n",
    "y_pred = np.argmax(all_probs, axis = 1)\n",
    "\n",
    "# рассчитаем accuracy\n",
    "accuracy_score(y, y_pred)"
   ]
  },
  {
   "cell_type": "code",
   "execution_count": null,
   "metadata": {
    "colab": {
     "base_uri": "https://localhost:8080/",
     "height": 143
    },
    "id": "KlqqHVa_O9zf",
    "outputId": "1f678e31-5fc9-4115-b876-da56e7a9229d"
   },
   "outputs": [
    {
     "data": {
      "text/html": [
       "\n",
       "  <div id=\"df-72d99bf7-d72f-4ff8-bd4d-d2be238a477a\">\n",
       "    <div class=\"colab-df-container\">\n",
       "      <div>\n",
       "<style scoped>\n",
       "    .dataframe tbody tr th:only-of-type {\n",
       "        vertical-align: middle;\n",
       "    }\n",
       "\n",
       "    .dataframe tbody tr th {\n",
       "        vertical-align: top;\n",
       "    }\n",
       "\n",
       "    .dataframe thead th {\n",
       "        text-align: right;\n",
       "    }\n",
       "</style>\n",
       "<table border=\"1\" class=\"dataframe\">\n",
       "  <thead>\n",
       "    <tr style=\"text-align: right;\">\n",
       "      <th></th>\n",
       "      <th>Forecast 0</th>\n",
       "      <th>Forecast 1</th>\n",
       "      <th>Forecast 2</th>\n",
       "    </tr>\n",
       "  </thead>\n",
       "  <tbody>\n",
       "    <tr>\n",
       "      <th>Actual 0</th>\n",
       "      <td>57</td>\n",
       "      <td>2</td>\n",
       "      <td>0</td>\n",
       "    </tr>\n",
       "    <tr>\n",
       "      <th>Actual 1</th>\n",
       "      <td>3</td>\n",
       "      <td>62</td>\n",
       "      <td>6</td>\n",
       "    </tr>\n",
       "    <tr>\n",
       "      <th>Actual 2</th>\n",
       "      <td>0</td>\n",
       "      <td>4</td>\n",
       "      <td>44</td>\n",
       "    </tr>\n",
       "  </tbody>\n",
       "</table>\n",
       "</div>\n",
       "      <button class=\"colab-df-convert\" onclick=\"convertToInteractive('df-72d99bf7-d72f-4ff8-bd4d-d2be238a477a')\"\n",
       "              title=\"Convert this dataframe to an interactive table.\"\n",
       "              style=\"display:none;\">\n",
       "        \n",
       "  <svg xmlns=\"http://www.w3.org/2000/svg\" height=\"24px\"viewBox=\"0 0 24 24\"\n",
       "       width=\"24px\">\n",
       "    <path d=\"M0 0h24v24H0V0z\" fill=\"none\"/>\n",
       "    <path d=\"M18.56 5.44l.94 2.06.94-2.06 2.06-.94-2.06-.94-.94-2.06-.94 2.06-2.06.94zm-11 1L8.5 8.5l.94-2.06 2.06-.94-2.06-.94L8.5 2.5l-.94 2.06-2.06.94zm10 10l.94 2.06.94-2.06 2.06-.94-2.06-.94-.94-2.06-.94 2.06-2.06.94z\"/><path d=\"M17.41 7.96l-1.37-1.37c-.4-.4-.92-.59-1.43-.59-.52 0-1.04.2-1.43.59L10.3 9.45l-7.72 7.72c-.78.78-.78 2.05 0 2.83L4 21.41c.39.39.9.59 1.41.59.51 0 1.02-.2 1.41-.59l7.78-7.78 2.81-2.81c.8-.78.8-2.07 0-2.86zM5.41 20L4 18.59l7.72-7.72 1.47 1.35L5.41 20z\"/>\n",
       "  </svg>\n",
       "      </button>\n",
       "      \n",
       "  <style>\n",
       "    .colab-df-container {\n",
       "      display:flex;\n",
       "      flex-wrap:wrap;\n",
       "      gap: 12px;\n",
       "    }\n",
       "\n",
       "    .colab-df-convert {\n",
       "      background-color: #E8F0FE;\n",
       "      border: none;\n",
       "      border-radius: 50%;\n",
       "      cursor: pointer;\n",
       "      display: none;\n",
       "      fill: #1967D2;\n",
       "      height: 32px;\n",
       "      padding: 0 0 0 0;\n",
       "      width: 32px;\n",
       "    }\n",
       "\n",
       "    .colab-df-convert:hover {\n",
       "      background-color: #E2EBFA;\n",
       "      box-shadow: 0px 1px 2px rgba(60, 64, 67, 0.3), 0px 1px 3px 1px rgba(60, 64, 67, 0.15);\n",
       "      fill: #174EA6;\n",
       "    }\n",
       "\n",
       "    [theme=dark] .colab-df-convert {\n",
       "      background-color: #3B4455;\n",
       "      fill: #D2E3FC;\n",
       "    }\n",
       "\n",
       "    [theme=dark] .colab-df-convert:hover {\n",
       "      background-color: #434B5C;\n",
       "      box-shadow: 0px 1px 3px 1px rgba(0, 0, 0, 0.15);\n",
       "      filter: drop-shadow(0px 1px 2px rgba(0, 0, 0, 0.3));\n",
       "      fill: #FFFFFF;\n",
       "    }\n",
       "  </style>\n",
       "\n",
       "      <script>\n",
       "        const buttonEl =\n",
       "          document.querySelector('#df-72d99bf7-d72f-4ff8-bd4d-d2be238a477a button.colab-df-convert');\n",
       "        buttonEl.style.display =\n",
       "          google.colab.kernel.accessAllowed ? 'block' : 'none';\n",
       "\n",
       "        async function convertToInteractive(key) {\n",
       "          const element = document.querySelector('#df-72d99bf7-d72f-4ff8-bd4d-d2be238a477a');\n",
       "          const dataTable =\n",
       "            await google.colab.kernel.invokeFunction('convertToInteractive',\n",
       "                                                     [key], {});\n",
       "          if (!dataTable) return;\n",
       "\n",
       "          const docLinkHtml = 'Like what you see? Visit the ' +\n",
       "            '<a target=\"_blank\" href=https://colab.research.google.com/notebooks/data_table.ipynb>data table notebook</a>'\n",
       "            + ' to learn more about interactive tables.';\n",
       "          element.innerHTML = '';\n",
       "          dataTable['output_type'] = 'display_data';\n",
       "          await google.colab.output.renderOutput(dataTable, element);\n",
       "          const docLink = document.createElement('div');\n",
       "          docLink.innerHTML = docLinkHtml;\n",
       "          element.appendChild(docLink);\n",
       "        }\n",
       "      </script>\n",
       "    </div>\n",
       "  </div>\n",
       "  "
      ],
      "text/plain": [
       "          Forecast 0  Forecast 1  Forecast 2\n",
       "Actual 0          57           2           0\n",
       "Actual 1           3          62           6\n",
       "Actual 2           0           4          44"
      ]
     },
     "execution_count": 213,
     "metadata": {},
     "output_type": "execute_result"
    }
   ],
   "source": [
    "# выведем матрицу ошибок\n",
    "pd.DataFrame(confusion_matrix(y, y_pred),\n",
    "             columns = ['Forecast 0', 'Forecast 1', 'Forecast 2'],\n",
    "             index = ['Actual 0', 'Actual 1', 'Actual 2'])"
   ]
  },
  {
   "cell_type": "code",
   "execution_count": null,
   "metadata": {
    "colab": {
     "base_uri": "https://localhost:8080/",
     "height": 363
    },
    "id": "jgcWejHDU2aM",
    "outputId": "254732af-75e3-4e8a-ff4e-a893a2234b80"
   },
   "outputs": [
    {
     "data": {
      "image/png": "[encoded data removed]",
      "text/plain": [
       "<Figure size 1008x432 with 2 Axes>"
      ]
     },
     "metadata": {
      "needs_background": "light"
     },
     "output_type": "display_data"
    }
   ],
   "source": [
    "predictions = df[['flavanoids', 'proline']].copy()\n",
    "predictions['y_pred'] = y_pred\n",
    "\n",
    "fig, (ax1, ax2) = plt.subplots(1, 2,\n",
    "                               figsize = (14, 6),\n",
    "                               gridspec_kw = {'wspace': 0.2, 'hspace': 0.08})\n",
    "\n",
    "sns.scatterplot(data = df, x = 'flavanoids', y = 'proline', hue = 'target',\n",
    "                palette = 'bright', s = 50, ax = ax1)\n",
    "\n",
    "ax1.set_title('Фактические классы', fontsize = 14)\n",
    "\n",
    "sns.scatterplot(data = predictions, x = 'flavanoids', y = 'proline', hue = 'y_pred',\n",
    "                palette = 'bright', s = 50, ax = ax2)\n",
    "\n",
    "ax2.set_title('Прогноз one-vs-rest', fontsize = 14)\n",
    "\n",
    "plt.show()"
   ]
  },
  {
   "cell_type": "markdown",
   "metadata": {
    "id": "PbD8W6M9P_lw"
   },
   "source": [
    "#### Написание класса"
   ]
  },
  {
   "cell_type": "code",
   "execution_count": null,
   "metadata": {
    "id": "tjjErQCLPre8"
   },
   "outputs": [],
   "source": [
    "class OVR_LogReg():\n",
    "\n",
    "  def __init__(self):\n",
    "    self.models_thetas = []\n",
    "    self.models_loss = []\n",
    "\n",
    "  def fit(self, x, y, iter = 20000, learning_rate = 0.001):\n",
    "\n",
    "    dfs = self.preprocess(x, y)\n",
    "\n",
    "    models_thetas, models_loss = [], []\n",
    "\n",
    "    for ovr_df in dfs:\n",
    "\n",
    "      x = ovr_df.drop('target', axis = 1).copy()\n",
    "      y = ovr_df.target.copy()\n",
    "\n",
    "      self.add_ones(x)\n",
    "\n",
    "      loss_history = []\n",
    "      thetas, n = np.zeros(x.shape[1]), x.shape[0]\n",
    "\n",
    "      for i in range(iter):\n",
    "        y_pred = self.h(x, thetas)\n",
    "        loss_history.append(self.objective(y, y_pred))\n",
    "        grad = self.gradient(x, y, y_pred, n)\n",
    "        thetas -= learning_rate * grad\n",
    "\n",
    "      models_thetas.append(thetas)\n",
    "      models_loss.append(loss_history)\n",
    "\n",
    "    self.models_thetas = models_thetas\n",
    "    self.models_loss = models_loss\n",
    "\n",
    "  def predict(self, x):\n",
    "    x = x.copy()\n",
    "    probs = []\n",
    "    self.add_ones(x)\n",
    "    for t in self.models_thetas:\n",
    "      z = np.dot(x, t)\n",
    "      prob = np.array([self.stable_sigmoid(value) for value in z])\n",
    "      probs.append(prob)\n",
    "\n",
    "    all_probs = np.concatenate(probs, axis = 0).reshape(len(probs), -1).T\n",
    "    y_pred = np.argmax(all_probs, axis = 1)\n",
    "\n",
    "    return y_pred, all_probs\n",
    "\n",
    "  def preprocess(self, x, y):\n",
    "\n",
    "    x, y = x.copy(), y.copy()\n",
    "\n",
    "    x['target'] = y\n",
    "    classes = x.target.unique()\n",
    "\n",
    "    dfs = []\n",
    "    ovr_df = None\n",
    "\n",
    "    for c in classes:\n",
    "      ovr_df = x.drop('target', axis = 1).copy()\n",
    "      ovr_df['target'] = np.where(x['target'] == classes[c], 1, 0)\n",
    "      dfs.append(ovr_df)\n",
    "\n",
    "    return dfs\n",
    "\n",
    "  def add_ones(self, x):\n",
    "    return x.insert(0,'x0', np.ones(x.shape[0]))\n",
    "\n",
    "  def h(self, x, thetas):\n",
    "    z = np.dot(x, thetas)\n",
    "    return np.array([self.stable_sigmoid(value) for value in z])\n",
    "\n",
    "  def objective(self, y, y_pred):\n",
    "    y_one_loss = y * np.log(y_pred + 1e-9)\n",
    "    y_zero_loss = (1 - y) * np.log(1 - y_pred + 1e-9)\n",
    "    return -np.mean(y_zero_loss + y_one_loss)\n",
    "\n",
    "  def gradient(self, x, y, y_pred, n):\n",
    "    return np.dot(x.T, (y_pred - y)) / n\n",
    "\n",
    "  def stable_sigmoid(self, z):\n",
    "    if z >= 0:\n",
    "        return 1 / (1 + np.exp(-z))\n",
    "    else:\n",
    "        return np.exp(z) / (np.exp(z) + 1)"
   ]
  },
  {
   "cell_type": "code",
   "execution_count": null,
   "metadata": {
    "colab": {
     "base_uri": "https://localhost:8080/"
    },
    "id": "JtIzqm5gWDi4",
    "outputId": "02f74439-bb99-42f8-dfb9-ed02867b8b2d"
   },
   "outputs": [
    {
     "data": {
      "text/plain": [
       "0.9157303370786517"
      ]
     },
     "execution_count": 216,
     "metadata": {},
     "output_type": "execute_result"
    }
   ],
   "source": [
    "X = df[['flavanoids', 'proline']]\n",
    "y = df['target']\n",
    "\n",
    "model = OVR_LogReg()\n",
    "model.fit(X, y)\n",
    "\n",
    "y_pred, probs = model.predict(X)\n",
    "accuracy_score(y_pred, y)"
   ]
  },
  {
   "cell_type": "markdown",
   "metadata": {
    "id": "OAErvHsI5CtA"
   },
   "source": [
    "#### Сравнение с sklearn"
   ]
  },
  {
   "cell_type": "code",
   "execution_count": null,
   "metadata": {
    "colab": {
     "base_uri": "https://localhost:8080/"
    },
    "id": "EZiQSBmD5B-5",
    "outputId": "09100503-d098-472e-b751-ec91df300e59"
   },
   "outputs": [
    {
     "data": {
      "text/plain": [
       "0.898876404494382"
      ]
     },
     "execution_count": 217,
     "metadata": {},
     "output_type": "execute_result"
    }
   ],
   "source": [
    "X = df[['flavanoids', 'proline']]\n",
    "y = df['target']\n",
    "\n",
    "ovr_model = LogisticRegression(multi_class = 'ovr')\n",
    "ovr_model = ovr_model.fit(X, y)\n",
    "y_pred = ovr_model.predict(X)\n",
    "\n",
    "accuracy_score(y_pred, y)"
   ]
  },
  {
   "cell_type": "markdown",
   "metadata": {
    "id": "XakPqddT9zaQ"
   },
   "source": [
    "### Полиномиальная мультиклассовая регрессия"
   ]
  },
  {
   "cell_type": "code",
   "execution_count": null,
   "metadata": {
    "colab": {
     "base_uri": "https://localhost:8080/"
    },
    "id": "SeDHRY53nN8I",
    "outputId": "c2a0300f-aace-4d0d-9a1d-03ba67439360"
   },
   "outputs": [
    {
     "data": {
      "text/plain": [
       "0.9157303370786517"
      ]
     },
     "execution_count": 218,
     "metadata": {},
     "output_type": "execute_result"
    }
   ],
   "source": [
    "X = df[['flavanoids', 'proline']]\n",
    "y = df['target']\n",
    "\n",
    "polynomial_features = PolynomialFeatures(degree = 7)\n",
    "\n",
    "X_poly = polynomial_features.fit_transform(X)\n",
    "\n",
    "poly_ovr_model = LogisticRegression(multi_class = 'ovr')\n",
    "poly_ovr_model = poly_ovr_model.fit(X_poly, y)\n",
    "y_pred = poly_ovr_model.predict(X_poly)\n",
    "\n",
    "accuracy_score(y_pred, y)"
   ]
  },
  {
   "cell_type": "code",
   "execution_count": null,
   "metadata": {
    "colab": {
     "base_uri": "https://localhost:8080/",
     "height": 363
    },
    "id": "diEcbS0Nou3w",
    "outputId": "b940e5a8-1eca-4a51-b4d4-add7cd9939f7"
   },
   "outputs": [
    {
     "data": {
      "image/png": "[encoded data removed]",
      "text/plain": [
       "<Figure size 1008x432 with 2 Axes>"
      ]
     },
     "metadata": {
      "needs_background": "light"
     },
     "output_type": "display_data"
    }
   ],
   "source": [
    "predictions = df[['flavanoids', 'proline']].copy()\n",
    "predictions['y_pred'] = y_pred\n",
    "\n",
    "fig, (ax1, ax2) = plt.subplots(1, 2,\n",
    "                               figsize = (14, 6),\n",
    "                               gridspec_kw = {'wspace': 0.2, 'hspace': 0.08})\n",
    "\n",
    "sns.scatterplot(data = df, x = 'flavanoids', y = 'proline', hue = 'target', palette = 'bright', s = 50, ax = ax1)\n",
    "ax1.set_title('Фактические классы', fontsize = 14)\n",
    "\n",
    "sns.scatterplot(data = predictions, x = 'flavanoids', y = 'proline', hue = 'y_pred', palette = 'bright', s = 50, ax = ax2)\n",
    "ax2.set_title('Полиномиальная регрессия', fontsize = 14)\n",
    "\n",
    "plt.show()"
   ]
  },
  {
   "cell_type": "markdown",
   "metadata": {
    "id": "wUx-i284oodx"
   },
   "source": [
    "### Softmax Regression"
   ]
  },
  {
   "cell_type": "markdown",
   "metadata": {
    "id": "Vba00xhMZW50"
   },
   "source": [
    "#### Подготовка признаков"
   ]
  },
  {
   "cell_type": "code",
   "execution_count": null,
   "metadata": {
    "id": "lg3xyiDNHnbC"
   },
   "outputs": [],
   "source": [
    "def add_ones(x):\n",
    "  # важно! метод .insert() изменяет исходный датафрейм\n",
    "  return x.insert(0,'x0', np.ones(x.shape[0]))"
   ]
  },
  {
   "cell_type": "code",
   "execution_count": null,
   "metadata": {
    "colab": {
     "base_uri": "https://localhost:8080/",
     "height": 143
    },
    "id": "9Ta6YdBpFqPH",
    "outputId": "896054ca-0f6f-42f8-fb04-256b718ca359"
   },
   "outputs": [
    {
     "data": {
      "text/html": [
       "\n",
       "  <div id=\"df-3ffbe28c-720c-4894-8679-b093253b6b60\">\n",
       "    <div class=\"colab-df-container\">\n",
       "      <div>\n",
       "<style scoped>\n",
       "    .dataframe tbody tr th:only-of-type {\n",
       "        vertical-align: middle;\n",
       "    }\n",
       "\n",
       "    .dataframe tbody tr th {\n",
       "        vertical-align: top;\n",
       "    }\n",
       "\n",
       "    .dataframe thead th {\n",
       "        text-align: right;\n",
       "    }\n",
       "</style>\n",
       "<table border=\"1\" class=\"dataframe\">\n",
       "  <thead>\n",
       "    <tr style=\"text-align: right;\">\n",
       "      <th></th>\n",
       "      <th>x0</th>\n",
       "      <th>flavanoids</th>\n",
       "      <th>proline</th>\n",
       "    </tr>\n",
       "  </thead>\n",
       "  <tbody>\n",
       "    <tr>\n",
       "      <th>0</th>\n",
       "      <td>1.0</td>\n",
       "      <td>1.031908</td>\n",
       "      <td>1.010159</td>\n",
       "    </tr>\n",
       "    <tr>\n",
       "      <th>1</th>\n",
       "      <td>1.0</td>\n",
       "      <td>0.731565</td>\n",
       "      <td>0.962526</td>\n",
       "    </tr>\n",
       "    <tr>\n",
       "      <th>2</th>\n",
       "      <td>1.0</td>\n",
       "      <td>1.212114</td>\n",
       "      <td>1.391224</td>\n",
       "    </tr>\n",
       "  </tbody>\n",
       "</table>\n",
       "</div>\n",
       "      <button class=\"colab-df-convert\" onclick=\"convertToInteractive('df-3ffbe28c-720c-4894-8679-b093253b6b60')\"\n",
       "              title=\"Convert this dataframe to an interactive table.\"\n",
       "              style=\"display:none;\">\n",
       "        \n",
       "  <svg xmlns=\"http://www.w3.org/2000/svg\" height=\"24px\"viewBox=\"0 0 24 24\"\n",
       "       width=\"24px\">\n",
       "    <path d=\"M0 0h24v24H0V0z\" fill=\"none\"/>\n",
       "    <path d=\"M18.56 5.44l.94 2.06.94-2.06 2.06-.94-2.06-.94-.94-2.06-.94 2.06-2.06.94zm-11 1L8.5 8.5l.94-2.06 2.06-.94-2.06-.94L8.5 2.5l-.94 2.06-2.06.94zm10 10l.94 2.06.94-2.06 2.06-.94-2.06-.94-.94-2.06-.94 2.06-2.06.94z\"/><path d=\"M17.41 7.96l-1.37-1.37c-.4-.4-.92-.59-1.43-.59-.52 0-1.04.2-1.43.59L10.3 9.45l-7.72 7.72c-.78.78-.78 2.05 0 2.83L4 21.41c.39.39.9.59 1.41.59.51 0 1.02-.2 1.41-.59l7.78-7.78 2.81-2.81c.8-.78.8-2.07 0-2.86zM5.41 20L4 18.59l7.72-7.72 1.47 1.35L5.41 20z\"/>\n",
       "  </svg>\n",
       "      </button>\n",
       "      \n",
       "  <style>\n",
       "    .colab-df-container {\n",
       "      display:flex;\n",
       "      flex-wrap:wrap;\n",
       "      gap: 12px;\n",
       "    }\n",
       "\n",
       "    .colab-df-convert {\n",
       "      background-color: #E8F0FE;\n",
       "      border: none;\n",
       "      border-radius: 50%;\n",
       "      cursor: pointer;\n",
       "      display: none;\n",
       "      fill: #1967D2;\n",
       "      height: 32px;\n",
       "      padding: 0 0 0 0;\n",
       "      width: 32px;\n",
       "    }\n",
       "\n",
       "    .colab-df-convert:hover {\n",
       "      background-color: #E2EBFA;\n",
       "      box-shadow: 0px 1px 2px rgba(60, 64, 67, 0.3), 0px 1px 3px 1px rgba(60, 64, 67, 0.15);\n",
       "      fill: #174EA6;\n",
       "    }\n",
       "\n",
       "    [theme=dark] .colab-df-convert {\n",
       "      background-color: #3B4455;\n",
       "      fill: #D2E3FC;\n",
       "    }\n",
       "\n",
       "    [theme=dark] .colab-df-convert:hover {\n",
       "      background-color: #434B5C;\n",
       "      box-shadow: 0px 1px 3px 1px rgba(0, 0, 0, 0.15);\n",
       "      filter: drop-shadow(0px 1px 2px rgba(0, 0, 0, 0.3));\n",
       "      fill: #FFFFFF;\n",
       "    }\n",
       "  </style>\n",
       "\n",
       "      <script>\n",
       "        const buttonEl =\n",
       "          document.querySelector('#df-3ffbe28c-720c-4894-8679-b093253b6b60 button.colab-df-convert');\n",
       "        buttonEl.style.display =\n",
       "          google.colab.kernel.accessAllowed ? 'block' : 'none';\n",
       "\n",
       "        async function convertToInteractive(key) {\n",
       "          const element = document.querySelector('#df-3ffbe28c-720c-4894-8679-b093253b6b60');\n",
       "          const dataTable =\n",
       "            await google.colab.kernel.invokeFunction('convertToInteractive',\n",
       "                                                     [key], {});\n",
       "          if (!dataTable) return;\n",
       "\n",
       "          const docLinkHtml = 'Like what you see? Visit the ' +\n",
       "            '<a target=\"_blank\" href=https://colab.research.google.com/notebooks/data_table.ipynb>data table notebook</a>'\n",
       "            + ' to learn more about interactive tables.';\n",
       "          element.innerHTML = '';\n",
       "          dataTable['output_type'] = 'display_data';\n",
       "          await google.colab.output.renderOutput(dataTable, element);\n",
       "          const docLink = document.createElement('div');\n",
       "          docLink.innerHTML = docLinkHtml;\n",
       "          element.appendChild(docLink);\n",
       "        }\n",
       "      </script>\n",
       "    </div>\n",
       "  </div>\n",
       "  "
      ],
      "text/plain": [
       "    x0  flavanoids   proline\n",
       "0  1.0    1.031908  1.010159\n",
       "1  1.0    0.731565  0.962526\n",
       "2  1.0    1.212114  1.391224"
      ]
     },
     "execution_count": 221,
     "metadata": {},
     "output_type": "execute_result"
    }
   ],
   "source": [
    "X = df[['flavanoids', 'proline']]\n",
    "\n",
    "add_ones(X)\n",
    "X.head(3)"
   ]
  },
  {
   "cell_type": "markdown",
   "metadata": {
    "id": "L8pwihzfPPmB"
   },
   "source": [
    "#### Кодирование целевой переменной"
   ]
  },
  {
   "cell_type": "code",
   "execution_count": null,
   "metadata": {
    "id": "E2x4L6LDPSIL"
   },
   "outputs": [],
   "source": [
    "def ohe(y):\n",
    "  # количество примеров и количество классов\n",
    "  examples, features = y.shape[0], len(np.unique(y))\n",
    "  # нулевая матрица: количество наблюдений x количество признаков\n",
    "  zeros_matrix = np.zeros((examples, features))\n",
    "  # построчно проходимся по нулевой матрице и с помощью индекса заполняем соответствующее значение единицей\n",
    "  for i, (row, digit) in enumerate(zip(zeros_matrix, y)):\n",
    "    zeros_matrix[i][digit] = 1\n",
    "\n",
    "  return zeros_matrix"
   ]
  },
  {
   "cell_type": "code",
   "execution_count": null,
   "metadata": {
    "colab": {
     "base_uri": "https://localhost:8080/"
    },
    "id": "kwurFieJHjLD",
    "outputId": "f06705ab-1400-4438-9d65-0355f1574427"
   },
   "outputs": [
    {
     "data": {
      "text/plain": [
       "array([[1., 0., 0.],\n",
       "       [1., 0., 0.],\n",
       "       [1., 0., 0.]])"
      ]
     },
     "execution_count": 223,
     "metadata": {},
     "output_type": "execute_result"
    }
   ],
   "source": [
    "y = df['target']\n",
    "\n",
    "y_enc = ohe(df['target'])\n",
    "y_enc[:3]"
   ]
  },
  {
   "cell_type": "markdown",
   "metadata": {
    "id": "1ocH8Ch6LwFt"
   },
   "source": [
    "Класс LabelBinarizer"
   ]
  },
  {
   "cell_type": "code",
   "execution_count": null,
   "metadata": {
    "colab": {
     "base_uri": "https://localhost:8080/"
    },
    "id": "_15lZyVXIdRK",
    "outputId": "73cf03d3-7361-41bb-9d77-b939505d34a7"
   },
   "outputs": [
    {
     "data": {
      "text/plain": [
       "array([0, 1, 2])"
      ]
     },
     "execution_count": 224,
     "metadata": {},
     "output_type": "execute_result"
    }
   ],
   "source": [
    "from sklearn.preprocessing import LabelBinarizer\n",
    "\n",
    "lb = LabelBinarizer()\n",
    "lb.fit(y)\n",
    "lb.classes_"
   ]
  },
  {
   "cell_type": "code",
   "execution_count": null,
   "metadata": {
    "colab": {
     "base_uri": "https://localhost:8080/"
    },
    "id": "CURYzhIXJiOH",
    "outputId": "d9356f55-8d2e-4a5d-a6e3-0a774dcea570"
   },
   "outputs": [
    {
     "data": {
      "text/plain": [
       "array([[1, 0, 0],\n",
       "       [1, 0, 0],\n",
       "       [1, 0, 0],\n",
       "       [1, 0, 0],\n",
       "       [1, 0, 0]])"
      ]
     },
     "execution_count": 225,
     "metadata": {},
     "output_type": "execute_result"
    }
   ],
   "source": [
    "y_lb = lb.transform(y)\n",
    "y_lb[:5]"
   ]
  },
  {
   "cell_type": "markdown",
   "metadata": {
    "id": "IwOq23CzLSmH"
   },
   "source": [
    "#### Инициализация весов"
   ]
  },
  {
   "cell_type": "code",
   "execution_count": null,
   "metadata": {
    "colab": {
     "base_uri": "https://localhost:8080/"
    },
    "id": "8v8VlsziG2Uf",
    "outputId": "ce8989e9-3df9-4b92-b6d2-90563c6b3d98"
   },
   "outputs": [
    {
     "data": {
      "text/plain": [
       "array([[0., 0., 0.],\n",
       "       [0., 0., 0.],\n",
       "       [0., 0., 0.]])"
      ]
     },
     "execution_count": 226,
     "metadata": {},
     "output_type": "execute_result"
    }
   ],
   "source": [
    "# размерность матрицы весов:\n",
    "# количество признаков х количество классов\n",
    "thetas = np.zeros((3, 3))\n",
    "thetas"
   ]
  },
  {
   "cell_type": "markdown",
   "metadata": {
    "id": "PztUfQfwI1HF"
   },
   "source": [
    "#### Функция softmax"
   ]
  },
  {
   "cell_type": "code",
   "execution_count": null,
   "metadata": {
    "colab": {
     "base_uri": "https://localhost:8080/"
    },
    "id": "LQyRGHxIqZnB",
    "outputId": "b8079ded-adc8-4705-fd77-00e121ad4fdf"
   },
   "outputs": [
    {
     "data": {
      "text/plain": [
       "((178, 3), (3, 3))"
      ]
     },
     "execution_count": 227,
     "metadata": {},
     "output_type": "execute_result"
    }
   ],
   "source": [
    "X.shape, thetas.shape"
   ]
  },
  {
   "cell_type": "code",
   "execution_count": null,
   "metadata": {
    "colab": {
     "base_uri": "https://localhost:8080/"
    },
    "id": "PdoejARhpbm1",
    "outputId": "33197176-1171-4fda-aba0-2417d48ff686"
   },
   "outputs": [
    {
     "data": {
      "text/plain": [
       "(178, 3)"
      ]
     },
     "execution_count": 228,
     "metadata": {},
     "output_type": "execute_result"
    }
   ],
   "source": [
    "z = np.dot(-X, thetas)\n",
    "z.shape"
   ]
  },
  {
   "cell_type": "code",
   "execution_count": null,
   "metadata": {
    "colab": {
     "base_uri": "https://localhost:8080/"
    },
    "id": "C-LX66h4rKwh",
    "outputId": "d479c262-ee64-4c87-b975-e11f2bfc9f21"
   },
   "outputs": [
    {
     "data": {
      "text/plain": [
       "array([[0., 0., 0.],\n",
       "       [0., 0., 0.],\n",
       "       [0., 0., 0.],\n",
       "       [0., 0., 0.],\n",
       "       [0., 0., 0.]])"
      ]
     },
     "execution_count": 229,
     "metadata": {},
     "output_type": "execute_result"
    }
   ],
   "source": [
    "z[:5]"
   ]
  },
  {
   "cell_type": "code",
   "execution_count": null,
   "metadata": {
    "colab": {
     "base_uri": "https://localhost:8080/"
    },
    "id": "7k84szEWpvum",
    "outputId": "23eb2156-c7cb-4ad6-e882-72a5fb18b3af"
   },
   "outputs": [
    {
     "data": {
      "text/plain": [
       "array([[0.],\n",
       "       [0.],\n",
       "       [0.],\n",
       "       [0.],\n",
       "       [0.]])"
      ]
     },
     "execution_count": 230,
     "metadata": {},
     "output_type": "execute_result"
    }
   ],
   "source": [
    "# axis = -1 - это последняя ось\n",
    "# keepdims = True сохраняет размерность (в данном случае двумерный массив)\n",
    "np.max(z, axis = -1, keepdims = True)[:5]"
   ]
  },
  {
   "cell_type": "code",
   "execution_count": null,
   "metadata": {
    "colab": {
     "base_uri": "https://localhost:8080/"
    },
    "id": "kyHxtmLyprpK",
    "outputId": "eaecf542-bdea-4e48-a1ce-bef2c0e1dd2a"
   },
   "outputs": [
    {
     "data": {
      "text/plain": [
       "array([[0., 0., 0.],\n",
       "       [0., 0., 0.],\n",
       "       [0., 0., 0.],\n",
       "       [0., 0., 0.],\n",
       "       [0., 0., 0.]])"
      ]
     },
     "execution_count": 231,
     "metadata": {},
     "output_type": "execute_result"
    }
   ],
   "source": [
    "z = z - np.max(z, axis = -1, keepdims = True)\n",
    "z[:5]"
   ]
  },
  {
   "cell_type": "code",
   "execution_count": null,
   "metadata": {
    "colab": {
     "base_uri": "https://localhost:8080/"
    },
    "id": "e1_8LmrC9oEO",
    "outputId": "9ab79fde-e4bd-4ab2-d67c-8bee06dc4d93"
   },
   "outputs": [
    {
     "data": {
      "text/plain": [
       "array([ -8,  -3,  -6, -13,   0])"
      ]
     },
     "execution_count": 232,
     "metadata": {},
     "output_type": "execute_result"
    }
   ],
   "source": [
    "arr = np.array([-2, 3, 0, -7, 6])\n",
    "arr - max(arr)"
   ]
  },
  {
   "cell_type": "code",
   "execution_count": null,
   "metadata": {
    "colab": {
     "base_uri": "https://localhost:8080/"
    },
    "id": "zR6iwjpDqn7e",
    "outputId": "183e134a-1aa2-4519-a3a6-33a2a0bd3a71"
   },
   "outputs": [
    {
     "data": {
      "text/plain": [
       "array([[1., 1., 1.],\n",
       "       [1., 1., 1.],\n",
       "       [1., 1., 1.],\n",
       "       [1., 1., 1.],\n",
       "       [1., 1., 1.]])"
      ]
     },
     "execution_count": 233,
     "metadata": {},
     "output_type": "execute_result"
    }
   ],
   "source": [
    "numerator = np.exp(z)\n",
    "numerator[:5]"
   ]
  },
  {
   "cell_type": "code",
   "execution_count": null,
   "metadata": {
    "colab": {
     "base_uri": "https://localhost:8080/"
    },
    "id": "zPlnSSabquPy",
    "outputId": "885dae61-24ce-4e64-d788-de115c5334c9"
   },
   "outputs": [
    {
     "data": {
      "text/plain": [
       "array([[3.],\n",
       "       [3.],\n",
       "       [3.],\n",
       "       [3.],\n",
       "       [3.]])"
      ]
     },
     "execution_count": 234,
     "metadata": {},
     "output_type": "execute_result"
    }
   ],
   "source": [
    "denominator = np.sum(numerator, axis = -1, keepdims = True)\n",
    "denominator[:5]"
   ]
  },
  {
   "cell_type": "code",
   "execution_count": null,
   "metadata": {
    "colab": {
     "base_uri": "https://localhost:8080/"
    },
    "id": "x9NxYzZZqycV",
    "outputId": "49c20705-fffe-4b28-fedc-c2c997c2d6b2"
   },
   "outputs": [
    {
     "data": {
      "text/plain": [
       "array([[0.33333333, 0.33333333, 0.33333333],\n",
       "       [0.33333333, 0.33333333, 0.33333333],\n",
       "       [0.33333333, 0.33333333, 0.33333333],\n",
       "       [0.33333333, 0.33333333, 0.33333333],\n",
       "       [0.33333333, 0.33333333, 0.33333333]])"
      ]
     },
     "execution_count": 235,
     "metadata": {},
     "output_type": "execute_result"
    }
   ],
   "source": [
    "softmax = numerator / denominator\n",
    "softmax[:5]"
   ]
  },
  {
   "cell_type": "code",
   "execution_count": null,
   "metadata": {
    "colab": {
     "base_uri": "https://localhost:8080/"
    },
    "id": "HKH2Ks2jM4hc",
    "outputId": "d1715151-d6a3-4e8e-dd64-8d46d0ffbce8"
   },
   "outputs": [
    {
     "data": {
      "text/plain": [
       "array([0.2312239 , 0.62853172, 0.14024438])"
      ]
     },
     "execution_count": 236,
     "metadata": {},
     "output_type": "execute_result"
    }
   ],
   "source": [
    "z = ([1, 2, 0.5])\n",
    "np.exp(z) / sum(np.exp(z))"
   ]
  },
  {
   "cell_type": "code",
   "execution_count": null,
   "metadata": {
    "id": "5SEt076gKWLu"
   },
   "outputs": [],
   "source": [
    "def stable_softmax(x, thetas):\n",
    "  z = np.dot(-x, thetas)\n",
    "  z = z - np.max(z, axis = -1, keepdims = True)\n",
    "  numerator = np.exp(z)\n",
    "  denominator = np.sum(numerator, axis = -1, keepdims = True)\n",
    "  softmax = numerator / denominator\n",
    "  return softmax"
   ]
  },
  {
   "cell_type": "code",
   "execution_count": null,
   "metadata": {
    "colab": {
     "base_uri": "https://localhost:8080/"
    },
    "id": "y1Wh1h5GHJx5",
    "outputId": "e1a805b8-96a5-43e9-8dd2-0d6f6896561a"
   },
   "outputs": [
    {
     "data": {
      "text/plain": [
       "array([[0.33333333, 0.33333333, 0.33333333],\n",
       "       [0.33333333, 0.33333333, 0.33333333],\n",
       "       [0.33333333, 0.33333333, 0.33333333]])"
      ]
     },
     "execution_count": 238,
     "metadata": {},
     "output_type": "execute_result"
    }
   ],
   "source": [
    "probs = stable_softmax(X, thetas)\n",
    "probs[:3]"
   ]
  },
  {
   "cell_type": "markdown",
   "metadata": {
    "id": "-wHq5kCsPUGH"
   },
   "source": [
    "#### Функция потерь"
   ]
  },
  {
   "cell_type": "code",
   "execution_count": null,
   "metadata": {
    "colab": {
     "base_uri": "https://localhost:8080/"
    },
    "id": "p3vwpStifXoM",
    "outputId": "443d4148-8ceb-4020-ed81-f0a598a2c00b"
   },
   "outputs": [
    {
     "data": {
      "text/plain": [
       "1.2039728043259361"
      ]
     },
     "execution_count": 239,
     "metadata": {},
     "output_type": "execute_result"
    }
   ],
   "source": [
    "y_ohe = np.array([1, 0, 0])\n",
    "softmax = np.array([0.3, 0.4, 0.4])\n",
    "\n",
    "-np.sum(y_ohe * np.log(softmax))"
   ]
  },
  {
   "cell_type": "code",
   "execution_count": null,
   "metadata": {
    "colab": {
     "base_uri": "https://localhost:8080/"
    },
    "id": "oN6umQvyf_pd",
    "outputId": "34ab17c2-3c82-46e9-8eee-44e02d72685c"
   },
   "outputs": [
    {
     "data": {
      "text/plain": [
       "0.916290731874155"
      ]
     },
     "execution_count": 240,
     "metadata": {},
     "output_type": "execute_result"
    }
   ],
   "source": [
    "y_ohe = np.array([1, 0, 0])\n",
    "softmax = np.array([0.4, 0.3, 0.4])\n",
    "\n",
    "-np.sum(y_ohe * np.log(softmax))"
   ]
  },
  {
   "cell_type": "code",
   "execution_count": null,
   "metadata": {
    "colab": {
     "base_uri": "https://localhost:8080/",
     "height": 295
    },
    "id": "9fTuI1wjgYRk",
    "outputId": "1ac75a74-0769-40e0-b757-bc4fc35d942b"
   },
   "outputs": [
    {
     "data": {
      "image/png": "[encoded data removed]",
      "text/plain": [
       "<Figure size 432x288 with 1 Axes>"
      ]
     },
     "metadata": {
      "needs_background": "light"
     },
     "output_type": "display_data"
    }
   ],
   "source": [
    "x_arr = np.linspace(0.001,1, 100)\n",
    "sns.lineplot(x=x_arr,y=-np.log(x_arr))\n",
    "plt.title('Plot of -log(x)')\n",
    "plt.xlabel('x')\n",
    "plt.ylabel('-log(x)');"
   ]
  },
  {
   "cell_type": "code",
   "execution_count": null,
   "metadata": {
    "id": "Kih9X-GraCrl"
   },
   "outputs": [],
   "source": [
    "# добавим константу в логарифм для вычислительной устойчивости\n",
    "def cross_entropy(probs, y_enc, epsilon = 1e-9):\n",
    "  n = probs.shape[0]\n",
    "  ce = -np.sum(y_enc * np.log(probs + epsilon)) / n\n",
    "  return ce"
   ]
  },
  {
   "cell_type": "code",
   "execution_count": null,
   "metadata": {
    "colab": {
     "base_uri": "https://localhost:8080/"
    },
    "id": "pZTM_BjNaYyO",
    "outputId": "444f83ca-da88-4297-fb25-9ff6d607702f"
   },
   "outputs": [
    {
     "data": {
      "text/plain": [
       "1.0986122856681098"
      ]
     },
     "execution_count": 243,
     "metadata": {},
     "output_type": "execute_result"
    }
   ],
   "source": [
    "ce = cross_entropy(probs, y_enc)\n",
    "ce"
   ]
  },
  {
   "cell_type": "markdown",
   "metadata": {
    "id": "ne824H-aPivf"
   },
   "source": [
    "#### Градиент"
   ]
  },
  {
   "cell_type": "code",
   "execution_count": null,
   "metadata": {
    "id": "Hvu4WQNHLOts"
   },
   "outputs": [],
   "source": [
    "def gradient_softmax(X, probs, y_enc):\n",
    "  return np.array(1 / probs.shape[0] * np.dot(X.T, (y_enc - probs)))"
   ]
  },
  {
   "cell_type": "code",
   "execution_count": null,
   "metadata": {
    "colab": {
     "base_uri": "https://localhost:8080/"
    },
    "id": "JgxUnX6hPojC",
    "outputId": "04213da0-ff31-4adb-8426-945bde829baf"
   },
   "outputs": [
    {
     "data": {
      "text/plain": [
       "array([[-0.00187266,  0.06554307, -0.06367041],\n",
       "       [ 0.31627721,  0.02059572, -0.33687293],\n",
       "       [ 0.38820566, -0.28801792, -0.10018774]])"
      ]
     },
     "execution_count": 245,
     "metadata": {},
     "output_type": "execute_result"
    }
   ],
   "source": [
    "gradient_softmax(X, probs, y_enc)"
   ]
  },
  {
   "cell_type": "markdown",
   "metadata": {
    "id": "Hofqq5CcPzjr"
   },
   "source": [
    "#### Обучение модели и прогноз"
   ]
  },
  {
   "cell_type": "code",
   "execution_count": null,
   "metadata": {
    "id": "ZCuIrprVMP4d"
   },
   "outputs": [],
   "source": [
    "loss_history = []\n",
    "\n",
    "# в цикле\n",
    "for i in range(30000):\n",
    "  # рассчитаем прогнозное значение с текущими весами\n",
    "  probs = stable_softmax(X, thetas)\n",
    "  # посчитаем уровень ошибки при текущем прогнозе\n",
    "  loss_history.append(cross_entropy(probs, y_enc, epsilon = 1e-9))\n",
    "  # рассчитаем градиент\n",
    "  grad = gradient_softmax(X, probs, y_enc)\n",
    "  # используем градиент для улучшения весов модели\n",
    "  thetas = thetas - 0.002 * grad"
   ]
  },
  {
   "cell_type": "code",
   "execution_count": null,
   "metadata": {
    "colab": {
     "base_uri": "https://localhost:8080/"
    },
    "id": "X7Kpltn-NDVc",
    "outputId": "3367ceb4-803e-40fe-e654-c074d5ea159a"
   },
   "outputs": [
    {
     "data": {
      "text/plain": [
       "array([[ 0.11290134, -0.90399727,  0.79109593],\n",
       "       [-1.7550965 , -0.7857371 ,  2.5408336 ],\n",
       "       [-1.93839311,  1.77140542,  0.16698769]])"
      ]
     },
     "execution_count": 247,
     "metadata": {},
     "output_type": "execute_result"
    }
   ],
   "source": [
    "thetas"
   ]
  },
  {
   "cell_type": "code",
   "execution_count": null,
   "metadata": {
    "colab": {
     "base_uri": "https://localhost:8080/"
    },
    "id": "QOq04XxdNTO2",
    "outputId": "c2baa91b-5773-40c2-9ded-6a0688e36b87"
   },
   "outputs": [
    {
     "data": {
      "text/plain": [
       "(1.0986122856681098, 0.2569641080523888)"
      ]
     },
     "execution_count": 248,
     "metadata": {},
     "output_type": "execute_result"
    }
   ],
   "source": [
    "loss_history[0], loss_history[-1]"
   ]
  },
  {
   "cell_type": "code",
   "execution_count": null,
   "metadata": {
    "id": "LlANx8lqNYHq"
   },
   "outputs": [],
   "source": [
    "y_pred = np.argmax(stable_softmax(X, thetas), axis = 1)"
   ]
  },
  {
   "cell_type": "code",
   "execution_count": null,
   "metadata": {
    "colab": {
     "base_uri": "https://localhost:8080/"
    },
    "id": "PceN8MJRS__l",
    "outputId": "2a9b9ff6-8dfe-4ec7-dad3-8962279ab34e"
   },
   "outputs": [
    {
     "data": {
      "text/plain": [
       "0.9044943820224719"
      ]
     },
     "execution_count": 250,
     "metadata": {},
     "output_type": "execute_result"
    }
   ],
   "source": [
    "accuracy_score(y, y_pred)"
   ]
  },
  {
   "cell_type": "code",
   "execution_count": null,
   "metadata": {
    "colab": {
     "base_uri": "https://localhost:8080/",
     "height": 143
    },
    "id": "Mc_QYBFxU9uK",
    "outputId": "e3be6be4-6a28-460c-bbbe-cd813ff40ed9"
   },
   "outputs": [
    {
     "data": {
      "text/html": [
       "\n",
       "  <div id=\"df-e8949754-dc16-4065-a983-237e7887f25a\">\n",
       "    <div class=\"colab-df-container\">\n",
       "      <div>\n",
       "<style scoped>\n",
       "    .dataframe tbody tr th:only-of-type {\n",
       "        vertical-align: middle;\n",
       "    }\n",
       "\n",
       "    .dataframe tbody tr th {\n",
       "        vertical-align: top;\n",
       "    }\n",
       "\n",
       "    .dataframe thead th {\n",
       "        text-align: right;\n",
       "    }\n",
       "</style>\n",
       "<table border=\"1\" class=\"dataframe\">\n",
       "  <thead>\n",
       "    <tr style=\"text-align: right;\">\n",
       "      <th></th>\n",
       "      <th>Forecast 0</th>\n",
       "      <th>Forecast 1</th>\n",
       "      <th>Forecast 2</th>\n",
       "    </tr>\n",
       "  </thead>\n",
       "  <tbody>\n",
       "    <tr>\n",
       "      <th>Actual 0</th>\n",
       "      <td>56</td>\n",
       "      <td>3</td>\n",
       "      <td>0</td>\n",
       "    </tr>\n",
       "    <tr>\n",
       "      <th>Actual 1</th>\n",
       "      <td>3</td>\n",
       "      <td>62</td>\n",
       "      <td>6</td>\n",
       "    </tr>\n",
       "    <tr>\n",
       "      <th>Actual 2</th>\n",
       "      <td>0</td>\n",
       "      <td>5</td>\n",
       "      <td>43</td>\n",
       "    </tr>\n",
       "  </tbody>\n",
       "</table>\n",
       "</div>\n",
       "      <button class=\"colab-df-convert\" onclick=\"convertToInteractive('df-e8949754-dc16-4065-a983-237e7887f25a')\"\n",
       "              title=\"Convert this dataframe to an interactive table.\"\n",
       "              style=\"display:none;\">\n",
       "        \n",
       "  <svg xmlns=\"http://www.w3.org/2000/svg\" height=\"24px\"viewBox=\"0 0 24 24\"\n",
       "       width=\"24px\">\n",
       "    <path d=\"M0 0h24v24H0V0z\" fill=\"none\"/>\n",
       "    <path d=\"M18.56 5.44l.94 2.06.94-2.06 2.06-.94-2.06-.94-.94-2.06-.94 2.06-2.06.94zm-11 1L8.5 8.5l.94-2.06 2.06-.94-2.06-.94L8.5 2.5l-.94 2.06-2.06.94zm10 10l.94 2.06.94-2.06 2.06-.94-2.06-.94-.94-2.06-.94 2.06-2.06.94z\"/><path d=\"M17.41 7.96l-1.37-1.37c-.4-.4-.92-.59-1.43-.59-.52 0-1.04.2-1.43.59L10.3 9.45l-7.72 7.72c-.78.78-.78 2.05 0 2.83L4 21.41c.39.39.9.59 1.41.59.51 0 1.02-.2 1.41-.59l7.78-7.78 2.81-2.81c.8-.78.8-2.07 0-2.86zM5.41 20L4 18.59l7.72-7.72 1.47 1.35L5.41 20z\"/>\n",
       "  </svg>\n",
       "      </button>\n",
       "      \n",
       "  <style>\n",
       "    .colab-df-container {\n",
       "      display:flex;\n",
       "      flex-wrap:wrap;\n",
       "      gap: 12px;\n",
       "    }\n",
       "\n",
       "    .colab-df-convert {\n",
       "      background-color: #E8F0FE;\n",
       "      border: none;\n",
       "      border-radius: 50%;\n",
       "      cursor: pointer;\n",
       "      display: none;\n",
       "      fill: #1967D2;\n",
       "      height: 32px;\n",
       "      padding: 0 0 0 0;\n",
       "      width: 32px;\n",
       "    }\n",
       "\n",
       "    .colab-df-convert:hover {\n",
       "      background-color: #E2EBFA;\n",
       "      box-shadow: 0px 1px 2px rgba(60, 64, 67, 0.3), 0px 1px 3px 1px rgba(60, 64, 67, 0.15);\n",
       "      fill: #174EA6;\n",
       "    }\n",
       "\n",
       "    [theme=dark] .colab-df-convert {\n",
       "      background-color: #3B4455;\n",
       "      fill: #D2E3FC;\n",
       "    }\n",
       "\n",
       "    [theme=dark] .colab-df-convert:hover {\n",
       "      background-color: #434B5C;\n",
       "      box-shadow: 0px 1px 3px 1px rgba(0, 0, 0, 0.15);\n",
       "      filter: drop-shadow(0px 1px 2px rgba(0, 0, 0, 0.3));\n",
       "      fill: #FFFFFF;\n",
       "    }\n",
       "  </style>\n",
       "\n",
       "      <script>\n",
       "        const buttonEl =\n",
       "          document.querySelector('#df-e8949754-dc16-4065-a983-237e7887f25a button.colab-df-convert');\n",
       "        buttonEl.style.display =\n",
       "          google.colab.kernel.accessAllowed ? 'block' : 'none';\n",
       "\n",
       "        async function convertToInteractive(key) {\n",
       "          const element = document.querySelector('#df-e8949754-dc16-4065-a983-237e7887f25a');\n",
       "          const dataTable =\n",
       "            await google.colab.kernel.invokeFunction('convertToInteractive',\n",
       "                                                     [key], {});\n",
       "          if (!dataTable) return;\n",
       "\n",
       "          const docLinkHtml = 'Like what you see? Visit the ' +\n",
       "            '<a target=\"_blank\" href=https://colab.research.google.com/notebooks/data_table.ipynb>data table notebook</a>'\n",
       "            + ' to learn more about interactive tables.';\n",
       "          element.innerHTML = '';\n",
       "          dataTable['output_type'] = 'display_data';\n",
       "          await google.colab.output.renderOutput(dataTable, element);\n",
       "          const docLink = document.createElement('div');\n",
       "          docLink.innerHTML = docLinkHtml;\n",
       "          element.appendChild(docLink);\n",
       "        }\n",
       "      </script>\n",
       "    </div>\n",
       "  </div>\n",
       "  "
      ],
      "text/plain": [
       "          Forecast 0  Forecast 1  Forecast 2\n",
       "Actual 0          56           3           0\n",
       "Actual 1           3          62           6\n",
       "Actual 2           0           5          43"
      ]
     },
     "execution_count": 251,
     "metadata": {},
     "output_type": "execute_result"
    }
   ],
   "source": [
    "pd.DataFrame(confusion_matrix(y, y_pred),\n",
    "             columns = ['Forecast 0', 'Forecast 1', 'Forecast 2'],\n",
    "             index = ['Actual 0', 'Actual 1', 'Actual 2'])"
   ]
  },
  {
   "cell_type": "markdown",
   "metadata": {
    "id": "iie0tDdGbwKs"
   },
   "source": [
    "#### Написание класса"
   ]
  },
  {
   "cell_type": "code",
   "execution_count": null,
   "metadata": {
    "id": "jXOhaQGTE5de"
   },
   "outputs": [],
   "source": [
    "class SoftmaxLogReg():\n",
    "\n",
    "  def __init__(self):\n",
    "    self.loss_ = None\n",
    "    self.thetas_ = None\n",
    "\n",
    "  def fit(self, x, y, iter = 30000, learning_rate = 0.002):\n",
    "\n",
    "    loss_history = []\n",
    "\n",
    "    self.add_ones(x)\n",
    "    y_enc = self.ohe(y)\n",
    "    thetas = np.zeros((x.shape[1], y_enc.shape[1]))\n",
    "\n",
    "    for i in range(iter):\n",
    "      probs = self.stable_softmax(x, thetas)\n",
    "      loss_history.append(self.cross_entropy(probs, y_enc, epsilon = 1e-9))\n",
    "      grad = self.gradient_softmax(x, probs, y_enc)\n",
    "      thetas = thetas - 0.002 * grad\n",
    "\n",
    "      self.thetas_ = thetas\n",
    "      self.loss_ = loss_history\n",
    "\n",
    "  def predict(self, x, y):\n",
    "    return np.argmax(self.stable_softmax(x, thetas), axis = 1)\n",
    "\n",
    "  def stable_softmax(self, x, thetas):\n",
    "    z = np.dot(-x, thetas)\n",
    "    z = z - np.max(z, axis = -1, keepdims = True)\n",
    "    numerator = np.exp(z)\n",
    "    denominator = np.sum(numerator, axis = -1, keepdims = True)\n",
    "    softmax = numerator / denominator\n",
    "    return softmax\n",
    "\n",
    "  def cross_entropy(self, probs, y_enc, epsilon = 1e-9):\n",
    "    n = probs.shape[0]\n",
    "    ce = -np.sum(y_enc * np.log(probs + epsilon)) / n\n",
    "    return ce\n",
    "\n",
    "  def gradient_softmax(self, x, probs, y_enc):\n",
    "    return np.array(1 / probs.shape[0] * np.dot(x.T, (y_enc - probs)))\n",
    "\n",
    "  def add_ones(self, x):\n",
    "    return x.insert(0,'x0', np.ones(x.shape[0]))\n",
    "\n",
    "  def ohe(self, y):\n",
    "    examples, features = y.shape[0], len(np.unique(y))\n",
    "    zeros_matrix = np.zeros((examples, features))\n",
    "    for i, (row, digit) in enumerate(zip(zeros_matrix, y)):\n",
    "      zeros_matrix[i][digit] = 1\n",
    "\n",
    "    return zeros_matrix"
   ]
  },
  {
   "cell_type": "code",
   "execution_count": null,
   "metadata": {
    "colab": {
     "base_uri": "https://localhost:8080/"
    },
    "id": "9AYPmxXRPhB_",
    "outputId": "b9765e4d-08bc-4b0e-97f2-44739134b7c8"
   },
   "outputs": [
    {
     "data": {
      "text/plain": [
       "(array([[ 0.11290134, -0.90399727,  0.79109593],\n",
       "        [-1.7550965 , -0.7857371 ,  2.5408336 ],\n",
       "        [-1.93839311,  1.77140542,  0.16698769]]), 0.2569641080523888)"
      ]
     },
     "execution_count": 253,
     "metadata": {},
     "output_type": "execute_result"
    }
   ],
   "source": [
    "X = df[['flavanoids', 'proline']]\n",
    "y = df['target']\n",
    "\n",
    "model = SoftmaxLogReg()\n",
    "\n",
    "model.fit(X, y)\n",
    "model.thetas_, model.loss_[-1]"
   ]
  },
  {
   "cell_type": "code",
   "execution_count": null,
   "metadata": {
    "colab": {
     "base_uri": "https://localhost:8080/"
    },
    "id": "eZ4g2IncPrdF",
    "outputId": "593f6121-78f2-4208-a234-e1bd8173f4fc"
   },
   "outputs": [
    {
     "data": {
      "text/plain": [
       "0.9044943820224719"
      ]
     },
     "execution_count": 254,
     "metadata": {},
     "output_type": "execute_result"
    }
   ],
   "source": [
    "y_pred = model.predict(X, y)\n",
    "\n",
    "accuracy_score(y, y_pred)"
   ]
  },
  {
   "cell_type": "markdown",
   "metadata": {
    "id": "qd_gI0mXY-aW"
   },
   "source": [
    "#### Сравнение с sklearn"
   ]
  },
  {
   "cell_type": "code",
   "execution_count": null,
   "metadata": {
    "colab": {
     "base_uri": "https://localhost:8080/"
    },
    "id": "HK9kPQf7ZAXP",
    "outputId": "fd91e8bc-4b01-4d37-e553-1bd28b605acb"
   },
   "outputs": [
    {
     "data": {
      "text/plain": [
       "(array([ 0.09046097,  1.12593099, -1.21639196]),\n",
       " array([[ 1.86357908,  1.89698292],\n",
       "        [ 0.86696131, -1.43973164],\n",
       "        [-2.73054039, -0.45725129]]))"
      ]
     },
     "execution_count": 255,
     "metadata": {},
     "output_type": "execute_result"
    }
   ],
   "source": [
    "X = df[['flavanoids', 'proline']]\n",
    "y = df['target']\n",
    "\n",
    "# создадим объект класса LogisticRegression и запишем его в переменную model\n",
    "model = LogisticRegression(multi_class = 'multinomial')\n",
    "\n",
    "# обучим нашу модель\n",
    "model.fit(X, y)\n",
    "\n",
    "# посмотрим на получившиеся веса модели\n",
    "model.intercept_, model.coef_"
   ]
  },
  {
   "cell_type": "code",
   "execution_count": null,
   "metadata": {
    "colab": {
     "base_uri": "https://localhost:8080/"
    },
    "id": "vJ2_mjAoZ21g",
    "outputId": "4ccce8d0-08a5-49a2-e08b-ab9e6f9a3dc8"
   },
   "outputs": [
    {
     "data": {
      "text/plain": [
       "0.898876404494382"
      ]
     },
     "execution_count": 256,
     "metadata": {},
     "output_type": "execute_result"
    }
   ],
   "source": [
    "y_pred = model.predict(X)\n",
    "\n",
    "accuracy_score(y, y_pred)"
   ]
  },
  {
   "cell_type": "code",
   "execution_count": null,
   "metadata": {
    "id": "P5YNlEDPZ6Ic"
   },
   "outputs": [],
   "source": []
  }
 ],
 "metadata": {
  "colab": {
   "provenance": [],
   "toc_visible": true
  },
  "kernelspec": {
   "display_name": "Python 3 (ipykernel)",
   "language": "python",
   "name": "python3"
  },
  "language_info": {
   "codemirror_mode": {
    "name": "ipython",
    "version": 3
   },
   "file_extension": ".py",
   "mimetype": "text/x-python",
   "name": "python",
   "nbconvert_exporter": "python",
   "pygments_lexer": "ipython3",
   "version": "3.11.4"
  }
 },
 "nbformat": 4,
 "nbformat_minor": 4
}
