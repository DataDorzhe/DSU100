{
 "cells": [
  {
   "cell_type": "markdown",
   "metadata": {
    "id": "dtNTB-HqRQol"
   },
   "source": [
    "https://bit.ly/FEML-2-CLS"
   ]
  },
  {
   "cell_type": "markdown",
   "metadata": {
    "id": "vOEazaBrG8mh"
   },
   "source": [
    "## Классификация. Логистическая регрессия и SVM"
   ]
  },
  {
   "cell_type": "markdown",
   "metadata": {
    "id": "QrN212kyG8mi"
   },
   "source": [
    "<p style=\"align: center;\"><img align=center src=\"https://sun9-3.userapi.com/impg/rMxsV1l3x_NgXZnO2BR_Z_vQ5CMfAysGMkpVrg/5vII3kSwywk.jpg?size=1233x403&quality=96&proxy=1&sign=607ece16ae211ad91d8c9a1ba285c822&type=album\"  width=900></p>\n",
    "<div class=\"alert alert-info\">\n",
    "    <h2>Некоторые важные определения</h2>\n",
    "<ul>\n",
    " <li><b>Классификация</b> - задача о разделении классов, по заданному набору признаков.</li>\n",
    "    <li><b>Логистическая регрессия</b>  - это статистическая модель, используемая для прогнозирования вероятности возникновения некоторого события путём его сравнения с логистической кривой.</li>\n",
    "    <li><b>Метод опорных векторов (англ. SVM)</b>  - поиск тем или иным способом разделяющей гиперплоскости между классами.</li>\n",
    "    <li><b>Сигмоида (логистическая функция)</b>  - гладкая монотонная возрастающая нелинейная функция, которая часто применяется для «сглаживания» значений некоторой величины.</li>\n",
    "</ul>\n",
    "</div>"
   ]
  },
  {
   "cell_type": "markdown",
   "metadata": {
    "id": "zf4kEPm-G8mi"
   },
   "source": [
    "\n",
    "<h1><u>План урока</u></h1>\n",
    "\n",
    "<p><font size=\"3\" face=\"Arial\">\n",
    "<ul type=\"square\"><a href=\"#1\"></a>\n",
    "    <li><a href=\"#1\">Логистическая регрессия</a></li>\n",
    "        <ul>\n",
    "            <li><a href=\"#2\">Теория. Масимизация правдоподобия</a></li>\n",
    "            <li><a href=\"#3\">Практика. Регрессия \"из коробки\"</a></li>    \n",
    "    </ul>\n",
    "    \n",
    "    \n",
    "    \n",
    "   \n",
    "\n",
    "<li><a href=\"#4\">Метод опорных векторов. SVM.</a></li>\n",
    "<ul><li><a href=\"#5\">Теория. Проблема линейной неразделимости. Ядра</a></li>\n",
    "            <li><a href=\"#6\">Практика. Задача разделения ирисов Фишера</a></li>    \n",
    "    </ul>\n",
    "\n",
    "\n",
    "</ul></font></p>"
   ]
  },
  {
   "cell_type": "markdown",
   "metadata": {
    "id": "fi_a755-G8mj"
   },
   "source": [
    "<h2>Логистическая регрессия</h2>\n",
    "\n",
    "<p id=\"1\">Рассмотрим задачу логистической регрессии. В данной задаче ключевую роль играет функция <i><b>сигмоида</b></i> (логистическая функция), которая используется для прогнозирования вероятности возникновения некоторого события по значениям множества признаков:\n",
    "   $$\\sigma (z) = \\frac{1}{1+e^{-z}}\\text{  ,  } z \\in (-\\infty, +\\infty) \\text{  ,  } \\sigma(z) \\in (-1, 1)$$\n",
    "<p style=\"align: center;\"><img align=center src=\"https://upload.wikimedia.org/wikipedia/commons/a/ac/Logistic-curve.png\"  width=400></p>\n",
    "\n",
    "Как и в задаче линейной регрессии задаем аргумент\n",
    "$z=\\theta^{T}x = \\theta_{0} + \\theta_{1}x_{1} + ... + \\theta_{n}x_n$, где $\\theta_{i}$ - параметры модели (веса), а $x_i$ - известные нам признаки.\n",
    "<p id=\"2\"><h3>Теория. Масимизация правдоподобия</h3>\n",
    "Чтобы модель могла обучаться, ей необходимо получать \"штраф\" за то, что она ошибается. Подбираем такой параметр $\\theta$, чтобы наша функция правдоподобия $L(\\theta)$ была максимальной:\n",
    "$$\\hat{\\theta} = argmax_{\\theta}L(\\theta) = argmax_{\\theta} \\prod\\limits^{m}_{i=1}P(y=y_{i} | x = x_i)$$\n",
    "</p>\n",
    "После логарифмирования получаем:\n",
    "$$lnL(\\theta)=\\sum\\limits_{i=1}^mlogP(y=y_i | x=x_i) = \\sum\\limits_{i=1}^m y_i lnf(\\theta^Tx_i) + (1-y_i)ln(1-f(\\theta^Tx_i))$$\n",
    "где $y_i$ - индикаторная переменная. Если предсказание верно - $y_i = 1$, то в сумме остается только первый член, а если нет, то второй."
   ]
  },
  {
   "cell_type": "markdown",
   "metadata": {
    "id": "0PQ91uuFG8mj"
   },
   "source": [
    "### Практика. Регрессия \"из коробки\"\n",
    "<p id=\"3\">Решаем задачу о предсказании пола спортсмена.</p>"
   ]
  },
  {
   "cell_type": "code",
   "execution_count": 1,
   "metadata": {
    "execution": {
     "iopub.execute_input": "2023-09-03T17:07:22.983068Z",
     "iopub.status.busy": "2023-09-03T17:07:22.982072Z",
     "iopub.status.idle": "2023-09-03T17:07:24.017876Z",
     "shell.execute_reply": "2023-09-03T17:07:24.017876Z",
     "shell.execute_reply.started": "2023-09-03T17:07:22.983068Z"
    },
    "id": "gV3A-0MtG8mW"
   },
   "outputs": [],
   "source": [
    "import numpy as np\n",
    "import pandas as pd # Для работы с данными\n",
    "import scipy.stats # При работе со статистикой\n",
    "import matplotlib.pyplot as plt  # Библиотека для визуализации результатов"
   ]
  },
  {
   "cell_type": "code",
   "execution_count": 2,
   "metadata": {
    "colab": {
     "base_uri": "https://localhost:8080/",
     "height": 206
    },
    "execution": {
     "iopub.execute_input": "2023-09-03T17:07:24.018877Z",
     "iopub.status.busy": "2023-09-03T17:07:24.018877Z",
     "iopub.status.idle": "2023-09-03T17:07:24.990807Z",
     "shell.execute_reply": "2023-09-03T17:07:24.989682Z",
     "shell.execute_reply.started": "2023-09-03T17:07:24.018877Z"
    },
    "id": "iJgcTGp9G8mk",
    "outputId": "519aaaeb-16cb-484f-c528-7bf7594ebe0d"
   },
   "outputs": [
    {
     "data": {
      "text/html": [
       "<div>\n",
       "<style scoped>\n",
       "    .dataframe tbody tr th:only-of-type {\n",
       "        vertical-align: middle;\n",
       "    }\n",
       "\n",
       "    .dataframe tbody tr th {\n",
       "        vertical-align: top;\n",
       "    }\n",
       "\n",
       "    .dataframe thead th {\n",
       "        text-align: right;\n",
       "    }\n",
       "</style>\n",
       "<table border=\"1\" class=\"dataframe\">\n",
       "  <thead>\n",
       "    <tr style=\"text-align: right;\">\n",
       "      <th></th>\n",
       "      <th>id</th>\n",
       "      <th>name</th>\n",
       "      <th>nationality</th>\n",
       "      <th>sex</th>\n",
       "      <th>dob</th>\n",
       "      <th>height</th>\n",
       "      <th>weight</th>\n",
       "      <th>sport</th>\n",
       "      <th>gold</th>\n",
       "      <th>silver</th>\n",
       "      <th>bronze</th>\n",
       "    </tr>\n",
       "  </thead>\n",
       "  <tbody>\n",
       "    <tr>\n",
       "      <th>0</th>\n",
       "      <td>736041664</td>\n",
       "      <td>A Jesus Garcia</td>\n",
       "      <td>ESP</td>\n",
       "      <td>male</td>\n",
       "      <td>10/17/69</td>\n",
       "      <td>1.72</td>\n",
       "      <td>64.0</td>\n",
       "      <td>athletics</td>\n",
       "      <td>0</td>\n",
       "      <td>0</td>\n",
       "      <td>0</td>\n",
       "    </tr>\n",
       "    <tr>\n",
       "      <th>1</th>\n",
       "      <td>532037425</td>\n",
       "      <td>A Lam Shin</td>\n",
       "      <td>KOR</td>\n",
       "      <td>female</td>\n",
       "      <td>9/23/86</td>\n",
       "      <td>1.68</td>\n",
       "      <td>56.0</td>\n",
       "      <td>fencing</td>\n",
       "      <td>0</td>\n",
       "      <td>0</td>\n",
       "      <td>0</td>\n",
       "    </tr>\n",
       "    <tr>\n",
       "      <th>2</th>\n",
       "      <td>435962603</td>\n",
       "      <td>Aaron Brown</td>\n",
       "      <td>CAN</td>\n",
       "      <td>male</td>\n",
       "      <td>5/27/92</td>\n",
       "      <td>1.98</td>\n",
       "      <td>79.0</td>\n",
       "      <td>athletics</td>\n",
       "      <td>0</td>\n",
       "      <td>0</td>\n",
       "      <td>1</td>\n",
       "    </tr>\n",
       "    <tr>\n",
       "      <th>3</th>\n",
       "      <td>521041435</td>\n",
       "      <td>Aaron Cook</td>\n",
       "      <td>MDA</td>\n",
       "      <td>male</td>\n",
       "      <td>1/2/91</td>\n",
       "      <td>1.83</td>\n",
       "      <td>80.0</td>\n",
       "      <td>taekwondo</td>\n",
       "      <td>0</td>\n",
       "      <td>0</td>\n",
       "      <td>0</td>\n",
       "    </tr>\n",
       "    <tr>\n",
       "      <th>4</th>\n",
       "      <td>33922579</td>\n",
       "      <td>Aaron Gate</td>\n",
       "      <td>NZL</td>\n",
       "      <td>male</td>\n",
       "      <td>11/26/90</td>\n",
       "      <td>1.81</td>\n",
       "      <td>71.0</td>\n",
       "      <td>cycling</td>\n",
       "      <td>0</td>\n",
       "      <td>0</td>\n",
       "      <td>0</td>\n",
       "    </tr>\n",
       "  </tbody>\n",
       "</table>\n",
       "</div>"
      ],
      "text/plain": [
       "          id            name nationality     sex       dob  height  weight  \\\n",
       "0  736041664  A Jesus Garcia         ESP    male  10/17/69    1.72    64.0   \n",
       "1  532037425      A Lam Shin         KOR  female   9/23/86    1.68    56.0   \n",
       "2  435962603     Aaron Brown         CAN    male   5/27/92    1.98    79.0   \n",
       "3  521041435      Aaron Cook         MDA    male    1/2/91    1.83    80.0   \n",
       "4   33922579      Aaron Gate         NZL    male  11/26/90    1.81    71.0   \n",
       "\n",
       "       sport  gold  silver  bronze  \n",
       "0  athletics     0       0       0  \n",
       "1    fencing     0       0       0  \n",
       "2  athletics     0       0       1  \n",
       "3  taekwondo     0       0       0  \n",
       "4    cycling     0       0       0  "
      ]
     },
     "execution_count": 2,
     "metadata": {},
     "output_type": "execute_result"
    }
   ],
   "source": [
    "# датасет - https://www.kaggle.com/rio2016/olympic-games\n",
    "data = pd.read_csv('https://raw.githubusercontent.com/a-milenkin/datasets_for_t-tests/main/athletes.csv')\n",
    "data.head()"
   ]
  },
  {
   "cell_type": "code",
   "execution_count": 3,
   "metadata": {
    "colab": {
     "base_uri": "https://localhost:8080/"
    },
    "execution": {
     "iopub.execute_input": "2023-09-03T17:07:24.993295Z",
     "iopub.status.busy": "2023-09-03T17:07:24.992357Z",
     "iopub.status.idle": "2023-09-03T17:07:25.010553Z",
     "shell.execute_reply": "2023-09-03T17:07:25.010553Z",
     "shell.execute_reply.started": "2023-09-03T17:07:24.993295Z"
    },
    "id": "JzbVvH7DG8ml",
    "outputId": "a9116e1b-a5cc-4b53-9d31-cb256ddca357"
   },
   "outputs": [
    {
     "name": "stdout",
     "output_type": "stream",
     "text": [
      "<class 'pandas.core.frame.DataFrame'>\n",
      "RangeIndex: 11538 entries, 0 to 11537\n",
      "Data columns (total 11 columns):\n",
      " #   Column       Non-Null Count  Dtype  \n",
      "---  ------       --------------  -----  \n",
      " 0   id           11538 non-null  int64  \n",
      " 1   name         11538 non-null  object \n",
      " 2   nationality  11538 non-null  object \n",
      " 3   sex          11538 non-null  object \n",
      " 4   dob          11537 non-null  object \n",
      " 5   height       11208 non-null  float64\n",
      " 6   weight       10879 non-null  float64\n",
      " 7   sport        11538 non-null  object \n",
      " 8   gold         11538 non-null  int64  \n",
      " 9   silver       11538 non-null  int64  \n",
      " 10  bronze       11538 non-null  int64  \n",
      "dtypes: float64(2), int64(4), object(5)\n",
      "memory usage: 991.7+ KB\n"
     ]
    }
   ],
   "source": [
    "data.info()"
   ]
  },
  {
   "cell_type": "code",
   "execution_count": 4,
   "metadata": {
    "colab": {
     "base_uri": "https://localhost:8080/"
    },
    "execution": {
     "iopub.execute_input": "2023-09-03T17:07:25.011555Z",
     "iopub.status.busy": "2023-09-03T17:07:25.011555Z",
     "iopub.status.idle": "2023-09-03T17:07:25.017944Z",
     "shell.execute_reply": "2023-09-03T17:07:25.017944Z",
     "shell.execute_reply.started": "2023-09-03T17:07:25.011555Z"
    },
    "id": "wX1kY9T6hlph",
    "outputId": "ea399916-176b-49e3-a449-ca1e77d8f633"
   },
   "outputs": [
    {
     "data": {
      "text/plain": [
       "id               0\n",
       "name             0\n",
       "nationality      0\n",
       "sex              0\n",
       "dob              1\n",
       "height         330\n",
       "weight         659\n",
       "sport            0\n",
       "gold             0\n",
       "silver           0\n",
       "bronze           0\n",
       "dtype: int64"
      ]
     },
     "execution_count": 4,
     "metadata": {},
     "output_type": "execute_result"
    }
   ],
   "source": [
    "data.isna().sum()"
   ]
  },
  {
   "cell_type": "markdown",
   "metadata": {
    "id": "mPG0bUk4G8mm"
   },
   "source": [
    "<p>Сделаем предобработку данных нашего датасета. Найдем и удалим пустые строчки нашего датасета</p>"
   ]
  },
  {
   "cell_type": "code",
   "execution_count": 5,
   "metadata": {
    "colab": {
     "base_uri": "https://localhost:8080/",
     "height": 206
    },
    "execution": {
     "iopub.execute_input": "2023-09-03T17:07:25.018945Z",
     "iopub.status.busy": "2023-09-03T17:07:25.018945Z",
     "iopub.status.idle": "2023-09-03T17:07:25.028750Z",
     "shell.execute_reply": "2023-09-03T17:07:25.027746Z",
     "shell.execute_reply.started": "2023-09-03T17:07:25.018945Z"
    },
    "id": "sNDjWq-KG8mn",
    "outputId": "866c6ba0-80eb-4aea-9e28-403c32de7f60"
   },
   "outputs": [
    {
     "data": {
      "text/html": [
       "<div>\n",
       "<style scoped>\n",
       "    .dataframe tbody tr th:only-of-type {\n",
       "        vertical-align: middle;\n",
       "    }\n",
       "\n",
       "    .dataframe tbody tr th {\n",
       "        vertical-align: top;\n",
       "    }\n",
       "\n",
       "    .dataframe thead th {\n",
       "        text-align: right;\n",
       "    }\n",
       "</style>\n",
       "<table border=\"1\" class=\"dataframe\">\n",
       "  <thead>\n",
       "    <tr style=\"text-align: right;\">\n",
       "      <th></th>\n",
       "      <th>id</th>\n",
       "      <th>name</th>\n",
       "      <th>nationality</th>\n",
       "      <th>sex</th>\n",
       "      <th>dob</th>\n",
       "      <th>height</th>\n",
       "      <th>weight</th>\n",
       "      <th>sport</th>\n",
       "      <th>gold</th>\n",
       "      <th>silver</th>\n",
       "      <th>bronze</th>\n",
       "    </tr>\n",
       "  </thead>\n",
       "  <tbody>\n",
       "    <tr>\n",
       "      <th>12</th>\n",
       "      <td>258556239</td>\n",
       "      <td>Abbas Qali</td>\n",
       "      <td>IOA</td>\n",
       "      <td>male</td>\n",
       "      <td>10/11/92</td>\n",
       "      <td>NaN</td>\n",
       "      <td>NaN</td>\n",
       "      <td>aquatics</td>\n",
       "      <td>0</td>\n",
       "      <td>0</td>\n",
       "      <td>0</td>\n",
       "    </tr>\n",
       "    <tr>\n",
       "      <th>47</th>\n",
       "      <td>469953606</td>\n",
       "      <td>Abdoullah Bamoussa</td>\n",
       "      <td>ITA</td>\n",
       "      <td>male</td>\n",
       "      <td>6/8/86</td>\n",
       "      <td>NaN</td>\n",
       "      <td>NaN</td>\n",
       "      <td>athletics</td>\n",
       "      <td>0</td>\n",
       "      <td>0</td>\n",
       "      <td>0</td>\n",
       "    </tr>\n",
       "    <tr>\n",
       "      <th>50</th>\n",
       "      <td>325809293</td>\n",
       "      <td>Abdul Omar</td>\n",
       "      <td>GHA</td>\n",
       "      <td>male</td>\n",
       "      <td>10/3/93</td>\n",
       "      <td>NaN</td>\n",
       "      <td>NaN</td>\n",
       "      <td>boxing</td>\n",
       "      <td>0</td>\n",
       "      <td>0</td>\n",
       "      <td>0</td>\n",
       "    </tr>\n",
       "    <tr>\n",
       "      <th>52</th>\n",
       "      <td>262868423</td>\n",
       "      <td>Abdulaziz Alshatti</td>\n",
       "      <td>IOA</td>\n",
       "      <td>male</td>\n",
       "      <td>10/30/90</td>\n",
       "      <td>NaN</td>\n",
       "      <td>NaN</td>\n",
       "      <td>fencing</td>\n",
       "      <td>0</td>\n",
       "      <td>0</td>\n",
       "      <td>0</td>\n",
       "    </tr>\n",
       "    <tr>\n",
       "      <th>56</th>\n",
       "      <td>897549624</td>\n",
       "      <td>Abdullah Hel Baki</td>\n",
       "      <td>BAN</td>\n",
       "      <td>male</td>\n",
       "      <td>8/1/89</td>\n",
       "      <td>NaN</td>\n",
       "      <td>NaN</td>\n",
       "      <td>shooting</td>\n",
       "      <td>0</td>\n",
       "      <td>0</td>\n",
       "      <td>0</td>\n",
       "    </tr>\n",
       "  </tbody>\n",
       "</table>\n",
       "</div>"
      ],
      "text/plain": [
       "           id                name nationality   sex       dob  height  weight  \\\n",
       "12  258556239          Abbas Qali         IOA  male  10/11/92     NaN     NaN   \n",
       "47  469953606  Abdoullah Bamoussa         ITA  male    6/8/86     NaN     NaN   \n",
       "50  325809293          Abdul Omar         GHA  male   10/3/93     NaN     NaN   \n",
       "52  262868423  Abdulaziz Alshatti         IOA  male  10/30/90     NaN     NaN   \n",
       "56  897549624   Abdullah Hel Baki         BAN  male    8/1/89     NaN     NaN   \n",
       "\n",
       "        sport  gold  silver  bronze  \n",
       "12   aquatics     0       0       0  \n",
       "47  athletics     0       0       0  \n",
       "50     boxing     0       0       0  \n",
       "52    fencing     0       0       0  \n",
       "56   shooting     0       0       0  "
      ]
     },
     "execution_count": 5,
     "metadata": {},
     "output_type": "execute_result"
    }
   ],
   "source": [
    "data[data['height'].isna()].head()"
   ]
  },
  {
   "cell_type": "code",
   "execution_count": 6,
   "metadata": {
    "colab": {
     "base_uri": "https://localhost:8080/"
    },
    "execution": {
     "iopub.execute_input": "2023-09-03T17:07:25.029746Z",
     "iopub.status.busy": "2023-09-03T17:07:25.029746Z",
     "iopub.status.idle": "2023-09-03T17:07:25.036119Z",
     "shell.execute_reply": "2023-09-03T17:07:25.036119Z",
     "shell.execute_reply.started": "2023-09-03T17:07:25.029746Z"
    },
    "id": "aB8O88wqG8mn",
    "outputId": "81218b62-057f-4099-cb93-6ae0895a79e7"
   },
   "outputs": [
    {
     "data": {
      "text/plain": [
       "array([1.72, 1.68, 1.98, 1.83, 1.81, 1.8 , 2.05, 1.93, 1.65, 1.7 , 1.75,\n",
       "        nan, 1.61, 1.78, 1.76, 2.1 , 1.73, 1.85, 1.77, 1.9 , 1.86, 1.74,\n",
       "       1.6 , 2.07, 1.88, 1.66, 1.62, 1.87, 2.03, 1.69, 1.82, 1.89, 1.94,\n",
       "       1.95, 1.71, 1.84, 1.91, 1.67, 2.02, 1.58, 1.63, 1.79, 1.97, 1.56,\n",
       "       1.55, 1.57, 1.46, 1.92, 1.64, 1.53, 1.99, 1.96, 2.  , 2.04, 1.47,\n",
       "       1.52, 2.01, 1.51, 1.59, 2.08, 1.37, 1.5 , 1.45, 2.06, 1.54, 2.11,\n",
       "       1.43, 1.49, 1.33, 1.48, 1.44, 2.13, 2.09, 2.21, 2.18, 1.21, 1.38,\n",
       "       1.34, 2.15, 2.17, 1.42, 1.4 , 2.14])"
      ]
     },
     "execution_count": 6,
     "metadata": {},
     "output_type": "execute_result"
    }
   ],
   "source": [
    "data['height'].unique()"
   ]
  },
  {
   "cell_type": "code",
   "execution_count": 7,
   "metadata": {
    "execution": {
     "iopub.execute_input": "2023-09-03T17:07:25.037119Z",
     "iopub.status.busy": "2023-09-03T17:07:25.037119Z",
     "iopub.status.idle": "2023-09-03T17:07:25.044901Z",
     "shell.execute_reply": "2023-09-03T17:07:25.044901Z",
     "shell.execute_reply.started": "2023-09-03T17:07:25.037119Z"
    },
    "id": "vguAML3EG8mo"
   },
   "outputs": [],
   "source": [
    "# удаляем ячейки с отсутствием данных\n",
    "data = data[~(data['height'].isna())]\n",
    "data = data[~(data['weight'].isna())]"
   ]
  },
  {
   "cell_type": "code",
   "execution_count": 8,
   "metadata": {
    "colab": {
     "base_uri": "https://localhost:8080/"
    },
    "execution": {
     "iopub.execute_input": "2023-09-03T17:07:25.045901Z",
     "iopub.status.busy": "2023-09-03T17:07:25.045901Z",
     "iopub.status.idle": "2023-09-03T17:07:25.056259Z",
     "shell.execute_reply": "2023-09-03T17:07:25.056259Z",
     "shell.execute_reply.started": "2023-09-03T17:07:25.045901Z"
    },
    "id": "LIP_RGiMG8mo",
    "outputId": "4c496110-4892-4948-e75e-fe400a5017af"
   },
   "outputs": [
    {
     "name": "stdout",
     "output_type": "stream",
     "text": [
      "<class 'pandas.core.frame.DataFrame'>\n",
      "Index: 10858 entries, 0 to 11537\n",
      "Data columns (total 11 columns):\n",
      " #   Column       Non-Null Count  Dtype  \n",
      "---  ------       --------------  -----  \n",
      " 0   id           10858 non-null  int64  \n",
      " 1   name         10858 non-null  object \n",
      " 2   nationality  10858 non-null  object \n",
      " 3   sex          10858 non-null  object \n",
      " 4   dob          10858 non-null  object \n",
      " 5   height       10858 non-null  float64\n",
      " 6   weight       10858 non-null  float64\n",
      " 7   sport        10858 non-null  object \n",
      " 8   gold         10858 non-null  int64  \n",
      " 9   silver       10858 non-null  int64  \n",
      " 10  bronze       10858 non-null  int64  \n",
      "dtypes: float64(2), int64(4), object(5)\n",
      "memory usage: 1017.9+ KB\n"
     ]
    }
   ],
   "source": [
    "data.info()"
   ]
  },
  {
   "cell_type": "code",
   "execution_count": 9,
   "metadata": {
    "colab": {
     "base_uri": "https://localhost:8080/"
    },
    "execution": {
     "iopub.execute_input": "2023-09-03T17:07:25.057260Z",
     "iopub.status.busy": "2023-09-03T17:07:25.057260Z",
     "iopub.status.idle": "2023-09-03T17:07:25.064480Z",
     "shell.execute_reply": "2023-09-03T17:07:25.064480Z",
     "shell.execute_reply.started": "2023-09-03T17:07:25.057260Z"
    },
    "id": "jlBY_FHkriBm",
    "outputId": "73417167-8e99-4961-e20c-4be63b702309"
   },
   "outputs": [
    {
     "data": {
      "text/plain": [
       "id             0\n",
       "name           0\n",
       "nationality    0\n",
       "sex            0\n",
       "dob            0\n",
       "height         0\n",
       "weight         0\n",
       "sport          0\n",
       "gold           0\n",
       "silver         0\n",
       "bronze         0\n",
       "dtype: int64"
      ]
     },
     "execution_count": 9,
     "metadata": {},
     "output_type": "execute_result"
    }
   ],
   "source": [
    "data.isna().sum()"
   ]
  },
  {
   "cell_type": "markdown",
   "metadata": {
    "id": "xgQ2PgzEG8mp"
   },
   "source": [
    "<div class=\"alert alert-info\"><p> Далее используем популярную библиотеку <b>scikit-learn</b> для классического машинного обучения. Для дополнительного изучения всю документацию можете найти на <a href=\"https://scikit-learn.org/stable/\">сайте</a>. Она умеет довольно неплохо решать множество задач машинного обучения, но чаще всего испольузется для обучения, а не для конкретных задач.</p></div>"
   ]
  },
  {
   "cell_type": "code",
   "execution_count": 10,
   "metadata": {
    "execution": {
     "iopub.execute_input": "2023-09-03T17:07:25.066476Z",
     "iopub.status.busy": "2023-09-03T17:07:25.066476Z",
     "iopub.status.idle": "2023-09-03T17:07:25.297785Z",
     "shell.execute_reply": "2023-09-03T17:07:25.297017Z",
     "shell.execute_reply.started": "2023-09-03T17:07:25.066476Z"
    },
    "id": "ptVZ9brGG8mp"
   },
   "outputs": [],
   "source": [
    "from sklearn.linear_model import LogisticRegression\n",
    "# LogisticRegression классификация\n",
    "# LinearRegression регрессия"
   ]
  },
  {
   "cell_type": "markdown",
   "metadata": {
    "id": "3mnAxViYS-SJ"
   },
   "source": [
    "#### <p style=\"align: center;\">Шаг 1 Предобработка данных.\n"
   ]
  },
  {
   "cell_type": "code",
   "execution_count": 11,
   "metadata": {
    "execution": {
     "iopub.execute_input": "2023-09-03T17:07:25.297785Z",
     "iopub.status.busy": "2023-09-03T17:07:25.297785Z",
     "iopub.status.idle": "2023-09-03T17:07:25.302266Z",
     "shell.execute_reply": "2023-09-03T17:07:25.302266Z",
     "shell.execute_reply.started": "2023-09-03T17:07:25.297785Z"
    },
    "id": "mQogmLpPjO9P"
   },
   "outputs": [],
   "source": [
    "# попробуем выбрать какие-нибудь признаки, для начала\n",
    "selectedColumns = data[['height', 'sport', 'sex']]"
   ]
  },
  {
   "cell_type": "code",
   "execution_count": 12,
   "metadata": {
    "colab": {
     "base_uri": "https://localhost:8080/"
    },
    "execution": {
     "iopub.execute_input": "2023-09-03T17:07:25.303391Z",
     "iopub.status.busy": "2023-09-03T17:07:25.303391Z",
     "iopub.status.idle": "2023-09-03T17:07:25.310343Z",
     "shell.execute_reply": "2023-09-03T17:07:25.310343Z",
     "shell.execute_reply.started": "2023-09-03T17:07:25.303391Z"
    },
    "id": "nDfpLvCjjRhl",
    "outputId": "2b411e70-cec6-4820-b5a8-506018a3d434"
   },
   "outputs": [
    {
     "data": {
      "text/plain": [
       "sport\n",
       "athletics            2187\n",
       "aquatics             1396\n",
       "football              583\n",
       "rowing                535\n",
       "cycling               502\n",
       "hockey                432\n",
       "volleyball            382\n",
       "shooting              380\n",
       "judo                  377\n",
       "sailing               372\n",
       "wrestling             349\n",
       "handball              349\n",
       "canoe                 327\n",
       "gymnastics            319\n",
       "rugby sevens          296\n",
       "basketball            284\n",
       "weightlifting         258\n",
       "fencing               245\n",
       "equestrian            215\n",
       "tennis                191\n",
       "table tennis          168\n",
       "badminton             164\n",
       "archery               126\n",
       "taekwondo             125\n",
       "golf                  115\n",
       "triathlon             109\n",
       "modern pentathlon      72\n",
       "Name: count, dtype: int64"
      ]
     },
     "execution_count": 12,
     "metadata": {},
     "output_type": "execute_result"
    }
   ],
   "source": [
    "selectedColumns['sport'].value_counts()"
   ]
  },
  {
   "cell_type": "markdown",
   "metadata": {
    "id": "6hQFRAN-Thyq"
   },
   "source": [
    "Типы данных https://youtu.be/c4Cg3TUIH0E\n"
   ]
  },
  {
   "cell_type": "markdown",
   "metadata": {
    "id": "uwV8jKPQG8mp"
   },
   "source": [
    " Для работы с переменными в рамках задачи <b><i>Логистической регрессии</i></b> нужно преобразовать категориальные переменные в числа. Например, вот так"
   ]
  },
  {
   "cell_type": "markdown",
   "metadata": {
    "id": "HNcBHXg6gCNx"
   },
   "source": [
    "![image.png](data:image/png;base64,iVBORw0KGgoAAAANSUhEUgAAArAAAADECAIAAADoCoUfAAAACXBIWXMAAA7EAAAOxAGVKw4bAAAgAElEQVR4nOx9eXQU15X+e1XV1Zu61a1drdaG0AYCSSBAFpvBBsxiG2IwxMZLEv+ScZZxJnOOZ+a/JJMzOZlkMrEn43GCFxIbG9ssZjViMYtZxL4vQkICtO/qvbu29/vjtkql6paQMDZbfYfDKVVXva3eve979913HyaEIA0aNGjQoEHDww3qbhdAgwYNGjRo0HD3oRECDRo0aNCgQYNGCDRo0KBBgwYNGiHQoEGDBg0aNCCNEGjQoEGDBg0akEYINGjQoEGDBg1IIwQaNGjQoEGDBqQRAg0aNGjQoEED0giBBg0aNGjQoAFphECDBg0aNGjQgBBi7nYB7lEQQjDGclxnuMYYj/Td235RhRGlo0GDhm8Og8lpVCEd0cN3sEhy+lFvfkOZKvFtqqzbVrkaVBj0cz5UUPYkuKPqVUP0sKhS93VyH+L1u8UVIuVNzlpVKk0aNTy0kHt+1OE/6sO3PYZFHYyV+goNT6XcRi792SFM0C0U4+3lO8zCfP0KalBBIwT9iGQAhBC4GExi5cfCPxFEULiDiqKIMaYoapiCIec1xDNRf1WX4U4jKhsYDlXSoOGBhFI5yDdlLYEGyuk3YSGIFPmhLQSqjO6ghQApyIfq12/CGqHKGinnJAQBO9HmJF8H2pIBQoo+DaO4IAgIIRjLKYoajllMkqRQKETTtE6ng4dFUYR30eCjpmqslSRJFEW4pigKKbo7XHAchxCiMIUx5nhOFEW9Xs8wjHJqEtVUqCrtYNOLqGolUrOIosjzPMMwNE1jjEOhEBSYpunI1NCQ2mqYH0iDhnsHKkJAJEIQkSSJEKLT6SiKEgQBVAdINFwDVHIBCd5SHAYTVUmSJEkSJZELcRhjg8EAuXMcxzAMy7JQAApTmAqrlFtaQyNrKkkSz/NyLRBCUFkKUwgjuMAYYyp6ClFLrmpJ1a+DMRuEkCAIGGNQeoQQgRcwhWmaJoSIkgj3I7MeuoW/prXmQYJGCPohj3aSJMFoJ4kSRlFoqQo8z8MrN27caGtry8jISE1NVT2v6m1KwwNcd3V1nTt3jmGYgoICu90e2Uc5jgsEAizLGgwGClMsyxJCJEkSBAFGYtXgPbQ9I/KBIe4jhERR5DiOZdmenp7Tp0/HxsaOGTPGbDZzHAeKLxAIGAwGhunvUUPImCaBGu5fDKDIEpGIBPdBSGHUhxkCQohlWa/XyzCM2WyOnONKkhQpFyjaSKksgCyS4URECfWJPwAhBJSd53mYosh6TDWHlvWPalRWXgDtwBjTNA0zFoQQDL2SJGHZzEzUPGMIFaRqSVVJouoKaN6bN282NTU5HI7MzEydTkfRFEzhiERkNSgnNVi+g31QdCsl+cBDIwRhYIw5joNxPRAItLS0sCybmppqMpmUz6jeknsYEPNdu3Zt3bp1yZIl3/nOd2w2m7x8oHxeRXhBd2CMu7u7P/7442Aw+NOf/tRms8l0XhRFhmEEQejo6GhvbyeEwKAr03+Hw2G325X2DDnTIeh5+IHwEke/9A72IsYYZj9Xr1797W9/W1BQ8Prrr5tNZlEUXS4XRVEMw+j1emVGytTCdzACxaTK62GWQA33I8JiizBBBGGECILRt6urq7u7u7Oz0+/3x8bGOp3OuLg4nU4XJsoYSZIEEicvJiolLlIiIDvVCC3PlSVJ8ng8TU1NiYmJycnJ8gM0TTc0NPh8PqvVmp2dLUkSsHbVIK0aBZW1U15QFCWKYnt7u8/ng7k43Pf7/TabzeFw6BhdfyEVjgXK9JUJKuul0hXhasp6CQ1oH4/HU1lZuX379ieffPK5556jadrv92OM9Xo9TdMSkTCJPn8bWrdEnZ8M1jgPNjRCEAYMtCA5V65ceffdd9PT01988cXMzEyZU0cdJhFCwEwJIYFAoLm5uaenRxRFSZQQhQgO92z5FeX/RAGe55ubm3HfggWK6NDt7e2rVq2qq6vzeDwcx5lMplAoZDabf/jDHy5YsCAmJkYlVygaL1ZVAbIG3aS6L1dQ/onneYxxMBhsbGw0m82hUIggcurUqS1btowfP/6JJ56AuQhkCgpIKWOEEESQhCRZyBEKS7zGBjTcX4C+KpH+Hu71es+fP19ZWVlVVeV2u71er8FgyMnJefTRR2fPnp2Tk+P3+00mU5hDEKTUJ7gPkWOSzAD6JbFPRGiaDgaDe/bs+eSTTxYsWLBy5UoMi54Ie73e9evX79mzZ/ny5T/4wQ8QQkQKz+YxxhTdb/aPOo9HCv8ASPP69eurV6/eu3evvEApiqLJZFqxYsWKFSt0Vp0oiRShEEbwT/m6nKZSmSjJjZLlyGMwqIswI8CY9FlDOzo6qqurKyoqCCFtbW1btmxpa2ubNWvWhIkT9Kx+QMqIEEIggf4sMEIDVJ0iR0Rka4dSIz1USkkjBP2QP7zX6718+TLP8z6fDygC3CeEwOogDHjyMj8hhEjhcd3v94cFRhIpQhFEwnMIhJSrD0gxNkMWYJOnaVqSJGWRgG3A/erq6vr6eofDYbVadTqdXq+32Wwsy0IiqM+KqKQd8kREKX5gWoBawFwHpAfET9kaROGto9PpQPEJgsAwDMdxoVCoqqrqs88+a2lpmTRpUmxsLKynylLEcZwoigaDAf4URVEikmwkgNwxNSg316DhHoRy7sgLPMwEdu3a9dZbb9XV1WVnZ2dlZen1ep/Pd/369d///vcnTpz43ve+N3ny5FAoxLIsjDpg50cKCYUEZXZOCBEFMcSFJEkyGozKKTO8CJLS2tp69uzZsrIyoOCgBwRBaG9vv3DhQkVFBRj5JSQRiRBMiESQGM5UkiTwNmAYpqGhobOzMzc312azSaJEM7QyI0EQmpubr1+/npGRYbFYWJalKEqv15tMJoqiEEEy0RGlsBcUxhhqiikMxYbVWKiyUnkihCRJCgaDYGiEBBFCEpFA30J2QAgEQQiFQhzHYYy7u7t37dp1+fJlo9GYn59viDegPhVH+lZJgBYM+HwScA0ku3T0P4zVfAVF0JoHGxohCEPVA6DvhodDBavV6XSS7MkjiDDEE0IYmlFSUYSQTqcTRbF/r0GfaVHur3LWMplAysm0Yt4A/omEEJ/Pl5OT89prr+Xk5EBvNhqNdrsdlg+UNEWuiJJ9y89IosSFOExhlmUpTElIQii8fhAuKoFZfFgM5FEcUUiv14PcmkwmvV6fl5f32GOPVVRUgN+DKIkyrYbmks0nwDyATEDj8DwPfkngnKhs52/kG2vQcCcAfRukSafT+f3+AwcOvPXWW01NTc8///yCBQsyMjIMBkMoFLp+/fonn3yyY8cOl8v1L//yL+PGjZNEidExiCAKU5FzYjzQEgkSKi/hU5iSZ72y5oFZCjwgeyVLCuA+30NZm9E0Dd4AoJ0wxu3t7e++++6lS5def/31yZMnczynp/SR/tS5ubmvvfZaUVERRVE8z1MU5XA4jEajIAhhWkBhmqbllUGluyVCiMJhv2MiEUmU5JkAQoiiKKPRCHWRvSARQrBMKU8SdDqdwWAwGo16vZ4QEhcXN2fOnDFjxlRUVFgtVnDrVhpaaIoOGxj61iDA4QPaTfbghraFBld9aBWZeOChEYLo6GfHVL/JCDolTNaBCCMSHswwhREJ/ylPu8O9U1IM/7h/mA/fIYiX+PDtvqmz/EBYElB4rm82m00mU0ZGRkFBgfwkiBAwa3mZUJ6RI0W3hvIghBgdY6bNMEUgiDAMoxqDYclDJH11ZGiMMc/zsIKI+pYPEELTp00vKyvT6XQsy4qiCFYEWSBh6wHoHbgJbAD12TygQeQWU0mgZi3QcA9CacpCCDU2Nm7ZsqW1tfXll19+4YUX4uLiWJZFGAm8YLVak5KSMMZffvnlpk2bRo0aZTabWYoNWwgwkjfmKA14oEwgC4ZhiBQeusCErjRYyhc0TYMUQ6nkiYFqmgG+0vAW0AKYbwSDwZ6enqamJjBS6nQ6URKVUws52ZSUlDFjxiCCZNUBbv8g+MqHRVEE+yjozAHbpqiwnVLWcnJpgRMQRCgUfl6mX/AM8BiEkCRJNpvtO9/5DtgqaJrGBMv2FXkPFHh9ghrHCNMoXH2YnEDWgiBISKIpOsxjFCsFDxsn0AhBdETtExjjYCjY1trW2toaCoVSUlJMJpPb7TYZTampqcBDYfxrbGw8f/68yWSKj4+Pi4uLMcfQTNgDNhgM1tfX9/b2CoIQY47JysqKiYlBsiuvhGVCHUkjeJ53u929vb0dHR2yOBkMBoPB0NPT43a7McahUMjn84mimJqampCQoGN1oiCCQHq93ubm5ubmZoZhEhISUlJSjEYjRVGhUKilpaW7uxuG/KzMLHucHRg1bKBwd7rb2tq6e7qzs7L9fj/sKQiFQmDB6+7uNpvNdpsdVvgIITqdrrm5med5Vs+mO9NtsTZEIYQRy7Jut7uurq6jo0On0zmdzlAo5Pf709LSbDabrHSUyzQaG9Bwr0FpygoGg6dPnz5x4sSkSZOWL1/uTHMKgqDT6WDvj9VqNRqNS5cuPX78+N69excsWDBhwoSurq5eVy8M8x6Ph2XZ+Pj45ORk6Pk0TfMc39ra2tjYSAixWCxJSUnx8fEIIYII2BVkvSQXhud5r9cbHoYJ8fl8sEVZHvLhSbfb3dnZ2dvb6/f7U1JSnE4nzPVbW1tbWlp8Ph8sedjsNqPBqNRC8D/Hcb29vT09PaFQCIZes9kMFoKurq5AIKDX6+FCp9OlpKQkJSWhPl3qcrmuX7/e0dHBsmxycnJqaiq4PVEUFQgEWltb29vbMcaxsbFJSUkWi0UiEiJIFET41eVyyUqM4zie56EB3W43x3EOh4Mg4vf7Ozo6gPF4vV6KooCQ6Vm9yIuMjuF4DjLieR5sq7BOkZSYFBMTI6/oyg37ECofjRBEB1ZAvuP3+/fv3//pp5+eO3eO5/n8/Hyn01lTU1M8vvj//fD/paSkgNicOnXq8uXLN27ccLlciYmJc+fOffbZZx0OByEkGAzu379/zZo1V65cEQTBZDLNnTt32bPL8nLzgHFHloGQ/tuEkNra2j/84Q/gQwDL88uWLquYWrFr1661a9daLBae52/evOn3+6dMmfK973+vpLiE53mWZRsbGzds2FBZWdnZ2clxXHFx8auvvlpWVuZ2u3fu3Ll169aGhga3282y7Lx585599tm8vDyDwcDz/IkTJ9atW3f48GGv11tUVJSWlgacgOd5hNHRY0ffe++92bNnr1ixguO4N998s76+PjExsaampq2tzWAwLF++fPny5YmJiSzLdnR0rFu3bvPmza2trYSQyZMnBwKBhoaGn/3sZwsWLABXA6UC0iwEGu5BQIeUrfENDQ3t7e3FxcXZ2dmCKIBHDpjBEEIMw4waNSo/P//w4cMXL14sKSk5dOjQmjVrrFZrIBC4cuUKwzBlZWUvv/zyuHHjKIry+XwHDhxY/f7qy1cui6JosVhmz5790ksvZWZmMgyDsNrxHqbUe/fudbvdIOmEEJfLdfr0aaLwSOB5/sqVK5s3b963bx9sC0pLS1u+fPn8+fMlSTpy5MiZM2fcbvdf//rXxsbGV155xRJjIX2bCYkUzqi+vv7NN99cv3491N1oNM6aNWvRokU+n2/16tX79+93OBw3b95sbW01m81PP/30Cy+84HA4QCNt2bJl9+7dDQ0NgiCMHj361R+/OufxORzHXb9+fdOmTXv27Glra5MkKTU1dfHixcuWLYuNjeU4rqOjY//+/Rs2bLh58ybGOC8vD7YVEIkgjNxu92effVZdXf3iiy9OmTLl8uXLq1at4jhOEIS6ujpBEMaMGbNy5cpZs2ZJksTx3Pnz59euXXvs2DGv15uampqXl9fc3Gy32//p5/80ZswYTdUgjRAMAZkNyOvfJ06cePvtt69evZqdnZ2YmOhyufbt3dfc0hwbGxsIBCRRIoSEQqEjR46MHz++uLi4s7PzzJkzH3/8cUJCwsKFC81m88mTJ//3f/+3trY2Ly8vNTX1+vXr69atYxjmlVdegQADDMMYjUZlhB+EkLxeKIqi3++vra01GAxgOrPb7V1dXZIktba2XrhwAWM8fvz4sWPHVldX79y5Mz09PSM9Izk5ua6u7o9//OPhw4eTk5MnTZrU09MDxoZAILB79+7/+Z//AeHR6/Wtra0bN25saWn5p3/6p8LCwsbGxrfffvv06dN5eXlJSUkul2vfvn29vb3gSUBTdEdHx9WrV8ePHy8RSRCF2travXv3jh49uri42G63Hz9+/KOPPsrNzZ01axbP89u2bfvLX/5CCCkpKSGEVFdX37hxo7u7G6pAJIIpLHtZyHxIk1IN9xrk/glWMUmSYmJiaJpGBDE0o1yK1ul0lhhLenq6z+cD+1l3d/dXX31lMplKSkrGjRt348aNzzd9bjAanE6n3W6/cOHCO++8c+7cueLi4ri4uNra2nXr1gmC8POf/zwhIQFikSkXC8D2Xl1d3dnZGQqFDAYD2O26urp0Oh3HcbBS0NjY+NFHH23dujUzM7O8vDwYDF64cOGNN97w+XxPP/20xWKBtbzk5GRY8ggL3UDJA6+I9vZ2hJAkSXFxccXFxeBc3NTUdOHChZ6entzc3MTExCtXrnz22WejRo16dtmzjY2Nq1ev3rFjR1xc3MSJE4PBIMdxrl4XIqilpWX16tWbN292OBylpaV+v7+uru7999+nafrZZ5/FGB89enTVqlWQrNVq7e3tvXDhQnjtg6IlSerq6rp48WJra6skSX6///z5821tbUVFRRMmTKivrz927BhQn7Fjx169evX999/fvXt3Xl5eUVGR3+8/derUtWvXCgoKPB4Pxiqf74cUGiEYFKqVLY/Hs2/fvosXLz766KMvv/zyqFGjuru7P/roozVr1iBwFUbhZcXCwsIf//jHJSUloVBo7dq1H3/88c6dOydMmJCSknL48OGrV6+Wl5evXLmyoKDg3Llzv//9748cOTJv3jyz2QyWPXARUm4FlC2EDMOMHj36hz/8YU5ODoi6Xq9PTU1lWRa8byZNmvTqq69mZGTs2bPnT3/60/HjxxcuXGgymyorK/fs2VNUVPSzn/2soKDA7XY3NDRkZWXdvHnz008/dbvdr7766sKFCw0GQ0dHxx/+8IcDBw7MnDkzNTV148aNR48enTp16k9/+tOsrCy32/3hhx+uWrWKoigdq8N9AVh4nhcFked5nudhcrB8+XKKon7961/v27evpqZm+vTpDQ0Nmzdv5jjulVdeWbx4sV6vP3PmzB//+Mfu7u6+Fr8r31mDhtsEIYTClF6vx7I/L9O/jR73bZYTJTEYDMoL+cFg0OfzlZWV/du//VtSUtLhw4d/+ctfnj1ztr2jXa/XHz58+Pz58+PHj3/ttdecTufJkyfffvvtL7/8cv78+UlJSbDsrfRgAAeCxx577Mknn4RiiKIYCAQ2bNhw7Ngx4CiBQODEiRNffvnluHHjfv7zn+fn5/t8vj179qxatWrDhg0TJ06cOnVqZWXlhQsXnn322dmzZ1ssCvMAxF4ihBCSlZX1gx/8YPz48eFAQAztcDgMBoPP58MYGwyG+fPnr3x+ZSgU+ujjjz7++OMzZ87MmTPn+PHjO3fudDqdP/7xj8ePHx8KhRobGy0Wiz/gP3PmzOHDh/Pz83/yk58UFRVxHHfo0KG33npr/fr148aNS0hI2L17d2dn50svvfTMM89Yrdbq6uq33nqrqqqKIELRlCAIsAcbXBncbrcgCDk5OT/+8Y8nTpx49OjRP//5z9evX29oaMjJyTlz5syJ4yfy8/P/+Z//edy4cW63e9u2bW+99RZC4a2Sst+G0gDzsEEjBNEBcgWbesEx1eVy1dfXJyUlzZs3r6CwwGQ0JSQkTJo0aevWrfIrCCGDwTBjxoySkhKz2Wyz2RYuXHjs2LHa2lowo125csXn8928efPDDz+0Wq1ut7upqUmn09XU1IwZMya8DU/huxDp0mK1WidMmFBQUAD2QHBZgLAnkiRlZmampaXZ7fbc3Fy73e5xe0RR9Pl8VVVVGOP58+cXFRWZTCZLjCU1NdVoNO7atau+vr60tHTWrFnONGeIC8XGxs6aNevYsWNHjx6dMGHChQsXGIapqKgoLCzU6XQ2m+2xxx7btGkTz/M8x8NahjxNAW1lt9unTJkCsRoLCgoOHToUDAYlSWppaamuri4sLJw5c2ZcXBzDMDNmzDhw4MDZs2fDuyUVMYuQggZ9S59cg4ZhA6gwQojRMampqbArDxbRwZrdH0ZQksCKZrPZIEYQTdMmkykpKSkvL49hGKfTCXZ1gReCweDVq1c7OztbWlreeecdmqaBu4dCoerq6lmzZqnYgKwuMjMzH3/8cYiiRghpb28/ffo0zI8lIkGMhEAgUF5ePnHiRI7nWJatqKg4duzY/v37r127VlZWZjKZdDpdXFxcbGwsHugeiPpkPCYmZvz48dOmTVN5+UBrsCw7bty4rOwst8udlpbGMIzP5+vs7Lx8+bLL5Xr++ednzJgBmgqYjdvtPnfuXFdX16JFiyZOnGiz2XienzBhQllZ2a5du06dOjVmzJi6ujqHwzFjxoyMjAwKU6WlpfPmzaupqQGnZlA7CCGWZY1Go06nA9+F3NxcW6wtMzPT6XTW1dVhjD0ez7Vr1yQiTZkyJScnB7YqTJ06de/evRA2Bg0MD/PQqh2NEAwKsLwJogByDhHCwcfHZDSJkkgT2mw2gwORPGyDUOn1ethwDKZ1v9/v9/s5jvP7/QihuLg4iGNqsVhmzZqVkJCQnZ0tu91GcSpUgGVZcPWHXhsKhUDFgBktJibGZDJBqXie17N6vV7P0AwhxGQyxcXFYYxhaYPRMSCxwWAwMTHRZrNBEFCe500mkyiKbW1tMPU3m81JSUngxkxRVExMjMViQQjxIV4iElgIMMYQlchgMOj1eoPBwLIs7BWG+I8IIY7jOI6z2WxxcXEGgwEIjc1mo2la2YAqHvDQSqaGexnAXyUi6XS6zMzMxMTE3bt3z5o1a9ajszieA2MhjJqCIBw5cuTChQtjxowpKSmBnYGwyw4IPXjIBwIBmIH09vZSFAXxDTmOs1qt8+bNs9vtOTk54KwHBVBOFTDGsDVAp9NJoiRJEmz3hdEXfBXBey4mJoZlWSIRQRQMBoPZbA4Gg+B/Jxs5ID4b6pvhyOMu6BzIEY42oBma1bHwkyRJRqMxJiaGoRlgPDBIQ8ASQRDkUOu4L7YKBDlFCCUkJOj1+mAgiClssVgSEhICgUBnZyd4LlssltjYWIZheIFHCEFEVCgbTdOgD6HkkLLFYrFYLCaTyWKxgL827MPyeD0hLpSYmGi328Hl02g0Go3G7u5ueWs0elh9CWVohCA6wBAHMUeNRiPImE6n6+rqunr16rhx46BXtbe3+/1+2PADIxzHcU1NTcFgEIb81tbWzs7O2NhYiEas0+msVuujjz46b948m83m9/vPnDnD83xCQoLb7ZYJAVKEEECKPgo2eYqiIFIHSC+ETFei3xcSI6ALqampZ86cqa+vnzFjhslsAm9h4DcmkwnWBZOSkiD6Anjqjh8/HuKhXr58ubW1FbYUSpLU1tbW29trt9kRzBDwgGApShIjWzh4nkcImc1ms9kM/sywzNHV1dXW1jYgMmOf4U5O4SGXTw33JmCxAPa5FRUVLViw4JNPPlm1apVery8tLTUajfCM3+/ft2/f2rVr9Xr9ggUL0tLSwJAG4ctkSRf7QFGUyWSiabqsrOy5556LiYnxeDw3btzo6elJS0sjfYHMlVImzw1AIRBpwBFEECHAYDCkp6fTNN3V1SWKotFo5AUe9hzBTigQMYhQpDwRAA1URHBgEsuyMmkAPYn6FlgpisIUphlaNnbKGy9v3Ljh8XgSExM5jvP5fIIg6PV6h8MhSdLVq1cDgYDVapUkyev13rhxw2g0Qth4g8Hg9/tbWloKCgr0rN7V66qpqeno6IANCMCuRFEUBkLmKLzAwx29Xm+32XmOr6urc7vdycnJCKG2trbGxkaVOeQh1zYaIYgC6NlNTU379++vra0lhKSkpGRmZpaVlZ06deqzzz6LiYkpKiq6du3a2rVrW1pawqEIMAamv2vXLqfTWVxc7Ha7161b19raOn/+fKfTmZiYWFpaevr06YMHD6anp48ePfrUqVMbN25MTU3Nzs6WGa5y+y8aGPcbDko5ePBgTW0NTdEIIYZhsrKyRo0aBeRASU3CMb8QYll24sSJX3755ZYtW5KSksaOHdvW1nb16tXJkyYXFhaWl5d/+eWXf//735988snY2NjLly9v2bLFZDJNnDgxPj5++vTpBw4c2Lp1q8PhKCwsbG9v37hxY3t7++jRo8OaCGE46ww8AOQyyBN9oPCiKI4aNaqsrGzfvn3gpWy1Wg8dOnT48OFAINBX1f76ahYCDfcywo4CCFGYSktLW7p0aUNDQ2VlZXNz89KlS0tKSoxGY1NT07Fjx/bu3dvc3PzKK6889dRTJqOpp7cnNjbWZDLJksIwDHgCgoVv6tSpu3btAo+fvLy8y5cvr1u3zuPxvP7667BQqJrIykoDY4wRxhQmUjiAAdjeEEImkyk/Pz82Nnbr1q0pKSkVFRVdXV1ffPHF8ePHy8vLx44dK9v2IpWP7PqAMe7u7t63b197ezss28fGxiYnJ2dmZhJCREEkfZDjpcLUZcyYMenp6V999VVWVtbEiRPBel9YWDhx4sSioiKHw7Fr167c3NyJEye63e69e/cePHhwzJgxU6ZMiYmJKSsr27hx4+eff24wGKxW6/Hjxw8cOCAIAqbCK7lyXFe5kKgvDjFCCGLDUJgyGo25ubkJCQng8lxRUdHd3f35559fv349MzNTGSjlIYdGCPohm8UCgYDP54Pdg2AJX7x48U9/+tMnnnji2rVrn3/++b//+7+DMcrj8cgxDeVDgT0ez6bI8kUAACAASURBVJo1az788MPe3t7e3t7JkycvWbIkJSVFp9PNmTOnqbFp2/ZtV65csVgsbW1ter1+2rRp6enpTU1NEEkUvAWRUholgmkMqwDV1dW/+93vIHQJz/M2m+0f/uEfUlJSvF6vy+WCCAQIoVAo5PF4jEZjKBRideyjMx9taWlZu3btb3/7W7vd3tHRkZqamp+fX5xQ/Nxzz3V3d1dWVn711Vc0TbtcLoZhXn755cLCQoqiysvL58+fX1lZ+atf/So5OZlhmI6OjkAgEAgEgDZJRAKGjiQkSRKEQ4AlAJqmOY7zer0QYsHhcCxdurSurm7Lli1Hjx4VBMFsNoPNECuiLMtmErn6GifQcA8CY0woQmFKR+lKSkp+8YtfOJ3O3bt3//d//3dcXBxN0x6Px+v15uTk/OhHP3rxxRdjY2NDXAg2ClGKo8jgjs/nQwiZTKapU6c+u+zZDRs3/OY3vzEYDLDu9uijj4JTjtKML/vuBAIBMDmEo4lSFKTp9/vDUYMYXUlxyYsvvvj+++//5je/SUpKCgQCgiCUlpY+//zzGRkZN2/eBOUDzo/UwLjCuC8aW11d3ZtvvgnrpxjjhISEpUuX/uhHP0IIgeNkMBiEUvl8PpfLFQgEaJouLi5esmTJBx988Pvf/97hcMCRrT/5yU9KS0uLiopWrlz50Ucf/fG//miz23ie93g8Tqdz5cqVOTk5NE0/8cQTsFvy2LFjsM7Y0tLC8zwEL4LZP8/zEBcBDAxycFiIzRAKhQLBAJg8Fy1atHbt2jfffPODDz4AdQqx1WWVq4H+5S9/ebfLcK8AuhdMZ2NiYgoKCgoKCgoLC8eOHTtlypTCwkKHwzF69GjwSbFYLNOmTVuwYAEEzhw3bpzZbCaEZGdnL1y4MDs7WxCElJSUWbNmLV26dMKECWaTmef52NjYrKwsZ7oTVvhAIBcsWJCYmAhBBcaPH19aWhobG0v1nVso9R00IEmS2WwuLCwcNWpUbm5ucXHx2LFjS0tLy8rKMjMzKYpKSkqaNm1adnY2WPYsFktZWVlpaanZbI6xxECIdbPZbLVa8/LyHn/88SlTptjt9pSUlLy8vLS0NPCCBOldvHgxDP8WiyUnJwdchMxmc1FR0dy5cwsLC6dPnw5VxhgnJSWVl5ePyh4FZS4pKZk8ebLdbgdbYlJS0syZMyGYa3p6ek5ODkRrAfdMr9dbX18/b9684uJiWGVEAzWRRgg03JvAGMvnFjIMk5ycXFRUNHbsWIfDQdO0zWYbO3bsvHnzvvvd786dOxdC9MC6G0IoKSlpxowZo0ePxhiDbaCsrGzy5MkGvcFsNo8tGgvyYrVYCwoK5s+fv3DhwtzcXPAJUPoVArFITk6eNWtWRkaGHKIYeMaoUaNmzpyZmZlJ0zSrZ9PT0wsKChITExFCTqdzzpw5K1euLCsr0+v1EKinsLBwypQp4GmkrCn4OjAMk56ePnny5KKiopKSkuLi4vz8/EmTJkEYdYhiPnnyZJvNBjuerFYrPGw2m7OysoqKiuLj41kdm5aW9sgjj0ybNg1cB7Kzs/ML8iEOekZGxty5c1988cWpU6eGnRztcbl5ucnJyTRNJyQkTJ8+ffbs2ePGjauoqBiVPcpgMJhMJqfTWVZW5nA4EEI2m23y5Mmwg1oURZPZNGbsmJLikqSkJKvVOmrUKKfTaTQa4+Lixo0bl5+f39DQoNfr58yZk5mZ2f9ZFZ9YZbB84PGw20mIwmVXliWe430+H0HhiKFg0zMYDOAiFAqFXL0uXuCtVqter+d4jqZok8mEMQZKDgza7XYjhIxGo9lsBpseLOlB7D+fzwdnFcJJIYQQ2EKDEIJk5RJKgoQQkrDEczy8CxY52RFGp9OZTCZBEILBIHjzyXYOQojJZIJDCuDdQCAA7kUWiwUshDAdDwQCENhEr9dbrVagFPArLHlCgY1GI8uyHo8H3HSNRiNwcEuMhdWzqC9AGDgTIYRCoVBvby94Tni93rNnz/b29jqdTti0bbFY/uM//mP9+vX/+Z//uXjxYlh5RQqVpxECDfcmZL0hKU4WBunmOA5ESXZwA/Oh0WjkOA6kEnzyYeEAJrJwOAg43GAK8xzf3dUdCAT0Bj0sMUD4AVkooAwguYIggOCD/VyUREQQOPOCdzM4FYL7cygUgo2+CQkJZrOZYRhRFAVekCRJIhJoHmAtsuhBFDI41UwuBigZvV4PD8OsPRxCGGOIIQg+BAgh2Bbo8/l8Ph/oBxjvISn5J1EUQSUqLSigf3p7exFCdrsdCsyyLBQVohqAXgoGg4FAQKWrOY4DRdfc3FxfX89xXGpqKujYmpqaX/3qVyzL/u53v4PIKPBx5XWHh1AFPexLBqq1augBFE3FWGLAhw46ljyiY4xhIJRECRaxZAcCSZIguAfIYWpqqiqWAEVRcG460Gek6HngGgPhQVDf+Yfh8lBYIhKFKTjYQ17kkx1nwKBH0zSY1OQ0LRaLbDOE8oNfMSwrAqWQ+o49NBqN8Lqs48DsD+SDZVmjyYgRhhjmcMQZ1AgEWOo7WdVkNDE6RpYig8EQHx8fCoUoTPEcf/DgwcrKymeeeWbFihU2m+3MmTOXL19OTk6Oj49XnoH0rfYADRpGDuVEAv4HOYKBOTY2FgJ7AwkAzQBiCCMoTdGiJMJoJwgCCD7M7+HcENpApznT5MTlSGXKsQouQCcojznVMTqEkHzgGVATOQyo1Wq12WygBEAjYYxZPQsL8xhhOMdEeYYLeCTYYm1QtnCtJaI8uxyYDTg8ghOD3W4XRVFWjwzD2Gw2u90e1jkIwxFI4BsImwIwxnDEg2wfBS1ks9msViuoU/CalGdrMOMCrSVrSFj7gFBvcGYSx3FtbW0ffvhhT0/Pq6++mp+f39vbe/HiRZfLNX7ceKvFKn/Zh1z/POyEQMmC5ZvhnjfQLte/FQcjRBBFU5goiCTCFEUxNAM7jhBCsLsPDYx4CMFHUYQ3PmgKGGKVg2I4BYQRQcpioD4nGlly5IfllEFC5BpB9DEV7ZWdgVUvylQGfqJpGs4poTAFSkHOVDZjhisy8FegHXpWL0mSNdY6ZsyYTZs2vfvuuydPnoyNjb1y5Up1dfWyZctgmeMhF0UN9xGU8wcQQ+WvwABgLIQJgOwCLB8wRuPw4CrPAcJjPzXg5E+lLsKKpTQ08LwVpSDLciTPsyFr+ewxOFRJ6jtLLDwL6ksBnieIKE/6kbc692ukga4/ck0JIfIhwsqzlJT0QllamqEpEj4pESvcF1CfwpQNt+HcMZIPL5ZbG/VpUXhMufEB9QWZttvtcXFx+/fv/81vfjNhwgSe548dO4YxnjptqnzmgqqoDyG0JQOivOjvdgO7hVImUbQe08+aCYLThLEcdjziFeV4qRR+VY+UCwNkXGlvkEmDUk3I76qYgXxfTlCWN2WllC0AM/4op32AG3NfsZVCrmoNpfKSpPBR0Z2dnbt27dq0aVN1dTWsmEybNu2ll14aM2aMbPyQ6YiSuNzqM2rQcNeg7O3y4IQGUnasOK9PKYBKaVWpHVk8ZcEHI6XyQiW/qmRlMqFSLCpWgQaqERXtUNVUrlGkElBWJFIzKLOT76gUoKpJlcmqiq2su1yqIV4Ej++6urp169bt3Lmzo6MDY5yTk7N06dKFCxYmJCRQdPh1JbcbTL89wNAIQT/3VEoUiiAEcKESP5VIw/9gMQPOqzzvWCVvquvBBElVMGVSSnWAovEMVY5KN/7+gT+aQgG3A+WQrGQPKvGIFGlVy+C+k9phkbWtre369euhUCguLi4tLU3ehaVqIo0QaLhnoRJ8pQhIfceQylCJjKqfE4UNUjmjVWkJlRFCLoZSbCnFMeLyA5FPqgRWOcarxnvVu0oloNJFUVVZ5DitUguD3VcmOJiGHEz7oYEKEPdFcIHCdHR0tLS0eL1ejHFycnJKSorBYNAxOmUwFWXBHjYVpBGCAWOn8qZqLESDCLaSTyDUHxCbECIfXj702KbqvsqOHjmoYwVlQbfisMp6yWVQCmHUfq+qb6R0DXOoVgm5KIoQ/xz2+fA8z9CMwWgQRIGmaNkmqdQgD5s0argfoeznwx+0UASTUKoglcRFvosGl18UoZqU2UWUHsmrnJHiFslLhhBMMpDlqEjDiAhBZMtENkhk3ZWvoIFMQm5ASZJCXIjjOIjiKopiKBSCoHNyaoM1+MOAh92HQIaq60f+qvwzqmjJJAChPhkbYY9S9UhldoMVLCqiMozB6jLY/Ug9MlIJUWklmqYJFS4SOD8jhBBBNE1TmFK9MqKMNGi4d6Bc2hsakeM3/DnS15V/qgZFZfqDpIKUeiqSGQw2A4kKmRUNp/zDwRAlH0ynRTamqmFZhtXROvm8if5wTGDTHViXh00jPeyEQMUHo46dw+wN/Y8RJBughhLFYeSiKkwkp47aX5WVikp7IycTKFrXjzq5GZG0R5J95U0M5k3Ur3EeHsHT8MBgaBEbTEgHe115Ew2yfBY5n1ZdRP0/MhcloiYyRCEHmzWp8hri5i3vD6cKt6y78sl+nYwJQkgiElZ4OEYSo1s22oOHh50QyBgRt400TCkZNKYH0EzVw7fRvVSlUuY4RGrD1wKRSSlVD4pW3+HXQqUfycCVTtldWelLKDfaw0bPNdzvUHXg2+vGw0xE+cAtE1cposEyHWYJB8Pw+cfwIdcxahUi5xuqnyIJE6IQhDRGfXQt3LbUnSz2fQqNEIShZOLDfF45/ZVfVHXNYc4SbpnXEDkOhuEoIzmRyAnBcKjGSKuAFGKpFEKlXlPZKh9m4dRw32Gwqe2IuvEwExlRyt+ONEWaLu4IyVBZNAd7JvJmZJHkOwgjSqLkTeBRp0MPIR52p8I7CLklVRt8kTaq9UFuGbATKPc7wAOqMAwaNGjQ8PUhEwJlvJnIVQb00OtqjRAgNKTdaQgo5+tRU1P2rdvmy1FX35UrFLeRbNRiD1adqBhpvqqUI5soimVPWzLQcL9haMm6U4mMKJcRKbd7U+JuWYVbFlu16DmENRc93JxAIwQa7gmolN3dLo4GDRoeTEQ6KsF9Te0gjRDcQdyRycGDjSGYvtZQGjRo+OagtEoO5jSgqSCNEGjQoEGDhocFkdMSbTYiY1i7DDTScGcRdb1cw4gQ1Zn5vm7MO+6efbcQ1a/7bhdquBggkji8Oe0Bxv3e2W6JyI0P6L7qkMOE0u/q66SjDUh3AQ+G3r+7iEoC7uvGfFB7xf1VHWVp76+S3w764hY/8KPAECsCD0zd70i/HVZXgGfkI7dVvhgaRgpoushDUDQMB9D9VLsWoyq1e7mj9peWINgVjTGGSsGxDvcvM4Cqyfu7YK/XPV4XuVNhjEVRhPOL8cCDgh5M4HAPfIBpASFEEASEEMMw4Euo3Gr4wHxfuWrykdO3gVt3gsg9YA/qVOZbgNxiymMGNQwTw+x+I9pndY8AKhIMBnU6nfJI+PsR0P7K036V5OCuFm1QyL1FPokgXNS+MOQPtq4jhIiiSNP0g1rHKEu0fYc43MvThhFhsF2UI8JwIxWKotjS0tLW1iZJkiAIQLg03AaAx8lHlYMQPgDd8ZuG3N3hgqZpOKlMHmyMRqNSm8vbiu5NhEuIiJ7Vi5LIhTie5x0OR2Fh4f3u8yxPrDu7Ont7egVBoCiKpmmZItyDkLuKIAhgz6AoCowESisUHGZ+d4t6R0BQvxUHY8xxnCAIDMN8ncnlvYCoXwe+IHxWBGKFsPK84/sXMsWhKAq+YFJSktlsvu0Eh+tUKIri4cOH9+/fbzabWZYVRVEu0G3n/bABdIogCIFAIBAIBIPBlJQUhmFksbzbBbynoZzD9fT0dHR0xMXF2e12laFMSQKUUcnuNchDvs1mCwaDHo8nEAhkZGS8/vrrNE1jhGmGvk8JgWwSOHrk6MbPN0qiRAiRyL3eyWWi6fP5AoGA3W4HEqMkBOjersJIwTAMx3Fer5dlWZZlBUG4lzn0cKBinLKxMBAIhEIhi8ViNpt5ng8fr/qgfEkYoAOBQEJCwtKlS2fPnn3bqmO4FgKKojweT0JCwqxZs5KSkm4jJw0yfD7fl19+2draOm/evNTUVJiO3O1C3QeAfq/T6fbu3Xv06NF58+YVFBSEj0eioqxn3RcLwDqdjhDi8/kOHz586dKlML+h7rMlDyXkkjc1N1EUtfjpxdZYK0wh7uXPQfpw8ODBs2fPPjH/iTRHmsALmHpwCAHUArzBEEJXr149cuTI1KlTi4uL5dPF0P1ZR1XJlR7HkiRdunSpqqpq/PjxFRUVgihQFIVR/46D+24vTCQkSaqtrT116lRbW5vck2/jOw6XEMAMLDk5OT8/Pzk5eaTZaFBCEITa2lpCSHZ29qhRo+52ce4nQC+/du3ajRs3xo4dm5ubO4SR8z6aYRNCbt68WV1djfosnPdLySMhT6kJIampqVOnTY2JibnbhRougsFgb29vd3f3lClT0p3p4EPw4IEQwvO8Xq+vq6srKyubMmXKfSQsIwUhxGq1dnR0jB07try8/G4X55tCXFxcS0vL15xbjuC0Q5if3fsOw/cywBgAThjA0+9fSn5XIIoiLLJIksTzPNwJe+n3re8q++d9wfopiuI4DqoDuN+92JQOHzzPg+0dRTuA7i5C1ciycw9oOVEQaZoWBVH5Fe7fL6KEvF+M4zioLMZYFERGd98ffhv5geCz8jwv1xrcJ+9K8b4mhvahBq34NbMYQQ/AAzFEER8SjFSvEfn8Q9y/RQR+epibcUTAGMv+mPBneNMUFXb4kl1s7gvPDBiBZIGSx0u5U93j5R8M/V2975PBfdy3xQY+0N0iPZAvlEEuW+QaE/Qrub/BT/f16p5y+tHvKYkxdEIKU6Ca7sdeN9iSgUpFRw5h9ziU3DpyvJC/ICGEwlS41oiQ242oNTJKqFTEw+k3yuWZ2/sAqoXhoe8os/hGu7VK3438/f7L+32P2bcM5RhDUzTu28EPIVZUz9wXrapUT3Kvvv2udW9ANe1GgxzaebcqGHW0iMrslVRgOKpMZXLAA51aVGVQqcfBphbDVLbDx4CMSHj3nep+VKX67SBqG0Zt/Eh+gwZpavlimNUZ5sg1xGORX1/15IgGUDRQG6i+FPxPUN/o/DVWuUZGCKI2aNR+HClCt8ckIpsyMmX5magC9g11a9K3dXCkKYdHL+Uc935W/d8ylIN9/zXBBBFw/pLnfPdLk4ZNGvh+KvPwoRLYe7yCkapM1dOiPqZUNZHXwxkwoj6genLoZ0YE1dAygEljpFKbKmPVt0AR5IxQRLdR/aTiDSPKJeorkZY5VQtETkRVz6tqMdhwruoeg5VQmW/UJweMiXdiT+ztLBphjKEPDUHzhxiSh8kGBnybQUJs9qeMv1aOtwE5r8F4fST6hR/1vxjZBVE0jqzKKGpNh55n3B5k3qPMejh5qT5B1Oej1nHoZPvpcB+jIoRAtDWZHUeWVvV6ZBkGU4K3V6/hQ25eir6PDdGDQdZTUX+9Ix1VpZqHmebQGvmW3CXq0I4i9KFKIyFFX0XRtDzp2x8/mJa7U2ygX3dJhKC+LU64331S2T5oEBn5+iUZDMpM0SAyqyyMUhUMXxijdpgomUaEK1ByuKjvDlbsyHyHbkbVEDPY0KYq6tf8NLfjQ4BQv9H7lrpbVavh9KdIvQyfHNNYmRrMBZXDlVIyh0OvviZuL2W5E8t/ooGtpOqp8vNwX14aVw1L8sUdqSksphIC+8cHLMZHLYDyRXl5WP40kA6mwvFq5LVb0rdqqwoohAYXFbm55K4IF5IkEYnQNK3asEf69h0pV4JVWkPZtre0+qh65h3pXdA4d2SAvKeg+kxocMo10gaUE5FX/VUf95YJqgoW9aZc/nBpCVJHUxg4UcF4QA9Xlkoet5TZyctc/dUhkkohqOr79aV7QLJ4gCKSRR4qJeeoDKv6rbEByFdp8FOpCFVhlBfDEaWotEP5okpRo4G9QqUBhshF2ZLKPqAaAoaASivK30LZAkpZQwTdrgvBSLYdDsiy7yZcqHo/uKjIdyLb65Y6V36GSEQiUjhl0p8y9BXwOQ+bSrA6EdWQeRv9WPnx7qAYqJoRwHEcxjgUCjEMo9frVdpKDiwaqQcxxnKkblWxb1k1pYxF1YwiESmJCoaCBoMBYuwHg0FJkoxGY6Q+RQMFDMopuzEjEWGMaWpAoH6/309RlNFoDIVCOp0OshjpWky/sCGCibqXchzHcRxEp2cYRo6ni8HQRRDsv8IYe71euV5Rc0F9c3o53P0wW3to3Cldf+9DWc2oMWRGlJpyzOB5nqIonU4XtVtGvqi6iPqrXDD46NCR9Ho9RMlkaAYhxPGcntVLkiQRSUfrQE5V2h/D1n8xbMtEVF9fQgQRJIiCKIoQzFF+HkVI6O010dC1wySKdUQikiRJsjBKkiTwAkVROlan1MxfsxjDKSRExTUYDHATOgx8ceWoLLfY0J91sFxUiSsTRCRsRCGIUJgC+ga/ympkMDYgCzUkBc9DFzIajcOJR6fkPapkB/sznODX+DgjIwSyR7REJLDNEkLkTXSwtQMhRFGUyWQyGAwwHuCBxy1EUiRV3UD8vF6vIAg0TbM6FvbDwLzT7XYTQsxmcz/tQMTr9UqSFBMTAwQCYo6q0h9Rs8r3VRffEAghOp0ODraBaPYul8vlckH8VLvdLo+RSh97GfCi3PjDzxQrWHAkZQZ1QDEUDJbwgE6nMxgMygZRFgauYYYEFCcYDGKMIfwOy7KobyIeCoW6u7vNZrPJZGpvbw8Gg8kpyRj1WwuUvOGWFQEfQ5BeSZJCoZDf7w8GgzRN2+12o9EInVOSpLBVFhEiEYqiwG7hdrtNJpPJZIqskapquC/OK4w9Sq0NiNqXblmRh4ENoIjpHc/zgUCApmmz2azkpsNJAf6naToQCPT29sbHx0MfkxMfZmFu2fJyjsCDIceOjg5BECwWi81uCx+JxIm93l6WZSFBZdxMn8+HMTYajSCh/cyg71QhUJ46nY7RMYQQCH4AjkbyyBdVZ95GdQa+o5Z31PddPB6PnCOrYw0GA0TGVTZ+ZBNF/VO+OUT5VR1Dnuf4/X6IRQbyq9frWZaFqZGycW6jHeAx2IsIOqerq8vn85lMpri4OIPBABMMhBGRCHwOpfclz/OSKFE0JQ9tkVUjfRHnQPMEg8FQKARzD7mOym4/ROcfTge4IxjxkgGCwvU1jsvlOnXq1KlTp3p6emQ7Acuy48ePnz59enJysrIaMo9TjkPKZFHfWgBCqLm5+fTp006nc/y48dARBUEIhUKHDh2qqa0pm1g2oXSCwWBAGPX09Bw8eJAQ8sgjj8RaYwkhQ1dL+Q2Uo45qYIv8WiNp2JEB99nljEaj2+0+f/78vn37zp07J0lSamrqjBkzZs2aZbfbYRo04ENgDFPVhoYGl8uVnp5us9lUYyoaON5EVhMpGl8uD+oz9UuiRNP06dOnT58+PW3atIKCAuW5NWggh5AvQAY8Hs/evXtjYmKmTZsGNEL+7n6//29/+1tubu4TTzyxZcsWt9u9bNkyZ5oT1lBVG9Vu2XpQVJqhJUm6cOHCzp07L1261NXVFRcXN3v27BkzZqSlpcGMR/kpCSEUolwuV2VlZWZm5iOPPKLX69WzhIFVwwj39vZu3rw5JyenoqKCZVnlXjVlX1JpEGV3GkaPeDAh91iY0+/atevQoUOlpaWLFy+GrwOPDaYfIgVWFMWrV69u27bt6aefHjt2LDBjOSOlmEQV4eF8C6WUEUKuXLmya9euqqqqnp6exMTE8kfKFy5YmJyczHHc/v37PR7PzJkzk5OT5fMSQ6HQ8ePHz50799xzz8XZ48IR9eWwGRi5XK59+/bp9frp06czDAPrR315I4TD01bVtDhqRW6va6l6LyGkvb39k08+cbvdkKnJZLLb7RDmTx6MlY2j1B64b0Is31TqIpW2ifxGoP95nmcYJhgMXrx48caNG5MmTYJQnlAG3DfDVNVXWZHh112SpPr6+sOHD3/11VfNzc1Wq7W0tHT+/Pm5ubkMw9AUHV7ZwQj1fQVBEM6dO3fx4sXi4uLx48fLK0RymkoNA9VpaGg4depUfHx8eXk5xlgSpcH8N6N2V9U3GmbtbgMj3naIoEyIkL7zP65fv15ZWUkISUxMhH6g1+sTExN9Ph/HccAPQJbkkJkgtzK3Uu5IBtMZQqitrW3Pnj3l5eVjx46VwkEXpFAoVFVVtWnTpmu116yx1rzcPJZle3t7d+3aRQgZPXp0fFw8dBe5BZWWGWUTq1avVdoHRZiDvjlOoBSk7u7uzz77bO3atZIkZWVlmc3mmpqa8+fPd3Z2Pv3003a7XRRFlmXl8RKMjd3d3e+9957JZFq5cqXNZuM4DmzjqqFa1inKwQkCmMvnuKA+Sx2C00IRoWiKoRiPx3P69OmioiKO4+AbyZ8PUqD6ADdhCcDj8eyo3JGcnFxWVmY2m8FcBOjs7Kyvr8/IyEAIXb9+PUycEYFp04ioGOQuIUmSpL179/71r39tbW3NyspyOBx1dXX/9V//de3ateeff97pdFIUpdfr5UJKkoQp7PF4duzYUVhYOHHiRJ1Oh/qOwZXrhfomfJAXx3HHjh0TBGHSpElgWZVLAhWEdqapAcFP7os4yt8OQCR7enrWrFmzffv2+fPnz5w5MyEhgfSZl5Qn78FMQCXUSlZx/fr1DRs25Ofnjx07FtYQUZ80gXQMsxcNBnhXFMRAMHDmzJnf/e53ra2tBQUFWVlZXV1dq/666tDBQ7/4xS8yMjJ2797d0NAwZcoUsIQhhBBBoiA2NzcfP358wYIFdps9rN9wP2nu6OjYunVrYmJieXk5IUTH6sD4Cv4ENNPf8aA6yjUv+ScVT7q9ysrpuFyu3bt3i6KYmprKMIzH46mvr3c4HP/6r/86ffp0QRDkCsrKUxnOAQ6ICsc26NPnpC9yDlYYlahGEwAAIABJREFUjEHVQKXgFbB0ylPqCxcu7N692+l00jRdV1eXk5MDQa5kJycVcR9RZSVR8vv9NbU177zzztmzZ7Ozs7Ozszs6Oj799NOjR49+//vfn/P4HEmUaIYGtYD6iE4oFLp48eKGDRt0Ol1hYSGsIsnFgPLDn3BeFByQUV1dPWrUKJi6IDxghRfqCy0mNxfchPugn+H5b1SNfK1th4QQqK3T6Vy0aNGMGTPkQZ1hGFh1drlcN27cIISYzWaz2WwwGEDgRVHs6enxer2xsbG2WJuO1YFudbvdLS0ter2+p6cnEAiEdQSmCCYMw8ARDh6Pp3JnZVpaWvwL8Q6HQ1YZCCFGx3Ahrq29zeVyIYQSEhIsFgvLsqFQSBTEYCjY09ODMU5ISNDr9b29vW6322AwJCUlgb0R5LOtrS0mJiYtLQ2G3qhs9A5CpsaiKJ47d+6LL77IyMhYunTp5MmTDQbD+fPn/+///u+LL74oLCwsLy+XJKm7u7ujoyMUCqWkpMBqQlNTU01NTXJyssvlSklOEQXR6/E2NzdjCqelpcXExAAD4ziuu7vb5XLBtyCEGI1GmqIRRm63u6urCyGUmpoK5394PB4gah6Px2QyFRQUvPjCi9mjshmG0el0vb29XV1dFEUlJSXBdzEYDFAwjuMsFovVag2vkxGkY3RyA0qi5PV5CSGXLl2Cb3T58uXq6uopU6agvkCEsmIapnaTCURjY+Pq1at7enpeffXVGTNmWK3W69evv/XWW19++eXEiRPBSODxeBobG4PBoNlsdjgcMTEx0D2sVit0Xbfb7XK5ent7DQZDSkqKxWIJBoN+n5/jOTgixWq1vvDCC4mJiQaDged5QRCampo6OjoSExOTkpJiY2NhlcTn9bW0toRCofT09ISEBKxZCBDCGMOoRgg5d+7ctWvXJk2aVF1dfejQocWLFwuCIImS2+0OhoIsy7a3t0uSlJ6ebrFYEEI9PT2gZ69du2Y2m2NjY9PS0jDGVqtVr9cHg0FCCM/zLperoaGBoqjExESbzabX62VXj8jCDLN3IYQoiuro6Hj77bd9Pt+vf/1rkM2WlpbPP/983bp1u3bteumll+BJj8dz5swZQRDS0tLsdjvDMOXl5enp6SkpKRzP6XS67o7uhsYGjuPi4+PT09NZlgUDNaia3t7ezs7O5ORkcKxpamry+/06nQ7GwmAwyHFcMBhkWbaxsTEUCjmdzri4OL1eTwhROjmOlBkop57gQzBz5swf/ehHJpPJ5XJt3779vffeO3DgwJQpU1wuF8bY7/d7vV6bzZaUlEQIaWho6O3tNZvNIDJQZlEU29raent7rVZrWlqawWAIhUKiKHo8nra2NoxxfHy83W7X6/WiKHq93sbGRo/HAw9brVaO49xuN5jZR40a9eyzzzqdTlWllJ91ZJJFkCiKTU1NGzZsuHDhwjPPPLN8+fK4uDiv17tjx47Vq1dXVlYWFhampaX5/f62trb29naDweB0OqFgNE2bTCagpDDzuXnzJs/zSUlJsHoFJ5bByikhxGQyzZ0712KxUBRFEPG4PTdv3gwEAomJicnJybC8jjHu7u5uamqCvhEfH28wGGQfrBG5iN02RuZDEHkHeqder4+Pj09MTEQDjRtXr17dunXrxYsX3W632WyePXv2448/npCQ0NbWVrmjsupoVVdXV3x8/IIFC2bPnh1jjrl8+fL2L7afPHESxhjoeaIo9jv3YkRRlNPpDAQCR44cKSoqstvtSEFL3W73/v379+3b19nZGQgEnE7nk08+WVJScunSpZMnT3Z1dV27di0UCo0ZMyY9Pb2mpqa6ujo5Ofmpp56aNm2aTqerqqravHlzXV2d0WisqKiYM2dOTk5OJCW/s5Cn7729vUeOHBFFccmSJbNmzYLzfCdMmLBy5corV64YjUZBEE6fPl1ZWVlfX+9yuRITExcuXFhUVFRZWXnixAmz2ZyXlxcXF9fW1rZp06azZ88Gg8GCgoJFixYVFxfHxMScOnVqz549NTU1LMsmJSUZDIbHHnustLS0+kr1+vXrb9y44ff7CwoKFi5cWFpa2t3dvWPHjra2tmvXrmVmZhYXF3d1dVljrfHx8efPn//888/r6+uDwWBeXt7SpUvz8vKuXbu2du3ampoaWPObOnXq4sWLVawWbAAnT5784osvTp06VVdXFwqFEELnz5/3er3jxo1LSEgAXwq5vw2nzXGfRff06dN1dXVLliyZNm0ajBP5BfmvvPIKnNJJCLl8+fLatWvr6+sDgQBFUXPnzl2yZAnP8xzHhUIhnue7uro2bNhQWVkpSVJycvJjjz32xBNP8Dz/+eefX7x0saurSxCEJ598sq6urqioKDMz0+v1fvbZZ2ArZll22bJlTz31FCxbbN68uaamhhCSk5Pz5JNPlpeXA+l8mAmBTIncbvdXB76Ki4t7+eWXV61aVVlZuWDBAoyxP+Df/sX2kydPEkLq6+tpmn7kkUeef/755OTkXbt2HTx4kGGYq1evsiyblZW1cuXKkpISmF0Am79y5cr69etPnz6t0+kyMjIef/zx2bNnA9Uj0Y4QG+a3IISIklhfX3/u3LmXX3557ty5oiAKouBwOFasWGE2m61WqyAIsbGx9fX1v/3tb/1+P8/zkydPXrZsWUZGRm1t7f79+7Ozs00m0759+7Zt21ZbW6vX60ePHv3cc88lJiaCIqUo6ty5c+vWrTOZTMuWLbNYLNu3b9+2bVsgEMAYz5kzZ8mSJVar9fDhwzt27LBYLBcvXvT7/Tk5OUuXLp0+fbrBYJCIRGHq9qwFYRaOwpYVhJDFYrHZbAaDQa/X5+TkJCcnA3U+cuTIgQMHmpubXS5XeXn5okWLLl++vG3bNhgyy8vLly1blpub29PTU1VVtX79+ubm5vj4+IKCgieffHL06NFHjhzZunXrtWvXKIpyOBzf/e53H3nkkebm5m3bth05cqSnp8dgMEycOHHhwoUwoICpoLm5uaqqasKECQ6HQ/ZLgzLfXuxIiUgIo47OjhMnTmRlZX3nO99JSUnhed5ut8+ZMwcmBsDPdu7cuWfPnrbWNlESMzMzFy9eXFJSAhZE8FM+ffr0xo0bz5w54/f709PTn3766Xnz5vX09Gzfvv3YsWMtLS0xMTGPPPKIIAipqakpKSmtra2ffPLJ/v37McZxcXFTp0596qmnkpKSzp8/v3379osXL7pcLrvdPn/+/Dlz5iQlJskLYSPqtLeHrxu8mqIolmW9Xu+VK1dMJhOYOMxmc3p6eigU+vTTT3fs2JGbm1tUVHTy5Mm///3vJpOprKxsw4YNX3zxRX5efm5u7rFjxz766KOYmJjROaP/9re/VVVVlZaWMgzz1VdfBYNB2aAUPnCZII7jcnJysrOzDx48WFlZmZ+fjzHW6/VQnt27d//lL3+xWCzl5eU9PT2HDh0yGAyJiYkXL15cvXp1TExMUVFRb2/vpk2bWJYtLi52Op1nzpwhhGRlZfl8vtWrV7e3t5eVlYVCoe3bt7tcrhdWvpCZlflNT+8gWa/Xe+PGjdjY2OTkZJqmJVECt8pZs2ZNmDABlg/eeOMNj8czdepUo9G4bdu2tWvX/uxnPwMuabVaTSZTQ0PDqlWrzp07V1FRYTabjxw54na7Y2NjWZZ95513Ghobpkye0tnZ+cknn1it1kmTJrW2tr799ttnz56FNA8fPlxTU/OP//iPkiRt2bKloaEhNzfXZDLV1tYeOHBgdO5ovV7//vvvX7p0adKkSTzPb9u2rbe3d8WKFWvWrDlz5sy0adNSU1OrqqrWrl2bmpoKDgfh4PB9WhshBJ7DiYmJ8fHxDQ0NYI+JjY3leV52yxo+ZHPClStXQqFQYWGh1WoNO/0hUjimMCcnh2XZrq6ut95669SpU7Nnz05JSdm7d+/69etLS0vj4uJkGv7ZZ5+99957ubm5paWl+/bte+ONN3ieLy8vrzpatWHDhpKSkvz8fL/fv3nzZrfbPXHixB07dqxdu7awsHDKlClVVVXvvvuuXq8vKysDQvb444+7XK6NGzd2d3ePHj3a4XBI9/CJzN8OJCIJnHDlypU9X+6ZOHHi448/funSpcrKyuPHj0+dOhVjXFNT8/7770+dOnX58uUtLS0ffPABRVGvvvpqc3PzunXrCgoKnnnmmd7e3vXr1weDwd/+9rcwHoAfLiiQZ5991uFw7Nix409/+pPNZps5c6a8+hBZnluOmvBrKBi6cOGCIAg5OTlgvzUYDQgho9H4ve99DxiAx+O5ceNGRkbG3Llzm5ubd+7cabPZVqxYcfbs2a+++uq5555rb29/4403RFFcsGCBJEmbNm0KBoPf/e53PR5PbGxsbW3tu+++W1tb+8orr5hMpp07d77//vsFBQXl5eW1tbUbNmxACD3//PPXr1/fuHFjVlbWvHnzvF7vzp07CSGFhYVOp1M2pA+nXlE+jSRRdP8Gn6qqKqvVyrKs2+0+efIkwzATJkzgOK6urm7Dhg2JiYlTp05NTU3dvXv3F1984XQ6lyxZcuPGjcrKSp/P99prrzU0NLzzzjter3fevHmhUOjAgQMul2vFihUwTC5cuDA2Nnbnzp1vv/02TdPV1dVr1qwZN27c1KlTa2pqdu/eHQgEXnzxRXlzU2dn5/Hjx2H4BA8DpeEWj3xlHWPM83xzc3MoFMrPz09KSgLZZBjGZrMtWrTIaDT6/f5NmzatWbMmPz9/zpw5V69e3b9/P1hwdTodrPvU1NSsWrXq6tWrM2fONBgMhw4d+uCDD4xGo8PhOHjw4LFjx8aPHz9mzJhQKHTq1KmioqKurq5Nmzbt2LGjoqKiuLi4qqpqy5YtJpNpxowZW7ZsOXbs2OzZs/V6fWVl5UcffRQXF/fYY4/JKvFbmEvcAUKAEKqurq6trd29ezdCKBQKZWdnv/DCC16v99KlSxUVFS+//HJ2dvaRI0f+/Oc/Hz161Ov1Hjt2rKio6Ac/+MHo0aO/+uqr9957b+/evW1tbU1NTRUVFd///veTkpL+9re/bd++XelchjGmMMWyrMlkeuSRR0RRPHr06JkzZ7Kzs4GsAZN69NFHH3vssXHjxnV2dno8no6ODr/fjzF2OByLFi1avPj/s/ee0VFd1+L4OfdOn5E0Go16rwghAcJYFAOmmGJig20w7t3x+8d2Yid5L1nrLb+8/OIPyXNemuPYWc5LMNi40I0D2GADBhTThAABEghV1HuZPvfe8/+wZ46O7hSNCiDJ3h+0RjP3nrLPPnvvs88u91VWVv7ud7+Liop66aWXYmJi3nnnndbW1t7e3hMnTrS1ta1fv37NmjWEkLfeeuv06dO33XZbQmICVTjQDfDzBGqmd2PUjMZhzm63K5QKURQjIiLAWDJz5kyoTgaBGGBRWLx48YEDB+Li4hYtWgQn77Vr1z7xxBORkZG7du365JNPLl++7HQ6m5qaHn3k0XvvvVcQBLPZfOrUKYRQcXFxTU3N008//cADD4SHh2/ZsmXTpk2XLl3KysrSaDT333//I488kpaWtnv37uPHj6tV6osXL547dw6+V6lUGRkZra2tYIwpLCxcvXq12WzOysr6wx/+UF9fD7Ycp9MpeTMT8DxfVFQ0ffp0SZLA9v7JJ580NTV9//vfT0tLk0aU3x5WRBCE3t5ek8kUGxsLEWgIIbfLDfVpwE06Pj7+lVdeWb16tU6ni4iI+Pvf/w5uRNBIQ0PDkSNHpk6d+otf/CIhIWHx4sWvvfbap59+Cvs5IyPjZz/72W233dbR0bF9+3a41dq/f/+MGTN++tOfxsbGLlq06Be/+MWxY8dyc3Nra2vDw8Pvv/9+MDM6nc7hxlJOSsAIi25RlMSKioqenp5ly5ZFREQsXLjwyy+/PHLkyJw5c2AX5OTk/Od//ue8efPg9vrw4cOrVq3S6XRarfb73//+fffdB4Wgdu/eDQdNuGmqqKg4duzY6tWrX3jhBaVSmZSU9N///d8HDhy4ffbthjADdXmmkhLurYe8hKY3ek6HE64qQG0VBAGGwXFceHg4uODl5eX99Kc/nTdvXmNjY21tLVjRwD+mt7e3rKysvr7+tddeW7NmjcPhiImJ6e3tVSqVSqXy4sWLv//97/v7+59//vkVK1bYbLavv/46KirqJz/5SVpaWltbm91uP3r06NKlSyVJSk1NffHFF9etW9fS0uJwOGpqavp6+6QEifroyDIcBJoazIudKbg6Aq2eO3euvb0dIkG6u7uzsrLA2SgyMjI9PX39+vWPP/54Q0PDG2+8YTQaX375ZWC5Op3u9OnTpaWl4LT/3HPPrV692mq1pqent7S0nDx5sqGhYc2aNS+//DLGOC8vr6SkpLm5+ejRozk5Oa+88kpOTk5DQ8P//d//lZWVNTQ0wGmQEGKz2cCIgjGGm1y6lCOgQ+r6YLValUplfHw8zNrtdkMtLpVKBQwkMTHx8ccfnzdvXlpaWuXVyt7e3o6ODgi5cjldln7L6dOna2tr16xZ8+ijj+p0ury8vM2bN585c2bZsmU6na6wsPDHP/7xjBkzTp8+ffnyZYRQQ0PDhQsXcnNzv//97yclJaWnp//tb387f/58RkZGT0+PKIppaWlz5swpKiqqr69PTEx0Op30xHsTGMhoFQKw1UdFRRUUFBQUFCCEBEGIjIyMi4s7deqUKIqguioUiuzs7ClTpsAhmBACp3OO46ZOnTp16tTGxkYw1BcWFkZHR2u12pycnNLSUkqysHVFSUQIgWFn2bJlly5d2rNnz5IlS+x2u06nU6lUc+bM0ev1V69ePX78eFVV1YkTJ7Kzs6EFo9GYkZERGRkZERFhMpnS09PNZrNWqzUajd3d3eC70NjYeOzYsfr6ekmSSktL6+vrYUuAE82ItdEhcQgrrVKp4MLJI+FEgVfwcDMKGyM/Px9u3zdt2tTc3FxcXCwIQl9fX39/P4TlYIwbGhra2trKysr+/Oc/I4Q6Ojpqa2svX75MCAkPD8/JztFqtCq1avbs2XCVXlVVZTabCwsLtVqtJEmzZs3avn17V2dXf2y/VqvNz89PS0uDaCsFr7BarNXV1QaDYcaMGUajkef5DQ9ucDgdOp0uNjb27Nmzmzdvttvt4OEPAYqQVgHCKWnsTVlZWVVVVX5+flNTU0VFhUKhaGtri4uLCw8P5wYnRgwR4FLTYDBA0CZcykqSxCt4u8PucDi0Wm1kZOS6devKy8u3bNnS0NBw/vz5K1eu9Pb2ghYiSVJ1dXVzc/MjjzwSFxcnimJWVlZ2dvbly5ftdrvVas3IyJgyZYpWq1WpVHAp2NTU1NLS0tfXB7N2uVwgALRa7bRp07Zt2/byyy/n5+fn5uYWFRVB9Me31kJAXbU5nuvs6jx8+HBLS8unn3569uzZmpqaurq6s2fPNjU1hYWFdXd3T506NScnx2KxqFSqwsLCa9eu9fb2EkJSUlLmz58vSZJarZ4+ffrBgwcbGhoMBgMgv7m5ua2t7cyZMz/72c8kSert7W1ubm5oaLDZbHqDXpI85nSEEbjxS4OTeQQZPMZYIpJKrQJACEHEE0KI4zhwdcIYg2hJSkpSqVRqtTosLAys/WBYFkWxtaU1JiYGDM7h4eHr1q1zOp0dHR1KpbKkpOTcuXPz588HRfz69estLS3Xr1//4x//CHHdly9fxhhfv35doVDExsZOmzZNqVSqVKqwsDAYHvbG2iCvBZ1qPLKFYHMV+06ceNOcLFy4cMOGDaIoulyu8+fPHz58ePv27VOmTOE4zmAwZGZmGgwGi8XS19eXlZWVlpbGcVxkZGR+fv6JEydqamr6+vrCw8Pz8vJ4no+IiFi9erXdbt+9e7fL5SooKNBqtS6X64477rjtttvOnTvX0dFRVFSUmJgIjUydOrWkpKStrY1aiDlvngZWiRklHwYXY0mSIC4UXN/AZdLlclmtVoitsFgsmzdvbmlpsVlt1TXVSUlJ8Looig6no7+/X6vV5uXlRURE8Dw/ZcqUlJQUOIvyPG8ymcDLCnkFR09PT09Pz5UrV15//XXwmSsvL8/IyBBFMTc3t7i4+Je//CVEPN15553JyclsxpcxP4v6wsgVAtgDYLpJSEhYvnz50qVL4ScYel9fn81mg/UDb1Lire0GlEp1doQQm3UHRCC4JTocDofDYTAYqP82xOyCSrFy5cqPPvro0KFDLpdLr9fb7fZz585t3Lixvb09Pj4e8j9QPNIxsOPheR6sUhBcDivU2trK83xKSkphYeGUKVP8OiWx/45ScYOJC4IAQuvKlSvNzc0ZGRnY6yl95cqVkpKSnJwclUr10UcflZWVRUZGJiQkgDMOZjJBASaVSqXFYgFt3Ww2r127durUqaWlpfRMI0mS0+UEwWkwGMLCwgAb4A8ISQLsdrvFYoFbG0S1Fg4DG4JDT39/P6/gw1RhjY2NW7ZsKSkp0ev1KSkpkCWCXhDQbQw3fxcvXvzggw8uXbrU0dFx4cKFiooKtVptsViefvrpOUVz9Ab9cEkf5q5Wq2NjY1tbWxsaGqZOnQr3slqtFthQcnJyRkbG1q1bi4uLzWZzRkaGyWSCSy561OB5HnAC6VCcTid4pcEBlNb+djNgs9kQQu3t7QghhUKxePHipKQkg8Hw2GOPRUZGlpSUHD169LPPPluxYsUrr7wCPsbfTiMBBCrD9K9evXry5MmCggKXy3Xt2jWFQpGWlnb27Nni4uK1a9ci5g6I0gzQGzgPgq1YpVL19/eD5xB10tbr9fHx8XD9l5ycXFBQkJ2drdFqwLmVVn/h8CDNbOhFIQh8SqxWa1lZ2YIFC4BBqVSqrq6uTZs2EUIeeeQRjuMgIws7eOSlf47jtDotpLsAz9nOzs7e3l7wp0tLS5sxY0ZVVdWhQ4eysrIglVZiYmJ0dDQ4bickJCQmJiYmJtbW1kIkG/YJkvLsMm9uLr/zwghjhKlOIDMSIMZgmZqaumTJEoSQ2+2eNm1aT0/PhQsXGhoaBEEAF05vqlwM13M0goAbXGuUEALOBz09PaDMYW80k8PhgIQrhBClUgmxUSD7WRnBTtB3qMOiQ/ZFtVqdmpoK5pne3l64qAWP6YMHD1ZWVs6ZM6empuaDDz7geX769OmJiYmiJIIRC+w6IP4IIXa73W63h4WFQUVpyKDgdDojIiJo4gHItwFdxMfHm81m8IebMWNGclJyUmJSTk5ObGzsqVOnysvLd+/eXVxc/Oyzz959993gWnhzSjaPXCGgpEa88YROpxO8/eGwGxYWplQoe3p6HA5HeHg4uMfzPA/es0AcNKwAXHKuXbvW1NQkCILJZIIgQ61WC6dM6IvjOEh3gzHW6/UrV66sqanZu3ev2+2Gm6rjx487HI4nn3xywYIFkiS99dZb4MrOSk26WxBCkiTZ7XZYYIVCkZmZ+cwzz9x+++08z587d66urg5cSdHg4ECWYbGoGA0ywYReUFBQUlJSXFycl5cXHx+PELJarceOHfvnP//56KOP9vf3X758+Xvf+97q1asjIyPff//9I0eOIITAwKXX6+FQbjAY1qxZs+jORbExsdXV1WfOnImPj29sbCwtLe3r75OIJAhCe1t7c3MzUGdDQ4PFYoGkHxUVFTabjeM5tVqt1+uB4ineJFFyuVwdHR1dXV1wSj745cGrV66q1erS0tLZs2evWbMmOzv7/Pnzv/71r2U4R954s5SUlKioqKSkpDVr1nR3d7e1tc2ZM2fOnDnJycmQgYoyqUBMzRdgv02bNk2n0+3fv3/atGmpqanAXI4fP7558+YHH3zQ6XR++eWXd9555wMPPJCTk3PkyJHy8nKgVa1WCy6cTqezpqbG5XLpdXqXy9XW1hYWFqbX68F8AghB3ihEOBPMnDnzxRdfjImJwRh//vnngiB0dHRA3MT69esbGxq3bd92+PDhFStWpKamogleP3fEAKlLgEuUlJQ4nc4XX3xx/vz5kOLp1KlT/+///b/Dhw/fddddRqOxsrKys7NzypQpnZ2dly5dguRFDoejtbW1qalp6tSpdrv9woULKpUqJSWlv7/fYDBoNBrYqrfffvvzzz9PCOnt7d25cycNAJNRESWtINTFCkuVSjVt2rTk5OT9+/cvXrw4Ly+PEGK1Wo8cObJp06Y5c+YQn8hbaJzycZ7ndXodBEGkp6dDaN/JkyfhXmnu3Lkvvvji3/72N/BrycrKio2NVavVzz//fHx8vMVigUtV2Iz0+MQyNOR1u4YqXzAeiUk0jigTC1xdggVqDAMm2d3dDZfZTodTo9a43W6JSBq1RqVSVVVV9ff3x8bGdnZ2wvZJSkpqaWmxWq0tLS3Tpk3r7+//8ssvT58+Daev+vp66p945MiRhISEsLCwmpqa1tbWtLQ04HKgjoOugLysAxQgIhHCDVQwGbFaAPIY/NiOHDly//33q9VqyBuxceNGg8GQnp5eWlpqNptfeeWVoqKiurq6t99+u6qqikp9nufDwsLACnvnnXdKktTW1lZXV5eenh4WFsYeNrA3CtFgMKjV6vj4+JdeeikhIaG1tbW4uFiSpK7urpKzJUaj8ec//7nFYtm9e/eOHTsuXry4ZMkS8Lga7xYCANDNgUBBacLeEOGsrKyw8LAvvvgiJiYG7HtXr15dtWpVQUHBxYsXT5w4kZOTk56evnfv3rKysrvuumvWrFnl5eVfH/06IyMjLi7uwIEDtbW1CxYsALURdGqFQgFZ50AvS0hIWLly5blz506cOOFyudxut9VqBaTb7faTJ0+ePn06JiaGnufYA6tOpwOvb9DmwsPD8/PzL1y4UFxcDBbj7du39/f3eyJHByfioOKN1Q9Gg0Z6PJ03b97p06cPHjwoiuKdd95pMBiKi4v37duXmZmZn59/9OhRURSjo6MhZODw4cOgV0E64cbGxpqamqysLJ1Od/z48dSUVFEQ9+7de/To0eeee66jqStDAAAgAElEQVSgoODIkSMfffRRX1+fSqUCZ0Ce57Ozsw8cOLBt2zY41m/cuBFjPGPGjNjYWEA4HFCUSqUoiRqNZubMmYcPH967d29sbKxSqdzywRa32w3RyWq1Ojw8vLq6+v33329sbLTb7XCA5rzJlIBJpaenp6WlKRSKtWvXnj9/vqGh4b777ps1axabANH3Q3CA9jMyMhYsWPDRRx+pVKrVq1fHx8cXFxdv3rxZqVQuWLCgtrYWIWQymaKioi5evLhjx47r168DGYB9KDU1NT8//5tvvoF8I19++eWxY8ceeOAB8DoEkgMDCVh0oqOj8/Lyvvnmm6KiosWLFx85cuTtt99eu3Ztenr6xx9/rFAoXn311fi4eFDU4K2bsKXHJ1CBdPXq1T179kydOnXJkiVwYEIIzZ07d8mSJV9++eWZM2e0Wu25c+fefPPNRYsWXbly5euvv167dm1qaurJkyfBx7C3t7etrW3r1q0zZ85MT08/ffq02+12OBxFRUW33377hx9+CJzhn//856lTp1555RUayMpxHHtZgAfnlvcFzIBer8/Kynr44Yf/93//99VXX128eHFqampFRcX+/fvDw8MfeOABkHAQq0Jft9vtdAfp9frsrGyE0F//+tfW1tb29vYdO3bA7TXP8waDITk5edWqVefPn3/nnXfAheKDDz548803lyxZcu3atQ8//DA/P3/lypUulwtuIsA6wvO80+lkrxplyrRffYguCiED3gY0/xtY0ffu3dve3q7T6Ww229WrVxsbG5ctW5aUlHTq1Cla7CDKHDV79uzdu3f//e9/v+OOOy5durRv3z64JjOZTDt37nzvvfdaWlp6enr279+fmJi4bt068GgGhGzdulUQhPnz57vd7s8+++ytt96aN29eTU3NV199BZeV9fX1xHtnarVaB053mAMVk85uuDsLFJ2YmJh77rmnpaUFvBZycnI6OzsPHjxotVofeOCB22677cyZM729vRUVFV1dXceOHTt48GBKSgqkIwNdNiMjIyEhYd++fRhjk8l08ODBlpaWdevWQSwoDA/kIzDqmJiYrKysw4cP/+Uvf5kxY0Z5efnhw4fnz5+fnJwMyd8qKytzcnIgxAauDKCFm2NcHO2VATDK8PBwOMcD6weDQWpq6urVq7dt2/buu+8qFIrOzs558+atXr0aAhC2bNnyxhtvaDQal8tVVFS0Zs2a9PR0q9W6devWP/3pTyqlymqzQptUNwTLrdFohG0Ayvj06dPvueeejo4OjuOioqIWLFjw8ccfv/XWW3BoButTX18fcGS4QQDTIpwIFQqFTqfjeV6hUIDM+Prrr0+fPg3s4/7778/NzQXvEsxhmq2ZY/IHj4lOgL23IZmZmY899tjmzZs///zzAwcOqFQqu91eWFj48MMPZ2VliaJ46dKlLVu27N69GyFkt9s1ao3FYtFoNOnp6fv27du2bdsTTzzxve99b8eOHb/+za/B8W327NnZ2dlJSUk/+MEP3n333d/85jdw5tDr9T09PXfccceGDRv+8Y9/vP7668DC7r777hkzZrS1talUKppLCmbtcDruvPPOdevWffzxx6+//jrc8oK2UVlZuWPHjkOHDplMJkEQIHwZrhtAFaNKT2dnZ2NjIyxfVVWVTqeLioqiRiDfk1yI2IPbxwcffNBqtZ48ebK0tFSr1dbV1aWlpf3gBz8oKCgwmUzTpk377LPPwPdCoVBERUU1NTUBeRBCkpOT/+3f/u3NN9/8/e9/r9PprFbr3LlzH3roIbi9ApMVQsjhcIBt0Gw2P/3002+88cZvf/vbDz/8sK2tLSkpaenSpYmJiYuXLP7g/Q9+9atfYYzBi6qwsDD4eXSSA6TjJcRqtYqiuGrlqqioKLvdDqbvyMjIOXPmnD59ury8vLGxMTIysru7e9OmTZIkPfzww0888QSkfFAqlX19fe+++y7GeMGCBY8++iiYdqZMmQKXBc8///x77723bds2jUajVCqfeuqp1atXK5VKSP+HMQZJRhUCaah88nTJwNKwcuVKh8Px1Vdf7d+/H2jmtttu27Bhw8yZMxFCcXFxNpsNWJbT6YyOjgYLuclkSk5OVqvVeXl5P/zhD7dv3/7mm29qNJrs7OynnnoqISEBYvcxxvPnz3/kkUc+/fTTysrK5cuX9/X1/fOf/ywpKdFqtRDOZzabzWYz6NPAbCGWx3PTjAeUb7opsI+ZjXUjoGVCEdykIIkQQiOzdu3cpdVpDQZDfHz8Y489tnjxYq1WGx0dnZSUBD4xZrN5w4YNSqXyiy++OHv2rFqtnjdv3r333Juelh4XF/fss89u3779r3/9q9FoTEtLe/DBB2fNmgX3s5988gkhJDo6+sEHH1y8ePGUKVPcbvehQ4fKyspMJtPKlStXrlwJQY/R0dHAurOyspKTk3meF5GIOQwZzNiVGhY9Ag9XqVRz585Vq9W7du06cuTIoUOHwsLCkpKSVqxYsXDhQoPBsHjxYrg1AF9vCISBZDYpKSkxMTG33377Cy+8sGXLlj179hBCjEbj008/fdddd1mt1tTUVJ1Op1arwaodHR0dHx+fkpKyZs0at9t94sSJo0ePRkRELF68eO3atVlZWWCh3L9//+HDh0VRvOuuu1auXElLOaCb4lQ4tGJFlegtW7ZYLJb7778fMlEghDDG4JXW0dGRnp4OeUIwU3HEZrPV1NRUVVf19PSYIk0FBQXJSckII5vNVldXV1lZ2dvbazabp06dmpycrFQqbTZb1bWqy5cvuwV3WFiYRqPJzMxMSkoCQxM48lRUVLhcrqysLGOkESPsdru7u7tramogrlcUxerq6traWpvNBlTb09MTHx/P83xHR0dGRgakUCwvLw8PD8/IyOA4DoaRmZGp1qg7Ojqqq6tBXCUnJ2dlZZnNZpVSNUB/WE6FvvstCCbhFYvFsn379rq6ukcffTQrKwt+EtwCwUSpUEI2kpqamqampv7+/oSEhFmzZplMJq1WSwgpKyurrKzkeT4yMhKSEkZGRqakpEBuInDGVKlUV65cqa6uRgiZTKaCgoLY2Nimpqa2tjbwvQoPD//mm28uXrz4/PPPL1myRBTF0tLSpqYmhFBycnJmZqYp0tTV3XXt2rWUlBTAXnNzc3V1Nfzb0dFRUVHR2trqcDhSU1MLCwv1ev2VK1cqKioggCo5OdlqtapUqtTU1OrqarVaXVBQAP47kBqotLRUo9FMmzbt8uXLoigWFBTo9XrEZDyl6JXhFsx0e/bsOX78+FNPPpU7NZceETDGRCKiJLa3t5eVlTU3NzscDpPJlJOTk5KSEh4eTghpaGg4efKk3W6PiorKzs5ubW0lhEybNu3ixYvgc6rVaisrKy9evNjR0ZGampqZmZmWluZyucrKyuB2QKPR9PT0XLp0yWg0pqamqtVqcIfu7OxUqVQFBQWZmZk6na6rs6v0XGlbW5vFYomOjgaHKTopliRg2AijrVu3Hjt27He/+50spGrCASEEgoTfe++969ev/+iHP4oyR0mihDnsdrt7enpaWlp0Wl1iUiLyrjjHcV1dXW1tbWq1+s9//nN7e/tLL72kVqt1Wl1ySjLkhnrzzTfff//9t99+W6vVAuFFRUUhhCwWS1dXl9lsNplMTqezra2tpqbGZrNlZGSkpKRgjFVKFc33hxCCG3S/uxjSyIBR7Uc/+hHwE3gSqmNA8rT29nZwkFKpVHFxcVFRUaDytrS0gHGCEAK348BGLBZLS0tLSkqKWq0WBOH69etNTU1arTYpIckUZZKIBHSYkJCAMQYfJohb6+vrq6ur6+rqAidoULUh91dMTIxOp3M4HB0dHZCjDCQHmzKPzo5dGrpNBEE4fvz4Z5999tCGh+bNn+d2ucEKCOaW1pZWu8PO8RyRiCRJWq02NjZWp9O53e6+vr6enp6UlBTw8YLbHFCsIcEJpAABKdDU1FRfXw9S1mg0wtq1t7e3tLQIgpCQkAAJvsCJr729vbe3V6PRpKam6vV6QRA6OztdLhf4L/f09ERERIAhk6YOpHP0y4TpdcOpU6f27t0LJ1LgIfAAiGpRFJuamtrb2+12u0qlio+PNxqNBoMBsjTW1ddZ+i1arRZCvex2e0REBPhphYWFRUREiKLY3Nzc0dEBiYni4uIgZLG/v1+pVIaHh7vdbqAfg8EAq2a1Wtva2qCESmJiIk3v1traWltbC5fs8Qnx4eHhapUask4FsvRQhnnhwoVPP/00Nzd3/fr1xOuuN9zNOyofAjjzpaenp6en02st5CVKsCFPnTo1Ly8PnrdarRarBdxq8vLycnNzYZ5gsAVT/9S8qdk52WBkw0xKc2hBoVBMmzYNPmOCMYd5no+NjTWbzdRsMGvWrFmzZsGq8zwviqLT6eR5HkSvzWbTaDRFRUWiJPKYxxhPnToViB5hpNfr09LSoFMaB0igdgOjoI3AQjUkMuH6HCEEsXyJiYmSt76zUqkER3ew2M+YMYMMLnTkcrni4+MTExOBYWGMIWk2uHTA4bupqekvf/lLfn7+3XffbbPZ6uvrIdcbONDNnz8fmDg1yZhMprlz59KdA+cYjLAkSXFxcZCtHX4CGyNEi3islAgjjERRdDgchYWF1DcbRqvVaufMmQP2m9tuuw17XQ382m+DmDqp6QJ7LyNcgmvQ8AjCHAZKgE2YnJycnJxMvFlgc3JywO5355130lCOnJwcOK+AszFCyGAwwPkebsQiIyPnz58PmdrAwXjGjBkwMEjYjDHW6XV33nknvU62Wq2QcE1GNoS5AZ3ctwlg4OV5Hs64xJuZlQrjKHNUTExMf38/Qgic7BITEzHCLrfL4XAAJs1mMzheIYQIIf39/Xq9HmMcGxsL5kOFQpGYmJiQkMBaK2VX5gOuhf6c8GVAeRrG2GAwOBwOnU6XnJxMzQySNws7IQQC8+B22Wg0ms1m5DXF5+bm0pNSVlZWZmYmtG+z2QRBoAG3kiSZTCaz2SyKotVqNZvNUVFRDoeD2krh2pt442wh/5IkSZIoEUSoeUBiCnnLhCXGWMJeTz0vKgBESSQSUSqUSoPSmGtEXt2O2jzAjUaj1QC/JV43BYPBAEwe1hR6gQ2ek5ND47yw15UvISEBcpYj7xYAFxDAGPLa/JRKZVxcHL0vhoBPmBfICzT8u8UBMiAEUqjB58TExIyMDPZXQF14ePj0gunUHA6jgmfgYAwmrrS0tPT0dFgUEGegQMCKK5VKOjtq505MTAS0wGU3XMsmJiaC6xhCSPJmOZRCKMs+VjBaHwLYDKzbHQDIIWlw8ny4JKY6LOtuQ7wJp6gjAnVTZ5mmR3ggTIjHBgi0Qt15KPVTCcTzvE6no3Z+nU6HBzu7cZgjHMGSZ+ez+gf25sNCEqLRSjcCKN+hkwWyA6UEIQQmUEA15SzwLg2eYSUrotWQJQRVuZKSkpKTk/fu3Qt+iFqt9sknn0xLS1Or1AghjDy59yXR2yzm6OmN9eihSOC9ObcVvIKWaiF4AHtsOWO6dsAf6aZiIzhCJ3cPSXGDXESJ9xIUhspxHDiWA2OipwqWj2CMQUiznBQWHUYOF/8cx0E8AkUv+MZCOCXnTYzjGRTHIYQgVJouFhxruAARlXQiIU5/QoK3NDVdKc7rRu75IEpEJBzHZWRm6PQ6rVbLYc4tuKkjN1h0IEIMmoQzHNAhPT8oeIUniRlCCOpxMOXCAUYgRRS8AnNYrVELggCKJtsCSz/0MIMYaUcpnGY0AYVVrVKrVZ6sw8DNqHYLDhZw6UAkIggC5jDrsUh9IxBCtFqSrBqIX6BVj+kdPG0TSpuiwWwQZkHVWR7DSQpzHAdmS/oM3L3St4hERFH0VPEhHo7BehQR5iBLvEFJFKXABllByDriBJ/jkMBKIoVCQSsdc944OOS9JyXE4w+LmfzBdJlYLZ9yBswEgPBMKQf2X3r+8VxJe6dDu4amSGDbwI2AUfkQIO/oMaOE0nkixqEavmQrxrJN8d4AU8Sgw/cbhBCHOSB9VumXqSMUfQPLyWxOqoVwPmWNqFYoDU74hRBCPKLP3AhNTab0IO+2oUPimBohxGseYB9m9xXdbyA1JSK53e6kpKQf//jHy5YtA2N+eHh4bm4uZImHKdNmZS2w86Xf02F78I89/4IxluoQ/ODa8ByTCoaqvTIkhIIu7AX2G6p5UMohXk2RsmmQQCwvYJ+UfOpd0VVguZhH8CgG7R3olIollqTpng80wZu54W8VEEKw5Il2ozTGfqAy+4H7H1Cr1cYII42sA3/yu+66a/bs2TExMRzHgemLKqzsRuZ4DrJ3sIQnoxYKoQgV4vVGhHUkksdRH3QCduRsR+xehgwciNnUCC7siUTpCnOYeuohr10BUxVfIgghgoknlYJ38IM69foGoiGNH36/9vofIIbRsQP2HE4IwhjzHE9HwnIelhWzmIc6wsjLq1nmNmjtGObDbgqZUJR9OWIYkNkcTxcIMWs30B1GtFY1y5Zls/YlM3aorDSkLbOvBOG0KDRaHT2M1qmQkg4rd+kDsoUcJGKZRmRSVoYFzEpKzrMwiCBakpKSlN+WZUwhEIp9x+9LdiyX8TudEYNsqFSWyPDpOyN2vmyDA/9yCBPMI57juMjIyIULF4IWT0uKDfivArli5PE38p45MBXeiBBpQGWmw6Z1fll6oNijWGLtw+yUWSSEiC5fFMl2sgddaFBfLI+TmDB0+ivbArvQsonIfvJFOzs2ti/ft3zJabIC0Ak9gdHJUokI8kar0SYnJUtEgsvpgQRtCPM8n5KSwqr4soWT6dDIG6uGAjDTEDksZs421O2OECKJkozLB2rB14cRsMHxg9715TwD2AM9Gw2SlxKT1nMAIRLBXKheTSxQvwrZJpKPx1u01+OZ6B0j+8zAEnCIEDLAUvwRfKChyjaR7x7xZSDDAtnuZodHwfP9YEGDAnAJlhrZWcgwGehhWacsJ/GlhxsHo81DwFIM+z1iaNTvTzJSpt/LXieEoTmEqfXJtyPf9mVjYCnA93OgYWOMaQ0x+hPLd0Lk5kMSbvDpyCYiGzn7vYxY2Z/AvgoVI+Eza2YY6NQzYzn5en6CPYAIFcOIyntuoDt2fX13zug3s4xUZMvh+RKRQH2xryMf7Z5ikp2CDP+BBu9L8L4t+31lxNiYEECRINspg6wFkoc8FLwCilF53kUYIaTX651OJ+t0LWufck+WjcqW0u9bQ46cfRJjjDlMPFrBgDoSpAWWpwcnIRmpsITNItBvIxKSRhOGR3V6tk0ZSxno3SvjZWPzjy4v3/D1yA6OCt+R+H1mxCDDJ8vk2VmzLqjBWUHwQfpiRtagTJj6sqyboBOMyoeAkiz9l+X7KIA2EKipwL8NnFk9yhpG7AmVfTa4mMFYrogEUhFkA6BXFCMgwZFJvuBEhnxoMUjvlOHS0xi49GPvKUrGTKltIFC/hLHvwZcSk3SSna9s7jeOpodEV/BfWcKgIwx05T+s8XwHMpAxDVagek7MeOAZ1u6NmQt45KMF+raJhtIGQgTa+ADLRp4AP4lIQ17YI4YYqAINQA0G2J/OGmgYfgeGBkv0kYGvciM713rnw/z1Pua7fShXkT0cHG7NxsHwZ1DXfk8RI+9hFIefEXc6AghVISA+wP7EPhNkEwZ6y+8zofBiGQWzAwu92SGHHajfYQ0y0MN+xxPosUDHEV88yMSwTEKzDI79FQ3exqzSKptFIG2X/VK2HIHEwLDAt+Ug7QQnBtmXvlPwxWroIwzel+xXdnVC6WKigJdTeJcMDZj7WLqS66ODdTK2NdkHVgIF30dBECvjHjL+5ndUAw+Q4VGFTPDLSI59UjYAFkXIh2wCdeeLMXb7yCYr+xCimuJ3grJvfPUYOn0yWNliuxsxi/CLB79T9h0SO4tAG3+4AwvlSb99hdivLwGHODC/EKpCIBMb38FogN17N6E72d4OROjDBV/WdnPAly/foN5D54aj7wgxiS8nAVCJgjGGmF5C5ApBKAfiUQ4gOIX7CiE0mLo8ww6qoIe4ifyKZNl+HPJ5Vk6HMhLfnS5rjT7JutQMOQz6jV/pJXuAIjmIzBsuMkMH2jKrVI1tF+MQRjPN4VkIAK2QNhK+9z1fIn/XIbQR5DW4hbjb2Qb9bmDfcfrVbem/ft+V9RLKwEIH3645b/UOzDgljSH4nWmgefl92BcPvq8HwWegXkYPA17Z3jIq1Ml5rHoPNK8bIa1ZkoO88WPexc0HOiNQcSDkEsKAfWFY2B4WyQ0XsLcArlqthtyUnuDVSQccx0GMjEajUSo8RXpkUTMA/E0pqHOjAUI3wZk60EyDwJjTmy8Zj6YL+i6EeY+ytVBRAzUGIYWCIAgSkajo9ft8cNZGVW/aApXiMtdZDnvSj/tVMANBcOEXBG4ER5bp9RARBMHxkDSJji10vSeUHj16IkTLcH4c+qgiOegz8jgMesKaYfD+/JYHGpECDjXQ64H0Nj+NgyezJ4UKcbvdOp0OajNKkgSVYYP3DvFR8t65Qb37YszzGQdsRN6R16EyOEJ8hyeIAqSIZks5TGigiBUEoa6urvRcKaTUlEW0DmT9GnxlEIQwfHcHTd6F/F36BMcnbU1mCbh06VJjY+O5c+d6e3tpKbUhRxIcZPMa7sGG3aoUycjntO13h8qex95wTZfLVVFR0dzSXF5RrtFqnE4nm0IA+eOWftgFw9l8e/d9kX4TpPFAOBkBUAycO3eutrbWbDafP3+e5rnyOwA2CkaGPd9BBl9Bv68E+p6SWaAHgvSCMRZFsby8vLW1FfLvjRiNoSoEkDWptLTUarVGRERIZCCeh/X590wG+5/MAIkwd28D+w0jKDNKN8NAC3jQu74ty7vw/ihfyAC+gcGHPUoY2DkIE0IgB3NJSQmkIIWsbcjnpn80I5GRlKxxX9KU9RiI+8jGM4i1BaigBj8FioPiAqffkvFBatIURVGv1587d666unrLli2QkTC4QuArG3y/92W7IYooWYMUkyEuHDwMtWpqamqGe3YZ56DX60tKSq5duwbFTmUihD0VhIhtX2nqyyvo3yFXgW2NpTTIKdvS0gKZeoekz1DWWjavIV/0+zyLPXYXB2rQLzIJIVDnxWazdXd3Q7HZ7du3Y4whBAl5r0v8jgpNQIUAY9zb29vS0lJRUXHw4MEgSl6gGcnlyDhTCBBCkOY5LCwMcs6GYjf1C6EyII7joFzNpUuXwsPD0eCtGGSggX5lKZhtR2YhCISm4BBoVEPiKJTGRwa0a0irUlNT09fXFxkZCXWE0Y2xEFA3ZuowH4jLEMajm/ZOn/QrudlegpCB39eHlLK0cTSYPYmiqNPpamtrYXt3d3cHqQMWqBff7/0iJBQRJWuQxV6g1ZG9ZbVaIWtpXV1dVlbW2DLEWwJ0+haLJS8v77nnnktISHA6nSzvY8Vw6Nj23R0s5kNh035HixiOJElScXFxaWnphg0bsrOzoTpXkJEMCzPs1hvx8ziAQjBkI/R5hBDYJi9evHj06NFVq1YVFRU5HA5a0hd7EyKxKXfQYNqGz745eYI8zK6sX5SGhsVhgyRJFy9ePHTo0LRp05YtWwb5jwM9zA5sxHKEhUDzIkPpFiEiBPApSVJlZeWxY8doapnQR8jCMBQCjuOWLVu2Zs2auLi4kXX2HQBYLJYdO3bU1dU98sgj2dnZt3o4fmA06sgNBSh5t2/fvmPHjj311FOAveBDHcHuHZlCEOjf4N0Bb5IkadeuXUePHr1xbPGmAcWVSqXKysoqLCyEKkTBgcV2iA+jsSZUQojD4Whra2tubp4+fTrNtz8pAYo1X7p0KSkpKS0tDSoj3OpB3RCAwhAxMTEZGRlQb2VSuoYQQs6fP88ebEYAw4gygMJfNNs2Gnyy9x1c8AZlp0YSwDxC9XfE6KFDsoBAanXwt0J/bFjAnnThX0jmD6mB6OFGJoSGxRlD56QTHcBrRpIkWjkXCNLvw6NczeGe50YA0LIkSODrNAm0AQBYEfCSEd2iJEm0bGBwAwAazsFI9mEEwG435LVFORwOl8vlcrloqYURtz/egJ4mCSGCINjtdnDBAQyIRMRkCE7CMn/aJgqw13yVNlaTC9L4GAIhBBzgACA9ayCL+sRlp4QQmJ0sE+hwYRh3llQYswlbZBYPloEGP05R7iBrx2+/rMUplHWSNT5kFyN4bFjA7gF2CiwefFER+oD9zndSAvaWIeC8gIYinlF2N/pGhgSO5yblCnoInsOs8/O4YrgyhYDWvADSopR2q4c5ZsAKbxroNMDYvfXM/OpqgRi7jJv56gfs874Py9TusaUKOhe6prCagaInfK8zbgStyo4Zo+mCFfxsUMyIBzwMCwEafKmPAu/tEDWU0JmgrMHxwEpGDNgHECPU0WDt4TvwBRn5yTbwhASMJsMsfGCSrM7kAr/MeciVGhavln0Y8uGbqQ0POTxfoTbmA/Od74i7kAmL0UuN4VkIQnws+CUNRUeIapGswW8Jfwn9XMJqFTdyROMCfPWn7+A7+A6+g+8AjYUIGIZCEET7kDkEha46yF5HrALLZNT/9nD/EdjNvuUKAetBE7qW+R18B6OE4P4l35Hi5ANfOTX51nfkFgK/O2HI+ye2Nb9XKQMtEERD2yfNfcGQwMo5zzfIU24rEMJlHyY3UOcvlmyo3cz3SnJImKwbe9yCX4rFN+YKeawgEEUREjADBxqvcwkFfOcb6KJh4u4d3zmyDo9BuMeNu0oYDzCq8scsRlh2jAbbDALRjexcS9dgoAgYChi0OvmAUiFVjDyfEQm+8b6zEACAPxT1DvNLNjJHJ1YBnbisbaIAIJ9GrtN4S5ln6DhcCHZ/EW/iDUIIBHxDYkq/hDTBRKYnLShCzLaCf/265U/ovUPXlM18A1761OVQFEXZwcOv0+UEW+WgMAYKAQTnwGe3261QKGR1YyltyZQD4o2BcbvdHM9xmBNFEUveXOkAACAASURBVBaDLsx4PjeMIVBUuFwuNiU1JA77tvlPDBckSUIYWSwWrVYLlKZQKCRJ6uvrg6zAOp3OarUqlUqVUoURFokoSiLP8ZRWvyVK560FynMhUtTtcrvcLqVSSQhRq9V0p4+3haAqps1mA4JRqVSQD8PpdPIcjzFGnNxABdt5HE4nCBBE6BkM9B7quE4IcbvdCCEaHMsy8wk0RxYgHFGlUmGMIXGWVquFlE2w0L6ZQ2kkqkwzmKAY8IWRKwTUEgARxoSQzs5Ou90eGRlpMBioyIeH2VMv8olGxQhziEMIOZ1Ou92uUCi0Wi2HOcgqP7oJTgwA9iFJEhAiQqijo8NqtZpMJoPBwGEO7AS3epjjEYhECCIc5jDGkIOsvb29v79fq9VGRUVpNBpBEEC/tNlsbqUbESQRSaFQcCoOqiHQ1BrfYfiGAsZYEiXgwjzP8xxfU1Ozffv2JUuWLFq0iA2hHlcLAXsT9ICqqqq9e/eeOXNGoVAsXbp00aJF6enpoijyiIdqG3QKE+v0DIUoPZcfGLlcrpaWlh07dpw5c4YQcscdd2zYsCE6OhqC+JHP9e6EmKMMRFF0uVyiKFZXV3/xxRenT59WKpVTpkxZvXr1lClTEEHVNdX79++vqqpSKpWiKJpMpqVLl86dOxdUokCn3IkOo1UIKNTW1m7cuLG1tfWhhx5asGCBSqUiEvEQmD/qYV9XqBSIIIxwfX39/v374+Lili9fHh0dDRYs7O82a3JgnwKdlEKhEEXRZrMdPHiwoqJi/fr1+fn5UOXhO/ALlJy0Wm1fX9/Bgwc//fTTpqYmYNn33XdfWloaIWTfvn07d+6UiMRhzmazLV68eO3atXFxcTQ72+QjqhDBdz/eoC1GCMEcFpyCRqNxuVxVVVW//vWvv/nmm5kzZ2LmqnG8GQU91jtRamxsfPPNN8+dO7do0aL29vYtW7bYbLZ/+//+bWDMHKYlwSaWsMQII+KxywpuoaamZtPmTXs+3XP77bcjhDZv3tzQ0PDqq69GRUVRe4DsUDcRAWNcU1PzzjvvnDhxIj8/X61Wf/HFF42Nja+++mpcXNzZs2d37tyJMY6JiUEI0XKddL8Q5ob3Vk5jTGFUVwYIITAPuFyu0rOlR44cqa+vDwsPS01NzcjIECWRVqcdZA8YbGLytCOJCKO+vr6ysjKLxbJo0SL4lVrLJ9YGGy4AeYFZ0mKxfPHFFxs3biSELF68eJLlShtzoOZZQkhJSck777wTGRl533331dTUbNmypb+//z/+4z9sNttXX33V0NBQVFQkCILD4QgPD9fpdFqtFk48k5KoQgRf8c+avsewI2hQo9EQQr766qvf/OY3ly9fNhqNYNpBgfOa3FoArtXZ1Xnp0qXi4uJHH330pZdeam9v/93vfnfgwIFVq1ZlZmQKgsBzPMGec/YEFRKSJGGEBUFobGw8V3rugQceeOaZZ+x2+4cfflhSUlJeXr5wwUIiEcwP8liaoJPFGGOEa2trr169unz58hdeeCEsLGzXrl07d+48e/bs8uXLe3p64uPjH3300QULFkB9WrVa7fcie4JiwC+MSiGQJAmuWzo7Oy9eumg0GsPCwlqaWxoaGjIyMjDG/f39fX19GOOurq7u7u64uLi0tDSNRmOxWJxOJyGksbGxv7/fZDKlpKSEhYUJguB2u+lZobu7u6qqqr+/PzY2NjUlVa/XQzKt8cYyRg/Y6+HS09Pz7rvvbtu2rbu7u6CgwGg08jzPBlx8B75Ab3n37NljtVp/+ctfzpkzp6+vT6vVnj17trW1VRTFysrKO+6444c//KFOp9Pr9TzPQzUXuMOmN763eiq3AGD6oiS6HC6lUilKItzojzk2sDehSE9Pz86dO7Oystbcu2bnrp1ut1uSJF4xwGfH1QaH8SgUisrKSqPRuGDBgvDwcKVSuWLFij/84Q9Hjx7NysoiiCAOwb0nYXwn0XgydQQHT91zROwO++XLl0VRXLJkSUZGhtPpXLJkyfnz50tLSxctXCSJEuInvAiEwVuslqqqKq1Wu2TJktTUVKVSOWvWrK+//rq8vHzu3LkWiwUuC2praw0GQ2JiolKppDrrrZ7BjYJRlVvFGIN/zbVr1+rq6mbNmmU0Gr/++uvTp09nZmYmJCSUl5d//PHHFRUVLpfLZrOFhYVt2LDhgQceaGho+Nvf/nb16lW73W63281m88MPP7x27VqNRqNSqeA2/dq1a5s2bfrXv/4F7h7Lly9/6qmn0lLTJjHjJoRATeRnnnmmpaWlvr6+vb3d4XBotdpbPbRxDSA/2jvae3t709LSoCaN2WxOTU3dt29fQ0ODUqmEeq/ffPONUqlMTEzMy8tTq9VEIjfoNDyxgBDCYU6pUjocDo1GIwoix3O+Vwlo1NIajAEGg+G5555LTk6uqanZ89kecOxyu9yckgONYbztcUKI2+1ubW1VKpVpaWlgtDMYDAght9sN/j1Up6ep8sfb3ccQgBHPebzrBUGQJEmtViOEwHlCoVA4HA6JSGAFmRw3mCqVKiIighDS3Nzc1dWl1WqtVmt/f393d3djY2N5eTnc28Jqrlix4tlnn01LS3M4HNTTC/kU4JjozGR0PgQEYYRtNltVVVVfX19ubm5GRkZZWVljY6PNZlMqlYIgVFdXd3R0PPHEEzk5OZ988smnn34KxoC6urq2trZnnnkmNzd3x44dO3bsiIuLCwsLg3us7u7uffv2lZWV3X333YWFhUePHj1+/Hh0dPT69eujo6MnLrqDAHi0ZmVlvfTSS3q9/pNPPunq6tLr9QpeAcr7rR7g+AXYhOHh4REREfX19U1NTbGxsS6Xq7OzE86jnZ2dV69ebW5uvnDhQnt7u06ne+mll+677z6DwQCBLRN9G48eMMa9vb0VFRVz5swRREHFq1CAm5TRYAkEJ8/zM2bMUKvV3d3dCK4d0QD+b+ZCyO6D6ZeyfzHGoija7XZJkkAPQAgNlAkmnmLBbFgBbWFC0BV4RFJLJCFEEASdTgezUKvVPM/bbDa4IAbfwwntQwAjV6lUsbGxNpttz549KSkpPM/v2rXr6tWr6enpHR0dHMctXLjw3nvv1ev1Bw4cOHr0aFxc3JNPPhkWFkYjFVl/kYmnAvqDUSkEGGOlUmnpt1RUVPA8HxcXl5CQkJKSUlpaevHixdTUVEJIREREYWHh3XffnZyczHHc1q1bq6urExMTdTrdPffcs379+vj4eFEUN27cePny5czMTJ7njUZjU1NTaWlpRkbGXXfdlZKSYjQaq6ury8vLOzo6oqOj0QTZZqED7EaXy6XVaEmEpxAZIQTcer/TBoID9ccsKio6fPjwxo0bnU5nY2PjBx98ACEG4eHhOTk5t99++4YNG2pra//nf/5n586d06dPnzlzpt1u12q1tOzktxbAA+O111771a9+tWrVKkEQaGwV+9goNSdCCKBao9bY7Lb29nawxhNEMIdljPUmAD3W0+Ehf05OMEi9Xs9xXF9fHxwrwe8BeaWpzKAyscTDgIz33k1CdKgkSoQQMJXDJa9vmO4ENaGDHTo3N/fuu+/+6KOPnn32Wb1ebzKZoqOjw8LCpk2bNnXq1LCwsPDwcFEU4+Pj//rXv545c2b58uUGgwFuuGRpG2jLE1o2jfbKQJKk6w3XL1++3NTUtHnzZr1eX1lZWVdXd+rUqdmzZ/f19en1+ilTppjNZoRQdHQ0x3HNzc3x8fHp6em5ubkGg4EQkpiYaDKZ+vv7XS6Xw+Ho7+/v6emxWCz/+te/GhsbIYi8oaEhPz+/t7dXEASIHB0jDIwLwBgTRJQqJSFEq9VijA0GgyAICCEOc99ZCIID9ubAWLRoUVlZ2f79+0+dOhUWFpaSktLW1kYI+d73vrdy5UqO4wRByM/Pv379+tatW9va2kRRhAPfBGVqYwLUyj1nzpz8/Pw333xz2rRpycnJUBgXebM8sdJ6NFcGnkhuntPr9RDBpVarMcaY4Ju/qalCwM5LphAg791oeHg4HJTh4e7ubkEQwsLCEEJut1sQBPCXvMlTGCvw5InHSKFQxMTEKBSK69evZ2Zmulyu7u7u3t7eiIgIjuOoxiDTmW7RqEcOsIhms/mpp56aOXNmdXV1bGwsxnjv3r0Gg0GtVoN7nMvl4nk+ISEhKSmpo6NDEAQPnXjVQJqnAU0KNjLaKAOL1VJRUSEIQnp6Os/zLpcrLi6ut7e3tra2ubkZLr8FQeB5XqFQ8BxPJKLRaCBpjEKh0Gg0CoXC7XY7nU69Xh8VFRUREQEXjRjjmJiYWbNmgYBUKBSJiYmxsbFjNvXxBDIyokZLQgjCk+XK7oYBiBmdTidK4gsvvLB06dKurq7s7OzPP//8yy+/NBqNVyuvYoTz8vJ0Op0gCMnJyTzPW61WsMFMjiAOv1f+IQK9c/n+C9//+c9+/tZbb73++uuQMAC2sOzsO5pxUjvzwAEae+ncJ9XpaDoKBWQ9yj6wzyCEUlNTW1tbL126lJuba7fba2pqdDpdZmYmxhiwBHrVhBYJBBGFQmE2mwkhNTU1d911l91uLysrczgc06dPByc7mXkATcAzMayRSqUqKys7cODAtGnTHn/8cbfbvWPHjo6OjqKiovPnz+/ataugoOCZZ55Rq9WNjY0NDQ0REREQFu7RIBHxVY8muk4w2kyFzc3NpaWl6enpL7zwQnZ2tlqtdjgcW7Zs+eyzzy5cuJCQkGC325uamux2u8FgqLxW2dvXGxsbGxYW5nQ6a2trIfSgpaWlv78f/BNdLhfwJr1eHxsbu27dupycnJqamoMHD9rtdr1eT5OaTSaQWeEQmyt0Im20WwMe7CH89ZGvT58+vWHDhiVLlnR1dVVVVRkMhoSEhD179nzzzTf/9V//NWvWLKvVevjwYVEUwV5FT4cTXS3wtX6HyKOJN8hCFMQZBTMefPDB3bt3HzhwYNGiReBZNrb4Ye9cIeWGJA5YIBBjsRjWLEYGMqT5WgiokVyhUOTl5aWmpr799ts2m62jo+PAgQOzZs3Kzc0FUwrrSDgRAU68GGOlQpmQkJCWlrZz50673a5Wq3fs2JGfnz9v3rxAZDCxtAHkpTFQeUtKSo4cOVJXX+dwOL768iuTyVRUVAS2q127doHj4f79+1taWu655560tDRPvmqfBNXweeISAMCorgwEQbhy5UpTU1NhYWFMTIxOp5MkSavV5uXl7du3r6SkhBDS2tp69epVjUZjNBo//fRTlUqVlZWlVqs7OzvLyspUKlVkZOTu3bvVanVhYSFkKuQ4Li0tbebMmfv373/33XfnzJlTXFx87NixDRs2THSuHQjYYxOQmsvlAiemWz20CQCeDYmRQqHYv39/X1/f0qVLi4uLS0tLH3vsMYg7eP/99996662HHnoInIcXLlyYmppKLS/sje+EO+4A0MMuWPhD99WnVMdxnFqt3rBhQ01Nzd///vcpU6YkJyc7nU6whLtcLoVCQdO8jxhYqW8wGPLy8iBfLPa5gPc13Y85DGkhoKNVKpW5ubk/+clP3n333Y0bNyKEcnNzH374YY1GgxCi95gTVx5gjyKEEUbgPffee+998MEHarU6Kytr3bp1JpPJ7XKr1WpqsJy4mwV5a1Lk5eU9+uij77///qb3NplMpilTpqxfvz4rK8tutz/88MOffPLJP/7xD1EUExISHn/88RUrVmAOQz5Zll2wiz6haQCNUiFwu93g5Tdjxgyj0QiJYJVKZU5OzuzZs5ubm1taWlQqlSAIn3/+eX9/f1RU1EMPPZSfn3/hwgWVSqXRaL788ku73Z6QkLB27dr8/PyamprU1NTY2NikpKR77rmnra3t/PnzFy9edLvd991337p168CWNVaTHz9AfNypDAZDbGysTqeboPvtpgHLxIuKiu69997i4uLy8nKbzXb//fevX79eo9GsXbu2t7d39+7df/rTn9xu94IFC5588smYmBjY3lR8yqrsTCygss3pdIqSqFIO+NkEmhF9hUhEIhIhRBCE6OjoJ5544kc/+tGmTZt+/vOfazQap9PJcRxcpo5+nFSK8DxfUFDw29/+Fi5uFEoFkQZ81ti/o+80EAxgIECUAR0Az/OiKC5cuHBO0ZyrlVclSUpLS4uMjASygRCh0dza3HrACHMYIcQr+OiY6IULF06dOrW5uVkQhMzMTFAKlWqlJx5hEkg+hYLneZVK9eCDD65evbqlpQVjHBUVBW5tarV6+fLld9xxR0NDg8ViMZvN8fHxUCGF1VYp8bAn1QnKQABGpRCoVKpVq1YtWrQoJiZGr9dDmheEkMlkevbZZ/v6+kpLS69duzZ79uzFixdrNJr4+PjExERBEARBUKvVq1atWrhwoVqtjo+Pj4qKUiqVqampTzz5hDHCGB4eHhYW9tprr7W2tvb19YWHhycnJ+v1euSTCHlyAKUtEE6iKC5dunT27NmxMbG+2dG/AxbYc6TZbH755ZfXrFljt9uVSiU9fep0uocffnjmzJkul0un0yUlJcXExPAKHhMsiAIanJtvguKZnmWhwhO1OQ23EULI9OnTn3jiiX/84x+FhYX3338/+AapVKoxuSAfkJoEqdXqmJgYWc1AxJRAvMlXBlTUsRY75HWrBHmgUChmzpxJCHG5XVDLTWbYuHGjvQkACBfdIiEkOjo6Pj6eECIKIvKm9mPLPU+C+cJJQKvVZmdnwyUCXXFRFNVq9ZQpUxCYE0QJ7rbY1/3S5wRlIAAjVAiINxtXXFwcxSC7MRISEhITExsaGsDbKzc3F8ILIREhxLGYTKbCwsKIiAiXywVbzmg0RhgjMMYc5gghJpPJbDZjjMG3gNahuQm2xJsMMsbEcVx8fHx8fDwiCMKx4Hvf7Sc72UwytIQCmMMYYyISt8stEclkMkVFRYF9G468PM+73W6dTjf7ttlK1UCuMbAZ0htB2dn0Vk9rJADEcP78+RMnToSFhcGWQUGPLLKzDs/zwB97e3s7Ozv//Oc/d3R0FBYWzpw50+FwYIwhb9jo8YMRlogEVaaIt0Aa3QXjUP2lgpAQIrgFzGEOczSTD2K28MSVkZ4pIAwcGBLRIoRozUOE0KSpq8JudpfLBVdjcBiDSmlwMwI+bfANxt7yT4wA8hVG44puhwvDUAhkNyUIISjXK0kSnB7YM5bD4VAqlUlJSfPnz09JSdFoNE6HE5LAaDSahISE2bNnp6amiqLY19enUCqUSiUoAZIkEYlIWELe8ASe5zmO0+l0oM2hCY5xvyA7oUKAHC1+GJzFsNaFmzbg8QMepCHIq4Ig8QDx1p2DGyuEEJQtoPW1JUlCkjeQ2Jt0dkKjkXhz/FVVVW3dupXjOCgqGKL8xhhDqBXHcRaLpbGxUa1WS5K0fft2QRBycnLCw8OpnB4llgghmMO8gueIR8xAAmm2cZmKfEtAPgzicfXleV4SPdQDgpPdpKxFfWLRkmcK2FOlCWqvg9F34mo5gYCV6BA9gbzHWsxhUPjgAYiShSUOciSbiCvuC8OzEPhOnuZ/RQRBlV6EkIJXwOesrKz4+HilUqnX6yHHp0QkQRAyMjIeeughCO11OBwc4jxlxb0J+9js/ZRNECboc6LjXQbs8QJ7E6Eg5PH9DTJZlqxvykjHIwBhUM5Fq48ghEA5oHbdQUkJeYQkhBBia8CPw7y5IQKd14IFCxITE1kft+DTYSWZ1WrlOG7Xrl0bN27893//9xUrVvT09EAaMdmpKJQhEeInYJbQMG40YJih2gBdhWF1dOOAjocQIpGBiwyO5zjeM0iZ68nE3ZKUzcK/rCowoS0fQwKYQMBeCLopYhJSocHu3uyyTibbAMDwFAI6YUo3rHEPcnp7vuEwuAhFRkbCdlIqlWCQAYU6Li6O3tNQXWwQzQXwAEeTAu8yoDhkdQL4KZStODmU05EB3aLU34fVHZE3gBMzd+qDCAkPWIMnNBqxN1ovNjY2MjKSVmsNHaxWq1arvX79enNz87333vvMM89AllZqUxmuRo4xJlh+qMLeYFq/RleW+G/VclASQkzYIRpcryjE6d/QcY4YZBP0/XWAjQeeaaDXxxWwym6gwz0ZbPRi58XiQfZWcLZ8M0l3bJcgVIWA2up9TXnEU+2CINAJIK0eGAwIcblcCCFPNQgvFyCEOBwOhJDnBhd7MjzIlC9WTNIvx2DS4wkCaZ1B9FC/MPkwEzpgn4oyaDAvQIOVAFAdJFECXQAMv2w7t2geowKWjyt4Bdz+hsiYKK4sFstHH31UX1//xz/+UavTtre3R0ZG+u7BEHkQ7GzAbZBh+BK87KebA6wKTrOA+EpEmb4eCMatcskyVQqEAd/nZS8C+JUF4xboNNHghaYf2LlTtKAAfHjIuYdIJGMOfldwWBCqQgA9QYZOxOgHCCEOcwPJcwhYYAeYL8dzcNYnEkGSB5U0VsdvbWna6YQgtVEC1ZC+DZO9QcBib8gPgw4E2M+XE3QtBo2ZQ2peHfq7MGWVSrVv375t27Y99dRTMwtnOu1Og94gO7uHrmHANpeIJEoeH3XfM+UtP1/SIbEfaB0jFIDDhjLs8XmApusCoV5Op9MtuKGcLHvxEeQANoArRJAIR0D5GXr8AN3Rbreb5iT1WLm8obaIIMoKqKQnhEhEQgTRuk/sUrIbgXizolFmwiofN22aQK5qtVqlUlGHqhHA8BQCyENOv0Feo+vAY8jj4QX/Yg4rsIKOjcce8Q9Xuaz2PXEZ8SiB1SW/hdMfE2C3XxBehr03Cx6OgAYk3LCk3bgFdhbD4gjwYmNj4/vvv5+TnfPkE09igpVKJc/z4PfDbvJQaJVyVZVKpVAp2PPDgIbhtSnCSFm+cTMBOqWjAkdpl8tF64oRQiZTtlDKgaF+FZKQ2+2GPJWcapBtTLbEcsUaEYQ9QQfjdstgb6ouVuEb2O9o4PaKPulx2+IGXyYi7DvHAfHPRKDQdm4OTuhmhE4hHA+Pgl5HEmXAas0yPYjFO/hq0d0epDW/p4fJBzIEUh2L2icn9/THBIgPoMEE6ftvkEbov7K/Nw0GOiVj0LXM2oFC07OBeblcri1btrS0tLzx2zegCjnP8XCXx0oCmVAfcnbgjY8x9ogf75Q9kV1eOw1CyDfI+ybAAAcnEv2X53mo/IsxRiIieALriL5A5wjZFTUajVKplCTJ6XJiDtPgW/qk7EUwAGOEwRX/1s0jVICdDo7tkEkCwtc5POAWSiTPWZfWNeYIFJUbHHIZtBdPXxIZrjo+SqA0TLxpbEbT2jAUAllPgQ4KA3wWeQpss8XOPdcHSK5GsJbJIGOYBDvTV4wRxvR0q0c33sFXFUA3XYqPIQwsPRozjXBIq6/fVzDG2dnZsbGxhYWFFoslLDyM2gKpZcWvnPALdF49vT3d3d1Wq9VqtQ4EfHo9PQmRG2lGPu2RAUEIIyJ5ODghRKFQtLe3d3R0tLa2GgwGm802QX1KgoBCoVAqlQ6Ho7a2tqm5qb+/v7e3t6OjgyU/v0nTsde7grWNj3PTGoy5q6urs7Ozo6Oju7vbbrdTkqNTxl5fV9Bffc8Ysjb9/osx9oi8m+tUiDF2u91NTU3d3d3gPDRiCFUhwBhDnoqenh6NRhMoiSmrraDBfrmIEYEsPckUUr+olClBE1EA0GFzHNff32+1Wu12e19fX1dXl9/C898BpQfk3dXIy7ItFgvP852dnVAzkxIVS2aBdqOMltjDdKBt7JfqhuyC/SYIVcN5xWKxdHR03BKWir3hVffee68kSUpeqTfoWeTLTh6hD5Ln+ZMnT77wwgu+mX1ZbAdSCIIwhLECGb+CgbW0tHR1dbW1tWk0GrfbPZkUAjpNSNfR3d3d3d3d2tr6/vvvO51Oq9XKFv+kW489scg2QqBj4bgCQojFYmlrazt06NBHH33kOcETJFt3Su2BGqGf/SoEct3iZgFdFyhRvWzZstG0NgwfAkmSjh07dvbsWciNGugx9gMkuIBvBjaeV4dC/lyXB2lbAZpFE4QQAXwFjyAIlZWV3d3dlZWVUGWcffKWDna8gC+nBsqRJElv0FdVVTU1NdXV1ZlMJhm3QjdSIaBPhtLFkC3DN3a7HeRxfX19Xl7eqLA2IqCjYhM5gD0Ae20DyJvklX4ZHKjlee7cuY899pjRaHS5XCzfZHHiifL3uXYl3uxSN1ohYO+YNRrNoUOHTp48+dxzzyUlJVkslkmpEADOT58+/dVXX61evXrRokVut9tiscDNDiXg4JIPDfYuH4cAE1HwioorFYcOHSooKFi6dClYfajTKDzJKqb0db8yCAUWUrdEKsEclUplRUXFwYMH+/v7RzOAYYQdut3upKSkGTNmREZG0u999zD7ATMAjYB1DjOBPbSdSawQIIbgYL+dOHGioaFh4YKFCQkJPM+zPim3eLjjA9jTJOw0j4eXRLRa7b/+9a/S0tJFixalp6dD2AuAbFf7RSbbJpVGaJgKAb1rDDJ4lpKDtKxSqeBkdunSpZ6enhFha1QgQ7WvdiXLPRAKlYJ0FwRBq9VmZWWZzeYbP4+xAbvdHhMTYzQa4+Li0tLSbvVwbiA4HI7W1tbIyMjU1NSEhIRJzHzAQwIq6WRmZt7q4dwocDqdZrOZTfo5gkZCUgiAO2i12vz8/HvvvRfqFwTitgPnJ4QRh9gEAzJOHYRRBgLZ8S7Et24tsOdFGHN/f7/b7TYajcvuWpaYmMiKpe+AAiuWPB8wkgRJrVZDxNTy5ctzc3Mp9lgZNoEsBFarVaPWOF1OKP45WqwNHyiG2X/9/uT7QBAAHc5oNIJBcfxvWKp3OhwOq9UKOt/EzUvhF4AgIX0n8Xp3Op1Ot9ttt9u1Wi1cwA2XLY9ngEV0Op0OhwNS4UFK+Fs9rrEEWEq4BvLr/BE6hIQXtj8UgE1QYDkLISSQh4WMq04a+gsOdJpWqxWMqLQMBPrWIGE0IBABYSSKoiiKgiAQuEdAEvamG0KhRcSxMe3wzwAAIABJREFU2oNMeN+UeXhGQgjR6XRg9rhp/QYBGQJZ48GwhAQ8plQqXS6X3W7X6XSyurHDbfAGgUzVg78KhUKtVsuQcAsHOYYAEwEPMODnHM9BfKlarQ698sVEAXrKEkURQkllZ4bxQIRjAhhjnuchtc9o2hmGhQANNrf6fVL2ABls4Ze9GOhzEBhyAOMQZEhA/vDDPhyicsA+MAIrS8jDHxcgQx0F5PUtQCMiJ+RvdQI9Q5nIsGg1eBcDpzE0LhiTbIIydjlcGvNV+tlmEWM7oY2PWAUZMbDt02HLtEa/Y/AlhgkhXfwYADBCg9fC77/jf2q+INtxsp0oM4b5nWwgUhw/mBnZDg0Ew65lEHyT0MdkK8GeCXy/ZOfjuwBBGMrEAna+NHqHRSnySRE9ZGt+FYhA/Ev2YWKBTIqw38tocrhbdEiS9iulgtM/8mZACmUwQ26omwa+IxnZqFhSZNukqhV8z7qkBd/4Nwg5dGVl2iT7jUwM4MEajGxg42ERgwNFOwAoo2iwqxP78MBjE9CKKaNDvxwSvvc9X8mUBr/CC6GBCj63Ci2+Qx0NjP1VCva6ziEfBk2xRteAfVF2aB6UwsyfpXFi0aXvfAF8lVbfjed3N8qQIGNbQw5mlDO6JSCbr+ffwSl9bsThUibSAi2l71uygU1QtI8h0BWkAQsgetmret+z143DWyCh7rdTXznhe+wZ/6sciID9chvE8BnZzhr/Mw0O7HTgG/YwRmc34D6MEa09i7GnNjTHcVAMZRIgBGCMFQK/G4z9XqaaydRwmaouEQkP3nh+2xnn4BcbrH4T6El247Hbkt26rD9dcFlFH2CTkY1/YM9wLNJYGiCEEIlA3jGY/thWMWY7ZWsqBm+fPQdPLIq90YAxdrvdhBC4qhcEweFw6PV6UAtY3N5o2cOuLEtjsvXy3WKCIGCM4dLd94EbMdSxAl9zF/sT/RcWQhAESZJ4jock1pR1TFCDAQvsKhNCaBlehUJBJIIQIohAWkMC1a699c+I16OOEKJSqSZZgNjIFYLQj0oAQR6mqqiHIonnWoumD2PVAuxPRfWVnfC+LKnzcMc8hsCSC4c5tpway01k8s932IE0qtBZJ8X2mM7vRgE7WsqwfE9mA58Z+yf7mN91Z+lKRl2yMch4qK8y5xdCfOxbCGqVGnk3OMdzer1eEgfFhaObwmTZlZVzIQZkGw18WtnAaVZVvaEDHj1Q9gL/yvYI/Qz+dxB0QCQiSiJUr5VpEn73xQQCURRBN1WpVJDY2O1ye6gCEYyxUqkEnd5jEgAkIMJzPMvAxwMSfOl2BDByhUCmJ7LfI3/yxleeIcZRa+D7/7+9Lw+O6rryvvct/XpTt1r7gtQSSEgIgUAILIJBLAYcbH/gBSc4JuZLMpnE8R+TmplKpSZVqZlJVWq+pGYmk8mUY8848TIzCdgO2IANYl8j2QIMlpCEJCSBQAK1dvX63rvfH6f76up1S0hIqF8LfnZRrdfvvb7Lueee7Z4DuzhGCCFMxvRmabZ2jTQw8uujW6EXqh1dWUuzx7Dlo8K3Ik37NaISGpclRb/jk0dECQmNpv5g0W1CEFiVGJmAevE1p3Ho2XoScm9RhI9SxIGdoDQwkTsfKmCMZVn2+/0cx/X39fMCbzabjUbjSCUZRnt70MYVzcxSXjSORAjVj+Az5ADWBUuZDDQMh/3ALjS/3z80NKQoit1u5zke8YiacMLfg2KNzulsQiHEgYEBj8djsVji4uLALgJ5unp6erxer9VqtZgtUL5BJarX6wVyVRTFbDYbDAY9DMK0rJSpWggQ42UhobpStCAEhzkwvGAm9Sw8DnfCGQlWwkI8UpUQT0cEI6yqKpvMgJXoR238OLKMH762kQ4kg7EUERDMSShxG9gkiUoQRpjXrlj6KjR6WMb/6aj3fVJgWbaGeYERD6GRXBd0xCh1gSWQvY5DlV0olSqKwpbhHn9wtBLnBNofQ6P9oAHj5vP5ampqzp8/f/36dYPBUFZWtnnz5uTkZA5ziqoAL2Zl3KgPICEEchgLgqAoSmtr68GDB4uKijZv3hyjiQpYGtawTdCGb9++ffjw4StXrsiyvHjx4rUVawsKChCzj7JSFIpBOgdxc3h4+Pr161VVVZcvXw4EAllZWatWrVq8eLHJZLpx48bZs2evXLni9Xoz52SuWrVqSckSi8WCCDIYDH39fefPnR8YGFi3bl12djZ9bWwNQjimFENAQq4XQkhnZ2dtbe3169eHhoaysrKWLl2anZ1tNBpv3rjZ2taakZGRk5MD6SCAdDo6Opqbm3NycpxO5yglWCWEEJ/P19zcTAjJyckxmUyKqghI4ASOKoLw6yP1V9BI6a3gRhsKAIFiZRH3yyhOnkYRwaFycIFA4M6dO5cvX+7t7bXZbEVFRSkpKQaDwWAwIGbtaV412TUZQyQbLgrAv2wVMojrge2kp6enrq6us7PT6/WWlJQUFBSAkaC3t/fKlSstLS3JycmLFy9OT0+XJIm+0OVy1dXV5ebmZmRkjC9oa3TKiXfhEVCIzm/duvWb3/zm+vXrjz/++M2bN3/1q1/19fd9//vfJ5hELJQc9QEESV2W5UAgcOXKld/97nf79+9/9dVXN23aRBgXZ2wh4vASQmRZ7uzsfP311w8ePFhWVkYIeffddzs7O1977bX4+HgOjSRNocJxLOZVg+2jra3tjTfeuHjxYnFxsdlsPnLkyPnz53/0ox/l5eXt2bPno48+KiwsdDgcJ46daLvelpSYtHDhQq/XC9LSe++9l5WVtXz5chRVZzTbo6k3YKpBhRjjQCBw8eLFDz/88NLFS7IsK6qCECoqKnrhhRfKy8svX7n88ccfb9iwIT09HSgJ4lMaGhr27dtXUVGRlJRksVhQiBa9Xq/BYHC5XB988AHP8y+99FJ2Vjbk0DAQAy/wVARBrM1AJQQThEI+AoJoGAitrxhuHIs6o6EAjuP3++vr6//7v//7ypUrJpPJ7XbPmTNn586dS5cuNRgMUKFVU+taV714ENCstIhGIPqhq6vrd7//XWVlpdViHRgYsFgsf/mXf7l58+Y7d+688847x48fBzdhbm7ut771LdADwGb44YcfHjt27NVXX01LS5tlWcz0BlVVL126dPbs2V/+8pdf//rX79y586Mf/Wjf3n1b/8/WzMxMsOuwMxt12wBCCGNsMBgGBwdPnTr1+uuvf/7551ar1W63g5YJRaKj2MiIGGuLiriUNDeAcrx169Yf//jHg4ODb7311pkzZy5fvrxm9RpVUXmex5w2Hjzq2+GkQPsOJVGefvrpV199VZKk/fv3v/XWW3/+8585jmttbX3iiSdee+01QRD+8L9/OHv27I0bN+bPn9/S0rJ79+6PP/7Y5XLNnz8/KAwRRFPwRatTUXYZoBApNDU1vf3O201NTc88/cyyZctUolZXVx88ePD999/PyMiQZdntdoOfJhihrRKEkdPp3Lx5c1ZWFsbY5/NRX6/BYOB5HtxXkPSU4zmJk1DIcEf7DJHkJBQ5T70MCCGgVzikgLlgBmVqb6ftjzq7oQApe3BwsLKysra2dv369eXl5bW1te+///6RI0eys7Pj4uIQQazbJaK1AOmpU9OCiMpiuH2FEIIwOn78+IH9B9asWfPkk0/29/X/+2/+/b/+67/y8/M///zzjz766IkNT2zdtvXChQtvvvlmbm7u/PnzoaTQ3r173377bTAIz6ah0yc8Hs+lS5ccDsfjjz9OCLHZbI8//vi//Mu/NDY2Op1On8/H8zzWzdEMqjx4vV5CSFNTk91u/973vnfmzBkIg4DjBkh/W+E9TVka2xtiHDrt7e2EkK985SsWi4Xn+dLS0rNnz9bX169ft14OyODJZc2uCKEYkgZYpKenf+c73ykpKbFYLIFAICEhATKjZ2VlvfzyywkJCQ6Ho7u72y/7vT6vx+NRFKXzdmdvb++GDRuAJBRFAQtltLsyPZiqMjQwMHDixIm21rbtL2x/6aWX4uLiMMYLFy40Go319fUulwtjLAhCfX19d3e33+/PzMxcvnx5bm6uIAhGo9Fut4ui6HK5Ll269OWXXyqKkpeXt3LlSlEUQZkjhAwODl6+fNntdhcWFtrt9tbW1s8++6yrqyslJWX58uX5+fmKoly9etXlcg0NDd28eZPjuEWLFhUXFycmJgbz/yBMRlsU9GYhAMUICG7dunVPP/30/Pnzi4uLm5qampqa+vr6cNhxQbbxY31+SAByHpg6ly5dumvXrvz8fERQU3PTe++919DQ4HA4Xnjhha3/Z2tefl5OTs6+ffvu3r2LEFIUZffu3R999JHD4RgeHoYVHu3ezGbA8DY1NaWkpMTFxSGEeJ53OBySJHm9XhQ67YZ0Q8ZU+OY4zmw2P/fcczt27Oju7r506VLwW6yNXNYJqIWARAo5QoyZTaNg+P3+zs5OjuNSUlLgMEVcXBxUG/f7/fRwL+upRLFmIYDW8hy/sGhhcXExcI+Ojo7jx4+7XK7c3Nz09HSn09nf33/y5MkDBw5UV1cvLFqYl5enqqozx/naa69JknTgwIHa2lpFUQgiICRFu1vTgKkKBP39/c3NzQ6HY8mSJSaTyePxcBwXHx//4osvdnZ22u32W7du3bhxo6amJjU1FSHk9Xpv3ry5c+fOxsbGvXv3bt68meO4AwcO7N271+/3m83mysrKjo6OiooKv9+PEOrr6ztz5syePXtKSkqcTmdTU9O7777b3t6emJjY399/4sSJ733ve3PmzDlw4MDhw4dNJpPJZLp9+3ZaWtr3vve9jRs3Wq1WAqm4QpOlH8ekBhzHJSQkbNu2jef51NRUVVX7+/t7enrMZrMkSeEFowGwnvXGRmcYdAS2bdvm8/lgd+d5vr293Wg02uJsy5YtKy8vRwi1traeOnWqp6cnOTkZnFNZWVl//dd/PTQ09N5771FX1CM8OAiCIMsyz/NmsxlEc1EUIUQGMfGhepgI1qAoSRJRSU5ODsRAoNABFp3knA4HKxBoro/1Z3Cb5Hn4FyaF4zhJkgRBAOsstQ3QR9jHH2B/phUkdCKJEMIjnhBy9+7dvXv3Hj16dNmyZWVlZRBvODw03NXV1dLS4nK5+gf6+/r6CCFpaWmSJN29e3dgYAA2KRSzBpJwTOnYIcbY4/FA1UW73U5CJ7gURYErCCGj0agoSmlp6a5du8xm81tvvXXhwoXy8vL+/v47d+709PTU19efPn06Kytrx44dVqt19+7d165dS09PBxPusWPHzp8/P3fu3K1bt5pMpiNHjrhcrp07d5aXl1+9evXtt98+fvz4li1bhoeHCSEbN2586qmnampq/vCHP1y6dGn58uWghaAw1zvSmWkdQjEMBkNhYSEcenG5XB999FF9ff22bdsSExORiiBIIpzyNIY7/XRqxgDHgTjMzZs3T1VVt9ttMBgqKytramrKysoWFi+02+0Io8uXL//mN785fPhwUlLSkiVL4uPjJUl6/vnnQQwFFTAWI8ZjCKCA2u32/v5+MLmDcgYuRYxHkr5Fu6UIjfZMQQQPbAAR3Vh6A9vIiI5F9jZAMA0Rz4Ov1tXtAj8vWC4lSRINoiIr4coVfac+hyIc4JOix187Ozv37Nnz6aefLlu27Fvf+pbT6QwEAoIgOBIc69etX7JkydmzZ99///1Dhw4VFRXZbDaQjaZYRkifmNKxQ4QQxliSJJPJBAkcUMi17/P5MMYGg0FVVZvNtmrVquXLl4uiOH/+/JqaGq/XizG22WySJLW2tsqyvHr16scee0wUxbi4OCgPf/bs2SNHjrjd7uLi4u3bt5eVlX355ZdN15qMRqMkSS6Xi+d5URSbm5tdLpfZbF6wYMGmTZtKS0slSTp37hxEBQOXieiM1BXt4tDBXxCD7ty5s3fv3kOHDpWUlFRUVNhsNpWoRCG0AgJ9kM7Cw2whQAQRlfhlPyzyQCBw8uTJn//85ykpKTt27LBYLAODA2az2Wq1gux/5cqVY8eO5efnz5s3z2w2E0KAenWyD81iEEKMRmN8fHxDQ4PL5UpISAARQVEUo9GIdObOo+p1MEoAIw5ztBTQLJPCCSEg7nAcBwfrh4aGAoEAQsjr9Xo8HrvdHkzHBCbXsJmKrUGAyeU5vrml+d133z1//vyaNWt27dqVl5eHEHK5XLdv387IyEjPSE9NSwWm4XK57t69a7fbIcwFjdHlmKaHKVkIEEJQQrurq6uvr2/OnDkIIQgJvH37dm9vb2pqqsfj4Xme4zgaVAjh9Dh05l6WZZPJlJGRASHfTqdTEITbt28riuJyuRBCg4OD/f39oEMQRK41Xvv9739vNpsRQrdu3VqwYAEhRFVVg8EgiiJknoJmsKnE2I1Th7MFexJkQGttbd2/f/+RI0eKiop27NhRWFhoNBo1ZWB02IUoIugVQojn+eHh4X379v3P//xPamrqD37wg6KiIkgx1t/fn5qaumvXrm3btv3jP/7jyZMnn3jiCSA2IC2EkNvtBg0pyv2Z1RBFsaCg4Pjx41euXNm4cWNXV9fly5fT09Pz8vIIiZAcN4pgdYmgV44bOYhP48ii3s5pAfQUkkBkZWVxHFffUL9u/Tqv19vS0uLz+ebMmaOqKidwcKpCn9HZEwfHcaIoNrU1vffeexcvXnz66ae3b9+ekZHh8/ncbndVVdXHH3+8ePHiHTt2cBzX1dXl8XjS09OtVivGGIJJPR4PDX1lw71jbihYTDUxUXx8fEZGRl1d3Zdffjlv3ry4uDiO4zweT2VlZVVV1de+9jWz2Qz5L+mQgQ4HQhak+3C73S6Xy+fzmUymxsbGtrY22M7XrVuXn59fU1Nz4MCBnJwcMOOsXr1648aNUGG9v78/MTExOTlZlmVoFXBz9lyiZpL0OVsgrkqSdO3atTfeeOPs2bMVFRU7duwomF8ADWYD4PXZhSgCTM0Gg0FRlIMHD77xxhtLly797ne/W1hYaDAYCCHnzp1ra2vbtGmTyWRKTk4uLCy8cOECyFiQkxwRBDbAR2P7QAHcc82aNX/4wx9ef/31oaGhxsbG48ePP/XUU6mpqXQD1s8Go2kPjcKjya/IGKf7YhEQ3oExzs7Onjdv3ieffAKqyN69ewsKCkpLSxVFgfx9iBkZFLMcaXho+MzpM3v37iWE1NfX//a3vwVfQFlZWV5entFo/OCDDzweT2Ji4skTJzs6OtatW5eYmOhxewRREATBZDJBvAVNxzcLFLapCgRxcXErVqw4f/784cOHs7OzS0tLVVWtrq4+evQox3E2m+3OnTto9H4MkgHIVqIowkmPhoaGW7du2Wy2Tz/99MKFC/Aep9P5zDPPJCYmvv/++0ePHi0rK3M6nb29vXFxccuXL29qavrkk08yMjI2btwoSZIoivBmyCdK/4wVcBzX3d29f//+Y8eOPfbYY88995zD4bjbfVcURXDKQCKdRwgHDuV7PnHixK9+9auCggIYvf7+flVVTSZTVVVVZWVlXFzc+vXrXS5XfX19cnIyCPuyLBtEg2SUwMIU7a7MdhDE8Vxubu4Pf/jDN9988xe/+IXZbN6wYcMrr7wSjP/VWTE91i+ACALBUZKkrKyshIQEBEmxZoU0gEJhkpCo47vf/e6bb775zjvvWK3WefPmfec734EsEbND+oEuDA0P9fX3ZWZmejyeq1evQrJCm82WnZ395JNPvvLKK+++++6RyiNDw0PJycnffOWbTz75pCiIGGFRFHmeB2UYdGDCJOCnpzb0QMCTxZRcBiAZFRYWrl+//oMPPvj5z3+el5fHcVxdXR3GeOfOncXFxSdOnABnP8ZYEARJCnLe/v5+MAmUlJTU1dVVV1f39/djjBsbG0tLS5csWQL+AqvVumLFipMnTx4+fDgtLa2wsPCPf/zjL3/5y8Uli1uaW9ra2r797W/DEVKfz6coClGJ3++nf6IYkV6Belwu15dfftnb21tXV/cP//APEOg7f/78nTt3ZmZmCoJAMz2zD2peEoXWRxvQ8cHBwY8//ri9vV0QhF//+td+v9/r9RYUFHz/+9/fsGHD6dOnf/WrX9XX13d1dV24cGHbtm158/LAdoUwgnATIJhHeHAgOFgZaNOmTcuWLRscHFQUJS0tLSkpSeOS1wkxU0M6x3EqUiFaJTc392c/+5loEP1+P1iVZsEeiRhtjeO4wsLCv/3bv3W73bIswx6ph+mYRhCVJCQk7Ny589lnnyWECIKgyIqsyJIkQbzRokWLfvKTn/T19Xm9XofDkZSUZDKaMMKcgcMcttlszzzzDEIoPj5ekRWEEBzIpIjR4ZpqYiKMscPhePbZZ3Nzc8+cOdPe1q4SddWqVStXrlyyZElcXNy8efPKy8shTSHGuLCwECGUnp6empq6evXq5OTk5OTkF154ITEx8cqVK4FAoKKiYuPGjWlpaW632+fzGY1GcKVXVVUJgrB27dqUlJSzZ8/e6rgFv/vEE08YjcYVK1b09PQ44h0qURMTE9esWRNbKjXlKQsXLuR53ufzBQIBk8mEmYNDEQODaWyLThhoVEB9z06n88UXX/R4PMCp3W43pJNbsGDBj3/848OVh5uuNQmi8O1vf3vLli1pqWlwvAqOwq9Zs8bhcDy0YzgzAEI1Go0cx0HIEYBWl6dkrKuJgG0S4+BZJYPBAAFPEAUV5cZNIwiCIn4YYUmSciDZPAk5ShCBWn/RbuWUgYNTaZSMphRTWmoaTbwIKYaISlRVFQQhJSUFPFkIIUjCy2EOIwzlDBISEsBVDUqFhj/HKEOeqssAhMr4+PjHH3/88ccf93g8hBC73W4ymeCeRYsWUUe4LMvl5eUrV67kOI7DXPHCYsxhQRDmzJnz8ssv02BDjuN4nt+wYQO4dRFBTz311Jo1ayDybuPGjatXr3a73VAkDRIhb9q8iagEdtCMjIzt27dzmDOajHSj1fn0QNvANAd5GzmOMxqNMAJgyh4/hkDPvXvQgFm22Wwvv/yyxWIBdV8QBJ/PRw+/LFu2rLi4GALaJUmymC2ISdNWVFTkdDrNJvOjiMIHCxJUQ2E3JaEcITq3RQfbRhDBBHOYqMGUqWxgAb1Z5/HL4wD6SLO+IoQUWaEdYfe52OqXFjBXGEHlPIQQUpBKVCBOHKrOwFbLQ8zBdZqDCGqnUVEJvmW9BrGIqZ4yQAjxPG80GmGUIfifclUIuBANwdplokEcMcxiJBklOCcGoa1QwgczsV10HWIOg6qHEFIUxWQyQU5NCFFUFMUoGUVRBBcGRL4YDIZxKnXqDWCW5HkezvYQlQQThqsEc1jT+HBq03nvHjSg73JATklJwaETxkCWEFQI56nMJrPNZsO0LGdoYZNQwmyPx2Mghod2GGcAJKwQDr0CF/UZ98NuDBzHEUyQErJnIEyZFY7lY3gIoaBkRkYl4qWBk0j3atXEwer08JkFW4Y78uMoGIZM0+kC947hqQ9hGsofo5CtDwK2McYQqkoPzcNRAsh7FSxTZDAIggDqGmjAiqIE/AFe4GloAvB0URQxjxVFAbEAbLxwiBHSZRglo8loIojIsgynhA0GgyzLsixDZH74QtUDSAj0T4SQLMuIIEEUvAGvoiqiIHp9XhgrhLQmKQ101bsZBnX0whBRQy7lZUaj0e/3Q24ZWZaJSoDSKLmCSAphhtMo3d9T8R0xX82i2DSKcSRXllxZN4He1ikgvGGa9s8OCwEY0sdpM6uTxFbXNAjyB0QwHpWyLrhZ4AipiEdsJGjE5EyPzmkEJkoDM9aj6cJUMxXSVN50y0ej+SD4aOlTkiSBax9ciUFdTSWCINCspfBOWnSOqITDHBYwQggRpBJVVVSMMfVKAKOnfj4QGjDjLGBbdd/9nV5QSQX+hLbRGsdmkxmuWwRL1JoYO8AYYw4bJAMMKQiCoPejkPWFjq2mmCHGmOd4Gq05vRRC97l73Re8efbJBOEYYawkWIcMQvZwpMT7ugKoPfS0IaK8hYwS1unZdD33JSIwxoiLQK4grZLQyTqdT9MEMSITIBwMHYCdDCMIldB2kP5FRh5HCHGYI5hE0T40vUxjyuWPUeRsoxoTN/s5+CAjMSA+TJfCWiEr+FUoRxYaLYVpZDRKshryjS7DZUWTEQtBqG4mQqN0C/bBsZjLPRXQ2QfKiEfZV5C22Bi9gU10g8LGlt2T0DTZqyc1KRoLQawz2bGg0aFHf6cl/pls2KQwaiNkaouM8yGazR0bmuUT/u04D0b8V7fQsFzN5/CLGGOWm9C1HHFFj8wvGfVDUeHJ48/pxDFtpd81NrRwzqvZ1SLu3BrWQNPzjbOpszNBP7A3h78/ugCaYzcw2sJR94Q/FfFVOuY7DwIsz2WFcYIJh4Lqi2ZfH0dyh+vBwKJpOvDGTkrwuFqoSHf4zSRUZIVDkZSSmAW7ujU7PSumE8aVG1FWm+E2o9GMNSJLCQIjxCEOcSMx+KPfg6Jqkoy457GtostH0/JwXqR5Co2m8Ig36wrhU6NhHaHvxuS67L/sGwjEmY5+58wPC7u+pv6j0yYQsBircZo9j+UacFFDu+GjHM7uJ9IAymtmnsuwCF97CCE2QhU9lEr/pBDOtQFsheuJj144naApLyp2BlnxYpzX4rG1kBgF7Sycl4G05fQKeye7MKMlELBExSohGklOu/GrJDz4TvPO6Ga2CJdsAEoItJEACNOOuINqpDo0HXvPjIFNXMumG4nQUzA/39PFp7Fbw2vwqK9mDJREafbMqbxt0gLB9MrC8AY2UT+LcPq7j18JF4SjBUqUKlGh8iYKG8NJdRO8lRHUl9kLOmiqqiqqQhckhzkIJUGRLC5jIaI4P10CAWEcFhN552yaRNoXYL5UGtB8RvrzFBBCIMkpPbV0H23TA7cBjNUSyMYvCAIc7CKEQMD8+C/RT78mBViJEM1Gws65ACbFeLWP45Hr0Roi+F2o3ziV90xUIBjFiBmxd1qlO4UvAAAgAElEQVRWsh7U9xkDK8TRIysRbXSTeu1DMnqEEJb8WH0OjQ4lofdMfJFPFzFTvnBPBZEKxFFkJQ8OgiC0t7cfOnQoLS0NhUIlqAYGieFYgWDiwtN0AX6Og/84Dqjr0qVL169fr6qqysjIkGV54pEl+rHxaNQ2jUYL3ZRl+erVqzdv3oSMcGzSDvZ+zWfWWoB144cdB4QQWZZra2ubm5vNZrPFYgFHHqKjxMSlTVyLoC/X/Nb0Nn6CwBjLstzY2NjV1VVYWDgVOpychQCi98cSJB9hggA7Ks/zVCCIdotiCXDkF46kBtf26Dig6Dbv/jDLqizC5srzfFdX16FDh6AUGWuZZwWgqO807Bkzg8HQ2NjY3t7+ySefQCn2iCdQNI3UdIHtYFT2S41OrxEI4KCNoih37969ceNGIBC4ePGi2+2Gs7iwO9JD46w/SzNN8E7dCgSsm6Cjo+P69eudnZ3t7e0RB4e1zo5PfoRxW2smeixT94MD/WlZlu/evSvLsiiKU+GBExIIYAg4jmttbT116hSb4XUqZBGjvHsqgJGUZbm+vr6jo6Oqqqq1tZWuPc2d6F6j+hAOIOQZvHDhQntb+/lz52/evMke09AgfAzDpftpX72TmhTgO5Co48qVK7NsQhVFcTqd27dvT0xMhKLkAHbjhyszLxAQxrOjkVFOnz5dXV39wgsvZGZm+ny+cIEgnHI0m6Xm+oPrxThgO6hpAz09+MUXX5w4cWL9+vWLFy/2+/2shwseCY/PRVHt1GRBQinLLl+5fPLkycWLF2/YsEFRlLEsBGiSRgIq/z2g9k8QIPTU19efO3eOFv69P0xUIIAhaGlp6ezsBMvSxG0s90SskNcUgUNBkYIgtLa2dnZ2er3euLg4sLuwi21WGpCnBaqqWq3Wurq6u3fuchxnj7drbM4oLJYq4k4TkVFOF0goaQk9zRhxh6ONBLdfe3s7VPqYBYCuBQKB5OTk0tJSh8MxKXqeYQsBAFro9Xo7Ozs7OztLSkqysrJYEgrf78dBVLoQESTM7E9Cnt9AIHD16tWioqLS0tIJtvY+hiLqAJ/szZs3S0pKli5des/772khiLiQow6DwdDQ0DBFkpuQQAACCCGkqKjoK1/5SlJSEgpz+N1fO6JoVYsKqEZ45MiRmzdvbtq0KTMzU5uq+RHGBqS5rKys/Pzzz7c9u23u3LmsbKoxBkZXIGDZylgCARADWPzOnDnT2tr6INoz86CdDQQCbrc7Li5u/NKjrDQcRZWaEKIoitfr9fl8kAhVE98zjkY4liFKh4Dc3gghj8cTCASgPGzAHxBFUZvEd3RHwodC/4Al5vF6fD6f1+sNBAI0hkBzm+bD+O9Eo/0y0RX+MMZEJbTA71QwuRiCtLS0pUuXpqamTvFXx4LOF9IUQbclv9/f1NTEcdzixYvnzZuHZnvHpxGw8Nra2lpbW0tKSvLz80H/HutmpCddLSIoW3G5XG1tbdFtzHSBZa9gEhvHoKixt2tkqRkDCWWkh+ToEOVD7eesWhy+AbCiTLg4qBPQZsN2CPsiQBAESBcLaRWg/WwGSfrvzIjU0wUSipmgU0kPGowvm6KxeTI7DiSUyAR+KJqVODgEdDsTFgIUioMDQxPrpZgWmVHnVDWNAFqE+rx+vx9OibBVMdg7o9JCnQPOSoHT3ev1QsELNAYdhtufZlLFmQhVk9AZE0VRhoaGZuWkPzyrW1eIaNhnpS40+sQTzd1LJRt9FpqaLNgRoPLQ+IaoiVtqqZg7jrw7Y5gW69pEBQIcqkrM8zybDR6PttNOtkGaR2Y376BLkVVBqFg3u/s+jQAKhJpPEUcPNBsqv+tQV6MAlVRVVNEoQmHGaLdoOgGHP2K9U7olnvExvkmGfiChfL3B/3EEFTkWu09BGw+dpRfH79T4Rkc02vqIwmSImRwxTadmyEJAf1izvDWGo0ktHvpC9vGJtyfmoFmHETsbUa5/BArNGGqua4y6mtVLb5iZEb6nIMJaYu87B46eEc6h2C6j0dSun76T0SeBNUSFxohQiQmwQz2KdWOEOYy5e8fKRdwFdA5KhOGb1z2nL/wGjctgrG1x2lo/YcyohQCNFjnHYXYTH4soSlVRBGYQ8Vv00AzFfWCskdFoM+yf4VfGec/04p5aCBntnZ2BJs0kWDpn2SgK07SQfvYYgtDoxrDtR8yOGC7T6B/jiF/s7ERUfNlsDXh0BZCZafx9gNUEIl6/Z+M1lKAhg7Eww2uZTtaMWgjGwlRaMJHBnTWYlIVg9umL04JwqwDVsFmxHY02IdDxZPdgzWb8aMCnHRiNpIWnK53jOL/fD25H+OB2uw0Gg9FopCH94Sr4zE1N2O+w5AS7IESuQPTPFPPARAvhbdasF1VVfT6f0WiEBBKqqholIw0yYDPw6H/VkFDEH20wyyvYQhuIUSHgERgHhJDBYKAhluDwRZH6Pu0CIrvZ39PiONa2MnFMSSDQtG+ylBHOmqfSGP0j3F43zm2zfjTuD2OJ9uzmEVEggA8agQBFa9d5OIAx5jAHtbvoOMMBZq/XOzg4CMfAbDabIAiQLiaifDZj80Igro6Miraj4qaiKD6fz+/3e71eQojJZDIYDBEjgvWPsSwEiBF9JEmSZbm3t1eW5fT0dFmRobNww1jZNfQJjSgAswnziDF2u900cRbG2GKxWK1WQojH4+nv74fcJyDCQuAXfS3b/YgMZxpxT5tENC0EE+xwOCPWfMXukRHvGefPCTZAn/Q6zszh0TZkMto4OaOt1B/YTUIjjLL6SsTbwm+I+MgjTBcwxiNBaqF8cF6v1+12Nzc3v//++zdu3LBYLMuXL9+yZUtaWhrV4YAtsFafGZ4djSEKY6wqqtfrvXbt2v/+7/92d3eLorh48eInn3zS6XSypqaZbOQDAmU+Q0NDbW1tlZWVqampL7/8Mv12rA86hKaRhAHP8yaTyePxfPHFF4cOHRoYGAClPzU1df369YsWLerq6jp69Ohn1Z/5fD5njnP9+vWlpaUgJIWLBZofnV5KYJWWaXxtREzVZaAoChyfo0YkONUKljQYdzTaGIAY5gvmGip40ntIyMgTvh0qikLZBApxfBD3MMaiKMqyDL8LUeixslApyfr9fkgxIYoixNJDXUtNrvtZxoamArp/cDzHUiNCiOd5SZJQaGDhvCIMbPgbHmF6AQr3yDpFGCFkNBrb29v/6Z/+qbu7u6Kiorm5+fXXX/f5fD/4wQ9o8qJRmWVnmNQxQjgST8eot7f3jTfeuHjx4tq1a3t6en772992dXX95Cc/IaFierNjMcJQ+/3+69ev//GPfzx69OgzzzwDDFYURfaIGXu/zjuOw0BCrsYvv/zywIEDOTk5NpsN7CJ+v7+3t/fjjz/eu3ev0+lMz0ivrq5ub2+32+2FhYV+v5+6D9AYcbLT3vjpfeE4mKpAMDAwUFNTc+XKFbfbjTGWJMlqtWZlZRUXFyclJbF5EmB3V1UVI8zxI1kNYIMHDi6KIkZYURSP18PzvFEyYk6bfs7tdouiKEkSuHZA/uju7j5x4oTVai0tLa2rq+vt7V22bFl2djaKBc2PkpSqqkNDQxcvXrx06ZLb7U5JSSkpKSkoKBBFEc7X0UembhqafQBCunDhQmNj48DAAMhSycnJq1atMhqNHR0d1dXVHR0dRqMxLy9v5cqV8fHxVG4Aanw0pNML1kJAV7Esy5cuXaqrq/vpT3/6zDPP9PT0/P3f//2nn3769a9/PSUlZXh4GCEEBlsUycDzwEEQIhF+y+/319bWVldX79y58y/+4i/6+/t/8f9+cebMmYaGhgULFvh8PrPZPGvESr/fX1NT8+abb3722WdQe4XjOJChWWuu/uWAcQDpGvv6+m7dulVYWPjaa69Bjjij0chxXG1t7eXLl51O59/8zd9kZGTs37//gw8+OHv2bEFBAZ3oiBzjAQ3IjFkxp+QyANX8s88++9Of/pSUlGS3271e78DAAM/zzz///HPPPZeQkBAIBMAAAOmMMMKwx1NtAHY7Qgh4cQRB4AUeilSqqopUhPCIIUEQBLPZDORoEA2qqkIF1eHh4RMnThgMhpycnOst1zs6OoqKilAo/EdXNmFWSmWvq6qKCKqpqfnP//zPvr6+hISE48ePHzt27Jvf/GZ5eTlIr+yZe42TNaYX58TB9pHtvqqqoij6ff59+/YdO3bMbrfDup0/f35ZWVlPT88bb7xx9uzZvLy8GzduKIry05/+dM2aNaDuPDyjN8NgrX3UQkAIqaurs9ls5eXlkkFKTU1du3btv/3bv12/fj0tLc1isWAmRBSF2QkeeKOxNq4QfndoaKi2ttZoNK5YsQJjbDaby1eW19TUXLhwobi42CAaWBcyinGb0/DwcH19vcFg+MY3vgE1t8KngyJGewoZ9oaHh3t6etxud2NjY09Pj8ViycnJiY+P7+rq6ujoeOyxx9LS0gRByM7OttvtHR0dg4ODoEhQSwmlydnh252qhQC29gULFnzjG99YsGCBLMvXrl17++23a2pqli9fzvP88PCwKIqDg4OCIKSkpAiC0NvT29PTw3FcfHy83W4XBAFe0tfX19fXJwiCzWYzGo08xyOMfD7f8PAwvARkDo7j+nr7uu50BQIBh8NhtVp5noeUf0C1ZWVlxYuK09PTWQlOzzOEQ5GrfX19Z86cMZlML730UmlpaWVl5euvv97Q0PDYY4+Ftz88COOhBTWx3O2+e/369eXLl7/44os2m81gMFgsFofDce7cuc8++2zr1q3PP/98c3Pzz372s0OHDi1evBiqcuBQltZo92O2AfZIlagIIQgtRAh5PJ5bt27Z7Xa73Y4x5jk+JyfH7/d3dnYiEpTgIaMRm2EXRY/PAmkFAoG2tjaj0eh0OgVB4DguwZFACOnr60MIYQ5TrYNWtIpdm5PFYtmwYcPGjRt7enrYdNownSAwUREBx2Y8ODiU+/r6GhsbGxoaXC6XJEkcx5WXlz/77LOwE82ZM8disciynJCQYLPZvF4vxCEGXxHpQEqs227vRyBgpX6IIUAImc3mlJQU2NozMzM7Ojp6e3tFUayqrrrRfqOjoyM9PX3btm2EkBMnTtTV1ZlMpqKiooqKivz8/EAgUF9ff/LkyatXr2KMCwoK1q5dW1BQcOPGjTNnztTX13s8nvT09LVr15aUlLjd7uPHj585c6arqysnJ2flypWrVq0CxzAswtudt3t6ejIzM+Pj41HIVTG9ozbtoDRUVlZWVla2dOnS+Pj4jIwMk8k0NDREbSf0ZhKqyR3TxDe9UBSlv7/f5/Pl5ORYLBZJkhITE+12e39/f21tbUJCwpo1a7KysjIzMzds2FBdXd3S0uJwOGicSkzL9foEawmja9Dr8/b39SuKEhcXp6iKLMterxeOtxFEFEUJpp1H2vQM0Z0dWrsSbFFer3fYPSyIQlxcHHsbbXNMk5PBYMjOzuY4bnBwUDP+GjdQ7PYRIxwIBBBB2dnZc+fO3bp1K8dxu3fvPnDgQHx8fFxcnCAIJpMJYwwEaTAYDAYDxhiCugghcKqWEna4qSAWMSWXASFEkiSTydTX11dbW6soisfjuXr1aktLS3FxcW5u7o2bNyorKxvqGxITE1NSUmpra0+cONHS0pKXlzc4OPjhhx92dXW99NJLhJD333//4sWLTqczEAgcPHjQ7Xb7fL5PPvnk1KlTefPyBFGorKzs7u4OBAKff/75vn37UlJSMjIyLly4cOXKFZ7nMzMzFUUBu/pnn312/fr1vLy8zIxMdsL0D4fD8dWvflWW5c7OzuPHjx88eJDjuPz8fJPJBG68cY76xC4JTgtAQmpvb7927ZqiKA0NDcPDw5mZmc8++2xWVtbAwEBcXFxCQgI4niwWy/Dw8ODgoCagNdqdmM2A4VVV1W6zW6yWgBwIBAIGgyEQCMDhQ5B3IVaGqARzQccBFeijNUFAGxCU7vV64dgkQshkMqGwQ8IkdB4vpm1OdNtDCPn9/qDugTA4fOEe1kIexabePzAiiOTOzf27v/s7s9mcnJwsy7LBYOjv729qaioqKoIMBDD1qqqC3ktClaN5jicY8jIgNPo8czQ7NWXcp0BApUWICmxubn777bdTU1NVVb1+/TohZMWKFZIkqYpKVPLYY49t3749Kyvro48+6u3t3fV/d2356haPx7N79+4///nPFy9eVBSlvr5+48aNO3fudLvde/bsGRoaOnPmTF1d3aqvrHr55ZdTUlMOHjx448aN+vr6s2fPFhYWfve7312wYMGpU6d+/etfnzp1atOmTdRGZzAYJEnieV4lKtUzpnXQHhQIIXBWora2dvfu3efOnSsoKEhOTqYyKWUxGrJ7yLe0YIyPono8nuTkZKvVmpubC0KV3+9/5ZVXBgYG4DCxqqpGozE5ORm4eWxztBgEx3GBQCAtLe3atWtdXV0ZGRngKQOzIqL2Zxxhv4miywAhJAiC1WpFCPX29mZnZ/t8PpfL5fP5HA4HYoQVVnWO6SVJG097RNAoH7kmgCmKTb0/gKzZ39/f0dGRm5sLxsKEhIT09HSj0ehwOAwGw507d7xeryAIQ0NDAwMDiYmJwSIpKiEcAQkJyBWNDreMct+mgKnGEIDampaWtmLFCojS7OzsvHDhQkNDQ3Nzs8fjsZgtRQuKFi1apChKT09PVlbW0iVL4+PjzWZzfn4+BH77fD6r1VpcXAyxYNu3bw8EAgcOHJAkqWx5WU5uDs/zGzdu9Pl8VVVVGOPly5fPnz8/Li6uvLz8z3/+s8vlAm2PBn+yeUViCCCYy7Kck5Pz4osvlpSUHD169MCBA+np6fn5+WxZv3COE7usZ+qAvnMcl5eX91d/9VdOp7OwsHBoaOg//uM/Dh06tHbtWqPRCCEmcD97qg3ErFiklhhFIBDIzc396KOPGhoakpOTh4aGvvjii9zc3JSUFBSKSQIJWMNho0Xh0ABJkubNm6coSnV1dW5ubk9Pz9WrVy0WC1u+fHaYBwDsimBdP2h0kp8YjWGia7+hoeGtt95auXLlK6+8IghCbW1tc3NzeXl5SkqKyWRqaGhobW1NSUlpampyu91lZWVGoxGMtcH3oNnGN6YhqBAhlJ2d/fTTTy9fvhxj7PV6f//73+/du/eLL75IS0vDHOYFHmMcCATA/QZHkzmOM5lMoiiCd8BoNFqtVlhOiYmJkEvAZDLFx8djjP1+v8ViMRgMYOOVJAliF+iOCEfMZVmGf4PR+GiEjnUurUPz/H5/d3c3QigrK2v+/PkVFRVtbW3Nzc23b9+eM2cOHK9AYUl4HgEhhDH2+r1JSUlpaWlms1lVVYvFsnTp0uPHj/f19dnt9oGBgcHBQTh6MDg46PP5aOn3R9LATMJkMpWXlx86dOh3v/9dW1vbjRs3jp84/uL2FxMTEzXmd50A2iOKYlFRUW5u7qeffurz+dxud1VVVWlpKZxtBrAbpM4ZzviAKDE40S0Igt/vB0cJIUQURZDVNEcqYquz0H6e51NTU+12+9GjRzHGkiSdPn1aFMVly5YtXLhw2bJl+/fvf+edd7KysqqqqiwWS1AgCMiSJLFlHeBjzA1CRExNICAjaYJgSwbV3Gw2I4RgR+d5Hu4xmUySJN26dau3txcCOm7evOnz+ZKTk4eHh9vb2wcGBuCwwLlz5zo7O4eHh2VZ7urq8vv9kiR9/vnnkGBAURQIJuA4rr+vv6enB9x7bKpqSKBBQ3+RvvfOkSD5u3f37t1rNBpXrVqVnZ0N3jsIlQfvDPhZZwfTmV4A/zp48GBPT8+2bdvmzp3r9Xrv3LmDEHI4HA6H49KlS52dnRkZGcNDwy0tLSaTyW6zs3kyHuFBA8hVFMX09PTXXnttz549hw4dUmRl7Zq1L7zwQlxcHNW9dEXYoPELgpCfn//tb397z54958+ft1qt5eXlO3bscDgcdIOM6ZMFGoCRIy4urri4GHwlaLRVnMYzIX1zVw1oRDwhBGyxX//61w8ePHju3DlVVVNTU5/d9uyKFSvi4uLWr18/PDxcW1vb1taWnJy8efPmoqIiURQDJKASlcc89aHMJkytlgEicHijt7f3888/d7lcoigODw8fOXJEUZT09HTI6AQmWavVOnfu3MuXLx87fkw0iMPDwydPnlRV1el0+v3+06dPHz58OD4+3ufz7d69m+O4BQsWDA8Pnzp1KikpyWaz/fGPf3S5XBUVFampqZcvXz579uzcuXOrq6s7bnU8vupxh8MB6RHhrAEKTXwMRX5Cg9va2uDg7+rVqy9cuFBXV1dYWAjWEYhn0Tj24NlHwgHoLv39/bt37xYEYcuWLW1tbYcPHU5MTMzPz0cIffjhh4cPH05KSmppbqmqqqqoqJg7dy5Q5iOXwcwAY0xUohI1KSlp1apV8+bO63Z1I4ScTmdiYmJADmCEqTFWV5Yb0HmsVuvatWvz8vI6OzvNZvOcOXNsNlvENTgLFiOwo/j4+K1bt5rNZpB1aDbG2O0d23gIGqioqFiwYEFPT08gEIiPj8/JyRFFUVGU7OzsXbt2uVyuoaGhpKQk2M5kWYbgA7Zyl65odYqYgkBAgjk+OY67efPmW2+9BcZ8URQd8Y5nnn5m6dKlbW1twbBhQkwm06pVq+7cuVNVVdXY2Oh2uxVF2bJly4IFC3ieb21trays/Od//meEkCRJGzduXLJkic1mO3DgwL/+67/yPB8IBJ566qnNmzcnJCR8+OGH7777riRJQ0NDc3PnVlRUgClCkiRJkmgIHjQzJmYLtJDk5OTnn3u+t7d37969p0+fvnv3bkZGxlNbnoLYKxRyfqNIGdxid4lOHcCkZFl+6qmnmpqa/vSnP126dOn27dtGybjzmzszMjKsVutXv/rVkydPdnR0uFyu5OTk9evX2+12OORGNYaHeQxnBgQRHvNEJaIoOnOczhwnQiggB7xeLygPcJuu1iwlD+Aq2dnZ2dnZOFSlSaMiz5rFCF2QJMnpdGrYKdu7mOspO2U0VCU1NdXpdCKEwOkMnVIUxWg0zp8/HypbQkJ0msoMjT5ZoCuKnQqmIBDgoFq2bt26zMzM3t5egohkkGw2mzPbmZ+fH++It9vtNpvNarXCad28vLxdu3YtWrSosbERY5yfn79kyRJQ7r/5zW/m5+fX1tZardaSkpLCwsL4+PjMzMx58+Z9+eWXsiwXFBSUlpampqba4+1Op/Pq1avd3d1JSUlLliyZP3++2+3+2te+ZjAYbDbbunXrPB5PRkaGxtelW46PQzFxBsmwfPnyuLi46s+qu7u7HQ4HpC6WJAkRxPHaIwaPLAQA6DjP8/PmzfvhX/3w5KmT/f39ZWVlS5YsKSwsBBv1q6++umDBgvr6eofDUVpaunDhQih7gR4lJpopkNAxGWDKoGwhhMB9S4PU9MZhKXnQcCVCiGSQEEKQVA2FViJbeyWmgTGmIcwQoy0IAmttpbfFbn8pgcEeD+Kdqqo8x0OmO2pspnVkaE0jVoWI3RGIiPsXCMBkAqFbpaWl4TcQQhITEyEZHAoNX3Jy8pNPPvnEE0+A4UWWZTi4aLfbt2zZsmnTJqBFarDauHHjunXraO0QWZbtNvuKFSvKyspgnjjMEURMJtO6desIIYFAICU5hRd4CGhgc6DqfNqCjeRw0cKiBUULaIaWYApngiBHmCaWh332oQXr1Myfn5+Xn0cHBApeAC1t27YNwlfpt5qqWg/5MD5o0EHGHCbqSEA+zwWrdulzIljphNZLg/ByEBRoakKNmzJ2QRkmgDJkjSEExSDnYbcDnudpxTjoIAgHIACJosh2E4Q/TfzW7JhuFvcrEBBEMKHJyVVFZQ9gUEoCmQshxNaGIqESiMF8TxhjjBVZUTmV53iVqGC0wRgTdcQcB5siRpioRCEKQgheIisy3fUhXyEhBGqra6xbOp88GC6CCPQa0QaTULJFPLJQUSyvyWkHCRUuwxhD8glEEGTMFUUR/NZQU8NkMqlEVZURggGCnE3hYPoEZaBBS0xopOleC2eCkP7omZKHRv6eBbtjOCL2UeMWiVFQtZ416lDQzYIgEl7a+J6+IZ1Ys6aO+xUIMEII0fxNkiSBmE/QqORNEe1+VHEHvT84EwSpRFVUBRHEYS6YDwsjVVUVWaF3cnxQsFAUJRAIULmVCms0nZ+GfCO2JGogEeiSJThaBBIhBLWgqIwFN7Miqs4FnRkAK6pDqpCR4UUEiteBrBksdsVkW9OVdXoWgw4yS+fs4JOwQ90abWzm26xpCUDTEiqMIn00dbLQ8B/2+oisNlosiMXFwhr5NbIO5aIjN4+dXeCefY/i4LB8774xBZcBxhhjURQRKzeNhF6O3Kb5E/Zs+hmhoL2BRzx8Dl4I6RM0ng5jTBABjh+ecTZcdmO/1dVCZQeBwxyEZ7INhkjMEaF17FzF+ulUdEEHKjhWGIUMWEhVVQ5zVF6k6VdZZvdoGB80RiQ2hqTHH3ydaN4aQRyNdm3gUAAQe0OsILxr7FfhF2MXVKHSbJkT6eak9o4oCkxB/ja1KZvSsUOMMa24Q6+MdTMdJtYgg1BQAhgRQvGoiyzJUk2C7pr0evjvajQ/fQnvo+UmkHIQ62RltjfE2FpYcT5cAJrhTkQdEXUaNNo0xY4SLbgX0QSqtwHUEblOB8joclxsScB7hnPOzDhEtNghZn1RYwB7p6YLMTdlGgZLmPzojwCYLIOdYRoI94AQRO47heLU8hBEKvQ01s3sMEW4jUziZs2VsYSyUWOkgyRoI7/OmEepzSPCbSGMT5GxaMG7b4xj2NTco5Gl4APLuzWKwsxvwLSdhBDwIrENiLmtZSyMuG8YiZZNQKQ3AtY0OFypCDd16K0L4yBc7tEazMfoS7iopH9oCE+jU0WzZQ8SWiv9ZDA5gUDzS5NaCdM1AREZZWxxz1EBmCE7CIq1Xsw8NFumhrWxEYJwBYc5QdmNP+oWAhwKhPO1inkAAAajSURBVNSEi0arPdMOQoiiKLIswxlunZ/KI6FCdpA3XQlhlmnMsCKgm/SsHXR8fLGYfqXnSdQAOqsygDmdTRHElMXBKkMzYyEghAi8gEPhM/Qi1W9mYHyDPWcSEscW6MwFAgHKKGVF5lGoADyetULrtACYF82ZCidLIZcAQshoNLJ6J2sL1SeogKKoCo951hYdbnuLLdCu3blz58KFC8nJyZRv6LZHVJq8du1ab29vbW3t4OAgVB/VbZvHB10I4Xs57I4tLS29vb1NTU02m214eJgmIoz4HsIgJgYEmgpnC1taWu7evdva2nr58mWPx6N1W4+BWOkmtLOpqamvrw+2kvt+20QFAlVVA3LAH/D7/f6RhD+haHnqBX+gAC7JqdyD/6kHBUII5rFBNIAIFaxNAAkGMMEkZjs2UwDag8whEJgJeQUwc8aVat4631aD279KCCFEHZWXOnY3IRQKFyCEpKWlqaq6Z88e2h397yWEENga9+3bR3dBnbd5LIxlLQOdBGMMublOnTpVVVXldrvRGLmVNAJBDKnXMALQzeHh4Zqamrq6OnqA657QiFP6BAmFS/t8PpvNlpKSAufz7+9tExUIoLogwD3sHjFNhLSZmbMQxD6v9Hq9BBFFUYaGhgYHB2N9A5hJQG5Rv9/P87zP5xsaGmJdACMmK8Z8peeBJYRAwhOO44aGhuiuSRj/mp7bHxGUja5evXrZsmWSJIERXv+8FSFECPH7/YqsSEaJTUsXowgfbYwxmM0h9w4oeJocfBqMEghUEitFfdj9AqqfQ5nciTRes6nptr9sOyGfktVqJej+I0MnJBDAmIqi2NnZeerUKbvdrqkof3+/fX/Q7dxMEIQQr9fb1NR069atU6dOpaWlsTUMx0Ks93paABzJaDR+8cUXd+/eraqqam1tVRQFvpUMEuRsoKaCWBEI4HNtba3RaCSEKLJCCIFi37HowMah4E2r1Wo2m6FTSG8nfUaDrj5q+ATX5IxpOw8OdNhpH8HXZjAYwE5ACAkEAgbRYJAM478KBIIH3+RpA5VdAoEApMoGD8IE96xYmXeMMSIoEAgEAgFIMs3O+KR6ce+oQLjB7/dfunSppqamr68PigrSbx9ZCCaCURwnlFYBQpaAQKkLOaJxNRa7/OBAhyji9Yhf6RaqqkIqX57nCwsLV61aBbQhSRLcEHNTzw5+DE0EqwezhKSxG8fQdODRQd/sJgFyD+YwnHhiVeGIQptmg7nvmLUZBXOgPXiBMmFWrIk4n/TZGJltSrfhVPpABIKgJU1RwFRA1RqNefOBgnY4htYkC7rS6JBG6AsZg0AfgQEIT1PPwqELMJm4ZFlWFZXneZWogiBM8Ji+3kAz/LO7KYoRCwEKxfSgsFMqAH22f+IY4dghVjOKr2IUHiGuUWZiCGPJcxqTyTjQM9GisOOjaLSb4z4aP4ljh7DOJUkihECO4VFBhTNiIWDINsZACKFHDOEKdfwgGEiFQPr9YNYiguhpNBT7bGi6QJhzRJCtkv2WrgH9W3opUyahdFuQnhJBySU1sgkkVhDRSBAVD+PEMWIhQCNVWlghPuYsBBqMGnkczICCEdacgg7X/lkTtJ53x3CEa8yTlU0nLjpEHdMyLxMVCMAwQAlCk/RtJhFD5DgRjFAqIhzS6oKzrLNTB13PNPczvR7RXKZbsBwWrtBk1ZjDbHaKmEO41BsriNjs2KKre2JEvkEY42DttIk/G4uDEL79zz4LAYp0hOc+dudJWAho+QD4U/N5sj98H5jhn3sQ0Lri2AzEfKx26oEifOmS0DGb8G8xU7pez8sYRRIIEHNQInZT4SImsWbMNf7hEgigO3jkyj2fit0RCDclhl+c4LO6BWsFue82Ty5T4VhEM8N2gpgw4ESEVggICwB+BA2onTliyEX43kMHU+dDqukXCZ3dR6Nd1zoXayIiRkmaJZtwl8cs0EYA4d60icxUjM4pIEbX0USg4RX04n0LcFOqZRAtxPTUTkVWfQgxjk0l4s1UbtA5C9A4p6lhQMOv9dyFsRCjJB3RTR4r5DQRsOsIhXJ8sQL0OB2M0TmliN2WTwoRtaZJ4d4CQcS3R5E+HpKpfQSAxgYwvprCkqXO6STcSjQ7dp3YRURPR0xLZmOBhE4+w58xsV4e4Z7QzOP9TWisWoEe4SEEPc821g06L58TDtoj2Idi8ZDhIzzCI8wa3Ge5QtakNv2NGhcxxO4fYeq4P+el/rXtcfql52bPYow/Izonp4lj/AU1m3r6sGFawlz+P7vLM8OWuE8bAAAAAElFTkSuQmCC)"
   ]
  },
  {
   "cell_type": "code",
   "execution_count": 13,
   "metadata": {
    "colab": {
     "base_uri": "https://localhost:8080/",
     "height": 206
    },
    "execution": {
     "iopub.execute_input": "2023-09-03T17:07:25.312342Z",
     "iopub.status.busy": "2023-09-03T17:07:25.311342Z",
     "iopub.status.idle": "2023-09-03T17:07:25.321968Z",
     "shell.execute_reply": "2023-09-03T17:07:25.321968Z",
     "shell.execute_reply.started": "2023-09-03T17:07:25.312342Z"
    },
    "id": "P9l7lR_WjUsW",
    "outputId": "9b1f9a1c-f0b9-47c4-b727-caae9ad2c522"
   },
   "outputs": [
    {
     "data": {
      "text/html": [
       "<div>\n",
       "<style scoped>\n",
       "    .dataframe tbody tr th:only-of-type {\n",
       "        vertical-align: middle;\n",
       "    }\n",
       "\n",
       "    .dataframe tbody tr th {\n",
       "        vertical-align: top;\n",
       "    }\n",
       "\n",
       "    .dataframe thead th {\n",
       "        text-align: right;\n",
       "    }\n",
       "</style>\n",
       "<table border=\"1\" class=\"dataframe\">\n",
       "  <thead>\n",
       "    <tr style=\"text-align: right;\">\n",
       "      <th></th>\n",
       "      <th>height</th>\n",
       "      <th>sport</th>\n",
       "      <th>sex</th>\n",
       "    </tr>\n",
       "  </thead>\n",
       "  <tbody>\n",
       "    <tr>\n",
       "      <th>0</th>\n",
       "      <td>1.72</td>\n",
       "      <td>athletics</td>\n",
       "      <td>male</td>\n",
       "    </tr>\n",
       "    <tr>\n",
       "      <th>1</th>\n",
       "      <td>1.68</td>\n",
       "      <td>fencing</td>\n",
       "      <td>female</td>\n",
       "    </tr>\n",
       "    <tr>\n",
       "      <th>2</th>\n",
       "      <td>1.98</td>\n",
       "      <td>athletics</td>\n",
       "      <td>male</td>\n",
       "    </tr>\n",
       "    <tr>\n",
       "      <th>3</th>\n",
       "      <td>1.83</td>\n",
       "      <td>taekwondo</td>\n",
       "      <td>male</td>\n",
       "    </tr>\n",
       "    <tr>\n",
       "      <th>4</th>\n",
       "      <td>1.81</td>\n",
       "      <td>cycling</td>\n",
       "      <td>male</td>\n",
       "    </tr>\n",
       "  </tbody>\n",
       "</table>\n",
       "</div>"
      ],
      "text/plain": [
       "   height      sport     sex\n",
       "0    1.72  athletics    male\n",
       "1    1.68    fencing  female\n",
       "2    1.98  athletics    male\n",
       "3    1.83  taekwondo    male\n",
       "4    1.81    cycling    male"
      ]
     },
     "execution_count": 13,
     "metadata": {},
     "output_type": "execute_result"
    }
   ],
   "source": [
    "selectedColumns.head()"
   ]
  },
  {
   "cell_type": "code",
   "execution_count": 14,
   "metadata": {
    "colab": {
     "base_uri": "https://localhost:8080/",
     "height": 334
    },
    "execution": {
     "iopub.execute_input": "2023-09-03T17:07:25.322968Z",
     "iopub.status.busy": "2023-09-03T17:07:25.322968Z",
     "iopub.status.idle": "2023-09-03T17:07:25.340188Z",
     "shell.execute_reply": "2023-09-03T17:07:25.340188Z",
     "shell.execute_reply.started": "2023-09-03T17:07:25.322968Z"
    },
    "id": "TMz1E7YRG8mq",
    "outputId": "74ba735f-a556-455f-e0f7-1866552a34a5"
   },
   "outputs": [
    {
     "name": "stdout",
     "output_type": "stream",
     "text": [
      "Пометили вид спорта спортсмена единичкой.\n"
     ]
    },
    {
     "data": {
      "text/html": [
       "<div>\n",
       "<style scoped>\n",
       "    .dataframe tbody tr th:only-of-type {\n",
       "        vertical-align: middle;\n",
       "    }\n",
       "\n",
       "    .dataframe tbody tr th {\n",
       "        vertical-align: top;\n",
       "    }\n",
       "\n",
       "    .dataframe thead th {\n",
       "        text-align: right;\n",
       "    }\n",
       "</style>\n",
       "<table border=\"1\" class=\"dataframe\">\n",
       "  <thead>\n",
       "    <tr style=\"text-align: right;\">\n",
       "      <th></th>\n",
       "      <th>height</th>\n",
       "      <th>sport_archery</th>\n",
       "      <th>sport_athletics</th>\n",
       "      <th>sport_badminton</th>\n",
       "      <th>sport_basketball</th>\n",
       "      <th>sport_canoe</th>\n",
       "      <th>sport_cycling</th>\n",
       "      <th>sport_equestrian</th>\n",
       "      <th>sport_fencing</th>\n",
       "      <th>sport_football</th>\n",
       "      <th>...</th>\n",
       "      <th>sport_rugby sevens</th>\n",
       "      <th>sport_sailing</th>\n",
       "      <th>sport_shooting</th>\n",
       "      <th>sport_table tennis</th>\n",
       "      <th>sport_taekwondo</th>\n",
       "      <th>sport_tennis</th>\n",
       "      <th>sport_triathlon</th>\n",
       "      <th>sport_volleyball</th>\n",
       "      <th>sport_weightlifting</th>\n",
       "      <th>sport_wrestling</th>\n",
       "    </tr>\n",
       "  </thead>\n",
       "  <tbody>\n",
       "    <tr>\n",
       "      <th>0</th>\n",
       "      <td>1.72</td>\n",
       "      <td>False</td>\n",
       "      <td>True</td>\n",
       "      <td>False</td>\n",
       "      <td>False</td>\n",
       "      <td>False</td>\n",
       "      <td>False</td>\n",
       "      <td>False</td>\n",
       "      <td>False</td>\n",
       "      <td>False</td>\n",
       "      <td>...</td>\n",
       "      <td>False</td>\n",
       "      <td>False</td>\n",
       "      <td>False</td>\n",
       "      <td>False</td>\n",
       "      <td>False</td>\n",
       "      <td>False</td>\n",
       "      <td>False</td>\n",
       "      <td>False</td>\n",
       "      <td>False</td>\n",
       "      <td>False</td>\n",
       "    </tr>\n",
       "    <tr>\n",
       "      <th>1</th>\n",
       "      <td>1.68</td>\n",
       "      <td>False</td>\n",
       "      <td>False</td>\n",
       "      <td>False</td>\n",
       "      <td>False</td>\n",
       "      <td>False</td>\n",
       "      <td>False</td>\n",
       "      <td>False</td>\n",
       "      <td>True</td>\n",
       "      <td>False</td>\n",
       "      <td>...</td>\n",
       "      <td>False</td>\n",
       "      <td>False</td>\n",
       "      <td>False</td>\n",
       "      <td>False</td>\n",
       "      <td>False</td>\n",
       "      <td>False</td>\n",
       "      <td>False</td>\n",
       "      <td>False</td>\n",
       "      <td>False</td>\n",
       "      <td>False</td>\n",
       "    </tr>\n",
       "    <tr>\n",
       "      <th>2</th>\n",
       "      <td>1.98</td>\n",
       "      <td>False</td>\n",
       "      <td>True</td>\n",
       "      <td>False</td>\n",
       "      <td>False</td>\n",
       "      <td>False</td>\n",
       "      <td>False</td>\n",
       "      <td>False</td>\n",
       "      <td>False</td>\n",
       "      <td>False</td>\n",
       "      <td>...</td>\n",
       "      <td>False</td>\n",
       "      <td>False</td>\n",
       "      <td>False</td>\n",
       "      <td>False</td>\n",
       "      <td>False</td>\n",
       "      <td>False</td>\n",
       "      <td>False</td>\n",
       "      <td>False</td>\n",
       "      <td>False</td>\n",
       "      <td>False</td>\n",
       "    </tr>\n",
       "    <tr>\n",
       "      <th>3</th>\n",
       "      <td>1.83</td>\n",
       "      <td>False</td>\n",
       "      <td>False</td>\n",
       "      <td>False</td>\n",
       "      <td>False</td>\n",
       "      <td>False</td>\n",
       "      <td>False</td>\n",
       "      <td>False</td>\n",
       "      <td>False</td>\n",
       "      <td>False</td>\n",
       "      <td>...</td>\n",
       "      <td>False</td>\n",
       "      <td>False</td>\n",
       "      <td>False</td>\n",
       "      <td>False</td>\n",
       "      <td>True</td>\n",
       "      <td>False</td>\n",
       "      <td>False</td>\n",
       "      <td>False</td>\n",
       "      <td>False</td>\n",
       "      <td>False</td>\n",
       "    </tr>\n",
       "    <tr>\n",
       "      <th>4</th>\n",
       "      <td>1.81</td>\n",
       "      <td>False</td>\n",
       "      <td>False</td>\n",
       "      <td>False</td>\n",
       "      <td>False</td>\n",
       "      <td>False</td>\n",
       "      <td>True</td>\n",
       "      <td>False</td>\n",
       "      <td>False</td>\n",
       "      <td>False</td>\n",
       "      <td>...</td>\n",
       "      <td>False</td>\n",
       "      <td>False</td>\n",
       "      <td>False</td>\n",
       "      <td>False</td>\n",
       "      <td>False</td>\n",
       "      <td>False</td>\n",
       "      <td>False</td>\n",
       "      <td>False</td>\n",
       "      <td>False</td>\n",
       "      <td>False</td>\n",
       "    </tr>\n",
       "  </tbody>\n",
       "</table>\n",
       "<p>5 rows × 27 columns</p>\n",
       "</div>"
      ],
      "text/plain": [
       "   height  sport_archery  sport_athletics  sport_badminton  sport_basketball  \\\n",
       "0    1.72          False             True            False             False   \n",
       "1    1.68          False            False            False             False   \n",
       "2    1.98          False             True            False             False   \n",
       "3    1.83          False            False            False             False   \n",
       "4    1.81          False            False            False             False   \n",
       "\n",
       "   sport_canoe  sport_cycling  sport_equestrian  sport_fencing  \\\n",
       "0        False          False             False          False   \n",
       "1        False          False             False           True   \n",
       "2        False          False             False          False   \n",
       "3        False          False             False          False   \n",
       "4        False           True             False          False   \n",
       "\n",
       "   sport_football  ...  sport_rugby sevens  sport_sailing  sport_shooting  \\\n",
       "0           False  ...               False          False           False   \n",
       "1           False  ...               False          False           False   \n",
       "2           False  ...               False          False           False   \n",
       "3           False  ...               False          False           False   \n",
       "4           False  ...               False          False           False   \n",
       "\n",
       "   sport_table tennis  sport_taekwondo  sport_tennis  sport_triathlon  \\\n",
       "0               False            False         False            False   \n",
       "1               False            False         False            False   \n",
       "2               False            False         False            False   \n",
       "3               False             True         False            False   \n",
       "4               False            False         False            False   \n",
       "\n",
       "   sport_volleyball  sport_weightlifting  sport_wrestling  \n",
       "0             False                False            False  \n",
       "1             False                False            False  \n",
       "2             False                False            False  \n",
       "3             False                False            False  \n",
       "4             False                False            False  \n",
       "\n",
       "[5 rows x 27 columns]"
      ]
     },
     "execution_count": 14,
     "metadata": {},
     "output_type": "execute_result"
    }
   ],
   "source": [
    "# столбец sport - категориальная переменная (не путать с континуальными)\n",
    "# переведем ее в значения 0 и 1, добавив столбцы с соответствующими названиями\n",
    "X = pd.get_dummies(selectedColumns, columns=['sport'], drop_first=True)\n",
    "\n",
    "# столбец sex является целевой переменной, удаляем его из Х\n",
    "del X['sex']\n",
    "\n",
    "print('Пометили вид спорта спортсмена единичкой.')\n",
    "X.head()"
   ]
  },
  {
   "cell_type": "markdown",
   "metadata": {
    "id": "VNz5cd57G8mq"
   },
   "source": [
    "<p>LabelEncoder ставит в соответствие значению пола (женщина, мужчина) 0 и 1 </p>"
   ]
  },
  {
   "cell_type": "code",
   "execution_count": 15,
   "metadata": {
    "colab": {
     "base_uri": "https://localhost:8080/",
     "height": 206
    },
    "execution": {
     "iopub.execute_input": "2023-09-03T17:07:25.341189Z",
     "iopub.status.busy": "2023-09-03T17:07:25.341189Z",
     "iopub.status.idle": "2023-09-03T17:07:25.351572Z",
     "shell.execute_reply": "2023-09-03T17:07:25.351572Z",
     "shell.execute_reply.started": "2023-09-03T17:07:25.341189Z"
    },
    "id": "RS09wOlJs8PO",
    "outputId": "21183dd3-332e-4d63-8116-fe8499513cb8"
   },
   "outputs": [
    {
     "data": {
      "text/html": [
       "<div>\n",
       "<style scoped>\n",
       "    .dataframe tbody tr th:only-of-type {\n",
       "        vertical-align: middle;\n",
       "    }\n",
       "\n",
       "    .dataframe tbody tr th {\n",
       "        vertical-align: top;\n",
       "    }\n",
       "\n",
       "    .dataframe thead th {\n",
       "        text-align: right;\n",
       "    }\n",
       "</style>\n",
       "<table border=\"1\" class=\"dataframe\">\n",
       "  <thead>\n",
       "    <tr style=\"text-align: right;\">\n",
       "      <th></th>\n",
       "      <th>height</th>\n",
       "      <th>sport</th>\n",
       "      <th>sex</th>\n",
       "    </tr>\n",
       "  </thead>\n",
       "  <tbody>\n",
       "    <tr>\n",
       "      <th>0</th>\n",
       "      <td>1.72</td>\n",
       "      <td>athletics</td>\n",
       "      <td>male</td>\n",
       "    </tr>\n",
       "    <tr>\n",
       "      <th>1</th>\n",
       "      <td>1.68</td>\n",
       "      <td>fencing</td>\n",
       "      <td>female</td>\n",
       "    </tr>\n",
       "    <tr>\n",
       "      <th>2</th>\n",
       "      <td>1.98</td>\n",
       "      <td>athletics</td>\n",
       "      <td>male</td>\n",
       "    </tr>\n",
       "    <tr>\n",
       "      <th>3</th>\n",
       "      <td>1.83</td>\n",
       "      <td>taekwondo</td>\n",
       "      <td>male</td>\n",
       "    </tr>\n",
       "    <tr>\n",
       "      <th>4</th>\n",
       "      <td>1.81</td>\n",
       "      <td>cycling</td>\n",
       "      <td>male</td>\n",
       "    </tr>\n",
       "  </tbody>\n",
       "</table>\n",
       "</div>"
      ],
      "text/plain": [
       "   height      sport     sex\n",
       "0    1.72  athletics    male\n",
       "1    1.68    fencing  female\n",
       "2    1.98  athletics    male\n",
       "3    1.83  taekwondo    male\n",
       "4    1.81    cycling    male"
      ]
     },
     "execution_count": 15,
     "metadata": {},
     "output_type": "execute_result"
    }
   ],
   "source": [
    "selectedColumns.head()"
   ]
  },
  {
   "cell_type": "code",
   "execution_count": 16,
   "metadata": {
    "execution": {
     "iopub.execute_input": "2023-09-03T17:07:25.352572Z",
     "iopub.status.busy": "2023-09-03T17:07:25.352572Z",
     "iopub.status.idle": "2023-09-03T17:07:25.355536Z",
     "shell.execute_reply": "2023-09-03T17:07:25.355536Z",
     "shell.execute_reply.started": "2023-09-03T17:07:25.352572Z"
    },
    "id": "dQo3NjrlG8mq"
   },
   "outputs": [],
   "source": [
    "# целевая переменная (столбец sex) снова является категориальной\n",
    "# переведем значения столбца в числа, оставив один столбец\n",
    "\n",
    "from sklearn.preprocessing import LabelEncoder\n",
    "le = LabelEncoder()"
   ]
  },
  {
   "cell_type": "code",
   "execution_count": 17,
   "metadata": {
    "colab": {
     "base_uri": "https://localhost:8080/",
     "height": 74
    },
    "execution": {
     "iopub.execute_input": "2023-09-03T17:07:25.357534Z",
     "iopub.status.busy": "2023-09-03T17:07:25.356536Z",
     "iopub.status.idle": "2023-09-03T17:07:25.367998Z",
     "shell.execute_reply": "2023-09-03T17:07:25.367998Z",
     "shell.execute_reply.started": "2023-09-03T17:07:25.357534Z"
    },
    "id": "Eh6YTtFXG8mr",
    "outputId": "fafd0bf0-97d5-47ad-e9f2-6d75f9ff5e4c"
   },
   "outputs": [
    {
     "data": {
      "text/html": [
       "<style>#sk-container-id-1 {color: black;}#sk-container-id-1 pre{padding: 0;}#sk-container-id-1 div.sk-toggleable {background-color: white;}#sk-container-id-1 label.sk-toggleable__label {cursor: pointer;display: block;width: 100%;margin-bottom: 0;padding: 0.3em;box-sizing: border-box;text-align: center;}#sk-container-id-1 label.sk-toggleable__label-arrow:before {content: \"▸\";float: left;margin-right: 0.25em;color: #696969;}#sk-container-id-1 label.sk-toggleable__label-arrow:hover:before {color: black;}#sk-container-id-1 div.sk-estimator:hover label.sk-toggleable__label-arrow:before {color: black;}#sk-container-id-1 div.sk-toggleable__content {max-height: 0;max-width: 0;overflow: hidden;text-align: left;background-color: #f0f8ff;}#sk-container-id-1 div.sk-toggleable__content pre {margin: 0.2em;color: black;border-radius: 0.25em;background-color: #f0f8ff;}#sk-container-id-1 input.sk-toggleable__control:checked~div.sk-toggleable__content {max-height: 200px;max-width: 100%;overflow: auto;}#sk-container-id-1 input.sk-toggleable__control:checked~label.sk-toggleable__label-arrow:before {content: \"▾\";}#sk-container-id-1 div.sk-estimator input.sk-toggleable__control:checked~label.sk-toggleable__label {background-color: #d4ebff;}#sk-container-id-1 div.sk-label input.sk-toggleable__control:checked~label.sk-toggleable__label {background-color: #d4ebff;}#sk-container-id-1 input.sk-hidden--visually {border: 0;clip: rect(1px 1px 1px 1px);clip: rect(1px, 1px, 1px, 1px);height: 1px;margin: -1px;overflow: hidden;padding: 0;position: absolute;width: 1px;}#sk-container-id-1 div.sk-estimator {font-family: monospace;background-color: #f0f8ff;border: 1px dotted black;border-radius: 0.25em;box-sizing: border-box;margin-bottom: 0.5em;}#sk-container-id-1 div.sk-estimator:hover {background-color: #d4ebff;}#sk-container-id-1 div.sk-parallel-item::after {content: \"\";width: 100%;border-bottom: 1px solid gray;flex-grow: 1;}#sk-container-id-1 div.sk-label:hover label.sk-toggleable__label {background-color: #d4ebff;}#sk-container-id-1 div.sk-serial::before {content: \"\";position: absolute;border-left: 1px solid gray;box-sizing: border-box;top: 0;bottom: 0;left: 50%;z-index: 0;}#sk-container-id-1 div.sk-serial {display: flex;flex-direction: column;align-items: center;background-color: white;padding-right: 0.2em;padding-left: 0.2em;position: relative;}#sk-container-id-1 div.sk-item {position: relative;z-index: 1;}#sk-container-id-1 div.sk-parallel {display: flex;align-items: stretch;justify-content: center;background-color: white;position: relative;}#sk-container-id-1 div.sk-item::before, #sk-container-id-1 div.sk-parallel-item::before {content: \"\";position: absolute;border-left: 1px solid gray;box-sizing: border-box;top: 0;bottom: 0;left: 50%;z-index: -1;}#sk-container-id-1 div.sk-parallel-item {display: flex;flex-direction: column;z-index: 1;position: relative;background-color: white;}#sk-container-id-1 div.sk-parallel-item:first-child::after {align-self: flex-end;width: 50%;}#sk-container-id-1 div.sk-parallel-item:last-child::after {align-self: flex-start;width: 50%;}#sk-container-id-1 div.sk-parallel-item:only-child::after {width: 0;}#sk-container-id-1 div.sk-dashed-wrapped {border: 1px dashed gray;margin: 0 0.4em 0.5em 0.4em;box-sizing: border-box;padding-bottom: 0.4em;background-color: white;}#sk-container-id-1 div.sk-label label {font-family: monospace;font-weight: bold;display: inline-block;line-height: 1.2em;}#sk-container-id-1 div.sk-label-container {text-align: center;}#sk-container-id-1 div.sk-container {/* jupyter's `normalize.less` sets `[hidden] { display: none; }` but bootstrap.min.css set `[hidden] { display: none !important; }` so we also need the `!important` here to be able to override the default hidden behavior on the sphinx rendered scikit-learn.org. See: https://github.com/scikit-learn/scikit-learn/issues/21755 */display: inline-block !important;position: relative;}#sk-container-id-1 div.sk-text-repr-fallback {display: none;}</style><div id=\"sk-container-id-1\" class=\"sk-top-container\"><div class=\"sk-text-repr-fallback\"><pre>LabelEncoder()</pre><b>In a Jupyter environment, please rerun this cell to show the HTML representation or trust the notebook. <br />On GitHub, the HTML representation is unable to render, please try loading this page with nbviewer.org.</b></div><div class=\"sk-container\" hidden><div class=\"sk-item\"><div class=\"sk-estimator sk-toggleable\"><input class=\"sk-toggleable__control sk-hidden--visually\" id=\"sk-estimator-id-1\" type=\"checkbox\" checked><label for=\"sk-estimator-id-1\" class=\"sk-toggleable__label sk-toggleable__label-arrow\">LabelEncoder</label><div class=\"sk-toggleable__content\"><pre>LabelEncoder()</pre></div></div></div></div></div>"
      ],
      "text/plain": [
       "LabelEncoder()"
      ]
     },
     "execution_count": 17,
     "metadata": {},
     "output_type": "execute_result"
    }
   ],
   "source": [
    "le.fit(data['sex'])"
   ]
  },
  {
   "cell_type": "code",
   "execution_count": 18,
   "metadata": {
    "colab": {
     "base_uri": "https://localhost:8080/"
    },
    "execution": {
     "iopub.execute_input": "2023-09-03T17:07:25.368998Z",
     "iopub.status.busy": "2023-09-03T17:07:25.368998Z",
     "iopub.status.idle": "2023-09-03T17:07:25.372730Z",
     "shell.execute_reply": "2023-09-03T17:07:25.372730Z",
     "shell.execute_reply.started": "2023-09-03T17:07:25.368998Z"
    },
    "id": "LnxDu0GFG8mr",
    "outputId": "6005b0dd-d082-416e-91d7-e312ea6f2cc8"
   },
   "outputs": [
    {
     "data": {
      "text/plain": [
       "array(['female', 'male'], dtype=object)"
      ]
     },
     "execution_count": 18,
     "metadata": {},
     "output_type": "execute_result"
    }
   ],
   "source": [
    "le.classes_"
   ]
  },
  {
   "cell_type": "code",
   "execution_count": 19,
   "metadata": {
    "colab": {
     "base_uri": "https://localhost:8080/"
    },
    "execution": {
     "iopub.execute_input": "2023-09-03T17:07:25.373730Z",
     "iopub.status.busy": "2023-09-03T17:07:25.373730Z",
     "iopub.status.idle": "2023-09-03T17:07:25.379180Z",
     "shell.execute_reply": "2023-09-03T17:07:25.379180Z",
     "shell.execute_reply.started": "2023-09-03T17:07:25.373730Z"
    },
    "id": "nLL3oOwJG8mr",
    "outputId": "a192e74a-8bdf-4c64-a19c-0fc2322692de"
   },
   "outputs": [
    {
     "data": {
      "text/plain": [
       "array([1, 0, 1])"
      ]
     },
     "execution_count": 19,
     "metadata": {},
     "output_type": "execute_result"
    }
   ],
   "source": [
    "le.transform(['male', 'female', 'male']) # пример расшифровки"
   ]
  },
  {
   "cell_type": "code",
   "execution_count": 20,
   "metadata": {
    "colab": {
     "base_uri": "https://localhost:8080/"
    },
    "execution": {
     "iopub.execute_input": "2023-09-03T17:07:25.380181Z",
     "iopub.status.busy": "2023-09-03T17:07:25.380181Z",
     "iopub.status.idle": "2023-09-03T17:07:25.385247Z",
     "shell.execute_reply": "2023-09-03T17:07:25.385247Z",
     "shell.execute_reply.started": "2023-09-03T17:07:25.380181Z"
    },
    "id": "mvuK_7-tPwX8",
    "outputId": "3a068304-7aa4-48ec-a743-6384a65635d5"
   },
   "outputs": [
    {
     "data": {
      "text/plain": [
       "array(['male', 'female', 'male'], dtype=object)"
      ]
     },
     "execution_count": 20,
     "metadata": {},
     "output_type": "execute_result"
    }
   ],
   "source": [
    "le.inverse_transform([1, 0, 1])"
   ]
  },
  {
   "cell_type": "code",
   "execution_count": 21,
   "metadata": {
    "colab": {
     "base_uri": "https://localhost:8080/"
    },
    "execution": {
     "iopub.execute_input": "2023-09-03T17:07:25.386246Z",
     "iopub.status.busy": "2023-09-03T17:07:25.386246Z",
     "iopub.status.idle": "2023-09-03T17:07:25.394554Z",
     "shell.execute_reply": "2023-09-03T17:07:25.394554Z",
     "shell.execute_reply.started": "2023-09-03T17:07:25.386246Z"
    },
    "id": "BV9Klc1XG8ms",
    "outputId": "24951906-7559-4db5-fcad-a63adc8ce1bc"
   },
   "outputs": [
    {
     "data": {
      "text/plain": [
       "0    1\n",
       "1    0\n",
       "2    1\n",
       "3    1\n",
       "4    1\n",
       "dtype: int32"
      ]
     },
     "execution_count": 21,
     "metadata": {},
     "output_type": "execute_result"
    }
   ],
   "source": [
    "# записываем в таргетную переменную y преобразованный столбец sex\n",
    "\n",
    "y = pd.Series(data=le.transform(data['sex']))\n",
    "y.head()"
   ]
  },
  {
   "cell_type": "markdown",
   "metadata": {
    "id": "yTJ3iK7AlBOF"
   },
   "source": [
    "Масштабирование данных (StandartScaler) https://youtu.be/XsuCOfpf8Ic\n",
    "\n",
    "\n",
    "**Нормализация** - MinMaxScaler() Для каждой фичи x делает:\n",
    "$$\\frac{x_i - min}{max - min}$$\n",
    "После нормализации признак будет изменяться в диапазоне [0, 1].<br>\n",
    "Лучше зарекомендовала себя в моделях, которые работают с расстояниями (KNN).\n",
    "\n",
    "<br>\n",
    "\n",
    "**Стандартизация** - StandardScaler(). Для каждой фичи х делает:\n",
    "$$\\frac{x - mean}{std}$$\n",
    "После стандартизации у признака будут mean = 0, std = 1.<br>\n",
    "Лучше зарекомендовала себя в линейных моделях."
   ]
  },
  {
   "cell_type": "code",
   "execution_count": 46,
   "metadata": {
    "execution": {
     "iopub.execute_input": "2023-09-03T18:37:20.765045Z",
     "iopub.status.busy": "2023-09-03T18:37:20.765045Z",
     "iopub.status.idle": "2023-09-03T18:37:20.769742Z",
     "shell.execute_reply": "2023-09-03T18:37:20.769742Z",
     "shell.execute_reply.started": "2023-09-03T18:37:20.765045Z"
    },
    "id": "A7yEXI8VG8ms",
    "tags": []
   },
   "outputs": [],
   "source": [
    "from sklearn.pipeline import make_pipeline  # используем пайплайны для удобства\n",
    "from sklearn.preprocessing import StandardScaler\n",
    "from sklearn.model_selection import train_test_split\n",
    "\n",
    "model = make_pipeline(\n",
    "    StandardScaler(),\n",
    "    LogisticRegression(max_iter=1000)\n",
    ")"
   ]
  },
  {
   "cell_type": "markdown",
   "metadata": {
    "id": "OkvjP31hG8mt"
   },
   "source": [
    "#### **<p>**Шаг 2 Обучение.\n",
    "\n",
    "\n",
    " Поделим данные на обучающую выборку и тестовую. Указываем в test_size долю датасета, которая пойдет на тестовую выбору</p**>**"
   ]
  },
  {
   "cell_type": "code",
   "execution_count": 23,
   "metadata": {
    "colab": {
     "base_uri": "https://localhost:8080/"
    },
    "execution": {
     "iopub.execute_input": "2023-09-03T17:07:25.408961Z",
     "iopub.status.busy": "2023-09-03T17:07:25.408961Z",
     "iopub.status.idle": "2023-09-03T17:07:25.415963Z",
     "shell.execute_reply": "2023-09-03T17:07:25.415963Z",
     "shell.execute_reply.started": "2023-09-03T17:07:25.408961Z"
    },
    "id": "3N9AX5_gG8mt",
    "outputId": "ec77490b-21e0-4f99-aa88-e843d8dbacea"
   },
   "outputs": [
    {
     "data": {
      "text/plain": [
       "Index([  36, 7675, 9226, 6362, 7489, 6263,  742, 9503, 7130, 8835,\n",
       "       ...\n",
       "       4140, 3530, 4395, 1512, 5240,  648, 1354, 5099, 8195, 6590],\n",
       "      dtype='int64', length=3258)"
      ]
     },
     "execution_count": 23,
     "metadata": {},
     "output_type": "execute_result"
    }
   ],
   "source": [
    "X_train, X_test, y_train, y_test = train_test_split(X, y, test_size=0.3, random_state=42)\n",
    "X_test.index"
   ]
  },
  {
   "cell_type": "code",
   "execution_count": 24,
   "metadata": {
    "execution": {
     "iopub.execute_input": "2023-09-03T17:07:25.416963Z",
     "iopub.status.busy": "2023-09-03T17:07:25.416963Z",
     "iopub.status.idle": "2023-09-03T17:07:25.474913Z",
     "shell.execute_reply": "2023-09-03T17:07:25.474913Z",
     "shell.execute_reply.started": "2023-09-03T17:07:25.416963Z"
    },
    "id": "LUjFaNd5G8mt"
   },
   "outputs": [],
   "source": [
    "# обучаем на части датасета (train)\n",
    "\n",
    "model.fit(X_train, y_train)\n",
    "predictions = model.predict(X_test)"
   ]
  },
  {
   "cell_type": "code",
   "execution_count": 25,
   "metadata": {
    "colab": {
     "base_uri": "https://localhost:8080/"
    },
    "execution": {
     "iopub.execute_input": "2023-09-03T17:07:25.476911Z",
     "iopub.status.busy": "2023-09-03T17:07:25.475913Z",
     "iopub.status.idle": "2023-09-03T17:07:25.483079Z",
     "shell.execute_reply": "2023-09-03T17:07:25.483079Z",
     "shell.execute_reply.started": "2023-09-03T17:07:25.476911Z"
    },
    "id": "3QE8qa6LG8mu",
    "outputId": "0b788ac2-9494-42be-b2bb-4984ba68d846"
   },
   "outputs": [
    {
     "data": {
      "text/plain": [
       "array([1, 1, 0, 1, 1])"
      ]
     },
     "execution_count": 25,
     "metadata": {},
     "output_type": "execute_result"
    }
   ],
   "source": [
    "predictions[:5] # посмотрим как выглядят наши предсказания"
   ]
  },
  {
   "cell_type": "code",
   "execution_count": 26,
   "metadata": {
    "colab": {
     "base_uri": "https://localhost:8080/"
    },
    "execution": {
     "iopub.execute_input": "2023-09-03T17:07:25.485076Z",
     "iopub.status.busy": "2023-09-03T17:07:25.484080Z",
     "iopub.status.idle": "2023-09-03T17:07:25.492027Z",
     "shell.execute_reply": "2023-09-03T17:07:25.492027Z",
     "shell.execute_reply.started": "2023-09-03T17:07:25.485076Z"
    },
    "id": "Z4rHU0WUG8mu",
    "outputId": "7f8c5fc3-7811-4811-c172-1d16715986a3"
   },
   "outputs": [
    {
     "data": {
      "text/plain": [
       "array([1, 1, 0, ..., 0, 0, 0])"
      ]
     },
     "execution_count": 26,
     "metadata": {},
     "output_type": "execute_result"
    }
   ],
   "source": [
    "model.predict(X_test) # получаем массив"
   ]
  },
  {
   "cell_type": "code",
   "execution_count": 27,
   "metadata": {
    "colab": {
     "base_uri": "https://localhost:8080/"
    },
    "execution": {
     "iopub.execute_input": "2023-09-03T17:07:25.493027Z",
     "iopub.status.busy": "2023-09-03T17:07:25.493027Z",
     "iopub.status.idle": "2023-09-03T17:07:25.499637Z",
     "shell.execute_reply": "2023-09-03T17:07:25.499637Z",
     "shell.execute_reply.started": "2023-09-03T17:07:25.493027Z"
    },
    "id": "ZJy3HqEwRSAJ",
    "outputId": "bc5b231e-8f48-4804-fda7-6a3cef1c8777"
   },
   "outputs": [
    {
     "data": {
      "text/plain": [
       "array([[0.35822689, 0.64177311],\n",
       "       [0.09201149, 0.90798851],\n",
       "       [0.78014747, 0.21985253],\n",
       "       ...,\n",
       "       [0.56289802, 0.43710198],\n",
       "       [0.70195071, 0.29804929],\n",
       "       [0.99662148, 0.00337852]])"
      ]
     },
     "execution_count": 27,
     "metadata": {},
     "output_type": "execute_result"
    }
   ],
   "source": [
    "model.predict_proba(X_test)"
   ]
  },
  {
   "cell_type": "markdown",
   "metadata": {
    "id": "JnfK25uaG8mu"
   },
   "source": [
    "Метрика accuracy https://youtu.be/CCH-1gJo_z0\n",
    "\n",
    "\n",
    "<p>Получаем наш скор (точность предсказания) на обучающей и тестовой выборках.</p>"
   ]
  },
  {
   "cell_type": "code",
   "execution_count": 28,
   "metadata": {
    "colab": {
     "base_uri": "https://localhost:8080/"
    },
    "execution": {
     "iopub.execute_input": "2023-09-03T17:07:25.508620Z",
     "iopub.status.busy": "2023-09-03T17:07:25.508620Z",
     "iopub.status.idle": "2023-09-03T17:07:25.521818Z",
     "shell.execute_reply": "2023-09-03T17:07:25.521818Z",
     "shell.execute_reply.started": "2023-09-03T17:07:25.508620Z"
    },
    "id": "ZfgDEyzHG8mv",
    "outputId": "5bc44907-7ffd-45a9-8af4-fdde222f60a1"
   },
   "outputs": [
    {
     "data": {
      "text/plain": [
       "0.7984210526315789"
      ]
     },
     "execution_count": 28,
     "metadata": {},
     "output_type": "execute_result"
    }
   ],
   "source": [
    "model.score(X_train, y_train)"
   ]
  },
  {
   "cell_type": "code",
   "execution_count": 29,
   "metadata": {
    "colab": {
     "base_uri": "https://localhost:8080/"
    },
    "execution": {
     "iopub.execute_input": "2023-09-03T17:07:25.522817Z",
     "iopub.status.busy": "2023-09-03T17:07:25.522817Z",
     "iopub.status.idle": "2023-09-03T17:07:25.529650Z",
     "shell.execute_reply": "2023-09-03T17:07:25.529650Z",
     "shell.execute_reply.started": "2023-09-03T17:07:25.522817Z"
    },
    "id": "LcaZGtL4G8mv",
    "outputId": "2ad9901b-b52b-4f4e-c0d5-42a5791237af"
   },
   "outputs": [
    {
     "data": {
      "text/plain": [
       "0.7943523634131369"
      ]
     },
     "execution_count": 29,
     "metadata": {},
     "output_type": "execute_result"
    }
   ],
   "source": [
    "model.score(X_test, y_test)"
   ]
  },
  {
   "cell_type": "markdown",
   "metadata": {
    "id": "Ga_1NWkFG8mw"
   },
   "source": [
    "<p>Итак, на данном этапе мы..</p>\n",
    "<ul><li>познакомились с понятием логистической регерссии</li>\n",
    "    <li>научились делать предобработку данных датасета</li>\n",
    "    <li>посмотрели на практике регрессию \"из коробки\"</li>\n",
    "</ul>"
   ]
  },
  {
   "cell_type": "markdown",
   "metadata": {
    "id": "ZA4fcQkoG8mw"
   },
   "source": [
    "### Метод опорных векторов. SVM.\n",
    "\n",
    "\n",
    "SVM https://youtu.be/efR1C6CvhmE\n",
    "<p id=\"4\">Алгоритм заключается в переводе исходных векторов в пространство более высокой размерности и поиск разделяющей гиперплоскости с максимальным зазором в этом пространстве. Задача - разделить на классы. </p>\n",
    "<img align=center src=\"https://wiki.loginom.ru/images/support-vector-machines.svg\"  width=600></p>\n",
    "\n",
    "$$r = y\\frac{w^Tx +b}{||w||}$$\n",
    "Здесь $w$ - это веса, $x$ - признаки.\n",
    "Данная задача аналитически решается методом множителей Лагранжа.\n",
    "$$L(w,b;\\lambda) = \\frac{1}{2}||w||^2 - \\sum\\limits^{n}_{i=1}\\lambda_i(c_i((w \\cdot x_i) - b)-1) \\rightarrow min_{w,b}max_{\\lambda}$$\n",
    " где $\\lambda_i \\geq 0, 1 \\leq i \\leq n$"
   ]
  },
  {
   "cell_type": "markdown",
   "metadata": {
    "id": "EnnWSGJAG8mw"
   },
   "source": [
    "<div class=\"alert alert-info\"><h3>Теория. Проблема линейной неразделимости.</h3><p id=\"5\">Возникает проблема линейной неразделимости данных (когда у данных есть выбросы, шум). Если данные линейно неразделимы, то нужно перейти в признаковое пространство большей размерности, где классы уже могут быть разделены линейно.</p>\n",
    "Записываем скалярное произведение в другом пространстве. </div>Ядра могут быть любые. Примеры:\n",
    "<ul>\n",
    "    <li>Полиномиальное ядро $k(x,x') = (x \\cdot x')^d$</li>\n",
    "    <li>Полиномиальное ядро со смещением $k(x,x') = (x \\cdot x' + 1)^d$</li>\n",
    "     <li>Радиальная базисная функция $k(x,x') = exp (-\\gamma ||x-x'||^2)$, для $\\gamma > 0$</li>\n",
    "    <li>Радиальная функция Гаусса $k(x,x') = exp \\left(-\\frac{||x-x'||^2}{2\\sigma^2}\\right)$</li>\n",
    " </ul>\n",
    " <img align=center src=\"https://sun9-17.userapi.com/impg/WED5z6Jq6sM_D2kQduehRYIsoxaK5L3EZIwQvw/QxBRixWCKlA.jpg?size=1234x527&quality=96&proxy=1&sign=94a6398d0d6250781768375641f441f5&type=album\"  width=600></p>\n",
    " $\\text{ }$"
   ]
  },
  {
   "cell_type": "code",
   "execution_count": 30,
   "metadata": {
    "colab": {
     "base_uri": "https://localhost:8080/",
     "height": 125
    },
    "execution": {
     "iopub.execute_input": "2023-09-03T17:07:25.530652Z",
     "iopub.status.busy": "2023-09-03T17:07:25.530652Z",
     "iopub.status.idle": "2023-09-03T17:07:27.210122Z",
     "shell.execute_reply": "2023-09-03T17:07:27.210122Z",
     "shell.execute_reply.started": "2023-09-03T17:07:25.530652Z"
    },
    "id": "lwDMwd0hG8mx",
    "outputId": "240c67a9-abbf-4894-c10f-bba5beed6b7b"
   },
   "outputs": [
    {
     "data": {
      "text/html": [
       "<style>#sk-container-id-2 {color: black;}#sk-container-id-2 pre{padding: 0;}#sk-container-id-2 div.sk-toggleable {background-color: white;}#sk-container-id-2 label.sk-toggleable__label {cursor: pointer;display: block;width: 100%;margin-bottom: 0;padding: 0.3em;box-sizing: border-box;text-align: center;}#sk-container-id-2 label.sk-toggleable__label-arrow:before {content: \"▸\";float: left;margin-right: 0.25em;color: #696969;}#sk-container-id-2 label.sk-toggleable__label-arrow:hover:before {color: black;}#sk-container-id-2 div.sk-estimator:hover label.sk-toggleable__label-arrow:before {color: black;}#sk-container-id-2 div.sk-toggleable__content {max-height: 0;max-width: 0;overflow: hidden;text-align: left;background-color: #f0f8ff;}#sk-container-id-2 div.sk-toggleable__content pre {margin: 0.2em;color: black;border-radius: 0.25em;background-color: #f0f8ff;}#sk-container-id-2 input.sk-toggleable__control:checked~div.sk-toggleable__content {max-height: 200px;max-width: 100%;overflow: auto;}#sk-container-id-2 input.sk-toggleable__control:checked~label.sk-toggleable__label-arrow:before {content: \"▾\";}#sk-container-id-2 div.sk-estimator input.sk-toggleable__control:checked~label.sk-toggleable__label {background-color: #d4ebff;}#sk-container-id-2 div.sk-label input.sk-toggleable__control:checked~label.sk-toggleable__label {background-color: #d4ebff;}#sk-container-id-2 input.sk-hidden--visually {border: 0;clip: rect(1px 1px 1px 1px);clip: rect(1px, 1px, 1px, 1px);height: 1px;margin: -1px;overflow: hidden;padding: 0;position: absolute;width: 1px;}#sk-container-id-2 div.sk-estimator {font-family: monospace;background-color: #f0f8ff;border: 1px dotted black;border-radius: 0.25em;box-sizing: border-box;margin-bottom: 0.5em;}#sk-container-id-2 div.sk-estimator:hover {background-color: #d4ebff;}#sk-container-id-2 div.sk-parallel-item::after {content: \"\";width: 100%;border-bottom: 1px solid gray;flex-grow: 1;}#sk-container-id-2 div.sk-label:hover label.sk-toggleable__label {background-color: #d4ebff;}#sk-container-id-2 div.sk-serial::before {content: \"\";position: absolute;border-left: 1px solid gray;box-sizing: border-box;top: 0;bottom: 0;left: 50%;z-index: 0;}#sk-container-id-2 div.sk-serial {display: flex;flex-direction: column;align-items: center;background-color: white;padding-right: 0.2em;padding-left: 0.2em;position: relative;}#sk-container-id-2 div.sk-item {position: relative;z-index: 1;}#sk-container-id-2 div.sk-parallel {display: flex;align-items: stretch;justify-content: center;background-color: white;position: relative;}#sk-container-id-2 div.sk-item::before, #sk-container-id-2 div.sk-parallel-item::before {content: \"\";position: absolute;border-left: 1px solid gray;box-sizing: border-box;top: 0;bottom: 0;left: 50%;z-index: -1;}#sk-container-id-2 div.sk-parallel-item {display: flex;flex-direction: column;z-index: 1;position: relative;background-color: white;}#sk-container-id-2 div.sk-parallel-item:first-child::after {align-self: flex-end;width: 50%;}#sk-container-id-2 div.sk-parallel-item:last-child::after {align-self: flex-start;width: 50%;}#sk-container-id-2 div.sk-parallel-item:only-child::after {width: 0;}#sk-container-id-2 div.sk-dashed-wrapped {border: 1px dashed gray;margin: 0 0.4em 0.5em 0.4em;box-sizing: border-box;padding-bottom: 0.4em;background-color: white;}#sk-container-id-2 div.sk-label label {font-family: monospace;font-weight: bold;display: inline-block;line-height: 1.2em;}#sk-container-id-2 div.sk-label-container {text-align: center;}#sk-container-id-2 div.sk-container {/* jupyter's `normalize.less` sets `[hidden] { display: none; }` but bootstrap.min.css set `[hidden] { display: none !important; }` so we also need the `!important` here to be able to override the default hidden behavior on the sphinx rendered scikit-learn.org. See: https://github.com/scikit-learn/scikit-learn/issues/21755 */display: inline-block !important;position: relative;}#sk-container-id-2 div.sk-text-repr-fallback {display: none;}</style><div id=\"sk-container-id-2\" class=\"sk-top-container\"><div class=\"sk-text-repr-fallback\"><pre>Pipeline(steps=[(&#x27;standardscaler&#x27;, StandardScaler()),\n",
       "                (&#x27;svc&#x27;, SVC(kernel=&#x27;poly&#x27;))])</pre><b>In a Jupyter environment, please rerun this cell to show the HTML representation or trust the notebook. <br />On GitHub, the HTML representation is unable to render, please try loading this page with nbviewer.org.</b></div><div class=\"sk-container\" hidden><div class=\"sk-item sk-dashed-wrapped\"><div class=\"sk-label-container\"><div class=\"sk-label sk-toggleable\"><input class=\"sk-toggleable__control sk-hidden--visually\" id=\"sk-estimator-id-2\" type=\"checkbox\" ><label for=\"sk-estimator-id-2\" class=\"sk-toggleable__label sk-toggleable__label-arrow\">Pipeline</label><div class=\"sk-toggleable__content\"><pre>Pipeline(steps=[(&#x27;standardscaler&#x27;, StandardScaler()),\n",
       "                (&#x27;svc&#x27;, SVC(kernel=&#x27;poly&#x27;))])</pre></div></div></div><div class=\"sk-serial\"><div class=\"sk-item\"><div class=\"sk-estimator sk-toggleable\"><input class=\"sk-toggleable__control sk-hidden--visually\" id=\"sk-estimator-id-3\" type=\"checkbox\" ><label for=\"sk-estimator-id-3\" class=\"sk-toggleable__label sk-toggleable__label-arrow\">StandardScaler</label><div class=\"sk-toggleable__content\"><pre>StandardScaler()</pre></div></div></div><div class=\"sk-item\"><div class=\"sk-estimator sk-toggleable\"><input class=\"sk-toggleable__control sk-hidden--visually\" id=\"sk-estimator-id-4\" type=\"checkbox\" ><label for=\"sk-estimator-id-4\" class=\"sk-toggleable__label sk-toggleable__label-arrow\">SVC</label><div class=\"sk-toggleable__content\"><pre>SVC(kernel=&#x27;poly&#x27;)</pre></div></div></div></div></div></div></div>"
      ],
      "text/plain": [
       "Pipeline(steps=[('standardscaler', StandardScaler()),\n",
       "                ('svc', SVC(kernel='poly'))])"
      ]
     },
     "execution_count": 30,
     "metadata": {},
     "output_type": "execute_result"
    }
   ],
   "source": [
    "from sklearn.svm import SVC\n",
    "\n",
    "# используем пайплайны\n",
    "clf = make_pipeline(StandardScaler(), SVC(kernel='poly'))\n",
    "clf.fit(X_train, y_train)"
   ]
  },
  {
   "cell_type": "markdown",
   "metadata": {
    "id": "ADoUEGkoG8mx"
   },
   "source": [
    "<p>Снова получаем наш скор, для обучающей и тестовой выборок.</p>"
   ]
  },
  {
   "cell_type": "code",
   "execution_count": 31,
   "metadata": {
    "colab": {
     "base_uri": "https://localhost:8080/"
    },
    "execution": {
     "iopub.execute_input": "2023-09-03T17:07:27.212119Z",
     "iopub.status.busy": "2023-09-03T17:07:27.212119Z",
     "iopub.status.idle": "2023-09-03T17:07:28.133352Z",
     "shell.execute_reply": "2023-09-03T17:07:28.132225Z",
     "shell.execute_reply.started": "2023-09-03T17:07:27.212119Z"
    },
    "id": "WucOmxhzG8my",
    "outputId": "72b15cd2-b147-4c67-85d2-99ae4c491b65"
   },
   "outputs": [
    {
     "data": {
      "text/plain": [
       "0.7717105263157895"
      ]
     },
     "execution_count": 31,
     "metadata": {},
     "output_type": "execute_result"
    }
   ],
   "source": [
    "clf.score(X_train, y_train)"
   ]
  },
  {
   "cell_type": "code",
   "execution_count": 32,
   "metadata": {
    "colab": {
     "base_uri": "https://localhost:8080/"
    },
    "execution": {
     "iopub.execute_input": "2023-09-03T17:07:28.134510Z",
     "iopub.status.busy": "2023-09-03T17:07:28.134510Z",
     "iopub.status.idle": "2023-09-03T17:07:28.627016Z",
     "shell.execute_reply": "2023-09-03T17:07:28.627016Z",
     "shell.execute_reply.started": "2023-09-03T17:07:28.134510Z"
    },
    "id": "AMxThM4oG8my",
    "outputId": "d572906e-731b-4dff-9ff8-67cb4d667230"
   },
   "outputs": [
    {
     "data": {
      "text/plain": [
       "0.7744014732965009"
      ]
     },
     "execution_count": 32,
     "metadata": {},
     "output_type": "execute_result"
    }
   ],
   "source": [
    "clf.score(X_test, y_test)"
   ]
  },
  {
   "cell_type": "markdown",
   "metadata": {
    "id": "fpvbhXkkG8my"
   },
   "source": [
    "<p>Без StandardScaler получаем более худший результат:</p>"
   ]
  },
  {
   "cell_type": "code",
   "execution_count": 33,
   "metadata": {
    "colab": {
     "base_uri": "https://localhost:8080/",
     "height": 74
    },
    "execution": {
     "iopub.execute_input": "2023-09-03T17:07:28.629012Z",
     "iopub.status.busy": "2023-09-03T17:07:28.628015Z",
     "iopub.status.idle": "2023-09-03T17:07:30.066797Z",
     "shell.execute_reply": "2023-09-03T17:07:30.066797Z",
     "shell.execute_reply.started": "2023-09-03T17:07:28.629012Z"
    },
    "id": "0pgIkI5IG8mz",
    "outputId": "875124ba-9e97-404a-dab6-6149692d0339"
   },
   "outputs": [
    {
     "data": {
      "text/html": [
       "<style>#sk-container-id-3 {color: black;}#sk-container-id-3 pre{padding: 0;}#sk-container-id-3 div.sk-toggleable {background-color: white;}#sk-container-id-3 label.sk-toggleable__label {cursor: pointer;display: block;width: 100%;margin-bottom: 0;padding: 0.3em;box-sizing: border-box;text-align: center;}#sk-container-id-3 label.sk-toggleable__label-arrow:before {content: \"▸\";float: left;margin-right: 0.25em;color: #696969;}#sk-container-id-3 label.sk-toggleable__label-arrow:hover:before {color: black;}#sk-container-id-3 div.sk-estimator:hover label.sk-toggleable__label-arrow:before {color: black;}#sk-container-id-3 div.sk-toggleable__content {max-height: 0;max-width: 0;overflow: hidden;text-align: left;background-color: #f0f8ff;}#sk-container-id-3 div.sk-toggleable__content pre {margin: 0.2em;color: black;border-radius: 0.25em;background-color: #f0f8ff;}#sk-container-id-3 input.sk-toggleable__control:checked~div.sk-toggleable__content {max-height: 200px;max-width: 100%;overflow: auto;}#sk-container-id-3 input.sk-toggleable__control:checked~label.sk-toggleable__label-arrow:before {content: \"▾\";}#sk-container-id-3 div.sk-estimator input.sk-toggleable__control:checked~label.sk-toggleable__label {background-color: #d4ebff;}#sk-container-id-3 div.sk-label input.sk-toggleable__control:checked~label.sk-toggleable__label {background-color: #d4ebff;}#sk-container-id-3 input.sk-hidden--visually {border: 0;clip: rect(1px 1px 1px 1px);clip: rect(1px, 1px, 1px, 1px);height: 1px;margin: -1px;overflow: hidden;padding: 0;position: absolute;width: 1px;}#sk-container-id-3 div.sk-estimator {font-family: monospace;background-color: #f0f8ff;border: 1px dotted black;border-radius: 0.25em;box-sizing: border-box;margin-bottom: 0.5em;}#sk-container-id-3 div.sk-estimator:hover {background-color: #d4ebff;}#sk-container-id-3 div.sk-parallel-item::after {content: \"\";width: 100%;border-bottom: 1px solid gray;flex-grow: 1;}#sk-container-id-3 div.sk-label:hover label.sk-toggleable__label {background-color: #d4ebff;}#sk-container-id-3 div.sk-serial::before {content: \"\";position: absolute;border-left: 1px solid gray;box-sizing: border-box;top: 0;bottom: 0;left: 50%;z-index: 0;}#sk-container-id-3 div.sk-serial {display: flex;flex-direction: column;align-items: center;background-color: white;padding-right: 0.2em;padding-left: 0.2em;position: relative;}#sk-container-id-3 div.sk-item {position: relative;z-index: 1;}#sk-container-id-3 div.sk-parallel {display: flex;align-items: stretch;justify-content: center;background-color: white;position: relative;}#sk-container-id-3 div.sk-item::before, #sk-container-id-3 div.sk-parallel-item::before {content: \"\";position: absolute;border-left: 1px solid gray;box-sizing: border-box;top: 0;bottom: 0;left: 50%;z-index: -1;}#sk-container-id-3 div.sk-parallel-item {display: flex;flex-direction: column;z-index: 1;position: relative;background-color: white;}#sk-container-id-3 div.sk-parallel-item:first-child::after {align-self: flex-end;width: 50%;}#sk-container-id-3 div.sk-parallel-item:last-child::after {align-self: flex-start;width: 50%;}#sk-container-id-3 div.sk-parallel-item:only-child::after {width: 0;}#sk-container-id-3 div.sk-dashed-wrapped {border: 1px dashed gray;margin: 0 0.4em 0.5em 0.4em;box-sizing: border-box;padding-bottom: 0.4em;background-color: white;}#sk-container-id-3 div.sk-label label {font-family: monospace;font-weight: bold;display: inline-block;line-height: 1.2em;}#sk-container-id-3 div.sk-label-container {text-align: center;}#sk-container-id-3 div.sk-container {/* jupyter's `normalize.less` sets `[hidden] { display: none; }` but bootstrap.min.css set `[hidden] { display: none !important; }` so we also need the `!important` here to be able to override the default hidden behavior on the sphinx rendered scikit-learn.org. See: https://github.com/scikit-learn/scikit-learn/issues/21755 */display: inline-block !important;position: relative;}#sk-container-id-3 div.sk-text-repr-fallback {display: none;}</style><div id=\"sk-container-id-3\" class=\"sk-top-container\"><div class=\"sk-text-repr-fallback\"><pre>SVC(kernel=&#x27;poly&#x27;)</pre><b>In a Jupyter environment, please rerun this cell to show the HTML representation or trust the notebook. <br />On GitHub, the HTML representation is unable to render, please try loading this page with nbviewer.org.</b></div><div class=\"sk-container\" hidden><div class=\"sk-item\"><div class=\"sk-estimator sk-toggleable\"><input class=\"sk-toggleable__control sk-hidden--visually\" id=\"sk-estimator-id-5\" type=\"checkbox\" checked><label for=\"sk-estimator-id-5\" class=\"sk-toggleable__label sk-toggleable__label-arrow\">SVC</label><div class=\"sk-toggleable__content\"><pre>SVC(kernel=&#x27;poly&#x27;)</pre></div></div></div></div></div>"
      ],
      "text/plain": [
       "SVC(kernel='poly')"
      ]
     },
     "execution_count": 33,
     "metadata": {},
     "output_type": "execute_result"
    }
   ],
   "source": [
    "svc = SVC(kernel='poly')\n",
    "svc.fit(X_train, y_train)"
   ]
  },
  {
   "cell_type": "code",
   "execution_count": 1,
   "metadata": {
    "colab": {
     "base_uri": "https://localhost:8080/"
    },
    "execution": {
     "iopub.execute_input": "2023-09-04T16:44:00.691035Z",
     "iopub.status.busy": "2023-09-04T16:44:00.691035Z",
     "iopub.status.idle": "2023-09-04T16:44:01.246940Z",
     "shell.execute_reply": "2023-09-04T16:44:01.246940Z",
     "shell.execute_reply.started": "2023-09-04T16:44:00.691035Z"
    },
    "id": "AaAuk3CSG8mz",
    "outputId": "d032c804-2865-4049-8569-0e2a5b08d3b3",
    "scrolled": true,
    "tags": []
   },
   "outputs": [
    {
     "ename": "NameError",
     "evalue": "name 'svc' is not defined",
     "output_type": "error",
     "traceback": [
      "\u001b[1;31m---------------------------------------------------------------------------\u001b[0m",
      "\u001b[1;31mNameError\u001b[0m                                 Traceback (most recent call last)",
      "Cell \u001b[1;32mIn[1], line 1\u001b[0m\n\u001b[1;32m----> 1\u001b[0m svc\u001b[38;5;241m.\u001b[39mscore(X_train, y_train)\n",
      "\u001b[1;31mNameError\u001b[0m: name 'svc' is not defined"
     ]
    }
   ],
   "source": [
    "svc.score(X_train, y_train)"
   ]
  },
  {
   "cell_type": "code",
   "execution_count": 35,
   "metadata": {
    "colab": {
     "base_uri": "https://localhost:8080/"
    },
    "execution": {
     "iopub.execute_input": "2023-09-03T17:07:30.916376Z",
     "iopub.status.busy": "2023-09-03T17:07:30.915862Z",
     "iopub.status.idle": "2023-09-03T17:07:31.220626Z",
     "shell.execute_reply": "2023-09-03T17:07:31.220626Z",
     "shell.execute_reply.started": "2023-09-03T17:07:30.916376Z"
    },
    "id": "sT1W9ROvG8mz",
    "outputId": "dd327657-8dc3-4435-dcb1-af6afa6c31ca"
   },
   "outputs": [
    {
     "data": {
      "text/plain": [
       "0.7937384898710865"
      ]
     },
     "execution_count": 35,
     "metadata": {},
     "output_type": "execute_result"
    }
   ],
   "source": [
    "svc.score(X_test, y_test)"
   ]
  },
  {
   "cell_type": "markdown",
   "metadata": {
    "id": "LHp8w0TpG8m0",
    "jp-MarkdownHeadingCollapsed": true,
    "tags": []
   },
   "source": [
    "### Практика. Задача разделения ирисов Фишера\n",
    "<p>Рассмотрим последний пример классификации на сегодня. Множественная классификация ирисов Фишера - 3 класса.</p>\n",
    "<img align=center id=\"6\" src=\"https://s3.amazonaws.com/assets.datacamp.com/blog_assets/Machine+Learning+R/iris-machinelearning.png\"  width=800></p>"
   ]
  },
  {
   "cell_type": "code",
   "execution_count": 36,
   "metadata": {
    "execution": {
     "iopub.execute_input": "2023-09-03T17:07:31.222622Z",
     "iopub.status.busy": "2023-09-03T17:07:31.221624Z",
     "iopub.status.idle": "2023-09-03T17:07:31.394095Z",
     "shell.execute_reply": "2023-09-03T17:07:31.394095Z",
     "shell.execute_reply.started": "2023-09-03T17:07:31.222622Z"
    },
    "id": "sxvmZUeSG8m0"
   },
   "outputs": [],
   "source": [
    "from sklearn import datasets\n",
    "from sklearn.linear_model import LogisticRegression\n",
    "from sklearn.svm import SVC"
   ]
  },
  {
   "cell_type": "code",
   "execution_count": 37,
   "metadata": {
    "colab": {
     "base_uri": "https://localhost:8080/"
    },
    "execution": {
     "iopub.execute_input": "2023-09-03T17:07:31.395094Z",
     "iopub.status.busy": "2023-09-03T17:07:31.395094Z",
     "iopub.status.idle": "2023-09-03T17:07:31.415979Z",
     "shell.execute_reply": "2023-09-03T17:07:31.414973Z",
     "shell.execute_reply.started": "2023-09-03T17:07:31.395094Z"
    },
    "id": "nnAa7C6KG8m0",
    "outputId": "0f613369-61c4-41f5-be0f-afda53dbb6be"
   },
   "outputs": [
    {
     "data": {
      "text/plain": [
       "{'data': array([[5.1, 3.5, 1.4, 0.2],\n",
       "        [4.9, 3. , 1.4, 0.2],\n",
       "        [4.7, 3.2, 1.3, 0.2],\n",
       "        [4.6, 3.1, 1.5, 0.2],\n",
       "        [5. , 3.6, 1.4, 0.2],\n",
       "        [5.4, 3.9, 1.7, 0.4],\n",
       "        [4.6, 3.4, 1.4, 0.3],\n",
       "        [5. , 3.4, 1.5, 0.2],\n",
       "        [4.4, 2.9, 1.4, 0.2],\n",
       "        [4.9, 3.1, 1.5, 0.1],\n",
       "        [5.4, 3.7, 1.5, 0.2],\n",
       "        [4.8, 3.4, 1.6, 0.2],\n",
       "        [4.8, 3. , 1.4, 0.1],\n",
       "        [4.3, 3. , 1.1, 0.1],\n",
       "        [5.8, 4. , 1.2, 0.2],\n",
       "        [5.7, 4.4, 1.5, 0.4],\n",
       "        [5.4, 3.9, 1.3, 0.4],\n",
       "        [5.1, 3.5, 1.4, 0.3],\n",
       "        [5.7, 3.8, 1.7, 0.3],\n",
       "        [5.1, 3.8, 1.5, 0.3],\n",
       "        [5.4, 3.4, 1.7, 0.2],\n",
       "        [5.1, 3.7, 1.5, 0.4],\n",
       "        [4.6, 3.6, 1. , 0.2],\n",
       "        [5.1, 3.3, 1.7, 0.5],\n",
       "        [4.8, 3.4, 1.9, 0.2],\n",
       "        [5. , 3. , 1.6, 0.2],\n",
       "        [5. , 3.4, 1.6, 0.4],\n",
       "        [5.2, 3.5, 1.5, 0.2],\n",
       "        [5.2, 3.4, 1.4, 0.2],\n",
       "        [4.7, 3.2, 1.6, 0.2],\n",
       "        [4.8, 3.1, 1.6, 0.2],\n",
       "        [5.4, 3.4, 1.5, 0.4],\n",
       "        [5.2, 4.1, 1.5, 0.1],\n",
       "        [5.5, 4.2, 1.4, 0.2],\n",
       "        [4.9, 3.1, 1.5, 0.2],\n",
       "        [5. , 3.2, 1.2, 0.2],\n",
       "        [5.5, 3.5, 1.3, 0.2],\n",
       "        [4.9, 3.6, 1.4, 0.1],\n",
       "        [4.4, 3. , 1.3, 0.2],\n",
       "        [5.1, 3.4, 1.5, 0.2],\n",
       "        [5. , 3.5, 1.3, 0.3],\n",
       "        [4.5, 2.3, 1.3, 0.3],\n",
       "        [4.4, 3.2, 1.3, 0.2],\n",
       "        [5. , 3.5, 1.6, 0.6],\n",
       "        [5.1, 3.8, 1.9, 0.4],\n",
       "        [4.8, 3. , 1.4, 0.3],\n",
       "        [5.1, 3.8, 1.6, 0.2],\n",
       "        [4.6, 3.2, 1.4, 0.2],\n",
       "        [5.3, 3.7, 1.5, 0.2],\n",
       "        [5. , 3.3, 1.4, 0.2],\n",
       "        [7. , 3.2, 4.7, 1.4],\n",
       "        [6.4, 3.2, 4.5, 1.5],\n",
       "        [6.9, 3.1, 4.9, 1.5],\n",
       "        [5.5, 2.3, 4. , 1.3],\n",
       "        [6.5, 2.8, 4.6, 1.5],\n",
       "        [5.7, 2.8, 4.5, 1.3],\n",
       "        [6.3, 3.3, 4.7, 1.6],\n",
       "        [4.9, 2.4, 3.3, 1. ],\n",
       "        [6.6, 2.9, 4.6, 1.3],\n",
       "        [5.2, 2.7, 3.9, 1.4],\n",
       "        [5. , 2. , 3.5, 1. ],\n",
       "        [5.9, 3. , 4.2, 1.5],\n",
       "        [6. , 2.2, 4. , 1. ],\n",
       "        [6.1, 2.9, 4.7, 1.4],\n",
       "        [5.6, 2.9, 3.6, 1.3],\n",
       "        [6.7, 3.1, 4.4, 1.4],\n",
       "        [5.6, 3. , 4.5, 1.5],\n",
       "        [5.8, 2.7, 4.1, 1. ],\n",
       "        [6.2, 2.2, 4.5, 1.5],\n",
       "        [5.6, 2.5, 3.9, 1.1],\n",
       "        [5.9, 3.2, 4.8, 1.8],\n",
       "        [6.1, 2.8, 4. , 1.3],\n",
       "        [6.3, 2.5, 4.9, 1.5],\n",
       "        [6.1, 2.8, 4.7, 1.2],\n",
       "        [6.4, 2.9, 4.3, 1.3],\n",
       "        [6.6, 3. , 4.4, 1.4],\n",
       "        [6.8, 2.8, 4.8, 1.4],\n",
       "        [6.7, 3. , 5. , 1.7],\n",
       "        [6. , 2.9, 4.5, 1.5],\n",
       "        [5.7, 2.6, 3.5, 1. ],\n",
       "        [5.5, 2.4, 3.8, 1.1],\n",
       "        [5.5, 2.4, 3.7, 1. ],\n",
       "        [5.8, 2.7, 3.9, 1.2],\n",
       "        [6. , 2.7, 5.1, 1.6],\n",
       "        [5.4, 3. , 4.5, 1.5],\n",
       "        [6. , 3.4, 4.5, 1.6],\n",
       "        [6.7, 3.1, 4.7, 1.5],\n",
       "        [6.3, 2.3, 4.4, 1.3],\n",
       "        [5.6, 3. , 4.1, 1.3],\n",
       "        [5.5, 2.5, 4. , 1.3],\n",
       "        [5.5, 2.6, 4.4, 1.2],\n",
       "        [6.1, 3. , 4.6, 1.4],\n",
       "        [5.8, 2.6, 4. , 1.2],\n",
       "        [5. , 2.3, 3.3, 1. ],\n",
       "        [5.6, 2.7, 4.2, 1.3],\n",
       "        [5.7, 3. , 4.2, 1.2],\n",
       "        [5.7, 2.9, 4.2, 1.3],\n",
       "        [6.2, 2.9, 4.3, 1.3],\n",
       "        [5.1, 2.5, 3. , 1.1],\n",
       "        [5.7, 2.8, 4.1, 1.3],\n",
       "        [6.3, 3.3, 6. , 2.5],\n",
       "        [5.8, 2.7, 5.1, 1.9],\n",
       "        [7.1, 3. , 5.9, 2.1],\n",
       "        [6.3, 2.9, 5.6, 1.8],\n",
       "        [6.5, 3. , 5.8, 2.2],\n",
       "        [7.6, 3. , 6.6, 2.1],\n",
       "        [4.9, 2.5, 4.5, 1.7],\n",
       "        [7.3, 2.9, 6.3, 1.8],\n",
       "        [6.7, 2.5, 5.8, 1.8],\n",
       "        [7.2, 3.6, 6.1, 2.5],\n",
       "        [6.5, 3.2, 5.1, 2. ],\n",
       "        [6.4, 2.7, 5.3, 1.9],\n",
       "        [6.8, 3. , 5.5, 2.1],\n",
       "        [5.7, 2.5, 5. , 2. ],\n",
       "        [5.8, 2.8, 5.1, 2.4],\n",
       "        [6.4, 3.2, 5.3, 2.3],\n",
       "        [6.5, 3. , 5.5, 1.8],\n",
       "        [7.7, 3.8, 6.7, 2.2],\n",
       "        [7.7, 2.6, 6.9, 2.3],\n",
       "        [6. , 2.2, 5. , 1.5],\n",
       "        [6.9, 3.2, 5.7, 2.3],\n",
       "        [5.6, 2.8, 4.9, 2. ],\n",
       "        [7.7, 2.8, 6.7, 2. ],\n",
       "        [6.3, 2.7, 4.9, 1.8],\n",
       "        [6.7, 3.3, 5.7, 2.1],\n",
       "        [7.2, 3.2, 6. , 1.8],\n",
       "        [6.2, 2.8, 4.8, 1.8],\n",
       "        [6.1, 3. , 4.9, 1.8],\n",
       "        [6.4, 2.8, 5.6, 2.1],\n",
       "        [7.2, 3. , 5.8, 1.6],\n",
       "        [7.4, 2.8, 6.1, 1.9],\n",
       "        [7.9, 3.8, 6.4, 2. ],\n",
       "        [6.4, 2.8, 5.6, 2.2],\n",
       "        [6.3, 2.8, 5.1, 1.5],\n",
       "        [6.1, 2.6, 5.6, 1.4],\n",
       "        [7.7, 3. , 6.1, 2.3],\n",
       "        [6.3, 3.4, 5.6, 2.4],\n",
       "        [6.4, 3.1, 5.5, 1.8],\n",
       "        [6. , 3. , 4.8, 1.8],\n",
       "        [6.9, 3.1, 5.4, 2.1],\n",
       "        [6.7, 3.1, 5.6, 2.4],\n",
       "        [6.9, 3.1, 5.1, 2.3],\n",
       "        [5.8, 2.7, 5.1, 1.9],\n",
       "        [6.8, 3.2, 5.9, 2.3],\n",
       "        [6.7, 3.3, 5.7, 2.5],\n",
       "        [6.7, 3. , 5.2, 2.3],\n",
       "        [6.3, 2.5, 5. , 1.9],\n",
       "        [6.5, 3. , 5.2, 2. ],\n",
       "        [6.2, 3.4, 5.4, 2.3],\n",
       "        [5.9, 3. , 5.1, 1.8]]),\n",
       " 'target': array([0, 0, 0, 0, 0, 0, 0, 0, 0, 0, 0, 0, 0, 0, 0, 0, 0, 0, 0, 0, 0, 0,\n",
       "        0, 0, 0, 0, 0, 0, 0, 0, 0, 0, 0, 0, 0, 0, 0, 0, 0, 0, 0, 0, 0, 0,\n",
       "        0, 0, 0, 0, 0, 0, 1, 1, 1, 1, 1, 1, 1, 1, 1, 1, 1, 1, 1, 1, 1, 1,\n",
       "        1, 1, 1, 1, 1, 1, 1, 1, 1, 1, 1, 1, 1, 1, 1, 1, 1, 1, 1, 1, 1, 1,\n",
       "        1, 1, 1, 1, 1, 1, 1, 1, 1, 1, 1, 1, 2, 2, 2, 2, 2, 2, 2, 2, 2, 2,\n",
       "        2, 2, 2, 2, 2, 2, 2, 2, 2, 2, 2, 2, 2, 2, 2, 2, 2, 2, 2, 2, 2, 2,\n",
       "        2, 2, 2, 2, 2, 2, 2, 2, 2, 2, 2, 2, 2, 2, 2, 2, 2, 2]),\n",
       " 'frame': None,\n",
       " 'target_names': array(['setosa', 'versicolor', 'virginica'], dtype='<U10'),\n",
       " 'DESCR': '.. _iris_dataset:\\n\\nIris plants dataset\\n--------------------\\n\\n**Data Set Characteristics:**\\n\\n    :Number of Instances: 150 (50 in each of three classes)\\n    :Number of Attributes: 4 numeric, predictive attributes and the class\\n    :Attribute Information:\\n        - sepal length in cm\\n        - sepal width in cm\\n        - petal length in cm\\n        - petal width in cm\\n        - class:\\n                - Iris-Setosa\\n                - Iris-Versicolour\\n                - Iris-Virginica\\n                \\n    :Summary Statistics:\\n\\n    ============== ==== ==== ======= ===== ====================\\n                    Min  Max   Mean    SD   Class Correlation\\n    ============== ==== ==== ======= ===== ====================\\n    sepal length:   4.3  7.9   5.84   0.83    0.7826\\n    sepal width:    2.0  4.4   3.05   0.43   -0.4194\\n    petal length:   1.0  6.9   3.76   1.76    0.9490  (high!)\\n    petal width:    0.1  2.5   1.20   0.76    0.9565  (high!)\\n    ============== ==== ==== ======= ===== ====================\\n\\n    :Missing Attribute Values: None\\n    :Class Distribution: 33.3% for each of 3 classes.\\n    :Creator: R.A. Fisher\\n    :Donor: Michael Marshall (MARSHALL%PLU@io.arc.nasa.gov)\\n    :Date: July, 1988\\n\\nThe famous Iris database, first used by Sir R.A. Fisher. The dataset is taken\\nfrom Fisher\\'s paper. Note that it\\'s the same as in R, but not as in the UCI\\nMachine Learning Repository, which has two wrong data points.\\n\\nThis is perhaps the best known database to be found in the\\npattern recognition literature.  Fisher\\'s paper is a classic in the field and\\nis referenced frequently to this day.  (See Duda & Hart, for example.)  The\\ndata set contains 3 classes of 50 instances each, where each class refers to a\\ntype of iris plant.  One class is linearly separable from the other 2; the\\nlatter are NOT linearly separable from each other.\\n\\n.. topic:: References\\n\\n   - Fisher, R.A. \"The use of multiple measurements in taxonomic problems\"\\n     Annual Eugenics, 7, Part II, 179-188 (1936); also in \"Contributions to\\n     Mathematical Statistics\" (John Wiley, NY, 1950).\\n   - Duda, R.O., & Hart, P.E. (1973) Pattern Classification and Scene Analysis.\\n     (Q327.D83) John Wiley & Sons.  ISBN 0-471-22361-1.  See page 218.\\n   - Dasarathy, B.V. (1980) \"Nosing Around the Neighborhood: A New System\\n     Structure and Classification Rule for Recognition in Partially Exposed\\n     Environments\".  IEEE Transactions on Pattern Analysis and Machine\\n     Intelligence, Vol. PAMI-2, No. 1, 67-71.\\n   - Gates, G.W. (1972) \"The Reduced Nearest Neighbor Rule\".  IEEE Transactions\\n     on Information Theory, May 1972, 431-433.\\n   - See also: 1988 MLC Proceedings, 54-64.  Cheeseman et al\"s AUTOCLASS II\\n     conceptual clustering system finds 3 classes in the data.\\n   - Many, many more ...',\n",
       " 'feature_names': ['sepal length (cm)',\n",
       "  'sepal width (cm)',\n",
       "  'petal length (cm)',\n",
       "  'petal width (cm)'],\n",
       " 'filename': 'iris.csv',\n",
       " 'data_module': 'sklearn.datasets.data'}"
      ]
     },
     "execution_count": 37,
     "metadata": {},
     "output_type": "execute_result"
    }
   ],
   "source": [
    "iris = datasets.load_iris()\n",
    "iris"
   ]
  },
  {
   "cell_type": "code",
   "execution_count": 38,
   "metadata": {
    "colab": {
     "base_uri": "https://localhost:8080/"
    },
    "execution": {
     "iopub.execute_input": "2023-09-03T17:07:31.417976Z",
     "iopub.status.busy": "2023-09-03T17:07:31.417976Z",
     "iopub.status.idle": "2023-09-03T17:07:31.422158Z",
     "shell.execute_reply": "2023-09-03T17:07:31.422158Z",
     "shell.execute_reply.started": "2023-09-03T17:07:31.417976Z"
    },
    "id": "i3Z_hUnXG8m0",
    "outputId": "e56c86cb-b630-4087-e4b0-149ed3befc35"
   },
   "outputs": [
    {
     "data": {
      "text/plain": [
       "array(['setosa', 'versicolor', 'virginica'], dtype='<U10')"
      ]
     },
     "execution_count": 38,
     "metadata": {},
     "output_type": "execute_result"
    }
   ],
   "source": [
    "iris.target_names # значения таргетных перменных"
   ]
  },
  {
   "cell_type": "code",
   "execution_count": 39,
   "metadata": {
    "colab": {
     "base_uri": "https://localhost:8080/"
    },
    "execution": {
     "iopub.execute_input": "2023-09-03T17:07:31.424175Z",
     "iopub.status.busy": "2023-09-03T17:07:31.423178Z",
     "iopub.status.idle": "2023-09-03T17:07:31.429705Z",
     "shell.execute_reply": "2023-09-03T17:07:31.429705Z",
     "shell.execute_reply.started": "2023-09-03T17:07:31.424175Z"
    },
    "id": "2QfGXok-G8m1",
    "outputId": "5a443530-c144-4102-c5c7-d36b32082f71"
   },
   "outputs": [
    {
     "data": {
      "text/plain": [
       "['sepal length (cm)',\n",
       " 'sepal width (cm)',\n",
       " 'petal length (cm)',\n",
       " 'petal width (cm)']"
      ]
     },
     "execution_count": 39,
     "metadata": {},
     "output_type": "execute_result"
    }
   ],
   "source": [
    "iris.feature_names # 4 параметра | sepal - чашелистик, petal - лепесток"
   ]
  },
  {
   "cell_type": "code",
   "execution_count": 40,
   "metadata": {
    "execution": {
     "iopub.execute_input": "2023-09-03T17:07:31.431702Z",
     "iopub.status.busy": "2023-09-03T17:07:31.430704Z",
     "iopub.status.idle": "2023-09-03T17:07:31.435699Z",
     "shell.execute_reply": "2023-09-03T17:07:31.435699Z",
     "shell.execute_reply.started": "2023-09-03T17:07:31.431702Z"
    },
    "id": "aDkWIVQ9G8m1"
   },
   "outputs": [],
   "source": [
    "X = iris.data[:,:2] # забираем данные из датасета\n",
    "Y = iris.target"
   ]
  },
  {
   "cell_type": "code",
   "execution_count": 41,
   "metadata": {
    "colab": {
     "base_uri": "https://localhost:8080/",
     "height": 74
    },
    "execution": {
     "iopub.execute_input": "2023-09-03T17:07:31.436699Z",
     "iopub.status.busy": "2023-09-03T17:07:31.436699Z",
     "iopub.status.idle": "2023-09-03T17:07:31.453316Z",
     "shell.execute_reply": "2023-09-03T17:07:31.452314Z",
     "shell.execute_reply.started": "2023-09-03T17:07:31.436699Z"
    },
    "id": "dJhtuVJhG8m1",
    "outputId": "4071b4e7-a27f-453c-cbd9-5d1fea94725f"
   },
   "outputs": [
    {
     "data": {
      "text/html": [
       "<style>#sk-container-id-4 {color: black;}#sk-container-id-4 pre{padding: 0;}#sk-container-id-4 div.sk-toggleable {background-color: white;}#sk-container-id-4 label.sk-toggleable__label {cursor: pointer;display: block;width: 100%;margin-bottom: 0;padding: 0.3em;box-sizing: border-box;text-align: center;}#sk-container-id-4 label.sk-toggleable__label-arrow:before {content: \"▸\";float: left;margin-right: 0.25em;color: #696969;}#sk-container-id-4 label.sk-toggleable__label-arrow:hover:before {color: black;}#sk-container-id-4 div.sk-estimator:hover label.sk-toggleable__label-arrow:before {color: black;}#sk-container-id-4 div.sk-toggleable__content {max-height: 0;max-width: 0;overflow: hidden;text-align: left;background-color: #f0f8ff;}#sk-container-id-4 div.sk-toggleable__content pre {margin: 0.2em;color: black;border-radius: 0.25em;background-color: #f0f8ff;}#sk-container-id-4 input.sk-toggleable__control:checked~div.sk-toggleable__content {max-height: 200px;max-width: 100%;overflow: auto;}#sk-container-id-4 input.sk-toggleable__control:checked~label.sk-toggleable__label-arrow:before {content: \"▾\";}#sk-container-id-4 div.sk-estimator input.sk-toggleable__control:checked~label.sk-toggleable__label {background-color: #d4ebff;}#sk-container-id-4 div.sk-label input.sk-toggleable__control:checked~label.sk-toggleable__label {background-color: #d4ebff;}#sk-container-id-4 input.sk-hidden--visually {border: 0;clip: rect(1px 1px 1px 1px);clip: rect(1px, 1px, 1px, 1px);height: 1px;margin: -1px;overflow: hidden;padding: 0;position: absolute;width: 1px;}#sk-container-id-4 div.sk-estimator {font-family: monospace;background-color: #f0f8ff;border: 1px dotted black;border-radius: 0.25em;box-sizing: border-box;margin-bottom: 0.5em;}#sk-container-id-4 div.sk-estimator:hover {background-color: #d4ebff;}#sk-container-id-4 div.sk-parallel-item::after {content: \"\";width: 100%;border-bottom: 1px solid gray;flex-grow: 1;}#sk-container-id-4 div.sk-label:hover label.sk-toggleable__label {background-color: #d4ebff;}#sk-container-id-4 div.sk-serial::before {content: \"\";position: absolute;border-left: 1px solid gray;box-sizing: border-box;top: 0;bottom: 0;left: 50%;z-index: 0;}#sk-container-id-4 div.sk-serial {display: flex;flex-direction: column;align-items: center;background-color: white;padding-right: 0.2em;padding-left: 0.2em;position: relative;}#sk-container-id-4 div.sk-item {position: relative;z-index: 1;}#sk-container-id-4 div.sk-parallel {display: flex;align-items: stretch;justify-content: center;background-color: white;position: relative;}#sk-container-id-4 div.sk-item::before, #sk-container-id-4 div.sk-parallel-item::before {content: \"\";position: absolute;border-left: 1px solid gray;box-sizing: border-box;top: 0;bottom: 0;left: 50%;z-index: -1;}#sk-container-id-4 div.sk-parallel-item {display: flex;flex-direction: column;z-index: 1;position: relative;background-color: white;}#sk-container-id-4 div.sk-parallel-item:first-child::after {align-self: flex-end;width: 50%;}#sk-container-id-4 div.sk-parallel-item:last-child::after {align-self: flex-start;width: 50%;}#sk-container-id-4 div.sk-parallel-item:only-child::after {width: 0;}#sk-container-id-4 div.sk-dashed-wrapped {border: 1px dashed gray;margin: 0 0.4em 0.5em 0.4em;box-sizing: border-box;padding-bottom: 0.4em;background-color: white;}#sk-container-id-4 div.sk-label label {font-family: monospace;font-weight: bold;display: inline-block;line-height: 1.2em;}#sk-container-id-4 div.sk-label-container {text-align: center;}#sk-container-id-4 div.sk-container {/* jupyter's `normalize.less` sets `[hidden] { display: none; }` but bootstrap.min.css set `[hidden] { display: none !important; }` so we also need the `!important` here to be able to override the default hidden behavior on the sphinx rendered scikit-learn.org. See: https://github.com/scikit-learn/scikit-learn/issues/21755 */display: inline-block !important;position: relative;}#sk-container-id-4 div.sk-text-repr-fallback {display: none;}</style><div id=\"sk-container-id-4\" class=\"sk-top-container\"><div class=\"sk-text-repr-fallback\"><pre>SVC()</pre><b>In a Jupyter environment, please rerun this cell to show the HTML representation or trust the notebook. <br />On GitHub, the HTML representation is unable to render, please try loading this page with nbviewer.org.</b></div><div class=\"sk-container\" hidden><div class=\"sk-item\"><div class=\"sk-estimator sk-toggleable\"><input class=\"sk-toggleable__control sk-hidden--visually\" id=\"sk-estimator-id-6\" type=\"checkbox\" checked><label for=\"sk-estimator-id-6\" class=\"sk-toggleable__label sk-toggleable__label-arrow\">SVC</label><div class=\"sk-toggleable__content\"><pre>SVC()</pre></div></div></div></div></div>"
      ],
      "text/plain": [
       "SVC()"
      ]
     },
     "execution_count": 41,
     "metadata": {},
     "output_type": "execute_result"
    }
   ],
   "source": [
    "model = LogisticRegression()\n",
    "model2 = SVC()\n",
    "\n",
    "model.fit(X, Y)\n",
    "model2.fit(X, Y)"
   ]
  },
  {
   "cell_type": "code",
   "execution_count": 42,
   "metadata": {
    "colab": {
     "base_uri": "https://localhost:8080/"
    },
    "execution": {
     "iopub.execute_input": "2023-09-03T17:07:31.454313Z",
     "iopub.status.busy": "2023-09-03T17:07:31.454313Z",
     "iopub.status.idle": "2023-09-03T17:07:31.461612Z",
     "shell.execute_reply": "2023-09-03T17:07:31.461612Z",
     "shell.execute_reply.started": "2023-09-03T17:07:31.454313Z"
    },
    "id": "j9a2RWq5ogGe",
    "outputId": "21043b85-839e-4675-d8af-ded45f6a3f7d"
   },
   "outputs": [
    {
     "data": {
      "text/plain": [
       "0.82"
      ]
     },
     "execution_count": 42,
     "metadata": {},
     "output_type": "execute_result"
    }
   ],
   "source": [
    "model.score(X, Y)"
   ]
  },
  {
   "cell_type": "code",
   "execution_count": 43,
   "metadata": {
    "colab": {
     "base_uri": "https://localhost:8080/"
    },
    "execution": {
     "iopub.execute_input": "2023-09-03T17:07:31.462612Z",
     "iopub.status.busy": "2023-09-03T17:07:31.462612Z",
     "iopub.status.idle": "2023-09-03T17:07:31.467785Z",
     "shell.execute_reply": "2023-09-03T17:07:31.467785Z",
     "shell.execute_reply.started": "2023-09-03T17:07:31.462612Z"
    },
    "id": "uSNcGqVxolwq",
    "outputId": "e34e1bfb-f6d4-498d-f1a5-98962c4a5ba0"
   },
   "outputs": [
    {
     "data": {
      "text/plain": [
       "0.82"
      ]
     },
     "execution_count": 43,
     "metadata": {},
     "output_type": "execute_result"
    }
   ],
   "source": [
    "model2.score(X, Y)"
   ]
  },
  {
   "cell_type": "code",
   "execution_count": 44,
   "metadata": {
    "execution": {
     "iopub.execute_input": "2023-09-03T17:07:31.468785Z",
     "iopub.status.busy": "2023-09-03T17:07:31.468785Z",
     "iopub.status.idle": "2023-09-03T17:07:31.471299Z",
     "shell.execute_reply": "2023-09-03T17:07:31.471299Z",
     "shell.execute_reply.started": "2023-09-03T17:07:31.468785Z"
    },
    "id": "jy6eR6-2G8m2"
   },
   "outputs": [],
   "source": [
    "import numpy as np\n",
    "import matplotlib.pyplot as plt"
   ]
  },
  {
   "cell_type": "markdown",
   "metadata": {
    "id": "NVnmiNsKG8m2"
   },
   "source": [
    "<p>Вот так разделяет регрессия:</p>"
   ]
  },
  {
   "cell_type": "code",
   "execution_count": 45,
   "metadata": {
    "colab": {
     "base_uri": "https://localhost:8080/"
    },
    "execution": {
     "iopub.execute_input": "2023-09-03T17:07:31.472299Z",
     "iopub.status.busy": "2023-09-03T17:07:31.472299Z",
     "iopub.status.idle": "2023-09-03T17:07:32.195601Z",
     "shell.execute_reply": "2023-09-03T17:07:32.193604Z",
     "shell.execute_reply.started": "2023-09-03T17:07:31.472299Z"
    },
    "id": "mPtAjncrxkkd",
    "outputId": "c7c39943-aca4-476c-94de-153b548024e6"
   },
   "outputs": [
    {
     "ename": "NameError",
     "evalue": "name 'x_min' is not defined",
     "output_type": "error",
     "traceback": [
      "\u001b[1;31m---------------------------------------------------------------------------\u001b[0m",
      "\u001b[1;31mNameError\u001b[0m                                 Traceback (most recent call last)",
      "Cell \u001b[1;32mIn[45], line 1\u001b[0m\n\u001b[1;32m----> 1\u001b[0m np\u001b[38;5;241m.\u001b[39marange(x_min, x_max, h)\u001b[38;5;241m.\u001b[39mshape\n\u001b[0;32m      2\u001b[0m np\u001b[38;5;241m.\u001b[39marange(y_min, y_max, h)\u001b[38;5;241m.\u001b[39mshape\n",
      "\u001b[1;31mNameError\u001b[0m: name 'x_min' is not defined"
     ]
    }
   ],
   "source": [
    "np.arange(x_min, x_max, h).shape\n",
    "np.arange(y_min, y_max, h).shape"
   ]
  },
  {
   "cell_type": "code",
   "execution_count": null,
   "metadata": {
    "colab": {
     "base_uri": "https://localhost:8080/",
     "height": 696
    },
    "execution": {
     "iopub.status.busy": "2023-09-03T17:07:32.196600Z",
     "iopub.status.idle": "2023-09-03T17:07:32.196600Z",
     "shell.execute_reply": "2023-09-03T17:07:32.196600Z",
     "shell.execute_reply.started": "2023-09-03T17:07:32.196600Z"
    },
    "id": "_EQ-gzIJG8m2",
    "outputId": "2531b243-b51b-433c-d644-2fcc562ec687"
   },
   "outputs": [],
   "source": [
    "x_min, x_max = X[:,0].min() - .5, X[:,0].max() + .5\n",
    "y_min, y_max = X[:,1].min() - .5, X[:,1].max() + .5\n",
    "\n",
    "h = .02\n",
    "xx, yy = np.meshgrid(np.arange(x_min, x_max, h), np.arange(y_min, y_max, h))\n",
    "Z = model.predict(np.c_[xx.ravel(),yy.ravel()])\n",
    "\n",
    "Z = Z.reshape(xx.shape)\n",
    "plt.figure(1, figsize=(8,8))\n",
    "plt.pcolormesh(xx,yy,Z,cmap=plt.cm.Paired)\n",
    "\n",
    "plt.scatter(X[:,0], X[:,1], c=Y, edgecolors='k', cmap=plt.cm.Paired)\n",
    "plt.xlabel('Sepal length')\n",
    "plt.ylabel('Sepal width')\n",
    "\n",
    "plt.xlim(xx.min(), xx.max())\n",
    "plt.ylim(yy.min(), yy.max())\n",
    "plt.xticks()\n",
    "plt.show()"
   ]
  },
  {
   "cell_type": "markdown",
   "metadata": {
    "id": "e6c-S-2oG8m3"
   },
   "source": [
    "<p>Теперь SVM</p>"
   ]
  },
  {
   "cell_type": "code",
   "execution_count": null,
   "metadata": {
    "colab": {
     "base_uri": "https://localhost:8080/",
     "height": 497
    },
    "execution": {
     "iopub.status.busy": "2023-09-03T17:07:32.197610Z",
     "iopub.status.idle": "2023-09-03T17:07:32.197610Z",
     "shell.execute_reply": "2023-09-03T17:07:32.197610Z",
     "shell.execute_reply.started": "2023-09-03T17:07:32.197610Z"
    },
    "id": "Dgo9MWbhG8m4",
    "outputId": "c0282fae-884d-4968-8c81-fd1a39dab56d"
   },
   "outputs": [],
   "source": [
    "Z = model2.predict(np.c_[xx.ravel(),yy.ravel()])\n",
    "\n",
    "Z = Z.reshape(xx.shape)\n",
    "plt.figure(1, figsize=(8,8))\n",
    "plt.pcolormesh(xx,yy,Z,cmap=plt.cm.Paired)\n",
    "\n",
    "plt.scatter(X[:,0], X[:,1], c=Y, edgecolors='k', cmap=plt.cm.Paired)\n",
    "plt.xlabel('Sepal length')\n",
    "plt.ylabel('Sepal width')\n",
    "\n",
    "plt.xlim(xx.min(), xx.max())\n",
    "plt.ylim(yy.min(), yy.max())\n",
    "plt.xticks()\n",
    "plt.show()"
   ]
  },
  {
   "cell_type": "markdown",
   "metadata": {
    "id": "U3l0e9oiG8m4"
   },
   "source": [
    "<p>Если хотим нелинейное разделение, то нужно подбирать ядро. Например:</p>"
   ]
  },
  {
   "cell_type": "code",
   "execution_count": null,
   "metadata": {
    "colab": {
     "base_uri": "https://localhost:8080/",
     "height": 75
    },
    "execution": {
     "iopub.status.busy": "2023-09-03T17:07:32.198594Z",
     "iopub.status.idle": "2023-09-03T17:07:32.198594Z",
     "shell.execute_reply": "2023-09-03T17:07:32.198594Z",
     "shell.execute_reply.started": "2023-09-03T17:07:32.198594Z"
    },
    "id": "7COkm7SzG8m4",
    "outputId": "0f3378ef-1050-4d2c-b31b-ffc6c2605957"
   },
   "outputs": [],
   "source": [
    "model2 = SVC(kernel='poly', degree=7)\n",
    "model2.fit(X, Y)"
   ]
  },
  {
   "cell_type": "code",
   "execution_count": null,
   "metadata": {
    "colab": {
     "base_uri": "https://localhost:8080/"
    },
    "execution": {
     "iopub.status.busy": "2023-09-03T17:07:32.199591Z",
     "iopub.status.idle": "2023-09-03T17:07:32.199591Z",
     "shell.execute_reply": "2023-09-03T17:07:32.199591Z",
     "shell.execute_reply.started": "2023-09-03T17:07:32.199591Z"
    },
    "id": "mDqXnw-MoXQk",
    "outputId": "f8b46473-69f8-4434-9e51-d63cb908fff8"
   },
   "outputs": [],
   "source": [
    "model2.score(X, Y)"
   ]
  },
  {
   "cell_type": "code",
   "execution_count": null,
   "metadata": {
    "colab": {
     "base_uri": "https://localhost:8080/",
     "height": 497
    },
    "execution": {
     "iopub.status.busy": "2023-09-03T17:07:32.200594Z",
     "iopub.status.idle": "2023-09-03T17:07:32.201585Z",
     "shell.execute_reply": "2023-09-03T17:07:32.200594Z",
     "shell.execute_reply.started": "2023-09-03T17:07:32.200594Z"
    },
    "id": "GU6qUohcG8m5",
    "outputId": "c8b14127-8ef4-4d9d-de58-8054854ce26a"
   },
   "outputs": [],
   "source": [
    "Z = model2.predict(np.c_[xx.ravel(),yy.ravel()])\n",
    "\n",
    "Z = Z.reshape(xx.shape)\n",
    "plt.figure(1, figsize=(8,8))\n",
    "plt.pcolormesh(xx,yy,Z,cmap=plt.cm.Paired)\n",
    "\n",
    "plt.scatter(X[:,0], X[:,1], c=Y, edgecolors='k', cmap=plt.cm.Paired)\n",
    "plt.xlabel('Sepal length')\n",
    "plt.ylabel('Sepal width')\n",
    "\n",
    "plt.xlim(xx.min(), xx.max())\n",
    "plt.ylim(yy.min(), yy.max())\n",
    "plt.xticks()\n",
    "plt.show()"
   ]
  },
  {
   "cell_type": "markdown",
   "metadata": {
    "id": "MbkRAwj2G8m5"
   },
   "source": [
    "<p><h2>Summary</h2>\n",
    "<font size=\"3\"><p><ul>\n",
    "    <li>Логистическая регрессия - это модель, используемая для прогнозирования вероятности возникновения некоторого события путём его сравнения с логистической кривой. В данном случае ключевую роль играет сигмоида.</li>\n",
    "    <ul><li>При работе с логистической регрессией не забываем про редобработку данных: преобразование категориальных переменные в числа, обнуление ячеек датасета, если данные отсутствуют.</li></ul>\n",
    "    <li>Метод опорных векторов - поиск тем или иным способом разделяющей гиперплоскости между классами.</li>\n",
    "    <ul><li>При решении данной задачи происходит перевод исходных векторов в пространство более высокой размерности и поиск гиперплоскости с максимальным зазором в этом пространстве. </li>\n",
    "        <li>Если линейная разделимость невозможна, то подбираем различные ядра для перехода в пр-во большей размерности, где разделение будет уже линейным.</li>\n",
    "    </ul>\n",
    "\n",
    "\n",
    "</ul>\n",
    "\n",
    "</font>\n",
    "</p>"
   ]
  },
  {
   "cell_type": "markdown",
   "metadata": {
    "id": "XSuEzhUThO57"
   },
   "source": [
    "## **Дополнительные материалы**\n",
    "1. SVM https://youtu.be/efR1C6CvhmE\n",
    "2. Типы данных https://youtu.be/c4Cg3TUIH0E\n",
    "3. Линейные модели классификации и регрессии https://habrahabr.ru/company/ods/blog/323890/\n",
    "3. Масштабирование данных (StandartScaler) https://youtu.be/XsuCOfpf8Ic\n",
    "4. Курс «Основы статистики» на Stepik https://stepik.org/course/76/promo\n",
    "5. Пережёвывая логистическую регрессию https://habr.com/ru/post/485872/\n",
    "4. Метрика accuracy https://youtu.be/CCH-1gJo_z0\n",
    "6. Логистическая регрессия https://youtu.be/9BoVCdedvW8\n",
    "9. Реализация логистической регрессии https://youtu.be/ruVK07YF-RU"
   ]
  },
  {
   "cell_type": "markdown",
   "metadata": {
    "id": "tm5d_R1oXYdp"
   },
   "source": [
    "<h1>Спасибо за внимание!</h1>"
   ]
  }
 ],
 "metadata": {
  "colab": {
   "provenance": [],
   "toc_visible": true
  },
  "kernelspec": {
   "display_name": "Python 3 (ipykernel)",
   "language": "python",
   "name": "python3"
  },
  "language_info": {
   "codemirror_mode": {
    "name": "ipython",
    "version": 3
   },
   "file_extension": ".py",
   "mimetype": "text/x-python",
   "name": "python",
   "nbconvert_exporter": "python",
   "pygments_lexer": "ipython3",
   "version": "3.11.4"
  }
 },
 "nbformat": 4,
 "nbformat_minor": 4
}
